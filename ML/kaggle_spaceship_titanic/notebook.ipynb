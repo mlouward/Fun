{
 "cells": [
  {
   "cell_type": "code",
   "execution_count": 1,
   "metadata": {},
   "outputs": [],
   "source": [
    "import lightgbm as lgb\n",
    "import matplotlib.pyplot as plt\n",
    "import numpy as np\n",
    "import optuna\n",
    "import pandas as pd\n",
    "import seaborn as sns\n",
    "from catboost import CatBoostClassifier, Pool, utils\n",
    "from sklearn.experimental import enable_halving_search_cv  # noqa\n",
    "from sklearn.experimental import enable_iterative_imputer  # noqa\n",
    "from sklearn.impute import IterativeImputer, SimpleImputer\n",
    "from sklearn.metrics import accuracy_score, roc_auc_score\n",
    "from sklearn.model_selection import (\n",
    "    HalvingRandomSearchCV,\n",
    "    cross_val_score,\n",
    "    train_test_split,\n",
    ")\n",
    "from sklearn.preprocessing import OneHotEncoder\n",
    "from xgboost import XGBClassifier\n",
    "from yellowbrick.model_selection import RFECV\n"
   ]
  },
  {
   "cell_type": "code",
   "execution_count": 2,
   "metadata": {},
   "outputs": [],
   "source": [
    "train = pd.read_csv(\"train.csv\", sep=\",\")\n",
    "test = pd.read_csv(\"test.csv\", sep=\",\")\n"
   ]
  },
  {
   "cell_type": "markdown",
   "metadata": {},
   "source": [
    "# Data Exploration\n"
   ]
  },
  {
   "cell_type": "markdown",
   "metadata": {},
   "source": [
    "## Basic\n"
   ]
  },
  {
   "cell_type": "code",
   "execution_count": 3,
   "metadata": {},
   "outputs": [
    {
     "data": {
      "text/html": [
       "<div>\n",
       "<style scoped>\n",
       "    .dataframe tbody tr th:only-of-type {\n",
       "        vertical-align: middle;\n",
       "    }\n",
       "\n",
       "    .dataframe tbody tr th {\n",
       "        vertical-align: top;\n",
       "    }\n",
       "\n",
       "    .dataframe thead th {\n",
       "        text-align: right;\n",
       "    }\n",
       "</style>\n",
       "<table border=\"1\" class=\"dataframe\">\n",
       "  <thead>\n",
       "    <tr style=\"text-align: right;\">\n",
       "      <th></th>\n",
       "      <th>PassengerId</th>\n",
       "      <th>HomePlanet</th>\n",
       "      <th>CryoSleep</th>\n",
       "      <th>Cabin</th>\n",
       "      <th>Destination</th>\n",
       "      <th>Age</th>\n",
       "      <th>VIP</th>\n",
       "      <th>RoomService</th>\n",
       "      <th>FoodCourt</th>\n",
       "      <th>ShoppingMall</th>\n",
       "      <th>Spa</th>\n",
       "      <th>VRDeck</th>\n",
       "      <th>Name</th>\n",
       "      <th>Transported</th>\n",
       "    </tr>\n",
       "  </thead>\n",
       "  <tbody>\n",
       "    <tr>\n",
       "      <th>0</th>\n",
       "      <td>0001_01</td>\n",
       "      <td>Europa</td>\n",
       "      <td>False</td>\n",
       "      <td>B/0/P</td>\n",
       "      <td>TRAPPIST-1e</td>\n",
       "      <td>39.0</td>\n",
       "      <td>False</td>\n",
       "      <td>0.0</td>\n",
       "      <td>0.0</td>\n",
       "      <td>0.0</td>\n",
       "      <td>0.0</td>\n",
       "      <td>0.0</td>\n",
       "      <td>Maham Ofracculy</td>\n",
       "      <td>False</td>\n",
       "    </tr>\n",
       "    <tr>\n",
       "      <th>1</th>\n",
       "      <td>0002_01</td>\n",
       "      <td>Earth</td>\n",
       "      <td>False</td>\n",
       "      <td>F/0/S</td>\n",
       "      <td>TRAPPIST-1e</td>\n",
       "      <td>24.0</td>\n",
       "      <td>False</td>\n",
       "      <td>109.0</td>\n",
       "      <td>9.0</td>\n",
       "      <td>25.0</td>\n",
       "      <td>549.0</td>\n",
       "      <td>44.0</td>\n",
       "      <td>Juanna Vines</td>\n",
       "      <td>True</td>\n",
       "    </tr>\n",
       "    <tr>\n",
       "      <th>2</th>\n",
       "      <td>0003_01</td>\n",
       "      <td>Europa</td>\n",
       "      <td>False</td>\n",
       "      <td>A/0/S</td>\n",
       "      <td>TRAPPIST-1e</td>\n",
       "      <td>58.0</td>\n",
       "      <td>True</td>\n",
       "      <td>43.0</td>\n",
       "      <td>3576.0</td>\n",
       "      <td>0.0</td>\n",
       "      <td>6715.0</td>\n",
       "      <td>49.0</td>\n",
       "      <td>Altark Susent</td>\n",
       "      <td>False</td>\n",
       "    </tr>\n",
       "    <tr>\n",
       "      <th>3</th>\n",
       "      <td>0003_02</td>\n",
       "      <td>Europa</td>\n",
       "      <td>False</td>\n",
       "      <td>A/0/S</td>\n",
       "      <td>TRAPPIST-1e</td>\n",
       "      <td>33.0</td>\n",
       "      <td>False</td>\n",
       "      <td>0.0</td>\n",
       "      <td>1283.0</td>\n",
       "      <td>371.0</td>\n",
       "      <td>3329.0</td>\n",
       "      <td>193.0</td>\n",
       "      <td>Solam Susent</td>\n",
       "      <td>False</td>\n",
       "    </tr>\n",
       "    <tr>\n",
       "      <th>4</th>\n",
       "      <td>0004_01</td>\n",
       "      <td>Earth</td>\n",
       "      <td>False</td>\n",
       "      <td>F/1/S</td>\n",
       "      <td>TRAPPIST-1e</td>\n",
       "      <td>16.0</td>\n",
       "      <td>False</td>\n",
       "      <td>303.0</td>\n",
       "      <td>70.0</td>\n",
       "      <td>151.0</td>\n",
       "      <td>565.0</td>\n",
       "      <td>2.0</td>\n",
       "      <td>Willy Santantines</td>\n",
       "      <td>True</td>\n",
       "    </tr>\n",
       "  </tbody>\n",
       "</table>\n",
       "</div>"
      ],
      "text/plain": [
       "  PassengerId HomePlanet CryoSleep  Cabin  Destination   Age    VIP  \\\n",
       "0     0001_01     Europa     False  B/0/P  TRAPPIST-1e  39.0  False   \n",
       "1     0002_01      Earth     False  F/0/S  TRAPPIST-1e  24.0  False   \n",
       "2     0003_01     Europa     False  A/0/S  TRAPPIST-1e  58.0   True   \n",
       "3     0003_02     Europa     False  A/0/S  TRAPPIST-1e  33.0  False   \n",
       "4     0004_01      Earth     False  F/1/S  TRAPPIST-1e  16.0  False   \n",
       "\n",
       "   RoomService  FoodCourt  ShoppingMall     Spa  VRDeck               Name  \\\n",
       "0          0.0        0.0           0.0     0.0     0.0    Maham Ofracculy   \n",
       "1        109.0        9.0          25.0   549.0    44.0       Juanna Vines   \n",
       "2         43.0     3576.0           0.0  6715.0    49.0      Altark Susent   \n",
       "3          0.0     1283.0         371.0  3329.0   193.0       Solam Susent   \n",
       "4        303.0       70.0         151.0   565.0     2.0  Willy Santantines   \n",
       "\n",
       "   Transported  \n",
       "0        False  \n",
       "1         True  \n",
       "2        False  \n",
       "3        False  \n",
       "4         True  "
      ]
     },
     "execution_count": 3,
     "metadata": {},
     "output_type": "execute_result"
    }
   ],
   "source": [
    "train.head()\n"
   ]
  },
  {
   "cell_type": "code",
   "execution_count": 4,
   "metadata": {},
   "outputs": [
    {
     "name": "stdout",
     "output_type": "stream",
     "text": [
      "<class 'pandas.core.frame.DataFrame'>\n",
      "RangeIndex: 8693 entries, 0 to 8692\n",
      "Data columns (total 14 columns):\n",
      " #   Column        Non-Null Count  Dtype  \n",
      "---  ------        --------------  -----  \n",
      " 0   PassengerId   8693 non-null   object \n",
      " 1   HomePlanet    8492 non-null   object \n",
      " 2   CryoSleep     8476 non-null   object \n",
      " 3   Cabin         8494 non-null   object \n",
      " 4   Destination   8511 non-null   object \n",
      " 5   Age           8514 non-null   float64\n",
      " 6   VIP           8490 non-null   object \n",
      " 7   RoomService   8512 non-null   float64\n",
      " 8   FoodCourt     8510 non-null   float64\n",
      " 9   ShoppingMall  8485 non-null   float64\n",
      " 10  Spa           8510 non-null   float64\n",
      " 11  VRDeck        8505 non-null   float64\n",
      " 12  Name          8493 non-null   object \n",
      " 13  Transported   8693 non-null   bool   \n",
      "dtypes: bool(1), float64(6), object(7)\n",
      "memory usage: 891.5+ KB\n"
     ]
    }
   ],
   "source": [
    "train.info()\n"
   ]
  },
  {
   "cell_type": "code",
   "execution_count": 5,
   "metadata": {},
   "outputs": [],
   "source": [
    "# Columns VIP, CryoSleep have type object, convert to bool\n",
    "train[[\"VIP\", \"CryoSleep\"]] = train[[\"VIP\", \"CryoSleep\"]].astype(bool)\n",
    "test[[\"VIP\", \"CryoSleep\"]] = test[[\"VIP\", \"CryoSleep\"]].astype(bool)\n"
   ]
  },
  {
   "cell_type": "code",
   "execution_count": 6,
   "metadata": {},
   "outputs": [
    {
     "data": {
      "text/html": [
       "<div>\n",
       "<style scoped>\n",
       "    .dataframe tbody tr th:only-of-type {\n",
       "        vertical-align: middle;\n",
       "    }\n",
       "\n",
       "    .dataframe tbody tr th {\n",
       "        vertical-align: top;\n",
       "    }\n",
       "\n",
       "    .dataframe thead th {\n",
       "        text-align: right;\n",
       "    }\n",
       "</style>\n",
       "<table border=\"1\" class=\"dataframe\">\n",
       "  <thead>\n",
       "    <tr style=\"text-align: right;\">\n",
       "      <th></th>\n",
       "      <th>Age</th>\n",
       "      <th>RoomService</th>\n",
       "      <th>FoodCourt</th>\n",
       "      <th>ShoppingMall</th>\n",
       "      <th>Spa</th>\n",
       "      <th>VRDeck</th>\n",
       "    </tr>\n",
       "  </thead>\n",
       "  <tbody>\n",
       "    <tr>\n",
       "      <th>count</th>\n",
       "      <td>8514.000000</td>\n",
       "      <td>8512.000000</td>\n",
       "      <td>8510.000000</td>\n",
       "      <td>8485.000000</td>\n",
       "      <td>8510.000000</td>\n",
       "      <td>8505.000000</td>\n",
       "    </tr>\n",
       "    <tr>\n",
       "      <th>mean</th>\n",
       "      <td>28.827930</td>\n",
       "      <td>224.687617</td>\n",
       "      <td>458.077203</td>\n",
       "      <td>173.729169</td>\n",
       "      <td>311.138778</td>\n",
       "      <td>304.854791</td>\n",
       "    </tr>\n",
       "    <tr>\n",
       "      <th>std</th>\n",
       "      <td>14.489021</td>\n",
       "      <td>666.717663</td>\n",
       "      <td>1611.489240</td>\n",
       "      <td>604.696458</td>\n",
       "      <td>1136.705535</td>\n",
       "      <td>1145.717189</td>\n",
       "    </tr>\n",
       "    <tr>\n",
       "      <th>min</th>\n",
       "      <td>0.000000</td>\n",
       "      <td>0.000000</td>\n",
       "      <td>0.000000</td>\n",
       "      <td>0.000000</td>\n",
       "      <td>0.000000</td>\n",
       "      <td>0.000000</td>\n",
       "    </tr>\n",
       "    <tr>\n",
       "      <th>25%</th>\n",
       "      <td>19.000000</td>\n",
       "      <td>0.000000</td>\n",
       "      <td>0.000000</td>\n",
       "      <td>0.000000</td>\n",
       "      <td>0.000000</td>\n",
       "      <td>0.000000</td>\n",
       "    </tr>\n",
       "    <tr>\n",
       "      <th>50%</th>\n",
       "      <td>27.000000</td>\n",
       "      <td>0.000000</td>\n",
       "      <td>0.000000</td>\n",
       "      <td>0.000000</td>\n",
       "      <td>0.000000</td>\n",
       "      <td>0.000000</td>\n",
       "    </tr>\n",
       "    <tr>\n",
       "      <th>75%</th>\n",
       "      <td>38.000000</td>\n",
       "      <td>47.000000</td>\n",
       "      <td>76.000000</td>\n",
       "      <td>27.000000</td>\n",
       "      <td>59.000000</td>\n",
       "      <td>46.000000</td>\n",
       "    </tr>\n",
       "    <tr>\n",
       "      <th>max</th>\n",
       "      <td>79.000000</td>\n",
       "      <td>14327.000000</td>\n",
       "      <td>29813.000000</td>\n",
       "      <td>23492.000000</td>\n",
       "      <td>22408.000000</td>\n",
       "      <td>24133.000000</td>\n",
       "    </tr>\n",
       "  </tbody>\n",
       "</table>\n",
       "</div>"
      ],
      "text/plain": [
       "               Age   RoomService     FoodCourt  ShoppingMall           Spa  \\\n",
       "count  8514.000000   8512.000000   8510.000000   8485.000000   8510.000000   \n",
       "mean     28.827930    224.687617    458.077203    173.729169    311.138778   \n",
       "std      14.489021    666.717663   1611.489240    604.696458   1136.705535   \n",
       "min       0.000000      0.000000      0.000000      0.000000      0.000000   \n",
       "25%      19.000000      0.000000      0.000000      0.000000      0.000000   \n",
       "50%      27.000000      0.000000      0.000000      0.000000      0.000000   \n",
       "75%      38.000000     47.000000     76.000000     27.000000     59.000000   \n",
       "max      79.000000  14327.000000  29813.000000  23492.000000  22408.000000   \n",
       "\n",
       "             VRDeck  \n",
       "count   8505.000000  \n",
       "mean     304.854791  \n",
       "std     1145.717189  \n",
       "min        0.000000  \n",
       "25%        0.000000  \n",
       "50%        0.000000  \n",
       "75%       46.000000  \n",
       "max    24133.000000  "
      ]
     },
     "execution_count": 6,
     "metadata": {},
     "output_type": "execute_result"
    }
   ],
   "source": [
    "train.describe()\n"
   ]
  },
  {
   "cell_type": "code",
   "execution_count": 7,
   "metadata": {},
   "outputs": [
    {
     "data": {
      "image/png": "[encoded data removed]",
      "text/plain": [
       "<Figure size 576x2160 with 6 Axes>"
      ]
     },
     "metadata": {
      "needs_background": "light"
     },
     "output_type": "display_data"
    }
   ],
   "source": [
    "# Plot the distribution of all numeric columns in multiple graphs\n",
    "numerical_cols = train.select_dtypes(include=\"number\").columns\n",
    "fig, ax = plt.subplots(len(numerical_cols), 1, figsize=(8, len(numerical_cols) * 5))\n",
    "\n",
    "for i, col in enumerate(numerical_cols):\n",
    "    ax[i].hist(train[col], bins=20)\n",
    "    ax[i].set_title(col)\n"
   ]
  },
  {
   "cell_type": "code",
   "execution_count": 8,
   "metadata": {},
   "outputs": [],
   "source": [
    "# All columns besides age have a really uneven distribution,\n",
    "# we will take the log1p of the value for these columns\n",
    "for col in numerical_cols:\n",
    "    if col != \"Age\":\n",
    "        train[col] = np.log1p(train[col])\n",
    "        test[col] = np.log1p(test[col])\n"
   ]
  },
  {
   "cell_type": "code",
   "execution_count": 9,
   "metadata": {},
   "outputs": [
    {
     "data": {
      "image/png": "[encoded data removed]",
      "text/plain": [
       "<Figure size 720x720 with 2 Axes>"
      ]
     },
     "metadata": {
      "needs_background": "light"
     },
     "output_type": "display_data"
    }
   ],
   "source": [
    "# plot correlation matrix of train df\n",
    "corr = train.corr()\n",
    "plt.figure(figsize=(10, 10))\n",
    "sns.heatmap(corr, annot=True, vmin=-1, vmax=1, center=0, cmap=\"PuOr\")\n",
    "plt.show()\n"
   ]
  },
  {
   "cell_type": "code",
   "execution_count": 10,
   "metadata": {},
   "outputs": [
    {
     "data": {
      "text/html": [
       "<div>\n",
       "<style scoped>\n",
       "    .dataframe tbody tr th:only-of-type {\n",
       "        vertical-align: middle;\n",
       "    }\n",
       "\n",
       "    .dataframe tbody tr th {\n",
       "        vertical-align: top;\n",
       "    }\n",
       "\n",
       "    .dataframe thead th {\n",
       "        text-align: right;\n",
       "    }\n",
       "</style>\n",
       "<table border=\"1\" class=\"dataframe\">\n",
       "  <thead>\n",
       "    <tr style=\"text-align: right;\">\n",
       "      <th></th>\n",
       "      <th>PassengerId</th>\n",
       "      <th>HomePlanet</th>\n",
       "      <th>CryoSleep</th>\n",
       "      <th>Cabin</th>\n",
       "      <th>Destination</th>\n",
       "      <th>Age</th>\n",
       "      <th>VIP</th>\n",
       "      <th>RoomService</th>\n",
       "      <th>FoodCourt</th>\n",
       "      <th>ShoppingMall</th>\n",
       "      <th>Spa</th>\n",
       "      <th>VRDeck</th>\n",
       "      <th>Name</th>\n",
       "      <th>Transported</th>\n",
       "    </tr>\n",
       "  </thead>\n",
       "  <tbody>\n",
       "    <tr>\n",
       "      <th>0</th>\n",
       "      <td>0001_01</td>\n",
       "      <td>Europa</td>\n",
       "      <td>False</td>\n",
       "      <td>B/0/P</td>\n",
       "      <td>TRAPPIST-1e</td>\n",
       "      <td>39.0</td>\n",
       "      <td>False</td>\n",
       "      <td>0.000000</td>\n",
       "      <td>0.000000</td>\n",
       "      <td>0.000000</td>\n",
       "      <td>0.000000</td>\n",
       "      <td>0.000000</td>\n",
       "      <td>Maham Ofracculy</td>\n",
       "      <td>False</td>\n",
       "    </tr>\n",
       "    <tr>\n",
       "      <th>1</th>\n",
       "      <td>0002_01</td>\n",
       "      <td>Earth</td>\n",
       "      <td>False</td>\n",
       "      <td>F/0/S</td>\n",
       "      <td>TRAPPIST-1e</td>\n",
       "      <td>24.0</td>\n",
       "      <td>False</td>\n",
       "      <td>4.700480</td>\n",
       "      <td>2.302585</td>\n",
       "      <td>3.258097</td>\n",
       "      <td>6.309918</td>\n",
       "      <td>3.806662</td>\n",
       "      <td>Juanna Vines</td>\n",
       "      <td>True</td>\n",
       "    </tr>\n",
       "    <tr>\n",
       "      <th>2</th>\n",
       "      <td>0003_01</td>\n",
       "      <td>Europa</td>\n",
       "      <td>False</td>\n",
       "      <td>A/0/S</td>\n",
       "      <td>TRAPPIST-1e</td>\n",
       "      <td>58.0</td>\n",
       "      <td>True</td>\n",
       "      <td>3.784190</td>\n",
       "      <td>8.182280</td>\n",
       "      <td>0.000000</td>\n",
       "      <td>8.812248</td>\n",
       "      <td>3.912023</td>\n",
       "      <td>Altark Susent</td>\n",
       "      <td>False</td>\n",
       "    </tr>\n",
       "    <tr>\n",
       "      <th>3</th>\n",
       "      <td>0003_02</td>\n",
       "      <td>Europa</td>\n",
       "      <td>False</td>\n",
       "      <td>A/0/S</td>\n",
       "      <td>TRAPPIST-1e</td>\n",
       "      <td>33.0</td>\n",
       "      <td>False</td>\n",
       "      <td>0.000000</td>\n",
       "      <td>7.157735</td>\n",
       "      <td>5.918894</td>\n",
       "      <td>8.110728</td>\n",
       "      <td>5.267858</td>\n",
       "      <td>Solam Susent</td>\n",
       "      <td>False</td>\n",
       "    </tr>\n",
       "    <tr>\n",
       "      <th>4</th>\n",
       "      <td>0004_01</td>\n",
       "      <td>Earth</td>\n",
       "      <td>False</td>\n",
       "      <td>F/1/S</td>\n",
       "      <td>TRAPPIST-1e</td>\n",
       "      <td>16.0</td>\n",
       "      <td>False</td>\n",
       "      <td>5.717028</td>\n",
       "      <td>4.262680</td>\n",
       "      <td>5.023881</td>\n",
       "      <td>6.338594</td>\n",
       "      <td>1.098612</td>\n",
       "      <td>Willy Santantines</td>\n",
       "      <td>True</td>\n",
       "    </tr>\n",
       "  </tbody>\n",
       "</table>\n",
       "</div>"
      ],
      "text/plain": [
       "  PassengerId HomePlanet  CryoSleep  Cabin  Destination   Age    VIP  \\\n",
       "0     0001_01     Europa      False  B/0/P  TRAPPIST-1e  39.0  False   \n",
       "1     0002_01      Earth      False  F/0/S  TRAPPIST-1e  24.0  False   \n",
       "2     0003_01     Europa      False  A/0/S  TRAPPIST-1e  58.0   True   \n",
       "3     0003_02     Europa      False  A/0/S  TRAPPIST-1e  33.0  False   \n",
       "4     0004_01      Earth      False  F/1/S  TRAPPIST-1e  16.0  False   \n",
       "\n",
       "   RoomService  FoodCourt  ShoppingMall       Spa    VRDeck  \\\n",
       "0     0.000000   0.000000      0.000000  0.000000  0.000000   \n",
       "1     4.700480   2.302585      3.258097  6.309918  3.806662   \n",
       "2     3.784190   8.182280      0.000000  8.812248  3.912023   \n",
       "3     0.000000   7.157735      5.918894  8.110728  5.267858   \n",
       "4     5.717028   4.262680      5.023881  6.338594  1.098612   \n",
       "\n",
       "                Name  Transported  \n",
       "0    Maham Ofracculy        False  \n",
       "1       Juanna Vines         True  \n",
       "2      Altark Susent        False  \n",
       "3       Solam Susent        False  \n",
       "4  Willy Santantines         True  "
      ]
     },
     "execution_count": 10,
     "metadata": {},
     "output_type": "execute_result"
    }
   ],
   "source": [
    "train.head()\n"
   ]
  },
  {
   "cell_type": "markdown",
   "metadata": {},
   "source": [
    "## Feature Engineering"
   ]
  },
  {
   "cell_type": "code",
   "execution_count": 11,
   "metadata": {},
   "outputs": [],
   "source": [
    "def add_features(df):\n",
    "    # Add the number of people in the same cabin as the passenger\n",
    "    df[\"CabinCount\"] = df.groupby(\"Cabin\")[\"PassengerId\"].transform(\"count\")\n",
    "    df[\"IsAlone\"] = (df[\"CabinCount\"] == 1).astype(bool)\n",
    "\n",
    "    # Add the number of people going to the same destination as the passenger\n",
    "    df[\"DestinationCount\"] = df.groupby(\"Destination\")[\"PassengerId\"].transform(\"count\")\n",
    "\n",
    "    # Bin age groups\n",
    "    df[\"AgeBin\"] = pd.cut(df.Age, bins=[0, 18, 35, 50, 80], include_lowest=True)\n",
    "    df[\"Premium\"] = df[\"RoomService\"] + df[\"Spa\"] + df[\"VRDeck\"]\n",
    "    df[\"Essential\"] = df[\"FoodCourt\"] + df[\"ShoppingMall\"]\n",
    "\n",
    "    return df\n",
    "\n",
    "\n",
    "try:\n",
    "    train = add_features(train)\n",
    "    test = add_features(test)\n",
    "except KeyError:\n",
    "    print(\"Already added features\")\n"
   ]
  },
  {
   "cell_type": "markdown",
   "metadata": {},
   "source": [
    "## Categorical Features transformations\n"
   ]
  },
  {
   "cell_type": "code",
   "execution_count": 12,
   "metadata": {},
   "outputs": [],
   "source": [
    "def preprocess_passenger_id(df: pd.DataFrame, test_set=False):\n",
    "    \"\"\"\n",
    "    Preprocess the passenger ID column by splitting it into two columns:\n",
    "    - GroupID: the group ID of the passenger\n",
    "    - PassID: the individual ID of the passenger within the group\n",
    "    \"\"\"\n",
    "    df[[\"GroupID\", \"PassID\"]] = df[\"PassengerId\"].str.split(\"_\", expand=True)\n",
    "    df[\"GroupID\"] = df[\"GroupID\"].astype(int)\n",
    "    df[\"PassID\"] = df[\"PassID\"].astype(int)\n",
    "    if test_set:\n",
    "        # set aside the ID for prediction later\n",
    "        passenger_id = df[\"PassengerId\"].copy()\n",
    "    df.drop(\"PassengerId\", axis=1, inplace=True)\n",
    "    return (df, passenger_id) if test_set else (df, None)\n",
    "\n",
    "\n",
    "def preprocess_cabin(df: pd.DataFrame):\n",
    "    \"\"\"\n",
    "    Preprocess the cabin column by splitting it into three columns:\n",
    "    - CabinDeck: the first letter of the cabin\n",
    "    - CabinNum: the rest of the cabin\n",
    "    - CabinSide: the side of cabin\n",
    "    \"\"\"\n",
    "    df[\"Cabin\"] = df[\"Cabin\"].fillna(\"missing/-1/missing\")\n",
    "    df[[\"CabinDeck\", \"CabinNum\", \"CabinSide\"]] = df[\"Cabin\"].str.split(\"/\", expand=True)\n",
    "    df[\"CabinNum\"] = df[\"CabinNum\"].astype(int)\n",
    "    # Bin Cabin Numbers\n",
    "    # df[\"CabinNumberBin\"] = pd.cut(\n",
    "    #     df.CabinNum, bins=[0, 270, 600, 1150, 1500, 2000], include_lowest=True\n",
    "    # )\n",
    "    df.drop(\"Cabin\", axis=1, inplace=True)\n",
    "    return df\n"
   ]
  },
  {
   "cell_type": "code",
   "execution_count": 13,
   "metadata": {},
   "outputs": [],
   "source": [
    "# ID column to be separated between before and after the \"_\"\n",
    "try:\n",
    "    train, _ = preprocess_passenger_id(train, test_set=False)\n",
    "    test, passenger_id = preprocess_passenger_id(test, test_set=True)\n",
    "except KeyError:\n",
    "    print(\"ID already split\")\n",
    "\n",
    "# Cabin column to be split into 3, separated by \"/\" (deck/num/side)\n",
    "# We replace NaN by missing/-1/missing to signal missing cabin information\n",
    "try:\n",
    "    train = preprocess_cabin(train)\n",
    "    test = preprocess_cabin(test)\n",
    "except KeyError:\n",
    "    print(\"Cabin already split\")\n",
    "\n",
    "# Processing of the Name column: keep only last name ?\n",
    "# Drop completely because same family is probably in the same cabin ?\n",
    "# For now, 2nd option\n",
    "try:\n",
    "    train.drop(\"Name\", axis=1, inplace=True)\n",
    "    test.drop(\"Name\", axis=1, inplace=True)\n",
    "except KeyError:\n",
    "    print(\"Name already dropped\")\n"
   ]
  },
  {
   "cell_type": "code",
   "execution_count": 14,
   "metadata": {},
   "outputs": [],
   "source": [
    "def impute_home_planet(df):\n",
    "    \"\"\"\n",
    "    Replace NaN for HomePlanet by the value of the other people in the group\n",
    "    if possible (takes max of the other values if multiple planets)\n",
    "    \"\"\"\n",
    "    df_grp = (\n",
    "        df.groupby([\"GroupID\", \"HomePlanet\"])[\"HomePlanet\"].size().unstack().fillna(0)\n",
    "    )\n",
    "    ids_of_nan_in_group = df[df[\"HomePlanet\"].isna()][\n",
    "        (df[df[\"HomePlanet\"].isna()][\"GroupID\"]).isin(df_grp.index)\n",
    "    ].index\n",
    "\n",
    "    df.loc[ids_of_nan_in_group, \"HomePlanet\"] = df.iloc[ids_of_nan_in_group, :][\n",
    "        \"GroupID\"\n",
    "    ].map(lambda x: df_grp.idxmax(axis=1)[x])\n",
    "\n",
    "    return df\n",
    "\n",
    "\n",
    "try:\n",
    "    train = impute_home_planet(train)\n",
    "    test = impute_home_planet(test)\n",
    "except AttributeError:\n",
    "    print(\"Already imputed\")\n"
   ]
  },
  {
   "cell_type": "code",
   "execution_count": 15,
   "metadata": {},
   "outputs": [],
   "source": [
    "# Transform categories to OrdinalEncoding\n",
    "train[[\"AgeBin\"]] = train[[\"AgeBin\"]].apply(lambda x: x.cat.codes)\n",
    "test[[\"AgeBin\"]] = test[[\"AgeBin\"]].apply(lambda x: x.cat.codes)\n"
   ]
  },
  {
   "cell_type": "code",
   "execution_count": 16,
   "metadata": {},
   "outputs": [
    {
     "data": {
      "text/html": [
       "<div>\n",
       "<style scoped>\n",
       "    .dataframe tbody tr th:only-of-type {\n",
       "        vertical-align: middle;\n",
       "    }\n",
       "\n",
       "    .dataframe tbody tr th {\n",
       "        vertical-align: top;\n",
       "    }\n",
       "\n",
       "    .dataframe thead th {\n",
       "        text-align: right;\n",
       "    }\n",
       "</style>\n",
       "<table border=\"1\" class=\"dataframe\">\n",
       "  <thead>\n",
       "    <tr style=\"text-align: right;\">\n",
       "      <th></th>\n",
       "      <th>HomePlanet</th>\n",
       "      <th>CryoSleep</th>\n",
       "      <th>Destination</th>\n",
       "      <th>Age</th>\n",
       "      <th>VIP</th>\n",
       "      <th>RoomService</th>\n",
       "      <th>FoodCourt</th>\n",
       "      <th>ShoppingMall</th>\n",
       "      <th>Spa</th>\n",
       "      <th>VRDeck</th>\n",
       "      <th>...</th>\n",
       "      <th>IsAlone</th>\n",
       "      <th>DestinationCount</th>\n",
       "      <th>AgeBin</th>\n",
       "      <th>Premium</th>\n",
       "      <th>Essential</th>\n",
       "      <th>GroupID</th>\n",
       "      <th>PassID</th>\n",
       "      <th>CabinDeck</th>\n",
       "      <th>CabinNum</th>\n",
       "      <th>CabinSide</th>\n",
       "    </tr>\n",
       "  </thead>\n",
       "  <tbody>\n",
       "    <tr>\n",
       "      <th>0</th>\n",
       "      <td>Europa</td>\n",
       "      <td>False</td>\n",
       "      <td>TRAPPIST-1e</td>\n",
       "      <td>39.0</td>\n",
       "      <td>False</td>\n",
       "      <td>0.000000</td>\n",
       "      <td>0.000000</td>\n",
       "      <td>0.000000</td>\n",
       "      <td>0.000000</td>\n",
       "      <td>0.000000</td>\n",
       "      <td>...</td>\n",
       "      <td>True</td>\n",
       "      <td>5915.0</td>\n",
       "      <td>2</td>\n",
       "      <td>0.000000</td>\n",
       "      <td>0.000000</td>\n",
       "      <td>1</td>\n",
       "      <td>1</td>\n",
       "      <td>B</td>\n",
       "      <td>0</td>\n",
       "      <td>P</td>\n",
       "    </tr>\n",
       "    <tr>\n",
       "      <th>1</th>\n",
       "      <td>Earth</td>\n",
       "      <td>False</td>\n",
       "      <td>TRAPPIST-1e</td>\n",
       "      <td>24.0</td>\n",
       "      <td>False</td>\n",
       "      <td>4.700480</td>\n",
       "      <td>2.302585</td>\n",
       "      <td>3.258097</td>\n",
       "      <td>6.309918</td>\n",
       "      <td>3.806662</td>\n",
       "      <td>...</td>\n",
       "      <td>True</td>\n",
       "      <td>5915.0</td>\n",
       "      <td>1</td>\n",
       "      <td>14.817061</td>\n",
       "      <td>5.560682</td>\n",
       "      <td>2</td>\n",
       "      <td>1</td>\n",
       "      <td>F</td>\n",
       "      <td>0</td>\n",
       "      <td>S</td>\n",
       "    </tr>\n",
       "    <tr>\n",
       "      <th>2</th>\n",
       "      <td>Europa</td>\n",
       "      <td>False</td>\n",
       "      <td>TRAPPIST-1e</td>\n",
       "      <td>58.0</td>\n",
       "      <td>True</td>\n",
       "      <td>3.784190</td>\n",
       "      <td>8.182280</td>\n",
       "      <td>0.000000</td>\n",
       "      <td>8.812248</td>\n",
       "      <td>3.912023</td>\n",
       "      <td>...</td>\n",
       "      <td>False</td>\n",
       "      <td>5915.0</td>\n",
       "      <td>3</td>\n",
       "      <td>16.508461</td>\n",
       "      <td>8.182280</td>\n",
       "      <td>3</td>\n",
       "      <td>1</td>\n",
       "      <td>A</td>\n",
       "      <td>0</td>\n",
       "      <td>S</td>\n",
       "    </tr>\n",
       "    <tr>\n",
       "      <th>3</th>\n",
       "      <td>Europa</td>\n",
       "      <td>False</td>\n",
       "      <td>TRAPPIST-1e</td>\n",
       "      <td>33.0</td>\n",
       "      <td>False</td>\n",
       "      <td>0.000000</td>\n",
       "      <td>7.157735</td>\n",
       "      <td>5.918894</td>\n",
       "      <td>8.110728</td>\n",
       "      <td>5.267858</td>\n",
       "      <td>...</td>\n",
       "      <td>False</td>\n",
       "      <td>5915.0</td>\n",
       "      <td>1</td>\n",
       "      <td>13.378586</td>\n",
       "      <td>13.076629</td>\n",
       "      <td>3</td>\n",
       "      <td>2</td>\n",
       "      <td>A</td>\n",
       "      <td>0</td>\n",
       "      <td>S</td>\n",
       "    </tr>\n",
       "    <tr>\n",
       "      <th>4</th>\n",
       "      <td>Earth</td>\n",
       "      <td>False</td>\n",
       "      <td>TRAPPIST-1e</td>\n",
       "      <td>16.0</td>\n",
       "      <td>False</td>\n",
       "      <td>5.717028</td>\n",
       "      <td>4.262680</td>\n",
       "      <td>5.023881</td>\n",
       "      <td>6.338594</td>\n",
       "      <td>1.098612</td>\n",
       "      <td>...</td>\n",
       "      <td>True</td>\n",
       "      <td>5915.0</td>\n",
       "      <td>0</td>\n",
       "      <td>13.154234</td>\n",
       "      <td>9.286560</td>\n",
       "      <td>4</td>\n",
       "      <td>1</td>\n",
       "      <td>F</td>\n",
       "      <td>1</td>\n",
       "      <td>S</td>\n",
       "    </tr>\n",
       "  </tbody>\n",
       "</table>\n",
       "<p>5 rows × 22 columns</p>\n",
       "</div>"
      ],
      "text/plain": [
       "  HomePlanet  CryoSleep  Destination   Age    VIP  RoomService  FoodCourt  \\\n",
       "0     Europa      False  TRAPPIST-1e  39.0  False     0.000000   0.000000   \n",
       "1      Earth      False  TRAPPIST-1e  24.0  False     4.700480   2.302585   \n",
       "2     Europa      False  TRAPPIST-1e  58.0   True     3.784190   8.182280   \n",
       "3     Europa      False  TRAPPIST-1e  33.0  False     0.000000   7.157735   \n",
       "4      Earth      False  TRAPPIST-1e  16.0  False     5.717028   4.262680   \n",
       "\n",
       "   ShoppingMall       Spa    VRDeck  ...  IsAlone  DestinationCount  AgeBin  \\\n",
       "0      0.000000  0.000000  0.000000  ...     True            5915.0       2   \n",
       "1      3.258097  6.309918  3.806662  ...     True            5915.0       1   \n",
       "2      0.000000  8.812248  3.912023  ...    False            5915.0       3   \n",
       "3      5.918894  8.110728  5.267858  ...    False            5915.0       1   \n",
       "4      5.023881  6.338594  1.098612  ...     True            5915.0       0   \n",
       "\n",
       "     Premium  Essential  GroupID  PassID  CabinDeck  CabinNum CabinSide  \n",
       "0   0.000000   0.000000        1       1          B         0         P  \n",
       "1  14.817061   5.560682        2       1          F         0         S  \n",
       "2  16.508461   8.182280        3       1          A         0         S  \n",
       "3  13.378586  13.076629        3       2          A         0         S  \n",
       "4  13.154234   9.286560        4       1          F         1         S  \n",
       "\n",
       "[5 rows x 22 columns]"
      ]
     },
     "execution_count": 16,
     "metadata": {},
     "output_type": "execute_result"
    }
   ],
   "source": [
    "train.head()"
   ]
  },
  {
   "cell_type": "code",
   "execution_count": 17,
   "metadata": {},
   "outputs": [
    {
     "name": "stdout",
     "output_type": "stream",
     "text": [
      "HomePlanet : 3 unique values\n",
      "Destination : 3 unique values\n",
      "CabinDeck : 9 unique values\n",
      "CabinSide : 3 unique values\n"
     ]
    }
   ],
   "source": [
    "object_cols = train.select_dtypes([\"object\", \"category\"]).columns\n",
    "\n",
    "for col in object_cols:\n",
    "    print(col, \":\", train[col].nunique(), \"unique values\")\n",
    "# few unique values: one Hot encoding is suitable\n"
   ]
  },
  {
   "cell_type": "markdown",
   "metadata": {},
   "source": [
    "## Train & Validation sets\n"
   ]
  },
  {
   "cell_type": "code",
   "execution_count": 18,
   "metadata": {},
   "outputs": [],
   "source": [
    "X_train, X_valid, y_train, y_valid = train_test_split(\n",
    "    train.drop(\"Transported\", axis=1),\n",
    "    train[\"Transported\"],\n",
    "    test_size=0.2,\n",
    ")\n"
   ]
  },
  {
   "cell_type": "markdown",
   "metadata": {},
   "source": [
    "## Imputation\n"
   ]
  },
  {
   "cell_type": "code",
   "execution_count": 19,
   "metadata": {},
   "outputs": [
    {
     "name": "stdout",
     "output_type": "stream",
     "text": [
      "HomePlanet: 1.28%\n",
      "Destination: 2.09%\n",
      "Age: 2.06%\n",
      "RoomService: 2.08%\n",
      "FoodCourt: 2.11%\n",
      "ShoppingMall: 2.39%\n",
      "Spa: 2.11%\n",
      "VRDeck: 2.16%\n",
      "CabinCount: 2.29%\n",
      "DestinationCount: 2.09%\n",
      "Premium: 6.26%\n",
      "Essential: 4.47%\n"
     ]
    }
   ],
   "source": [
    "# look at percentage of missing values in each column\n",
    "na_cols = [col for col in train.columns if train[col].isna().sum() > 0]\n",
    "for col in na_cols:\n",
    "    print(f\"{col}: {train[col].isna().sum()/train.shape[0]*100:.2f}%\")\n",
    "\n",
    "# Around 2% missing data per column in training data\n"
   ]
  },
  {
   "cell_type": "code",
   "execution_count": 20,
   "metadata": {},
   "outputs": [],
   "source": [
    "X_train_impute, X_valid_impute = X_train.copy(), X_valid.copy()\n",
    "X_test_impute = test.copy()\n"
   ]
  },
  {
   "cell_type": "code",
   "execution_count": 21,
   "metadata": {},
   "outputs": [
    {
     "data": {
      "text/plain": [
       "HomePlanet           89\n",
       "CryoSleep             0\n",
       "Destination         149\n",
       "Age                 150\n",
       "VIP                   0\n",
       "RoomService         143\n",
       "FoodCourt           144\n",
       "ShoppingMall        168\n",
       "Spa                 143\n",
       "VRDeck              151\n",
       "CabinCount          152\n",
       "IsAlone               0\n",
       "DestinationCount    149\n",
       "AgeBin                0\n",
       "Premium             430\n",
       "Essential           311\n",
       "GroupID               0\n",
       "PassID                0\n",
       "CabinDeck             0\n",
       "CabinNum              0\n",
       "CabinSide             0\n",
       "dtype: int64"
      ]
     },
     "execution_count": 21,
     "metadata": {},
     "output_type": "execute_result"
    }
   ],
   "source": [
    "X_train_impute.isna().sum()"
   ]
  },
  {
   "cell_type": "code",
   "execution_count": 22,
   "metadata": {},
   "outputs": [],
   "source": [
    "# imputation of categorical columns with \"most_frequent\" strategy\n",
    "imputer = SimpleImputer(strategy=\"most_frequent\")\n",
    "X_train_impute[object_cols] = imputer.fit_transform(\n",
    "    X_train_impute[object_cols]\n",
    "    .to_numpy()\n",
    "    .reshape(-1, X_train_impute[object_cols].shape[1])\n",
    ")\n",
    "X_valid_impute[object_cols] = imputer.transform(\n",
    "    X_valid_impute[object_cols]\n",
    "    .to_numpy()\n",
    "    .reshape(-1, X_valid_impute[object_cols].shape[1])\n",
    ")\n",
    "X_test_impute[object_cols] = imputer.transform(\n",
    "    X_test_impute[object_cols]\n",
    "    .to_numpy()\n",
    "    .reshape(-1, X_test_impute[object_cols].shape[1])\n",
    ")\n",
    "\n",
    "# Iterative imputation for numerical columns\n",
    "numerical_cols = train.select_dtypes(include=[\"float64\", \"int32\", \"int8\"]).columns\n",
    "imputer = IterativeImputer(max_iter=100, sample_posterior=True)\n",
    "X_train_impute[numerical_cols] = imputer.fit_transform(\n",
    "    X_train_impute[numerical_cols]\n",
    "    .to_numpy()\n",
    "    .reshape(-1, X_train_impute[numerical_cols].shape[1])\n",
    ")\n",
    "X_valid_impute[numerical_cols] = imputer.transform(\n",
    "    X_valid_impute[numerical_cols]\n",
    "    .to_numpy()\n",
    "    .reshape(-1, X_valid_impute[numerical_cols].shape[1])\n",
    ")\n",
    "X_test_impute[numerical_cols] = imputer.transform(\n",
    "    X_test_impute[numerical_cols]\n",
    "    .to_numpy()\n",
    "    .reshape(-1, X_test_impute[numerical_cols].shape[1])\n",
    ")\n",
    "\n",
    "# Recreate DataFrames\n",
    "X_train_impute = pd.DataFrame(X_train_impute, columns=X_train.columns)\n",
    "X_valid_impute = pd.DataFrame(X_valid_impute, columns=X_valid.columns)\n",
    "X_test_impute = pd.DataFrame(X_test_impute, columns=test.columns)\n"
   ]
  },
  {
   "cell_type": "code",
   "execution_count": 23,
   "metadata": {},
   "outputs": [
    {
     "data": {
      "text/plain": [
       "HomePlanet          0\n",
       "CryoSleep           0\n",
       "Destination         0\n",
       "Age                 0\n",
       "VIP                 0\n",
       "RoomService         0\n",
       "FoodCourt           0\n",
       "ShoppingMall        0\n",
       "Spa                 0\n",
       "VRDeck              0\n",
       "CabinCount          0\n",
       "IsAlone             0\n",
       "DestinationCount    0\n",
       "AgeBin              0\n",
       "Premium             0\n",
       "Essential           0\n",
       "GroupID             0\n",
       "PassID              0\n",
       "CabinDeck           0\n",
       "CabinNum            0\n",
       "CabinSide           0\n",
       "dtype: int64"
      ]
     },
     "execution_count": 23,
     "metadata": {},
     "output_type": "execute_result"
    }
   ],
   "source": [
    "X_train_impute.isna().sum()\n"
   ]
  },
  {
   "cell_type": "code",
   "execution_count": 24,
   "metadata": {},
   "outputs": [],
   "source": [
    "# Children under 13 should not have paid anything\n",
    "# Replace values of RoomService, FoodCourt, ShoppingMall, Spa, VRDeck by 0 for children under 13\n",
    "\n",
    "def replace_children(df, threshold=13):\n",
    "    df.loc[\n",
    "        df[\"Age\"] < threshold,\n",
    "        [\"RoomService\", \"FoodCourt\", \"ShoppingMall\", \"Spa\", \"VRDeck\"],\n",
    "    ] = 0\n",
    "    return df\n",
    "\n",
    "\n",
    "X_train_impute = replace_children(X_train_impute)\n",
    "X_valid_impute = replace_children(X_valid_impute)\n",
    "X_test_impute = replace_children(X_test_impute)\n",
    "\n",
    "# Same for people in CryoSleep\n",
    "def replace_cryo(df):\n",
    "    df.loc[\n",
    "        df[\"CryoSleep\"] == True,\n",
    "        [\"RoomService\", \"FoodCourt\", \"ShoppingMall\", \"Spa\", \"VRDeck\"],\n",
    "    ] = 0\n",
    "    return df\n",
    "\n",
    "X_train_impute = replace_cryo(X_train_impute)\n",
    "X_valid_impute = replace_cryo(X_valid_impute)\n",
    "X_test_impute = replace_cryo(X_test_impute)"
   ]
  },
  {
   "cell_type": "markdown",
   "metadata": {},
   "source": [
    "## One Hot Encoding\n"
   ]
  },
  {
   "cell_type": "code",
   "execution_count": 25,
   "metadata": {},
   "outputs": [],
   "source": [
    "label_binarizer = OneHotEncoder(sparse=False)\n",
    "\n",
    "train_ohe_cols = pd.DataFrame(\n",
    "    label_binarizer.fit_transform(X_train_impute[object_cols])\n",
    ")\n",
    "valid_ohe_cols = pd.DataFrame(label_binarizer.transform(X_valid_impute[object_cols]))\n",
    "test_ohe_cols = pd.DataFrame(label_binarizer.transform(X_test_impute[object_cols]))\n",
    "\n",
    "train_ohe_cols.index = X_train_impute.index\n",
    "valid_ohe_cols.index = X_valid_impute.index\n",
    "test_ohe_cols.index = X_test_impute.index\n",
    "\n",
    "num_X_train_impute = X_train_impute.drop(object_cols, axis=1)\n",
    "num_X_valid_impute = X_valid_impute.drop(object_cols, axis=1)\n",
    "num_X_test_impute = X_test_impute.drop(object_cols, axis=1)\n",
    "\n",
    "X_train_ohe_impute = pd.concat([num_X_train_impute, train_ohe_cols], axis=1)\n",
    "X_valid_ohe_impute = pd.concat([num_X_valid_impute, valid_ohe_cols], axis=1)\n",
    "X_test_ohe_impute = pd.concat([num_X_test_impute, test_ohe_cols], axis=1)\n"
   ]
  },
  {
   "cell_type": "code",
   "execution_count": 26,
   "metadata": {},
   "outputs": [
    {
     "data": {
      "text/plain": [
       "((6954, 22), (1739, 22), (6954, 36), (1739, 36))"
      ]
     },
     "execution_count": 26,
     "metadata": {},
     "output_type": "execute_result"
    }
   ],
   "source": [
    "X_train_impute.shape, X_valid_impute.shape, X_train_ohe_impute.shape, X_valid_ohe_impute.shape\n"
   ]
  },
  {
   "cell_type": "markdown",
   "metadata": {},
   "source": [
    "# Model\n"
   ]
  },
  {
   "cell_type": "markdown",
   "metadata": {},
   "source": [
    "## XGBoost"
   ]
  },
  {
   "cell_type": "code",
   "execution_count": 19,
   "metadata": {},
   "outputs": [
    {
     "name": "stderr",
     "output_type": "stream",
     "text": [
      "C:\\Users\\Maxime\\AppData\\Local\\Packages\\PythonSoftwareFoundation.Python.3.9_qbz5n2kfra8p0\\LocalCache\\local-packages\\Python39\\site-packages\\xgboost\\sklearn.py:1224: UserWarning: The use of label encoder in XGBClassifier is deprecated and will be removed in a future release. To remove this warning, do the following: 1) Pass option use_label_encoder=False when constructing XGBClassifier object; and 2) Encode your labels (y) as integers starting with 0, i.e. 0, 1, 2, ..., [num_class - 1].\n",
      "  warnings.warn(label_encoder_deprecation_msg, UserWarning)\n"
     ]
    },
    {
     "data": {
      "text/plain": [
       "XGBClassifier(base_score=0.5, booster='gbtree', colsample_bylevel=1,\n",
       "              colsample_bynode=1, colsample_bytree=1, enable_categorical=False,\n",
       "              gamma=0, gpu_id=-1, importance_type=None,\n",
       "              interaction_constraints='', learning_rate=0.300000012,\n",
       "              max_delta_step=0, max_depth=6, min_child_weight=1, missing=nan,\n",
       "              monotone_constraints='()', n_estimators=100, n_jobs=12,\n",
       "              num_parallel_tree=1, predictor='auto', random_state=0,\n",
       "              reg_alpha=0, reg_lambda=1, scale_pos_weight=1, subsample=1,\n",
       "              tree_method='exact', validate_parameters=1, verbosity=0)"
      ]
     },
     "execution_count": 19,
     "metadata": {},
     "output_type": "execute_result"
    }
   ],
   "source": [
    "model = XGBClassifier(verbosity=0)\n",
    "model.fit(X_train_ohe_impute, y_train)\n"
   ]
  },
  {
   "cell_type": "code",
   "execution_count": 20,
   "metadata": {},
   "outputs": [
    {
     "data": {
      "text/plain": [
       "0.7786599890669685"
      ]
     },
     "execution_count": 20,
     "metadata": {},
     "output_type": "execute_result"
    }
   ],
   "source": [
    "cross_val_score(\n",
    "    model, X_valid_ohe_impute, y_valid, scoring=\"f1\", cv=10, n_jobs=8\n",
    ").mean()\n"
   ]
  },
  {
   "cell_type": "markdown",
   "metadata": {},
   "source": [
    "## LightGBM"
   ]
  },
  {
   "cell_type": "code",
   "execution_count": 25,
   "metadata": {},
   "outputs": [],
   "source": [
    "# Do not use OHE, but use pandas categories and let lightgbm handle them\n",
    "def process_categorical(df):\n",
    "    for c in df.columns:\n",
    "        col_type = df[c].dtype\n",
    "        if col_type == \"object\" or col_type.name == \"category\":\n",
    "            df[c] = df[c].astype(\"category\")\n",
    "\n",
    "    return df\n",
    "\n",
    "\n",
    "X_train_impute = process_categorical(X_train_impute)\n",
    "X_valid_impute = process_categorical(X_valid_impute)\n",
    "X_test_impute = process_categorical(X_test_impute)\n"
   ]
  },
  {
   "cell_type": "code",
   "execution_count": 26,
   "metadata": {},
   "outputs": [],
   "source": [
    "train_dataset = lgb.Dataset(X_train_impute, label=y_train)\n",
    "valid_dataset = lgb.Dataset(X_valid_impute, label=y_valid)\n",
    "test_dataset = lgb.Dataset(X_test_impute)\n",
    "full_train_dataset = lgb.Dataset(pd.concat([X_train_impute, X_valid_impute]), label=pd.concat([y_train, y_valid]))"
   ]
  },
  {
   "cell_type": "code",
   "execution_count": 28,
   "metadata": {},
   "outputs": [
    {
     "name": "stderr",
     "output_type": "stream",
     "text": [
      "C:\\Users\\Maxime\\AppData\\Local\\Packages\\PythonSoftwareFoundation.Python.3.9_qbz5n2kfra8p0\\LocalCache\\local-packages\\Python39\\site-packages\\lightgbm\\basic.py:1780: UserWarning: Overriding the parameters from Reference Dataset.\n",
      "  _log_warning('Overriding the parameters from Reference Dataset.')\n",
      "C:\\Users\\Maxime\\AppData\\Local\\Packages\\PythonSoftwareFoundation.Python.3.9_qbz5n2kfra8p0\\LocalCache\\local-packages\\Python39\\site-packages\\lightgbm\\basic.py:1513: UserWarning: categorical_column in param dict is overridden.\n",
      "  _log_warning(f'{cat_alias} in param dict is overridden.')\n"
     ]
    },
    {
     "name": "stdout",
     "output_type": "stream",
     "text": [
      "Training until validation scores don't improve for 100 rounds\n",
      "[10]\tvalid_0's binary_logloss: 0.488612\n",
      "[20]\tvalid_0's binary_logloss: 0.434262\n",
      "[30]\tvalid_0's binary_logloss: 0.411443\n",
      "[40]\tvalid_0's binary_logloss: 0.40031\n",
      "[50]\tvalid_0's binary_logloss: 0.396882\n",
      "[60]\tvalid_0's binary_logloss: 0.394454\n",
      "[70]\tvalid_0's binary_logloss: 0.395189\n",
      "[80]\tvalid_0's binary_logloss: 0.395961\n",
      "[90]\tvalid_0's binary_logloss: 0.396822\n",
      "[100]\tvalid_0's binary_logloss: 0.397396\n",
      "Did not meet early stopping. Best iteration is:\n",
      "[60]\tvalid_0's binary_logloss: 0.394454\n"
     ]
    },
    {
     "data": {
      "text/html": [
       "<style>#sk-container-id-3 {color: black;background-color: white;}#sk-container-id-3 pre{padding: 0;}#sk-container-id-3 div.sk-toggleable {background-color: white;}#sk-container-id-3 label.sk-toggleable__label {cursor: pointer;display: block;width: 100%;margin-bottom: 0;padding: 0.3em;box-sizing: border-box;text-align: center;}#sk-container-id-3 label.sk-toggleable__label-arrow:before {content: \"▸\";float: left;margin-right: 0.25em;color: #696969;}#sk-container-id-3 label.sk-toggleable__label-arrow:hover:before {color: black;}#sk-container-id-3 div.sk-estimator:hover label.sk-toggleable__label-arrow:before {color: black;}#sk-container-id-3 div.sk-toggleable__content {max-height: 0;max-width: 0;overflow: hidden;text-align: left;background-color: #f0f8ff;}#sk-container-id-3 div.sk-toggleable__content pre {margin: 0.2em;color: black;border-radius: 0.25em;background-color: #f0f8ff;}#sk-container-id-3 input.sk-toggleable__control:checked~div.sk-toggleable__content {max-height: 200px;max-width: 100%;overflow: auto;}#sk-container-id-3 input.sk-toggleable__control:checked~label.sk-toggleable__label-arrow:before {content: \"▾\";}#sk-container-id-3 div.sk-estimator input.sk-toggleable__control:checked~label.sk-toggleable__label {background-color: #d4ebff;}#sk-container-id-3 div.sk-label input.sk-toggleable__control:checked~label.sk-toggleable__label {background-color: #d4ebff;}#sk-container-id-3 input.sk-hidden--visually {border: 0;clip: rect(1px 1px 1px 1px);clip: rect(1px, 1px, 1px, 1px);height: 1px;margin: -1px;overflow: hidden;padding: 0;position: absolute;width: 1px;}#sk-container-id-3 div.sk-estimator {font-family: monospace;background-color: #f0f8ff;border: 1px dotted black;border-radius: 0.25em;box-sizing: border-box;margin-bottom: 0.5em;}#sk-container-id-3 div.sk-estimator:hover {background-color: #d4ebff;}#sk-container-id-3 div.sk-parallel-item::after {content: \"\";width: 100%;border-bottom: 1px solid gray;flex-grow: 1;}#sk-container-id-3 div.sk-label:hover label.sk-toggleable__label {background-color: #d4ebff;}#sk-container-id-3 div.sk-serial::before {content: \"\";position: absolute;border-left: 1px solid gray;box-sizing: border-box;top: 0;bottom: 0;left: 50%;z-index: 0;}#sk-container-id-3 div.sk-serial {display: flex;flex-direction: column;align-items: center;background-color: white;padding-right: 0.2em;padding-left: 0.2em;position: relative;}#sk-container-id-3 div.sk-item {position: relative;z-index: 1;}#sk-container-id-3 div.sk-parallel {display: flex;align-items: stretch;justify-content: center;background-color: white;position: relative;}#sk-container-id-3 div.sk-item::before, #sk-container-id-3 div.sk-parallel-item::before {content: \"\";position: absolute;border-left: 1px solid gray;box-sizing: border-box;top: 0;bottom: 0;left: 50%;z-index: -1;}#sk-container-id-3 div.sk-parallel-item {display: flex;flex-direction: column;z-index: 1;position: relative;background-color: white;}#sk-container-id-3 div.sk-parallel-item:first-child::after {align-self: flex-end;width: 50%;}#sk-container-id-3 div.sk-parallel-item:last-child::after {align-self: flex-start;width: 50%;}#sk-container-id-3 div.sk-parallel-item:only-child::after {width: 0;}#sk-container-id-3 div.sk-dashed-wrapped {border: 1px dashed gray;margin: 0 0.4em 0.5em 0.4em;box-sizing: border-box;padding-bottom: 0.4em;background-color: white;}#sk-container-id-3 div.sk-label label {font-family: monospace;font-weight: bold;display: inline-block;line-height: 1.2em;}#sk-container-id-3 div.sk-label-container {text-align: center;}#sk-container-id-3 div.sk-container {/* jupyter's `normalize.less` sets `[hidden] { display: none; }` but bootstrap.min.css set `[hidden] { display: none !important; }` so we also need the `!important` here to be able to override the default hidden behavior on the sphinx rendered scikit-learn.org. See: https://github.com/scikit-learn/scikit-learn/issues/21755 */display: inline-block !important;position: relative;}#sk-container-id-3 div.sk-text-repr-fallback {display: none;}</style><div id=\"sk-container-id-3\" class=\"sk-top-container\"><div class=\"sk-text-repr-fallback\"><pre>LGBMClassifier(custom_metric=&#x27;AUC&#x27;, eval_metric=&#x27;Accuracy&#x27;,\n",
       "               loss_function=&#x27;Logloss&#x27;, min_data_in_leaf=100, n_jobs=12,\n",
       "               num_leaves=200, objective=&#x27;binary&#x27;)</pre><b>In a Jupyter environment, please rerun this cell to show the HTML representation or trust the notebook. <br />On GitHub, the HTML representation is unable to render, please try loading this page with nbviewer.org.</b></div><div class=\"sk-container\" hidden><div class=\"sk-item\"><div class=\"sk-estimator sk-toggleable\"><input class=\"sk-toggleable__control sk-hidden--visually\" id=\"sk-estimator-id-3\" type=\"checkbox\" checked><label for=\"sk-estimator-id-3\" class=\"sk-toggleable__label sk-toggleable__label-arrow\">LGBMClassifier</label><div class=\"sk-toggleable__content\"><pre>LGBMClassifier(custom_metric=&#x27;AUC&#x27;, eval_metric=&#x27;Accuracy&#x27;,\n",
       "               loss_function=&#x27;Logloss&#x27;, min_data_in_leaf=100, n_jobs=12,\n",
       "               num_leaves=200, objective=&#x27;binary&#x27;)</pre></div></div></div></div></div>"
      ],
      "text/plain": [
       "LGBMClassifier(custom_metric='AUC', eval_metric='Accuracy',\n",
       "               loss_function='Logloss', min_data_in_leaf=100, n_jobs=12,\n",
       "               num_leaves=200, objective='binary')"
      ]
     },
     "execution_count": 28,
     "metadata": {},
     "output_type": "execute_result"
    }
   ],
   "source": [
    "params = {\n",
    "    \"objective\": \"binary\",\n",
    "    \"loss_function\": \"Logloss\",\n",
    "    \"custom_metric\": \"AUC\",\n",
    "    \"eval_metric\": \"Accuracy\",\n",
    "    \"min_data_in_leaf\": 100,\n",
    "    \"num_leaves\": 200,\n",
    "    \"n_jobs\": 12,\n",
    "}\n",
    "\n",
    "model_lgb = lgb.LGBMClassifier(\n",
    "    **params,\n",
    ")\n",
    "\n",
    "model_lgb.fit(\n",
    "    X=X_train_impute,\n",
    "    y=y_train,\n",
    "    eval_set=(X_valid_impute, y_valid),\n",
    "    feature_name=\"auto\",\n",
    "    categorical_feature=\"auto\",\n",
    "    callbacks=[\n",
    "        lgb.early_stopping(stopping_rounds=100),\n",
    "        lgb.log_evaluation(period=10),\n",
    "    ],\n",
    ")\n"
   ]
  },
  {
   "cell_type": "code",
   "execution_count": 33,
   "metadata": {},
   "outputs": [
    {
     "data": {
      "image/png": "[encoded data removed]",
      "text/plain": [
       "<Figure size 432x288 with 1 Axes>"
      ]
     },
     "metadata": {
      "needs_background": "light"
     },
     "output_type": "display_data"
    }
   ],
   "source": [
    "feat_imp = pd.Series(model_lgb.feature_importances_, index=X_train_impute.columns)\n",
    "feat_imp.nlargest(30).plot(kind=\"barh\")\n",
    "plt.show()"
   ]
  },
  {
   "cell_type": "code",
   "execution_count": 34,
   "metadata": {},
   "outputs": [
    {
     "data": {
      "text/plain": [
       "0.8085106382978723"
      ]
     },
     "execution_count": 34,
     "metadata": {},
     "output_type": "execute_result"
    }
   ],
   "source": [
    "accuracy_score(y_valid, model_lgb.predict(X_valid_impute))"
   ]
  },
  {
   "cell_type": "code",
   "execution_count": 23,
   "metadata": {},
   "outputs": [
    {
     "name": "stdout",
     "output_type": "stream",
     "text": [
      "skipping\n"
     ]
    }
   ],
   "source": [
    "%%script echo skipping\n",
    "\n",
    "# Use RandomSearchCV to find the best parameters\n",
    "\n",
    "params = {\n",
    "    \"objective\": [\"binary\"],\n",
    "    \"metric\": [\"auc\"],\n",
    "    \"boosting_type\": [\"gbdt\", \"dart\", \"goss\"],\n",
    "    \"num_iterations\": [100, 200, 300],\n",
    "    \"min_data_in_leaf\": [10, 50, 100, 200, 500],\n",
    "    \"num_leaves\": np.arange(10, 61, 10),\n",
    "    \"bagging_fraction\": np.arange(0.2, 1.1, 0.2),\n",
    "    \"bagging_freq\": np.arange(0, 11, 3),\n",
    "    \"drop_rate\": np.arange(0, 0.51, 0.1),\n",
    "    \"reg_alpha\": np.arange(0, 1.1, 0.2),\n",
    "    \"reg_lambda\": np.arange(0, 1.1, 0.2),\n",
    "    \"extra_trees\": [True],\n",
    "    \"xgboost_dart_mode\": [True],\n",
    "    \"n_jobs\": [8],\n",
    "}\n",
    "\n",
    "grid = HalvingRandomSearchCV(\n",
    "    estimator=lgb.LGBMClassifier(),\n",
    "    resource=\"n_estimators\",\n",
    "    param_distributions=params,\n",
    "    factor=3,\n",
    "    scoring=\"f1\",\n",
    "    min_resources=10,\n",
    "    max_resources=1000,\n",
    "    cv=5,\n",
    "    n_jobs=8,\n",
    "    verbose=0,\n",
    "    error_score=0,\n",
    ")\n",
    "\n",
    "grid.fit(X_train_ohe_impute, y_train)\n",
    "print(grid.best_estimator_)\n",
    "cross_val_score(\n",
    "    grid.best_estimator_, X_valid_ohe_impute, y_valid, scoring=\"f1\", cv=10, n_jobs=8\n",
    ").mean()\n"
   ]
  },
  {
   "cell_type": "markdown",
   "metadata": {},
   "source": [
    "### Results of models on validation set\n",
    "\n",
    "|                                                                | xgboost   | lightgbm  |\n",
    "| -------------------------------------------------------------- | --------- | --------- |\n",
    "| ~no parameter tuning </br> no data imputation                  | **0.764** | 0.774     |\n",
    "| no parameter tuning </br> data imputation                      | 0.764     | 0.778     |\n",
    "| parameter tuning </br> data imputation                         |           | **0.798** |\n",
    "| parameter tuning </br> data imputation </br> feature selection |           | 0.786     |\n"
   ]
  },
  {
   "cell_type": "code",
   "execution_count": 30,
   "metadata": {},
   "outputs": [
    {
     "name": "stdout",
     "output_type": "stream",
     "text": [
      "[LightGBM] [Warning] min_data_in_leaf is set=100, min_child_samples=20 will be ignored. Current value: min_data_in_leaf=100\n",
      "[LightGBM] [Warning] bagging_fraction is set=0.8, subsample=1.0 will be ignored. Current value: bagging_fraction=0.8\n",
      "[LightGBM] [Warning] bagging_freq is set=3, subsample_freq=0 will be ignored. Current value: bagging_freq=3\n"
     ]
    },
    {
     "data": {
      "text/html": [
       "<style>#sk-container-id-2 {color: black;background-color: white;}#sk-container-id-2 pre{padding: 0;}#sk-container-id-2 div.sk-toggleable {background-color: white;}#sk-container-id-2 label.sk-toggleable__label {cursor: pointer;display: block;width: 100%;margin-bottom: 0;padding: 0.3em;box-sizing: border-box;text-align: center;}#sk-container-id-2 label.sk-toggleable__label-arrow:before {content: \"▸\";float: left;margin-right: 0.25em;color: #696969;}#sk-container-id-2 label.sk-toggleable__label-arrow:hover:before {color: black;}#sk-container-id-2 div.sk-estimator:hover label.sk-toggleable__label-arrow:before {color: black;}#sk-container-id-2 div.sk-toggleable__content {max-height: 0;max-width: 0;overflow: hidden;text-align: left;background-color: #f0f8ff;}#sk-container-id-2 div.sk-toggleable__content pre {margin: 0.2em;color: black;border-radius: 0.25em;background-color: #f0f8ff;}#sk-container-id-2 input.sk-toggleable__control:checked~div.sk-toggleable__content {max-height: 200px;max-width: 100%;overflow: auto;}#sk-container-id-2 input.sk-toggleable__control:checked~label.sk-toggleable__label-arrow:before {content: \"▾\";}#sk-container-id-2 div.sk-estimator input.sk-toggleable__control:checked~label.sk-toggleable__label {background-color: #d4ebff;}#sk-container-id-2 div.sk-label input.sk-toggleable__control:checked~label.sk-toggleable__label {background-color: #d4ebff;}#sk-container-id-2 input.sk-hidden--visually {border: 0;clip: rect(1px 1px 1px 1px);clip: rect(1px, 1px, 1px, 1px);height: 1px;margin: -1px;overflow: hidden;padding: 0;position: absolute;width: 1px;}#sk-container-id-2 div.sk-estimator {font-family: monospace;background-color: #f0f8ff;border: 1px dotted black;border-radius: 0.25em;box-sizing: border-box;margin-bottom: 0.5em;}#sk-container-id-2 div.sk-estimator:hover {background-color: #d4ebff;}#sk-container-id-2 div.sk-parallel-item::after {content: \"\";width: 100%;border-bottom: 1px solid gray;flex-grow: 1;}#sk-container-id-2 div.sk-label:hover label.sk-toggleable__label {background-color: #d4ebff;}#sk-container-id-2 div.sk-serial::before {content: \"\";position: absolute;border-left: 1px solid gray;box-sizing: border-box;top: 0;bottom: 0;left: 50%;z-index: 0;}#sk-container-id-2 div.sk-serial {display: flex;flex-direction: column;align-items: center;background-color: white;padding-right: 0.2em;padding-left: 0.2em;position: relative;}#sk-container-id-2 div.sk-item {position: relative;z-index: 1;}#sk-container-id-2 div.sk-parallel {display: flex;align-items: stretch;justify-content: center;background-color: white;position: relative;}#sk-container-id-2 div.sk-item::before, #sk-container-id-2 div.sk-parallel-item::before {content: \"\";position: absolute;border-left: 1px solid gray;box-sizing: border-box;top: 0;bottom: 0;left: 50%;z-index: -1;}#sk-container-id-2 div.sk-parallel-item {display: flex;flex-direction: column;z-index: 1;position: relative;background-color: white;}#sk-container-id-2 div.sk-parallel-item:first-child::after {align-self: flex-end;width: 50%;}#sk-container-id-2 div.sk-parallel-item:last-child::after {align-self: flex-start;width: 50%;}#sk-container-id-2 div.sk-parallel-item:only-child::after {width: 0;}#sk-container-id-2 div.sk-dashed-wrapped {border: 1px dashed gray;margin: 0 0.4em 0.5em 0.4em;box-sizing: border-box;padding-bottom: 0.4em;background-color: white;}#sk-container-id-2 div.sk-label label {font-family: monospace;font-weight: bold;display: inline-block;line-height: 1.2em;}#sk-container-id-2 div.sk-label-container {text-align: center;}#sk-container-id-2 div.sk-container {/* jupyter's `normalize.less` sets `[hidden] { display: none; }` but bootstrap.min.css set `[hidden] { display: none !important; }` so we also need the `!important` here to be able to override the default hidden behavior on the sphinx rendered scikit-learn.org. See: https://github.com/scikit-learn/scikit-learn/issues/21755 */display: inline-block !important;position: relative;}#sk-container-id-2 div.sk-text-repr-fallback {display: none;}</style><div id=\"sk-container-id-2\" class=\"sk-top-container\"><div class=\"sk-text-repr-fallback\"><pre>LGBMClassifier(bagging_fraction=0.8, bagging_freq=3, drop_rate=0.3,\n",
       "               extra_trees=True, metric=&#x27;auc&#x27;, min_data_in_leaf=100,\n",
       "               n_estimators=810, n_jobs=8, num_leaves=50, objective=&#x27;binary&#x27;,\n",
       "               reg_lambda=0.8, xgboost_dart_mode=True)</pre><b>In a Jupyter environment, please rerun this cell to show the HTML representation or trust the notebook. <br />On GitHub, the HTML representation is unable to render, please try loading this page with nbviewer.org.</b></div><div class=\"sk-container\" hidden><div class=\"sk-item\"><div class=\"sk-estimator sk-toggleable\"><input class=\"sk-toggleable__control sk-hidden--visually\" id=\"sk-estimator-id-2\" type=\"checkbox\" checked><label for=\"sk-estimator-id-2\" class=\"sk-toggleable__label sk-toggleable__label-arrow\">LGBMClassifier</label><div class=\"sk-toggleable__content\"><pre>LGBMClassifier(bagging_fraction=0.8, bagging_freq=3, drop_rate=0.3,\n",
       "               extra_trees=True, metric=&#x27;auc&#x27;, min_data_in_leaf=100,\n",
       "               n_estimators=810, n_jobs=8, num_leaves=50, objective=&#x27;binary&#x27;,\n",
       "               reg_lambda=0.8, xgboost_dart_mode=True)</pre></div></div></div></div></div>"
      ],
      "text/plain": [
       "LGBMClassifier(bagging_fraction=0.8, bagging_freq=3, drop_rate=0.3,\n",
       "               extra_trees=True, metric='auc', min_data_in_leaf=100,\n",
       "               n_estimators=810, n_jobs=8, num_leaves=50, objective='binary',\n",
       "               reg_lambda=0.8, xgboost_dart_mode=True)"
      ]
     },
     "execution_count": 30,
     "metadata": {},
     "output_type": "execute_result"
    }
   ],
   "source": [
    "best_model = lgb.LGBMClassifier(\n",
    "    bagging_fraction=0.8,\n",
    "    bagging_freq=3,\n",
    "    drop_rate=0.3,\n",
    "    extra_trees=True,\n",
    "    metric=\"auc\",\n",
    "    min_data_in_leaf=100,\n",
    "    n_estimators=810,\n",
    "    n_jobs=8,\n",
    "    num_leaves=50,\n",
    "    objective=\"binary\",\n",
    "    reg_lambda=0.8,\n",
    "    xgboost_dart_mode=True,\n",
    ")\n",
    "\n",
    "# Fit on whole dataset did worse\n",
    "best_model.fit(pd.concat([X_train_ohe_impute, X_valid_ohe_impute]), pd.concat([y_train, y_valid]))"
   ]
  },
  {
   "cell_type": "markdown",
   "metadata": {},
   "source": [
    "### Feature Selection lgbm"
   ]
  },
  {
   "cell_type": "code",
   "execution_count": null,
   "metadata": {},
   "outputs": [],
   "source": [
    "%%script echo skipping\n",
    "\n",
    "best_model = lgb.LGBMClassifier(\n",
    "    bagging_fraction=0.8,\n",
    "    bagging_freq=3,\n",
    "    drop_rate=0.3,\n",
    "    extra_trees=True,\n",
    "    metric=\"auc\",\n",
    "    min_data_in_leaf=100,\n",
    "    n_estimators=810,\n",
    "    n_jobs=8,\n",
    "    num_leaves=50,\n",
    "    objective=\"binary\",\n",
    "    reg_lambda=0.8,\n",
    "    xgboost_dart_mode=True,\n",
    ")\n",
    "\n",
    "rfecv = RFECV(best_model, step=1, min_features_to_select=5, scoring=\"f1\", n_jobs=-1)\n",
    "rfecv.fit(X_train_ohe_impute, y_train)\n",
    "rfecv.show()\n"
   ]
  },
  {
   "cell_type": "code",
   "execution_count": 59,
   "metadata": {},
   "outputs": [
    {
     "name": "stderr",
     "output_type": "stream",
     "text": [
      "C:\\Users\\Maxime\\AppData\\Local\\Packages\\PythonSoftwareFoundation.Python.3.9_qbz5n2kfra8p0\\LocalCache\\local-packages\\Python39\\site-packages\\sklearn\\utils\\validation.py:1675: FutureWarning: Feature names only support names that are all strings. Got feature names with dtypes: ['int', 'str']. An error will be raised in 1.2.\n",
      "  warnings.warn(\n",
      "C:\\Users\\Maxime\\AppData\\Local\\Packages\\PythonSoftwareFoundation.Python.3.9_qbz5n2kfra8p0\\LocalCache\\local-packages\\Python39\\site-packages\\sklearn\\utils\\validation.py:1675: FutureWarning: Feature names only support names that are all strings. Got feature names with dtypes: ['int', 'str']. An error will be raised in 1.2.\n",
      "  warnings.warn(\n",
      "C:\\Users\\Maxime\\AppData\\Local\\Packages\\PythonSoftwareFoundation.Python.3.9_qbz5n2kfra8p0\\LocalCache\\local-packages\\Python39\\site-packages\\sklearn\\utils\\validation.py:1675: FutureWarning: Feature names only support names that are all strings. Got feature names with dtypes: ['int', 'str']. An error will be raised in 1.2.\n",
      "  warnings.warn(\n"
     ]
    },
    {
     "name": "stdout",
     "output_type": "stream",
     "text": [
      "(6954, 27)\n",
      "[LightGBM] [Warning] min_data_in_leaf is set=100, min_child_samples=20 will be ignored. Current value: min_data_in_leaf=100\n",
      "[LightGBM] [Warning] bagging_fraction is set=0.8, subsample=1.0 will be ignored. Current value: bagging_fraction=0.8\n",
      "[LightGBM] [Warning] bagging_freq is set=3, subsample_freq=0 will be ignored. Current value: bagging_freq=3\n"
     ]
    },
    {
     "data": {
      "text/plain": [
       "0.7856987256461065"
      ]
     },
     "execution_count": 59,
     "metadata": {},
     "output_type": "execute_result"
    }
   ],
   "source": [
    "%%script echo skipping\n",
    "\n",
    "X_train_ohe_impute = pd.DataFrame(rfecv.transform(X_train_ohe_impute), columns=X_train_ohe_impute.columns[rfecv.support_], dtype=np.float32)\n",
    "X_valid_ohe_impute = pd.DataFrame(rfecv.transform(X_valid_ohe_impute), columns=X_valid_ohe_impute.columns[rfecv.support_], dtype=np.float32)\n",
    "X_test_ohe_impute = pd.DataFrame(rfecv.transform(X_test_ohe_impute), columns=X_test_ohe_impute.columns[rfecv.support_], dtype=np.float32)\n",
    "print(X_train_ohe_impute.shape)\n",
    "\n",
    "best_model.fit(X_train_ohe_impute, y_train)\n",
    "cross_val_score(\n",
    "    best_model, X_valid_ohe_impute, y_valid, scoring=\"f1\", cv=10, n_jobs=8\n",
    ").mean()\n"
   ]
  },
  {
   "cell_type": "markdown",
   "metadata": {},
   "source": [
    "### Hyperparameter tuning with optuna"
   ]
  },
  {
   "cell_type": "code",
   "execution_count": 69,
   "metadata": {},
   "outputs": [],
   "source": [
    "def objective(trial):\n",
    "    train_dataset = lgb.Dataset(X_train_impute, label=y_train)\n",
    "\n",
    "    param = {\n",
    "        \"objective\": \"binary\",\n",
    "        \"verbosity\": -1,\n",
    "        \"max_cat_to_onehot\": 5,\n",
    "        \"n_jobs\": 12,\n",
    "        \"boosting_type\": trial.suggest_categorical(\"boosting_type\", [\"dart\", \"goss\"]),\n",
    "        \"learning_rate\": trial.suggest_loguniform(\"learning_rate\", 1e-4, 1e-1),\n",
    "        \"max_bin\": trial.suggest_int(\"max_bin\", 64, 1024),\n",
    "        \"max_depth\": trial.suggest_int(\"max_depth\", -1, 31, step=4),\n",
    "        \"num_leaves\": trial.suggest_int(\"num_leaves\", 32, 256),\n",
    "        \"min_data_in_leaf\": trial.suggest_int(\"min_data_in_leaf\", 10, 100),\n",
    "        \"feature_fraction\": trial.suggest_float(\"feature_fraction\", 0.5, 1.0),\n",
    "        \"lambda_l1\": trial.suggest_float(\"lambda_l1\", 1e-2, 10.0, log=True),\n",
    "        \"lambda_l2\": trial.suggest_float(\"lambda_l2\", 1e-8, 10.0, log=True),\n",
    "    }\n",
    "\n",
    "    if param[\"boosting_type\"] == \"goss\":\n",
    "        param[\"top_rate\"] = trial.suggest_float(\"top_rate\", 0.0, 0.5)\n",
    "        param[\"other_rate\"] = trial.suggest_float(\"other_rate\", 0.0, 0.5)\n",
    "    elif param[\"boosting_type\"] == \"dart\":\n",
    "        param[\"bagging_fraction\"] = trial.suggest_float(\"bagging_fraction\", 0.4, 1.0),\n",
    "        param[\"bagging_freq\"] = trial.suggest_int(\"bagging_freq\", 1, 10),\n",
    "        param[\"drop_rate\"] = trial.suggest_loguniform(\"drop_rate\", 1e-3, 2e-1)\n",
    "        param[\"max_drop\"] = trial.suggest_int(\"max_drop\", 20, 100)\n",
    "        param[\"skip_drop\"] = trial.suggest_uniform(\"skip_drop\", 0.0, 0.8)\n",
    "\n",
    "    gbm = lgb.train(param, train_dataset, num_boost_round=trial.suggest_int(\"num_iterations\", 500, 2000), feature_name='auto', categorical_feature='auto')\n",
    "    preds = gbm.predict(X_valid_impute)\n",
    "    pred_labels = np.rint(preds)\n",
    "    accuracy = accuracy_score(y_valid, pred_labels)\n",
    "    return accuracy\n"
   ]
  },
  {
   "cell_type": "code",
   "execution_count": 70,
   "metadata": {},
   "outputs": [
    {
     "name": "stderr",
     "output_type": "stream",
     "text": [
      "\u001b[32m[I 2022-07-01 20:30:25,352]\u001b[0m A new study created in memory with name: no-name-21ed41ac-71c0-47cc-8bef-b2714d49298b\u001b[0m\n",
      "\u001b[32m[I 2022-07-01 20:30:27,205]\u001b[0m Trial 0 finished with value: 0.8090856814261069 and parameters: {'boosting_type': 'goss', 'learning_rate': 0.027361314102257374, 'max_bin': 503, 'max_depth': 23, 'num_leaves': 220, 'min_data_in_leaf': 75, 'feature_fraction': 0.6589350566535948, 'lambda_l1': 0.623148231742506, 'lambda_l2': 2.1833327108309165e-05, 'top_rate': 0.2705437735525564, 'other_rate': 0.10244717524763625, 'num_iterations': 1204}. Best is trial 0 with value: 0.8090856814261069.\u001b[0m\n",
      "\u001b[32m[I 2022-07-01 20:30:30,164]\u001b[0m Trial 1 finished with value: 0.8090856814261069 and parameters: {'boosting_type': 'dart', 'learning_rate': 0.0030324643352554405, 'max_bin': 586, 'max_depth': 7, 'num_leaves': 144, 'min_data_in_leaf': 18, 'feature_fraction': 0.9238679118366585, 'lambda_l1': 6.553123695485222, 'lambda_l2': 3.791976447116918, 'bagging_fraction': 0.5075650254178306, 'bagging_freq': 7, 'drop_rate': 0.006239766254102139, 'max_drop': 70, 'skip_drop': 0.3725812999784416, 'num_iterations': 1653}. Best is trial 0 with value: 0.8090856814261069.\u001b[0m\n",
      "\u001b[32m[I 2022-07-01 20:30:31,615]\u001b[0m Trial 2 finished with value: 0.8177113283496262 and parameters: {'boosting_type': 'goss', 'learning_rate': 0.005975365529696195, 'max_bin': 698, 'max_depth': 19, 'num_leaves': 39, 'min_data_in_leaf': 34, 'feature_fraction': 0.518885933704019, 'lambda_l1': 0.011532939160572183, 'lambda_l2': 3.8664367111973608, 'top_rate': 0.2701979968218929, 'other_rate': 0.2951131317305775, 'num_iterations': 633}. Best is trial 2 with value: 0.8177113283496262.\u001b[0m\n",
      "\u001b[32m[I 2022-07-01 20:30:35,235]\u001b[0m Trial 3 finished with value: 0.8188614146060954 and parameters: {'boosting_type': 'dart', 'learning_rate': 0.06804881118663585, 'max_bin': 455, 'max_depth': 7, 'num_leaves': 113, 'min_data_in_leaf': 43, 'feature_fraction': 0.8832181369965657, 'lambda_l1': 8.353860544095522, 'lambda_l2': 7.63590108568139, 'bagging_fraction': 0.6718833739681226, 'bagging_freq': 1, 'drop_rate': 0.06169294974392358, 'max_drop': 53, 'skip_drop': 0.4996197004187741, 'num_iterations': 1096}. Best is trial 3 with value: 0.8188614146060954.\u001b[0m\n",
      "\u001b[32m[I 2022-07-01 20:30:36,308]\u001b[0m Trial 4 finished with value: 0.8067855089131685 and parameters: {'boosting_type': 'goss', 'learning_rate': 0.000726090921657302, 'max_bin': 279, 'max_depth': 3, 'num_leaves': 224, 'min_data_in_leaf': 48, 'feature_fraction': 0.5657280823644155, 'lambda_l1': 5.63177461893115, 'lambda_l2': 1.9742711143560626e-05, 'top_rate': 0.034932324952643645, 'other_rate': 0.2863083540173081, 'num_iterations': 1928}. Best is trial 3 with value: 0.8188614146060954.\u001b[0m\n",
      "\u001b[32m[I 2022-07-01 20:30:39,320]\u001b[0m Trial 5 finished with value: 0.8113858539390454 and parameters: {'boosting_type': 'dart', 'learning_rate': 0.014241347817168909, 'max_bin': 608, 'max_depth': 23, 'num_leaves': 90, 'min_data_in_leaf': 55, 'feature_fraction': 0.9324488065262924, 'lambda_l1': 0.6851275310691877, 'lambda_l2': 0.05208777856452082, 'bagging_fraction': 0.7139104644306609, 'bagging_freq': 8, 'drop_rate': 0.0016358169685778037, 'max_drop': 55, 'skip_drop': 0.09974095874044586, 'num_iterations': 1100}. Best is trial 3 with value: 0.8188614146060954.\u001b[0m\n",
      "\u001b[32m[I 2022-07-01 20:30:40,568]\u001b[0m Trial 6 finished with value: 0.8096607245543416 and parameters: {'boosting_type': 'goss', 'learning_rate': 0.024166474058388784, 'max_bin': 286, 'max_depth': 31, 'num_leaves': 104, 'min_data_in_leaf': 34, 'feature_fraction': 0.7577071396470512, 'lambda_l1': 1.5238922913883604, 'lambda_l2': 6.819617466325888e-05, 'top_rate': 0.26621267667405807, 'other_rate': 0.09417072453187775, 'num_iterations': 661}. Best is trial 3 with value: 0.8188614146060954.\u001b[0m\n",
      "\u001b[32m[I 2022-07-01 20:30:44,089]\u001b[0m Trial 7 finished with value: 0.8154111558366878 and parameters: {'boosting_type': 'goss', 'learning_rate': 0.0001095721716001766, 'max_bin': 901, 'max_depth': 11, 'num_leaves': 152, 'min_data_in_leaf': 47, 'feature_fraction': 0.5196712316172536, 'lambda_l1': 0.06034862845312391, 'lambda_l2': 0.017810060056323265, 'top_rate': 0.18659513001768985, 'other_rate': 0.3621884658027916, 'num_iterations': 1024}. Best is trial 3 with value: 0.8188614146060954.\u001b[0m\n",
      "\u001b[32m[I 2022-07-01 20:30:48,198]\u001b[0m Trial 8 finished with value: 0.8177113283496262 and parameters: {'boosting_type': 'dart', 'learning_rate': 0.02027085866618838, 'max_bin': 453, 'max_depth': 19, 'num_leaves': 125, 'min_data_in_leaf': 29, 'feature_fraction': 0.9778752207718455, 'lambda_l1': 0.012797991942538615, 'lambda_l2': 7.528826881351496, 'bagging_fraction': 0.584786399610111, 'bagging_freq': 5, 'drop_rate': 0.023786280734959395, 'max_drop': 92, 'skip_drop': 0.6962749901634809, 'num_iterations': 1184}. Best is trial 3 with value: 0.8188614146060954.\u001b[0m\n",
      "\u001b[32m[I 2022-07-01 20:30:49,085]\u001b[0m Trial 9 finished with value: 0.8131109833237493 and parameters: {'boosting_type': 'goss', 'learning_rate': 0.002555769699798354, 'max_bin': 509, 'max_depth': 15, 'num_leaves': 140, 'min_data_in_leaf': 68, 'feature_fraction': 0.8819662466594889, 'lambda_l1': 0.5484210705855873, 'lambda_l2': 3.332102653409523, 'top_rate': 0.3355479365136181, 'other_rate': 0.032478238387416924, 'num_iterations': 503}. Best is trial 3 with value: 0.8188614146060954.\u001b[0m\n",
      "\u001b[32m[I 2022-07-01 20:30:53,725]\u001b[0m Trial 10 finished with value: 0.7998849913743531 and parameters: {'boosting_type': 'dart', 'learning_rate': 0.08510788889565009, 'max_bin': 117, 'max_depth': -1, 'num_leaves': 43, 'min_data_in_leaf': 99, 'feature_fraction': 0.8346209717263617, 'lambda_l1': 0.12438262757239038, 'lambda_l2': 1.7166426689734793e-08, 'bagging_fraction': 0.9660481350898882, 'bagging_freq': 1, 'drop_rate': 0.19931984563321675, 'max_drop': 22, 'skip_drop': 0.6253873159910751, 'num_iterations': 1494}. Best is trial 3 with value: 0.8188614146060954.\u001b[0m\n",
      "\u001b[32m[I 2022-07-01 20:30:57,624]\u001b[0m Trial 11 finished with value: 0.8159861989649224 and parameters: {'boosting_type': 'dart', 'learning_rate': 0.08682623901037946, 'max_bin': 817, 'max_depth': 11, 'num_leaves': 34, 'min_data_in_leaf': 11, 'feature_fraction': 0.7566187260464617, 'lambda_l1': 0.01180458153728318, 'lambda_l2': 0.03662298218371964, 'bagging_fraction': 0.7771233323192307, 'bagging_freq': 1, 'drop_rate': 0.10272253979487392, 'max_drop': 40, 'skip_drop': 0.3977078099563142, 'num_iterations': 725}. Best is trial 3 with value: 0.8188614146060954.\u001b[0m\n",
      "\u001b[32m[I 2022-07-01 20:31:00,436]\u001b[0m Trial 12 finished with value: 0.8171362852213916 and parameters: {'boosting_type': 'goss', 'learning_rate': 0.0006847151485769414, 'max_bin': 739, 'max_depth': 31, 'num_leaves': 71, 'min_data_in_leaf': 31, 'feature_fraction': 0.6255602663592842, 'lambda_l1': 0.05131601220773469, 'lambda_l2': 0.22903263728873707, 'top_rate': 0.455446130409111, 'other_rate': 0.4956318264256043, 'num_iterations': 844}. Best is trial 3 with value: 0.8188614146060954.\u001b[0m\n",
      "\u001b[32m[I 2022-07-01 20:31:07,825]\u001b[0m Trial 13 finished with value: 0.8090856814261069 and parameters: {'boosting_type': 'dart', 'learning_rate': 0.005858669542482952, 'max_bin': 727, 'max_depth': 15, 'num_leaves': 170, 'min_data_in_leaf': 40, 'feature_fraction': 0.8133379930337097, 'lambda_l1': 2.483552009064187, 'lambda_l2': 0.0023310471523467907, 'bagging_fraction': 0.8683674306443885, 'bagging_freq': 4, 'drop_rate': 0.03041708497411841, 'max_drop': 66, 'skip_drop': 0.14295915085175614, 'num_iterations': 1441}. Best is trial 3 with value: 0.8188614146060954.\u001b[0m\n",
      "\u001b[32m[I 2022-07-01 20:31:10,379]\u001b[0m Trial 14 finished with value: 0.8033352501437608 and parameters: {'boosting_type': 'dart', 'learning_rate': 0.0008535729345726356, 'max_bin': 345, 'max_depth': 7, 'num_leaves': 64, 'min_data_in_leaf': 66, 'feature_fraction': 0.6611687416493737, 'lambda_l1': 0.1513457257759271, 'lambda_l2': 4.303164587115741e-07, 'bagging_fraction': 0.43021928251993874, 'bagging_freq': 10, 'drop_rate': 0.05083810252304877, 'max_drop': 97, 'skip_drop': 0.5358206627253942, 'num_iterations': 910}. Best is trial 3 with value: 0.8188614146060954.\u001b[0m\n",
      "\u001b[32m[I 2022-07-01 20:31:12,567]\u001b[0m Trial 15 finished with value: 0.8148361127084531 and parameters: {'boosting_type': 'goss', 'learning_rate': 0.005781616795368428, 'max_bin': 671, 'max_depth': 23, 'num_leaves': 184, 'min_data_in_leaf': 21, 'feature_fraction': 0.717553525540639, 'lambda_l1': 0.028818687559097004, 'lambda_l2': 0.5443948701919366, 'top_rate': 0.10610908652843795, 'other_rate': 0.22125474661131714, 'num_iterations': 523}. Best is trial 3 with value: 0.8188614146060954.\u001b[0m\n",
      "\u001b[32m[I 2022-07-01 20:31:15,577]\u001b[0m Trial 16 finished with value: 0.80448533640023 and parameters: {'boosting_type': 'goss', 'learning_rate': 0.05625077146896197, 'max_bin': 985, 'max_depth': -1, 'num_leaves': 252, 'min_data_in_leaf': 84, 'feature_fraction': 0.5005519726969057, 'lambda_l1': 2.672061827608146, 'lambda_l2': 0.0011042118379289677, 'top_rate': 0.47202038376393185, 'other_rate': 0.40988767520590585, 'num_iterations': 1374}. Best is trial 3 with value: 0.8188614146060954.\u001b[0m\n",
      "\u001b[32m[I 2022-07-01 20:31:21,265]\u001b[0m Trial 17 finished with value: 0.8004600345025877 and parameters: {'boosting_type': 'dart', 'learning_rate': 0.03356362258890336, 'max_bin': 425, 'max_depth': 19, 'num_leaves': 116, 'min_data_in_leaf': 23, 'feature_fraction': 0.9814971295686575, 'lambda_l1': 0.21382867429863286, 'lambda_l2': 0.22152695168325762, 'bagging_fraction': 0.5905586349731591, 'bagging_freq': 4, 'drop_rate': 0.012902425533627481, 'max_drop': 99, 'skip_drop': 0.7462980046508167, 'num_iterations': 1257}. Best is trial 3 with value: 0.8188614146060954.\u001b[0m\n",
      "\u001b[32m[I 2022-07-01 20:31:24,464]\u001b[0m Trial 18 finished with value: 0.8079355951696378 and parameters: {'boosting_type': 'dart', 'learning_rate': 0.014162409046268929, 'max_bin': 149, 'max_depth': 7, 'num_leaves': 118, 'min_data_in_leaf': 56, 'feature_fraction': 0.9853070717315844, 'lambda_l1': 1.3505593242181564, 'lambda_l2': 0.004874394355806911, 'bagging_fraction': 0.5893760334274459, 'bagging_freq': 4, 'drop_rate': 0.026134020055696237, 'max_drop': 77, 'skip_drop': 0.7952533670369132, 'num_iterations': 1682}. Best is trial 3 with value: 0.8188614146060954.\u001b[0m\n",
      "\u001b[32m[I 2022-07-01 20:31:27,839]\u001b[0m Trial 19 finished with value: 0.8108108108108109 and parameters: {'boosting_type': 'goss', 'learning_rate': 0.00020617818870932123, 'max_bin': 838, 'max_depth': 27, 'num_leaves': 80, 'min_data_in_leaf': 42, 'feature_fraction': 0.8166694685898469, 'lambda_l1': 0.02835397856985318, 'lambda_l2': 0.6308131056259195, 'top_rate': 0.3619994488815804, 'other_rate': 0.2244702211570292, 'num_iterations': 961}. Best is trial 3 with value: 0.8188614146060954.\u001b[0m\n",
      "\u001b[32m[I 2022-07-01 20:31:29,725]\u001b[0m Trial 20 finished with value: 0.8171362852213916 and parameters: {'boosting_type': 'goss', 'learning_rate': 0.001464958858673618, 'max_bin': 382, 'max_depth': 15, 'num_leaves': 51, 'min_data_in_leaf': 10, 'feature_fraction': 0.5864506862178376, 'lambda_l1': 0.33758507908576074, 'lambda_l2': 2.256350628861404e-06, 'top_rate': 0.16265341923097307, 'other_rate': 0.31274435673820855, 'num_iterations': 753}. Best is trial 3 with value: 0.8188614146060954.\u001b[0m\n",
      "\u001b[32m[I 2022-07-01 20:31:33,334]\u001b[0m Trial 21 finished with value: 0.8171362852213916 and parameters: {'boosting_type': 'dart', 'learning_rate': 0.008670194246016102, 'max_bin': 468, 'max_depth': 19, 'num_leaves': 98, 'min_data_in_leaf': 28, 'feature_fraction': 0.8947025536010897, 'lambda_l1': 0.010407334915005464, 'lambda_l2': 5.349225284951251, 'bagging_fraction': 0.5951972336612897, 'bagging_freq': 2, 'drop_rate': 0.010137710442944436, 'max_drop': 47, 'skip_drop': 0.564615253018691, 'num_iterations': 1179}. Best is trial 3 with value: 0.8188614146060954.\u001b[0m\n",
      "\u001b[32m[I 2022-07-01 20:31:41,527]\u001b[0m Trial 22 finished with value: 0.8136860264519838 and parameters: {'boosting_type': 'dart', 'learning_rate': 0.04303366846359072, 'max_bin': 624, 'max_depth': 19, 'num_leaves': 125, 'min_data_in_leaf': 37, 'feature_fraction': 0.947363478851973, 'lambda_l1': 0.024508372709211516, 'lambda_l2': 5.809144207985112, 'bagging_fraction': 0.6959221917587157, 'bagging_freq': 6, 'drop_rate': 0.07209428603841368, 'max_drop': 84, 'skip_drop': 0.2629830650805016, 'num_iterations': 1071}. Best is trial 3 with value: 0.8188614146060954.\u001b[0m\n",
      "\u001b[32m[I 2022-07-01 20:31:44,842]\u001b[0m Trial 23 finished with value: 0.8079355951696378 and parameters: {'boosting_type': 'dart', 'learning_rate': 0.015528332363665453, 'max_bin': 540, 'max_depth': 11, 'num_leaves': 169, 'min_data_in_leaf': 46, 'feature_fraction': 0.8677865505842246, 'lambda_l1': 0.07114523116643637, 'lambda_l2': 1.0778966583439105, 'bagging_fraction': 0.6585020871919895, 'bagging_freq': 3, 'drop_rate': 0.00346489099768077, 'max_drop': 38, 'skip_drop': 0.6542043591183171, 'num_iterations': 1359}. Best is trial 3 with value: 0.8188614146060954.\u001b[0m\n",
      "\u001b[32m[I 2022-07-01 20:31:47,812]\u001b[0m Trial 24 finished with value: 0.8154111558366878 and parameters: {'boosting_type': 'dart', 'learning_rate': 0.008481747009749933, 'max_bin': 214, 'max_depth': 27, 'num_leaves': 192, 'min_data_in_leaf': 27, 'feature_fraction': 0.993514140214563, 'lambda_l1': 0.021955135524020935, 'lambda_l2': 9.097753511302669, 'bagging_fraction': 0.7851020028027589, 'bagging_freq': 9, 'drop_rate': 0.03412057509059135, 'max_drop': 56, 'skip_drop': 0.5091198282041398, 'num_iterations': 846}. Best is trial 3 with value: 0.8188614146060954.\u001b[0m\n",
      "\u001b[32m[I 2022-07-01 20:31:50,802]\u001b[0m Trial 25 finished with value: 0.8136860264519838 and parameters: {'boosting_type': 'dart', 'learning_rate': 0.05323415598471052, 'max_bin': 691, 'max_depth': 3, 'num_leaves': 59, 'min_data_in_leaf': 55, 'feature_fraction': 0.7068263852383145, 'lambda_l1': 0.01588013404372701, 'lambda_l2': 0.04541609049249077, 'bagging_fraction': 0.49142117871067287, 'bagging_freq': 6, 'drop_rate': 0.13051274257711037, 'max_drop': 89, 'skip_drop': 0.690025944964353, 'num_iterations': 1588}. Best is trial 3 with value: 0.8188614146060954.\u001b[0m\n",
      "\u001b[32m[I 2022-07-01 20:31:52,818]\u001b[0m Trial 26 finished with value: 0.8154111558366878 and parameters: {'boosting_type': 'dart', 'learning_rate': 0.017262885469517993, 'max_bin': 424, 'max_depth': 15, 'num_leaves': 83, 'min_data_in_leaf': 35, 'feature_fraction': 0.7840423131257743, 'lambda_l1': 0.04563083271957796, 'lambda_l2': 1.0553946013726085, 'bagging_fraction': 0.5108680512144178, 'bagging_freq': 3, 'drop_rate': 0.022062977369421127, 'max_drop': 24, 'skip_drop': 0.4646482869854887, 'num_iterations': 617}. Best is trial 3 with value: 0.8188614146060954.\u001b[0m\n",
      "\u001b[32m[I 2022-07-01 20:32:03,312]\u001b[0m Trial 27 finished with value: 0.8079355951696378 and parameters: {'boosting_type': 'dart', 'learning_rate': 0.004926697163118519, 'max_bin': 299, 'max_depth': 19, 'num_leaves': 103, 'min_data_in_leaf': 15, 'feature_fraction': 0.8463077991782181, 'lambda_l1': 9.852071841917159, 'lambda_l2': 0.15642746671398344, 'bagging_fraction': 0.7820312734690098, 'bagging_freq': 5, 'drop_rate': 0.05810374860349001, 'max_drop': 75, 'skip_drop': 0.2630910623280778, 'num_iterations': 1860}. Best is trial 3 with value: 0.8188614146060954.\u001b[0m\n",
      "\u001b[32m[I 2022-07-01 20:32:07,040]\u001b[0m Trial 28 finished with value: 0.81943645773433 and parameters: {'boosting_type': 'goss', 'learning_rate': 0.009240013296458623, 'max_bin': 805, 'max_depth': 11, 'num_leaves': 131, 'min_data_in_leaf': 27, 'feature_fraction': 0.9538901720161723, 'lambda_l1': 0.012978970780301842, 'lambda_l2': 0.006912832360467812, 'top_rate': 0.3716944834054441, 'other_rate': 0.19708132822399135, 'num_iterations': 1283}. Best is trial 28 with value: 0.81943645773433.\u001b[0m\n",
      "\u001b[32m[I 2022-07-01 20:32:07,848]\u001b[0m Trial 29 finished with value: 0.8096607245543416 and parameters: {'boosting_type': 'goss', 'learning_rate': 0.024123368408859616, 'max_bin': 971, 'max_depth': 3, 'num_leaves': 131, 'min_data_in_leaf': 25, 'feature_fraction': 0.951850183231377, 'lambda_l1': 0.11538635567505162, 'lambda_l2': 0.00037941411169019557, 'top_rate': 0.38608725511480313, 'other_rate': 0.16317098521366394, 'num_iterations': 1229}. Best is trial 28 with value: 0.81943645773433.\u001b[0m\n",
      "\u001b[32m[I 2022-07-01 20:32:10,915]\u001b[0m Trial 30 finished with value: 0.8182863714778609 and parameters: {'boosting_type': 'goss', 'learning_rate': 0.0017456112412540237, 'max_bin': 778, 'max_depth': 11, 'num_leaves': 157, 'min_data_in_leaf': 61, 'feature_fraction': 0.9150212631203422, 'lambda_l1': 0.8210905880316114, 'lambda_l2': 0.0066589258723191705, 'top_rate': 0.3114942532959248, 'other_rate': 0.18024123618275117, 'num_iterations': 1317}. Best is trial 28 with value: 0.81943645773433.\u001b[0m\n",
      "\u001b[32m[I 2022-07-01 20:32:13,850]\u001b[0m Trial 31 finished with value: 0.8188614146060954 and parameters: {'boosting_type': 'goss', 'learning_rate': 0.001914021598117509, 'max_bin': 838, 'max_depth': 11, 'num_leaves': 203, 'min_data_in_leaf': 67, 'feature_fraction': 0.9113911262507399, 'lambda_l1': 0.8685396277490417, 'lambda_l2': 0.01726656394953183, 'top_rate': 0.3038818608515631, 'other_rate': 0.173471206483778, 'num_iterations': 1318}. Best is trial 28 with value: 0.81943645773433.\u001b[0m\n",
      "\u001b[32m[I 2022-07-01 20:32:16,541]\u001b[0m Trial 32 finished with value: 0.8171362852213916 and parameters: {'boosting_type': 'goss', 'learning_rate': 0.0018528188623051685, 'max_bin': 795, 'max_depth': 11, 'num_leaves': 205, 'min_data_in_leaf': 78, 'feature_fraction': 0.9108645355967263, 'lambda_l1': 0.6909304681055515, 'lambda_l2': 0.010358645028835153, 'top_rate': 0.343805213730965, 'other_rate': 0.16466452909552484, 'num_iterations': 1332}. Best is trial 28 with value: 0.81943645773433.\u001b[0m\n",
      "\u001b[32m[I 2022-07-01 20:32:19,311]\u001b[0m Trial 33 finished with value: 0.8085106382978723 and parameters: {'boosting_type': 'goss', 'learning_rate': 0.001089124579984336, 'max_bin': 919, 'max_depth': 7, 'num_leaves': 158, 'min_data_in_leaf': 63, 'feature_fraction': 0.9134105558520927, 'lambda_l1': 1.2526376371351045, 'lambda_l2': 0.0007217488341780945, 'top_rate': 0.4108481829068172, 'other_rate': 0.15763904199853274, 'num_iterations': 1544}. Best is trial 28 with value: 0.81943645773433.\u001b[0m\n",
      "\u001b[32m[I 2022-07-01 20:32:21,558]\u001b[0m Trial 34 finished with value: 0.8004600345025877 and parameters: {'boosting_type': 'goss', 'learning_rate': 0.000447754486603568, 'max_bin': 858, 'max_depth': 11, 'num_leaves': 227, 'min_data_in_leaf': 71, 'feature_fraction': 0.8564763135045659, 'lambda_l1': 4.225063441756812, 'lambda_l2': 4.349318771020197e-05, 'top_rate': 0.305606506994948, 'other_rate': 0.212123659124724, 'num_iterations': 1286}. Best is trial 28 with value: 0.81943645773433.\u001b[0m\n",
      "\u001b[32m[I 2022-07-01 20:32:24,077]\u001b[0m Trial 35 finished with value: 0.8171362852213916 and parameters: {'boosting_type': 'goss', 'learning_rate': 0.0026304196158243335, 'max_bin': 781, 'max_depth': 7, 'num_leaves': 213, 'min_data_in_leaf': 61, 'feature_fraction': 0.9466242823079293, 'lambda_l1': 0.398442514713271, 'lambda_l2': 0.00013296211013655843, 'top_rate': 0.21694446686788232, 'other_rate': 0.10047972223478663, 'num_iterations': 1715}. Best is trial 28 with value: 0.81943645773433.\u001b[0m\n",
      "\u001b[32m[I 2022-07-01 20:32:24,936]\u001b[0m Trial 36 finished with value: 0.8085106382978723 and parameters: {'boosting_type': 'goss', 'learning_rate': 0.0038213117859009897, 'max_bin': 904, 'max_depth': 3, 'num_leaves': 238, 'min_data_in_leaf': 86, 'feature_fraction': 0.9058606063137308, 'lambda_l1': 2.3211539191316475, 'lambda_l2': 8.651184777849204e-06, 'top_rate': 0.4200467232381152, 'other_rate': 0.017691036463713145, 'num_iterations': 1155}. Best is trial 28 with value: 0.81943645773433.\u001b[0m\n",
      "\u001b[32m[I 2022-07-01 20:32:29,142]\u001b[0m Trial 37 finished with value: 0.8102357676825762 and parameters: {'boosting_type': 'goss', 'learning_rate': 0.0005050432996585038, 'max_bin': 597, 'max_depth': 11, 'num_leaves': 149, 'min_data_in_leaf': 51, 'feature_fraction': 0.8854427051134963, 'lambda_l1': 0.9915299422147215, 'lambda_l2': 0.004041445184858342, 'top_rate': 0.3067349285566551, 'other_rate': 0.17969043110524036, 'num_iterations': 1428}. Best is trial 28 with value: 0.81943645773433.\u001b[0m\n",
      "\u001b[32m[I 2022-07-01 20:32:30,818]\u001b[0m Trial 38 finished with value: 0.8096607245543416 and parameters: {'boosting_type': 'goss', 'learning_rate': 0.0017122098117550208, 'max_bin': 953, 'max_depth': 7, 'num_leaves': 181, 'min_data_in_leaf': 76, 'feature_fraction': 0.9574953098228063, 'lambda_l1': 4.5644738945085725, 'lambda_l2': 0.014373670156333816, 'top_rate': 0.2237307532192958, 'other_rate': 0.2583804218082881, 'num_iterations': 1084}. Best is trial 28 with value: 0.81943645773433.\u001b[0m\n",
      "\u001b[32m[I 2022-07-01 20:32:32,891]\u001b[0m Trial 39 finished with value: 0.8188614146060954 and parameters: {'boosting_type': 'goss', 'learning_rate': 0.009287744692552058, 'max_bin': 639, 'max_depth': 15, 'num_leaves': 138, 'min_data_in_leaf': 61, 'feature_fraction': 0.9294590464098704, 'lambda_l1': 0.22321806877138212, 'lambda_l2': 0.10320592067553157, 'top_rate': 0.31848013988067414, 'other_rate': 0.12403908529102485, 'num_iterations': 994}. Best is trial 28 with value: 0.81943645773433.\u001b[0m\n",
      "\u001b[32m[I 2022-07-01 20:32:35,488]\u001b[0m Trial 40 finished with value: 0.8148361127084531 and parameters: {'boosting_type': 'goss', 'learning_rate': 0.010870251347531314, 'max_bin': 649, 'max_depth': 15, 'num_leaves': 146, 'min_data_in_leaf': 51, 'feature_fraction': 0.7905399098919637, 'lambda_l1': 0.23741068386440162, 'lambda_l2': 0.06816517357931132, 'top_rate': 0.39472804236524534, 'other_rate': 0.07496657704345705, 'num_iterations': 973}. Best is trial 28 with value: 0.81943645773433.\u001b[0m\n",
      "\u001b[32m[I 2022-07-01 20:32:38,056]\u001b[0m Trial 41 finished with value: 0.8205865439907993 and parameters: {'boosting_type': 'goss', 'learning_rate': 0.0035077332452580455, 'max_bin': 759, 'max_depth': 11, 'num_leaves': 136, 'min_data_in_leaf': 58, 'feature_fraction': 0.9280143751873786, 'lambda_l1': 0.49909449262559297, 'lambda_l2': 0.010191767082551862, 'top_rate': 0.314166175045273, 'other_rate': 0.1337113096982039, 'num_iterations': 1103}. Best is trial 41 with value: 0.8205865439907993.\u001b[0m\n",
      "\u001b[32m[I 2022-07-01 20:32:40,670]\u001b[0m Trial 42 finished with value: 0.8177113283496262 and parameters: {'boosting_type': 'goss', 'learning_rate': 0.0031966169840930143, 'max_bin': 560, 'max_depth': 15, 'num_leaves': 113, 'min_data_in_leaf': 57, 'feature_fraction': 0.9618205158161884, 'lambda_l1': 0.5577793777324979, 'lambda_l2': 0.0012703318374619652, 'top_rate': 0.35063658557985733, 'other_rate': 0.13265300130102953, 'num_iterations': 1133}. Best is trial 41 with value: 0.8205865439907993.\u001b[0m\n",
      "\u001b[32m[I 2022-07-01 20:32:42,590]\u001b[0m Trial 43 finished with value: 0.81943645773433 and parameters: {'boosting_type': 'goss', 'learning_rate': 0.00405378348905415, 'max_bin': 739, 'max_depth': 11, 'num_leaves': 136, 'min_data_in_leaf': 71, 'feature_fraction': 0.9322837254822572, 'lambda_l1': 0.4269177767350341, 'lambda_l2': 0.021489818429572656, 'top_rate': 0.2964620138152458, 'other_rate': 0.12875336917796218, 'num_iterations': 1017}. Best is trial 41 with value: 0.8205865439907993.\u001b[0m\n",
      "\u001b[32m[I 2022-07-01 20:32:43,308]\u001b[0m Trial 44 finished with value: 0.8096607245543416 and parameters: {'boosting_type': 'goss', 'learning_rate': 0.0041625264482740235, 'max_bin': 720, 'max_depth': 3, 'num_leaves': 137, 'min_data_in_leaf': 71, 'feature_fraction': 0.934666936679292, 'lambda_l1': 0.4317600996505646, 'lambda_l2': 0.08739437239004885, 'top_rate': 0.4373990659945325, 'other_rate': 0.04708037157922018, 'num_iterations': 1021}. Best is trial 41 with value: 0.8205865439907993.\u001b[0m\n",
      "\u001b[32m[I 2022-07-01 20:32:45,128]\u001b[0m Trial 45 finished with value: 0.8200115008625647 and parameters: {'boosting_type': 'goss', 'learning_rate': 0.007395850153685093, 'max_bin': 862, 'max_depth': 11, 'num_leaves': 168, 'min_data_in_leaf': 85, 'feature_fraction': 0.8695820833041599, 'lambda_l1': 0.23923226735188666, 'lambda_l2': 0.020117513903304317, 'top_rate': 0.29963609346459913, 'other_rate': 0.12419579571364701, 'num_iterations': 922}. Best is trial 41 with value: 0.8205865439907993.\u001b[0m\n",
      "\u001b[32m[I 2022-07-01 20:32:46,311]\u001b[0m Trial 46 finished with value: 0.8159861989649224 and parameters: {'boosting_type': 'goss', 'learning_rate': 0.006443994590380182, 'max_bin': 1023, 'max_depth': 7, 'num_leaves': 164, 'min_data_in_leaf': 100, 'feature_fraction': 0.8702893900649314, 'lambda_l1': 0.0846643422815642, 'lambda_l2': 0.00032447067672001893, 'top_rate': 0.3727995560195223, 'other_rate': 0.0707647318055588, 'num_iterations': 878}. Best is trial 41 with value: 0.8205865439907993.\u001b[0m\n",
      "\u001b[32m[I 2022-07-01 20:32:47,760]\u001b[0m Trial 47 finished with value: 0.8205865439907993 and parameters: {'boosting_type': 'goss', 'learning_rate': 0.0079134516842519, 'max_bin': 758, 'max_depth': 15, 'num_leaves': 139, 'min_data_in_leaf': 89, 'feature_fraction': 0.9279193879348978, 'lambda_l1': 0.21250897538185476, 'lambda_l2': 0.024999957874265556, 'top_rate': 0.24591784514171444, 'other_rate': 0.13001700181171003, 'num_iterations': 942}. Best is trial 41 with value: 0.8205865439907993.\u001b[0m\n",
      "\u001b[32m[I 2022-07-01 20:32:48,962]\u001b[0m Trial 48 finished with value: 0.8171362852213916 and parameters: {'boosting_type': 'goss', 'learning_rate': 0.006905203498242068, 'max_bin': 749, 'max_depth': 11, 'num_leaves': 175, 'min_data_in_leaf': 94, 'feature_fraction': 0.9688355931243574, 'lambda_l1': 0.15429482069184755, 'lambda_l2': 0.02982653659689559, 'top_rate': 0.23381301034774743, 'other_rate': 0.1317548143811002, 'num_iterations': 766}. Best is trial 41 with value: 0.8205865439907993.\u001b[0m\n",
      "\u001b[32m[I 2022-07-01 20:32:50,413]\u001b[0m Trial 49 finished with value: 0.8136860264519838 and parameters: {'boosting_type': 'goss', 'learning_rate': 0.012163961515399089, 'max_bin': 862, 'max_depth': 11, 'num_leaves': 126, 'min_data_in_leaf': 82, 'feature_fraction': 0.831009063466165, 'lambda_l1': 0.32771591994087984, 'lambda_l2': 0.0018670494336329034, 'top_rate': 0.27402126011944283, 'other_rate': 0.1239062241686818, 'num_iterations': 903}. Best is trial 41 with value: 0.8205865439907993.\u001b[0m\n",
      "\u001b[32m[I 2022-07-01 20:32:52,102]\u001b[0m Trial 50 finished with value: 0.8171362852213916 and parameters: {'boosting_type': 'goss', 'learning_rate': 0.002812748240374342, 'max_bin': 877, 'max_depth': 15, 'num_leaves': 145, 'min_data_in_leaf': 88, 'feature_fraction': 0.8876279715567145, 'lambda_l1': 0.4797031782948176, 'lambda_l2': 0.004621875706919365, 'top_rate': 0.2597053612791657, 'other_rate': 0.20482879717201674, 'num_iterations': 792}. Best is trial 41 with value: 0.8205865439907993.\u001b[0m\n",
      "\u001b[32m[I 2022-07-01 20:32:53,728]\u001b[0m Trial 51 finished with value: 0.81943645773433 and parameters: {'boosting_type': 'goss', 'learning_rate': 0.009121627513656265, 'max_bin': 758, 'max_depth': 15, 'num_leaves': 135, 'min_data_in_leaf': 92, 'feature_fraction': 0.9299471367190253, 'lambda_l1': 0.20350247990726839, 'lambda_l2': 0.15928396009777712, 'top_rate': 0.2895336086154747, 'other_rate': 0.12343885566410848, 'num_iterations': 1012}. Best is trial 41 with value: 0.8205865439907993.\u001b[0m\n",
      "\u001b[32m[I 2022-07-01 20:32:55,400]\u001b[0m Trial 52 finished with value: 0.821161587119034 and parameters: {'boosting_type': 'goss', 'learning_rate': 0.0044501081963933455, 'max_bin': 759, 'max_depth': 15, 'num_leaves': 136, 'min_data_in_leaf': 92, 'feature_fraction': 0.9967960931438948, 'lambda_l1': 0.2746814645115933, 'lambda_l2': 0.31767270288632427, 'top_rate': 0.28035133977597293, 'other_rate': 0.07565218912023765, 'num_iterations': 1046}. Best is trial 52 with value: 0.821161587119034.\u001b[0m\n",
      "\u001b[32m[I 2022-07-01 20:32:57,090]\u001b[0m Trial 53 finished with value: 0.8223116733755031 and parameters: {'boosting_type': 'goss', 'learning_rate': 0.004073195221949446, 'max_bin': 759, 'max_depth': 15, 'num_leaves': 157, 'min_data_in_leaf': 92, 'feature_fraction': 0.998145062037777, 'lambda_l1': 0.17206471796865958, 'lambda_l2': 0.3230352315975117, 'top_rate': 0.2796854644716654, 'other_rate': 0.06560652284973645, 'num_iterations': 1049}. Best is trial 53 with value: 0.8223116733755031.\u001b[0m\n",
      "\u001b[32m[I 2022-07-01 20:32:58,283]\u001b[0m Trial 54 finished with value: 0.7694077055779184 and parameters: {'boosting_type': 'goss', 'learning_rate': 0.0047242081416656295, 'max_bin': 693, 'max_depth': 19, 'num_leaves': 155, 'min_data_in_leaf': 95, 'feature_fraction': 0.9853843020176238, 'lambda_l1': 0.28597089723330127, 'lambda_l2': 0.3312443317759051, 'top_rate': 0.24819985840682546, 'other_rate': 0.0009663937346031104, 'num_iterations': 924}. Best is trial 53 with value: 0.8223116733755031.\u001b[0m\n",
      "\u001b[32m[I 2022-07-01 20:32:59,663]\u001b[0m Trial 55 finished with value: 0.8102357676825762 and parameters: {'boosting_type': 'goss', 'learning_rate': 0.0035497156702812747, 'max_bin': 728, 'max_depth': 15, 'num_leaves': 161, 'min_data_in_leaf': 89, 'feature_fraction': 0.9922809080530322, 'lambda_l1': 0.1608196469174437, 'lambda_l2': 2.8618455357574772, 'top_rate': 0.19571670065861535, 'other_rate': 0.06415261150310297, 'num_iterations': 1053}. Best is trial 53 with value: 0.8223116733755031.\u001b[0m\n",
      "\u001b[32m[I 2022-07-01 20:33:01,670]\u001b[0m Trial 56 finished with value: 0.8200115008625647 and parameters: {'boosting_type': 'goss', 'learning_rate': 0.0052596465114061654, 'max_bin': 822, 'max_depth': 23, 'num_leaves': 111, 'min_data_in_leaf': 81, 'feature_fraction': 0.9983464345657118, 'lambda_l1': 0.08899557552631948, 'lambda_l2': 0.02463050288302095, 'top_rate': 0.27821942889345036, 'other_rate': 0.0928428291332165, 'num_iterations': 1138}. Best is trial 53 with value: 0.8223116733755031.\u001b[0m\n",
      "\u001b[32m[I 2022-07-01 20:33:03,734]\u001b[0m Trial 57 finished with value: 0.8142610695802185 and parameters: {'boosting_type': 'goss', 'learning_rate': 0.0023910432691850985, 'max_bin': 931, 'max_depth': 23, 'num_leaves': 111, 'min_data_in_leaf': 81, 'feature_fraction': 0.9774210952998041, 'lambda_l1': 0.10181052774920983, 'lambda_l2': 1.6040856013620206, 'top_rate': 0.26751257981659443, 'other_rate': 0.08339941669629607, 'num_iterations': 1119}. Best is trial 53 with value: 0.8223116733755031.\u001b[0m\n",
      "\u001b[32m[I 2022-07-01 20:33:05,047]\u001b[0m Trial 58 finished with value: 0.8159861989649224 and parameters: {'boosting_type': 'goss', 'learning_rate': 0.006673845683540868, 'max_bin': 815, 'max_depth': 27, 'num_leaves': 92, 'min_data_in_leaf': 97, 'feature_fraction': 0.9949588970348064, 'lambda_l1': 0.04335285327031322, 'lambda_l2': 0.37985074638060196, 'top_rate': 0.1469095760538937, 'other_rate': 0.04388984733371857, 'num_iterations': 1213}. Best is trial 53 with value: 0.8223116733755031.\u001b[0m\n",
      "\u001b[32m[I 2022-07-01 20:33:06,422]\u001b[0m Trial 59 finished with value: 0.816561242093157 and parameters: {'boosting_type': 'goss', 'learning_rate': 0.0053234938010164445, 'max_bin': 673, 'max_depth': 19, 'num_leaves': 190, 'min_data_in_leaf': 92, 'feature_fraction': 0.9697595493353397, 'lambda_l1': 0.17522473334750788, 'lambda_l2': 0.052869349679404445, 'top_rate': 0.24429789511724043, 'other_rate': 0.0956707122253175, 'num_iterations': 850}. Best is trial 53 with value: 0.8223116733755031.\u001b[0m\n",
      "\u001b[32m[I 2022-07-01 20:33:07,531]\u001b[0m Trial 60 finished with value: 0.8142610695802185 and parameters: {'boosting_type': 'goss', 'learning_rate': 0.007075543956177636, 'max_bin': 843, 'max_depth': 19, 'num_leaves': 120, 'min_data_in_leaf': 90, 'feature_fraction': 0.9743020232914831, 'lambda_l1': 0.2799531474702802, 'lambda_l2': 0.6084492692839609, 'top_rate': 0.2771474432564594, 'other_rate': 0.05507920505110894, 'num_iterations': 702}. Best is trial 53 with value: 0.8223116733755031.\u001b[0m\n",
      "\u001b[32m[I 2022-07-01 20:33:09,205]\u001b[0m Trial 61 finished with value: 0.8200115008625647 and parameters: {'boosting_type': 'goss', 'learning_rate': 0.012790436288304353, 'max_bin': 796, 'max_depth': 15, 'num_leaves': 105, 'min_data_in_leaf': 86, 'feature_fraction': 0.9996925693464179, 'lambda_l1': 0.13687390409246006, 'lambda_l2': 0.009115385735402545, 'top_rate': 0.32716958062004414, 'other_rate': 0.10222349323096304, 'num_iterations': 940}. Best is trial 53 with value: 0.8223116733755031.\u001b[0m\n",
      "\u001b[32m[I 2022-07-01 20:33:10,860]\u001b[0m Trial 62 finished with value: 0.816561242093157 and parameters: {'boosting_type': 'goss', 'learning_rate': 0.019955441957934316, 'max_bin': 878, 'max_depth': 15, 'num_leaves': 109, 'min_data_in_leaf': 84, 'feature_fraction': 0.9434989059159238, 'lambda_l1': 0.1278410900961024, 'lambda_l2': 0.030256340547819924, 'top_rate': 0.33471630140075015, 'other_rate': 0.10707051365773922, 'num_iterations': 947}. Best is trial 53 with value: 0.8223116733755031.\u001b[0m\n",
      "\u001b[32m[I 2022-07-01 20:33:12,208]\u001b[0m Trial 63 finished with value: 0.816561242093157 and parameters: {'boosting_type': 'goss', 'learning_rate': 0.012339654249724405, 'max_bin': 785, 'max_depth': 23, 'num_leaves': 95, 'min_data_in_leaf': 80, 'feature_fraction': 0.9934404125833262, 'lambda_l1': 0.08671479662220476, 'lambda_l2': 0.002973696722568224, 'top_rate': 0.33046292956270024, 'other_rate': 0.02343330689950473, 'num_iterations': 813}. Best is trial 53 with value: 0.8223116733755031.\u001b[0m\n",
      "\u001b[32m[I 2022-07-01 20:33:14,027]\u001b[0m Trial 64 finished with value: 0.8096607245543416 and parameters: {'boosting_type': 'goss', 'learning_rate': 0.03149242267241558, 'max_bin': 829, 'max_depth': 31, 'num_leaves': 82, 'min_data_in_leaf': 85, 'feature_fraction': 0.9988671925604686, 'lambda_l1': 0.058935557983456545, 'lambda_l2': 0.009533076824198168, 'top_rate': 0.2778459279851519, 'other_rate': 0.14984506612372847, 'num_iterations': 1070}. Best is trial 53 with value: 0.8223116733755031.\u001b[0m\n",
      "\u001b[32m[I 2022-07-01 20:33:15,478]\u001b[0m Trial 65 finished with value: 0.8096607245543416 and parameters: {'boosting_type': 'goss', 'learning_rate': 0.0023057059699577056, 'max_bin': 709, 'max_depth': 15, 'num_leaves': 103, 'min_data_in_leaf': 96, 'feature_fraction': 0.966719963763508, 'lambda_l1': 0.12464539428088606, 'lambda_l2': 0.0832702453538616, 'top_rate': 0.013680611651288949, 'other_rate': 0.09724902641248752, 'num_iterations': 1154}. Best is trial 53 with value: 0.8223116733755031.\u001b[0m\n",
      "\u001b[32m[I 2022-07-01 20:33:17,195]\u001b[0m Trial 66 finished with value: 0.81943645773433 and parameters: {'boosting_type': 'goss', 'learning_rate': 0.004757352399716201, 'max_bin': 765, 'max_depth': 19, 'num_leaves': 170, 'min_data_in_leaf': 74, 'feature_fraction': 0.7267909691313458, 'lambda_l1': 0.26302852282754435, 'lambda_l2': 1.637606559848412, 'top_rate': 0.2059548058441639, 'other_rate': 0.07848811138766669, 'num_iterations': 1187}. Best is trial 53 with value: 0.8223116733755031.\u001b[0m\n",
      "\u001b[32m[I 2022-07-01 20:33:18,601]\u001b[0m Trial 67 finished with value: 0.8188614146060954 and parameters: {'boosting_type': 'goss', 'learning_rate': 0.007531419431419805, 'max_bin': 896, 'max_depth': 15, 'num_leaves': 123, 'min_data_in_leaf': 87, 'feature_fraction': 0.8971860698007942, 'lambda_l1': 0.17794799858931024, 'lambda_l2': 0.165344326264111, 'top_rate': 0.17472044770413642, 'other_rate': 0.14611365088915207, 'num_iterations': 940}. Best is trial 53 with value: 0.8223116733755031.\u001b[0m\n",
      "\u001b[32m[I 2022-07-01 20:33:20,542]\u001b[0m Trial 68 finished with value: 0.8142610695802185 and parameters: {'boosting_type': 'goss', 'learning_rate': 0.003253042880512441, 'max_bin': 675, 'max_depth': 19, 'num_leaves': 143, 'min_data_in_leaf': 77, 'feature_fraction': 0.9434282651738318, 'lambda_l1': 0.3532229991386268, 'lambda_l2': 1.2443744073883187e-07, 'top_rate': 0.2500624652142515, 'other_rate': 0.11218192781266281, 'num_iterations': 1106}. Best is trial 53 with value: 0.8223116733755031.\u001b[0m\n",
      "\u001b[32m[I 2022-07-01 20:33:22,493]\u001b[0m Trial 69 finished with value: 0.816561242093157 and parameters: {'boosting_type': 'goss', 'learning_rate': 0.0013284728961958034, 'max_bin': 812, 'max_depth': 15, 'num_leaves': 151, 'min_data_in_leaf': 92, 'feature_fraction': 0.9990928870644311, 'lambda_l1': 0.6415687559367341, 'lambda_l2': 0.03870123468415846, 'top_rate': 0.32251404464723304, 'other_rate': 0.05311746233165324, 'num_iterations': 883}. Best is trial 53 with value: 0.8223116733755031.\u001b[0m\n",
      "\u001b[32m[I 2022-07-01 20:33:24,426]\u001b[0m Trial 70 finished with value: 0.8159861989649224 and parameters: {'boosting_type': 'goss', 'learning_rate': 0.018471656584738812, 'max_bin': 937, 'max_depth': 27, 'num_leaves': 128, 'min_data_in_leaf': 83, 'feature_fraction': 0.9743603500347358, 'lambda_l1': 0.07316751657495366, 'lambda_l2': 0.0007138850898296536, 'top_rate': 0.08197429412158108, 'other_rate': 0.3526175654589878, 'num_iterations': 1058}. Best is trial 53 with value: 0.8223116733755031.\u001b[0m\n",
      "\u001b[32m[I 2022-07-01 20:33:26,313]\u001b[0m Trial 71 finished with value: 0.8217366302472685 and parameters: {'boosting_type': 'goss', 'learning_rate': 0.009457329212124872, 'max_bin': 768, 'max_depth': 15, 'num_leaves': 135, 'min_data_in_leaf': 92, 'feature_fraction': 0.9219271802668088, 'lambda_l1': 0.20735485518703653, 'lambda_l2': 0.1863897425331536, 'top_rate': 0.2861390120984339, 'other_rate': 0.10801277747817763, 'num_iterations': 985}. Best is trial 53 with value: 0.8223116733755031.\u001b[0m\n",
      "\u001b[32m[I 2022-07-01 20:33:27,754]\u001b[0m Trial 72 finished with value: 0.821161587119034 and parameters: {'boosting_type': 'goss', 'learning_rate': 0.01086581226035215, 'max_bin': 763, 'max_depth': 11, 'num_leaves': 119, 'min_data_in_leaf': 98, 'feature_fraction': 0.9201382407635617, 'lambda_l1': 0.20874520033037192, 'lambda_l2': 0.3719996403014717, 'top_rate': 0.28920714291575855, 'other_rate': 0.08849044546245194, 'num_iterations': 997}. Best is trial 53 with value: 0.8223116733755031.\u001b[0m\n",
      "\u001b[32m[I 2022-07-01 20:33:29,020]\u001b[0m Trial 73 finished with value: 0.8188614146060954 and parameters: {'boosting_type': 'goss', 'learning_rate': 0.010329431741875677, 'max_bin': 757, 'max_depth': 11, 'num_leaves': 116, 'min_data_in_leaf': 99, 'feature_fraction': 0.8696257516580184, 'lambda_l1': 0.2254617020023844, 'lambda_l2': 0.8725304859842097, 'top_rate': 0.2889428820165502, 'other_rate': 0.030294595653003277, 'num_iterations': 982}. Best is trial 53 with value: 0.8223116733755031.\u001b[0m\n",
      "\u001b[32m[I 2022-07-01 20:33:30,578]\u001b[0m Trial 74 finished with value: 0.8171362852213916 and parameters: {'boosting_type': 'goss', 'learning_rate': 0.014241343438010041, 'max_bin': 701, 'max_depth': 15, 'num_leaves': 107, 'min_data_in_leaf': 97, 'feature_fraction': 0.6669281415641133, 'lambda_l1': 0.11503890942205079, 'lambda_l2': 0.2384024763655808, 'top_rate': 0.35745277506200057, 'other_rate': 0.08485379333483306, 'num_iterations': 1046}. Best is trial 53 with value: 0.8223116733755031.\u001b[0m\n",
      "\u001b[32m[I 2022-07-01 20:33:33,334]\u001b[0m Trial 75 finished with value: 0.8079355951696378 and parameters: {'boosting_type': 'goss', 'learning_rate': 0.024008303380094853, 'max_bin': 800, 'max_depth': 19, 'num_leaves': 74, 'min_data_in_leaf': 93, 'feature_fraction': 0.9226848073555759, 'lambda_l1': 0.18945921906711083, 'lambda_l2': 0.533075542712396, 'top_rate': 0.26106269101473795, 'other_rate': 0.47117944811318235, 'num_iterations': 1247}. Best is trial 53 with value: 0.8223116733755031.\u001b[0m\n",
      "\u001b[32m[I 2022-07-01 20:33:35,185]\u001b[0m Trial 76 finished with value: 0.821161587119034 and parameters: {'boosting_type': 'goss', 'learning_rate': 0.005486984098269706, 'max_bin': 651, 'max_depth': 11, 'num_leaves': 151, 'min_data_in_leaf': 90, 'feature_fraction': 0.8985222487186596, 'lambda_l1': 0.3635878005252188, 'lambda_l2': 0.1222391306605791, 'top_rate': 0.2337116326701292, 'other_rate': 0.24401859834858758, 'num_iterations': 1101}. Best is trial 53 with value: 0.8223116733755031.\u001b[0m\n",
      "\u001b[32m[I 2022-07-01 20:33:36,544]\u001b[0m Trial 77 finished with value: 0.8171362852213916 and parameters: {'boosting_type': 'goss', 'learning_rate': 0.005663041132367668, 'max_bin': 652, 'max_depth': 11, 'num_leaves': 165, 'min_data_in_leaf': 89, 'feature_fraction': 0.8489721584840545, 'lambda_l1': 0.4945614382732628, 'lambda_l2': 2.786613554403213, 'top_rate': 0.23147605779842642, 'other_rate': 0.2382866920266391, 'num_iterations': 832}. Best is trial 53 with value: 0.8223116733755031.\u001b[0m\n",
      "\u001b[32m[I 2022-07-01 20:33:38,221]\u001b[0m Trial 78 finished with value: 0.8159861989649224 and parameters: {'boosting_type': 'goss', 'learning_rate': 0.004173186650605655, 'max_bin': 623, 'max_depth': 7, 'num_leaves': 151, 'min_data_in_leaf': 98, 'feature_fraction': 0.9046512129053393, 'lambda_l1': 0.3642406687283343, 'lambda_l2': 0.30620075061433794, 'top_rate': 0.2966911905486991, 'other_rate': 0.2918441942763848, 'num_iterations': 1099}. Best is trial 53 with value: 0.8223116733755031.\u001b[0m\n",
      "\u001b[32m[I 2022-07-01 20:33:39,942]\u001b[0m Trial 79 finished with value: 0.8182863714778609 and parameters: {'boosting_type': 'goss', 'learning_rate': 0.005557748716765511, 'max_bin': 515, 'max_depth': 11, 'num_leaves': 141, 'min_data_in_leaf': 90, 'feature_fraction': 0.9535243326493744, 'lambda_l1': 0.09832664047273625, 'lambda_l2': 0.12596607893491366, 'top_rate': 0.20545907323700457, 'other_rate': 0.18902280929156706, 'num_iterations': 1162}. Best is trial 53 with value: 0.8223116733755031.\u001b[0m\n",
      "\u001b[32m[I 2022-07-01 20:33:42,117]\u001b[0m Trial 80 finished with value: 0.8228867165037378 and parameters: {'boosting_type': 'goss', 'learning_rate': 0.004506080201549637, 'max_bin': 717, 'max_depth': 11, 'num_leaves': 132, 'min_data_in_leaf': 79, 'feature_fraction': 0.9211254945502064, 'lambda_l1': 0.304713277527305, 'lambda_l2': 1.428440277811071, 'top_rate': 0.2377367455506245, 'other_rate': 0.3134599087939851, 'num_iterations': 1208}. Best is trial 80 with value: 0.8228867165037378.\u001b[0m\n",
      "\u001b[32m[I 2022-07-01 20:33:44,266]\u001b[0m Trial 81 finished with value: 0.816561242093157 and parameters: {'boosting_type': 'goss', 'learning_rate': 0.0031003949836454054, 'max_bin': 568, 'max_depth': 11, 'num_leaves': 133, 'min_data_in_leaf': 79, 'feature_fraction': 0.920162316885286, 'lambda_l1': 0.2978969346163568, 'lambda_l2': 1.399431861141576, 'top_rate': 0.2437356286632022, 'other_rate': 0.3217512382896514, 'num_iterations': 1194}. Best is trial 80 with value: 0.8228867165037378.\u001b[0m\n",
      "\u001b[32m[I 2022-07-01 20:33:46,531]\u001b[0m Trial 82 finished with value: 0.8188614146060954 and parameters: {'boosting_type': 'goss', 'learning_rate': 0.012485520837018801, 'max_bin': 725, 'max_depth': 15, 'num_leaves': 128, 'min_data_in_leaf': 95, 'feature_fraction': 0.8968002649219513, 'lambda_l1': 0.5864835025510088, 'lambda_l2': 0.44763591286421595, 'top_rate': 0.3134440495901031, 'other_rate': 0.3967260875332884, 'num_iterations': 970}. Best is trial 80 with value: 0.8228867165037378.\u001b[0m\n",
      "\u001b[32m[I 2022-07-01 20:33:48,227]\u001b[0m Trial 83 finished with value: 0.81943645773433 and parameters: {'boosting_type': 'goss', 'learning_rate': 0.010442297502247882, 'max_bin': 752, 'max_depth': 11, 'num_leaves': 181, 'min_data_in_leaf': 91, 'feature_fraction': 0.8782524119310143, 'lambda_l1': 0.2552708145728591, 'lambda_l2': 4.553622856758267, 'top_rate': 0.2247183223268794, 'other_rate': 0.26510799527508366, 'num_iterations': 1007}. Best is trial 80 with value: 0.8228867165037378.\u001b[0m\n",
      "\u001b[32m[I 2022-07-01 20:33:49,641]\u001b[0m Trial 84 finished with value: 0.81943645773433 and parameters: {'boosting_type': 'goss', 'learning_rate': 0.015328455555687785, 'max_bin': 781, 'max_depth': 7, 'num_leaves': 120, 'min_data_in_leaf': 87, 'feature_fraction': 0.9380251291098255, 'lambda_l1': 0.20129030110673501, 'lambda_l2': 0.04964677302778682, 'top_rate': 0.26375065897643973, 'other_rate': 0.27911098105795484, 'num_iterations': 1052}. Best is trial 80 with value: 0.8228867165037378.\u001b[0m\n",
      "\u001b[32m[I 2022-07-01 20:33:52,087]\u001b[0m Trial 85 finished with value: 0.816561242093157 and parameters: {'boosting_type': 'goss', 'learning_rate': 0.002164324973599029, 'max_bin': 700, 'max_depth': 11, 'num_leaves': 145, 'min_data_in_leaf': 74, 'feature_fraction': 0.9601660172167459, 'lambda_l1': 0.3209024668863813, 'lambda_l2': 0.7947033639881406, 'top_rate': 0.28323447302725463, 'other_rate': 0.318463030595163, 'num_iterations': 1137}. Best is trial 80 with value: 0.8228867165037378.\u001b[0m\n",
      "\u001b[32m[I 2022-07-01 20:33:53,616]\u001b[0m Trial 86 finished with value: 0.8182863714778609 and parameters: {'boosting_type': 'goss', 'learning_rate': 0.003935641051998713, 'max_bin': 666, 'max_depth': 15, 'num_leaves': 139, 'min_data_in_leaf': 100, 'feature_fraction': 0.5432033318215028, 'lambda_l1': 0.14794701220369175, 'lambda_l2': 0.18200228374134905, 'top_rate': 0.3313223210479923, 'other_rate': 0.34200871187575727, 'num_iterations': 862}. Best is trial 80 with value: 0.8228867165037378.\u001b[0m\n",
      "\u001b[32m[I 2022-07-01 20:33:55,724]\u001b[0m Trial 87 finished with value: 0.8228867165037378 and parameters: {'boosting_type': 'dart', 'learning_rate': 0.007599857365836955, 'max_bin': 603, 'max_depth': 11, 'num_leaves': 153, 'min_data_in_leaf': 94, 'feature_fraction': 0.8565129792498408, 'lambda_l1': 0.39738125579763356, 'lambda_l2': 0.015198375960323997, 'bagging_fraction': 0.9593720929039038, 'bagging_freq': 8, 'drop_rate': 0.001113546868084923, 'max_drop': 32, 'skip_drop': 0.0034550548960697314, 'num_iterations': 906}. Best is trial 80 with value: 0.8228867165037378.\u001b[0m\n",
      "\u001b[32m[I 2022-07-01 20:33:57,539]\u001b[0m Trial 88 finished with value: 0.8188614146060954 and parameters: {'boosting_type': 'dart', 'learning_rate': 0.008233285154273235, 'max_bin': 610, 'max_depth': 7, 'num_leaves': 156, 'min_data_in_leaf': 94, 'feature_fraction': 0.8600217752620001, 'lambda_l1': 0.6973895120055112, 'lambda_l2': 0.10080252023850658, 'bagging_fraction': 0.9776968218954293, 'bagging_freq': 10, 'drop_rate': 0.0014815828271599637, 'max_drop': 33, 'skip_drop': 0.012225037584759681, 'num_iterations': 897}. Best is trial 80 with value: 0.8228867165037378.\u001b[0m\n",
      "\u001b[32m[I 2022-07-01 20:33:59,696]\u001b[0m Trial 89 finished with value: 0.8205865439907993 and parameters: {'boosting_type': 'dart', 'learning_rate': 0.006244003294176938, 'max_bin': 628, 'max_depth': 7, 'num_leaves': 149, 'min_data_in_leaf': 96, 'feature_fraction': 0.8212477475734845, 'lambda_l1': 0.4744388662405768, 'lambda_l2': 0.2812272152879881, 'bagging_fraction': 0.8975177995725591, 'bagging_freq': 8, 'drop_rate': 0.0010408757696625417, 'max_drop': 30, 'skip_drop': 0.0048585747627891696, 'num_iterations': 1280}. Best is trial 80 with value: 0.8228867165037378.\u001b[0m\n",
      "\u001b[32m[I 2022-07-01 20:34:01,979]\u001b[0m Trial 90 finished with value: 0.821161587119034 and parameters: {'boosting_type': 'dart', 'learning_rate': 0.008374848109981025, 'max_bin': 581, 'max_depth': 7, 'num_leaves': 161, 'min_data_in_leaf': 96, 'feature_fraction': 0.8171957300416386, 'lambda_l1': 0.4138632669091309, 'lambda_l2': 0.2688402994700934, 'bagging_fraction': 0.9025203140321071, 'bagging_freq': 8, 'drop_rate': 0.001068613200038557, 'max_drop': 30, 'skip_drop': 0.019984763087073754, 'num_iterations': 1375}. Best is trial 80 with value: 0.8228867165037378.\u001b[0m\n",
      "\u001b[32m[I 2022-07-01 20:34:04,560]\u001b[0m Trial 91 finished with value: 0.81943645773433 and parameters: {'boosting_type': 'dart', 'learning_rate': 0.006039747697316885, 'max_bin': 554, 'max_depth': 7, 'num_leaves': 175, 'min_data_in_leaf': 96, 'feature_fraction': 0.7920518851504823, 'lambda_l1': 0.40501080836812164, 'lambda_l2': 2.5100527010859968, 'bagging_fraction': 0.9020364889516911, 'bagging_freq': 8, 'drop_rate': 0.001070198629652339, 'max_drop': 30, 'skip_drop': 0.03499625479415754, 'num_iterations': 1412}. Best is trial 80 with value: 0.8228867165037378.\u001b[0m\n",
      "\u001b[32m[I 2022-07-01 20:34:05,527]\u001b[0m Trial 92 finished with value: 0.8079355951696378 and parameters: {'boosting_type': 'dart', 'learning_rate': 0.004782348431372547, 'max_bin': 483, 'max_depth': 3, 'num_leaves': 161, 'min_data_in_leaf': 98, 'feature_fraction': 0.8202600337233218, 'lambda_l1': 0.4917863951055388, 'lambda_l2': 0.3921661867203836, 'bagging_fraction': 0.8973499969102507, 'bagging_freq': 8, 'drop_rate': 0.002771885287201182, 'max_drop': 45, 'skip_drop': 0.14827147210244962, 'num_iterations': 1273}. Best is trial 80 with value: 0.8228867165037378.\u001b[0m\n",
      "\u001b[32m[I 2022-07-01 20:34:07,937]\u001b[0m Trial 93 finished with value: 0.8223116733755031 and parameters: {'boosting_type': 'dart', 'learning_rate': 0.00873360633753835, 'max_bin': 593, 'max_depth': 7, 'num_leaves': 147, 'min_data_in_leaf': 94, 'feature_fraction': 0.8354463329188899, 'lambda_l1': 0.9755753089335406, 'lambda_l2': 0.24876259945818477, 'bagging_fraction': 0.8663731778005415, 'bagging_freq': 7, 'drop_rate': 0.002700766908701769, 'max_drop': 29, 'skip_drop': 0.074164316695679, 'num_iterations': 1348}. Best is trial 80 with value: 0.8228867165037378.\u001b[0m\n",
      "\u001b[32m[I 2022-07-01 20:34:10,608]\u001b[0m Trial 94 finished with value: 0.8188614146060954 and parameters: {'boosting_type': 'dart', 'learning_rate': 0.008328156859657753, 'max_bin': 590, 'max_depth': 7, 'num_leaves': 155, 'min_data_in_leaf': 93, 'feature_fraction': 0.766900787316185, 'lambda_l1': 1.8700117774869296, 'lambda_l2': 0.7176781471467303, 'bagging_fraction': 0.8385102409109448, 'bagging_freq': 7, 'drop_rate': 0.002782315771112983, 'max_drop': 24, 'skip_drop': 0.22701348314697525, 'num_iterations': 1373}. Best is trial 80 with value: 0.8228867165037378.\u001b[0m\n",
      "\u001b[32m[I 2022-07-01 20:34:14,503]\u001b[0m Trial 95 finished with value: 0.8148361127084531 and parameters: {'boosting_type': 'dart', 'learning_rate': 0.010168952083560914, 'max_bin': 577, 'max_depth': 11, 'num_leaves': 131, 'min_data_in_leaf': 91, 'feature_fraction': 0.8385879900241149, 'lambda_l1': 1.10455578303083, 'lambda_l2': 0.0636436907647478, 'bagging_fraction': 0.9915664343795194, 'bagging_freq': 7, 'drop_rate': 0.004690657482577412, 'max_drop': 37, 'skip_drop': 0.07829423190917015, 'num_iterations': 1477}. Best is trial 80 with value: 0.8228867165037378.\u001b[0m\n",
      "\u001b[32m[I 2022-07-01 20:34:16,754]\u001b[0m Trial 96 finished with value: 0.8131109833237493 and parameters: {'boosting_type': 'dart', 'learning_rate': 0.004264626843316246, 'max_bin': 532, 'max_depth': 7, 'num_leaves': 145, 'min_data_in_leaf': 100, 'feature_fraction': 0.8846335519549006, 'lambda_l1': 0.8528102691924493, 'lambda_l2': 1.1561227051132072, 'bagging_fraction': 0.9481983471641541, 'bagging_freq': 7, 'drop_rate': 0.0020436190497926878, 'max_drop': 20, 'skip_drop': 0.18482469053776251, 'num_iterations': 1324}. Best is trial 80 with value: 0.8228867165037378.\u001b[0m\n",
      "\u001b[32m[I 2022-07-01 20:34:19,445]\u001b[0m Trial 97 finished with value: 0.821161587119034 and parameters: {'boosting_type': 'dart', 'learning_rate': 0.006439493762472997, 'max_bin': 615, 'max_depth': 7, 'num_leaves': 148, 'min_data_in_leaf': 95, 'feature_fraction': 0.806585734018379, 'lambda_l1': 0.41767231072722183, 'lambda_l2': 0.2926361853668676, 'bagging_fraction': 0.9228961739770967, 'bagging_freq': 9, 'drop_rate': 0.001042086189422329, 'max_drop': 30, 'skip_drop': 0.015461815104336715, 'num_iterations': 1398}. Best is trial 80 with value: 0.8228867165037378.\u001b[0m\n",
      "\u001b[32m[I 2022-07-01 20:34:20,487]\u001b[0m Trial 98 finished with value: 0.8142610695802185 and parameters: {'boosting_type': 'dart', 'learning_rate': 0.01658954770485394, 'max_bin': 598, 'max_depth': 3, 'num_leaves': 174, 'min_data_in_leaf': 94, 'feature_fraction': 0.802487645554905, 'lambda_l1': 0.7481558270433808, 'lambda_l2': 1.9071688378288083, 'bagging_fraction': 0.9294770951506512, 'bagging_freq': 9, 'drop_rate': 0.0016928998720813467, 'max_drop': 29, 'skip_drop': 0.07304943336759712, 'num_iterations': 1462}. Best is trial 80 with value: 0.8228867165037378.\u001b[0m\n",
      "\u001b[32m[I 2022-07-01 20:34:23,025]\u001b[0m Trial 99 finished with value: 0.821161587119034 and parameters: {'boosting_type': 'dart', 'learning_rate': 0.00958432618445297, 'max_bin': 654, 'max_depth': -1, 'num_leaves': 158, 'min_data_in_leaf': 88, 'feature_fraction': 0.77173060939603, 'lambda_l1': 0.3459987720225552, 'lambda_l2': 6.027970989863266, 'bagging_fraction': 0.8188239231911735, 'bagging_freq': 9, 'drop_rate': 0.0010377913054219327, 'max_drop': 44, 'skip_drop': 0.11601661872435325, 'num_iterations': 1215}. Best is trial 80 with value: 0.8228867165037378.\u001b[0m\n",
      "\u001b[32m[I 2022-07-01 20:34:25,635]\u001b[0m Trial 100 finished with value: 0.8159861989649224 and parameters: {'boosting_type': 'dart', 'learning_rate': 0.011567801418826195, 'max_bin': 682, 'max_depth': -1, 'num_leaves': 161, 'min_data_in_leaf': 88, 'feature_fraction': 0.7692013825257493, 'lambda_l1': 1.6084538638276946, 'lambda_l2': 4.817469266669341, 'bagging_fraction': 0.8324856402177101, 'bagging_freq': 9, 'drop_rate': 0.005448188914048299, 'max_drop': 44, 'skip_drop': 0.11610321743986628, 'num_iterations': 1215}. Best is trial 80 with value: 0.8228867165037378.\u001b[0m\n",
      "\u001b[32m[I 2022-07-01 20:34:28,303]\u001b[0m Trial 101 finished with value: 0.8234617596319724 and parameters: {'boosting_type': 'dart', 'learning_rate': 0.009439467924453661, 'max_bin': 650, 'max_depth': -1, 'num_leaves': 152, 'min_data_in_leaf': 98, 'feature_fraction': 0.8079428350554541, 'lambda_l1': 0.3254918916821921, 'lambda_l2': 9.239830662760198, 'bagging_fraction': 0.835446517591231, 'bagging_freq': 9, 'drop_rate': 0.0010194738664041103, 'max_drop': 35, 'skip_drop': 0.04976293489731179, 'num_iterations': 1353}. Best is trial 101 with value: 0.8234617596319724.\u001b[0m\n",
      "\u001b[32m[I 2022-07-01 20:34:31,331]\u001b[0m Trial 102 finished with value: 0.8228867165037378 and parameters: {'boosting_type': 'dart', 'learning_rate': 0.009533665437736545, 'max_bin': 657, 'max_depth': -1, 'num_leaves': 167, 'min_data_in_leaf': 98, 'feature_fraction': 0.8311930336705067, 'lambda_l1': 0.3681276489532061, 'lambda_l2': 8.0452771722078, 'bagging_fraction': 0.8493282346004971, 'bagging_freq': 8, 'drop_rate': 0.0022871024038251977, 'max_drop': 35, 'skip_drop': 0.06850327988307413, 'num_iterations': 1512}. Best is trial 101 with value: 0.8234617596319724.\u001b[0m\n",
      "\u001b[32m[I 2022-07-01 20:34:34,454]\u001b[0m Trial 103 finished with value: 0.8188614146060954 and parameters: {'boosting_type': 'dart', 'learning_rate': 0.007817281344101938, 'max_bin': 535, 'max_depth': -1, 'num_leaves': 153, 'min_data_in_leaf': 98, 'feature_fraction': 0.8320042937701403, 'lambda_l1': 0.29443595959216484, 'lambda_l2': 8.015221701006151, 'bagging_fraction': 0.872728172009824, 'bagging_freq': 8, 'drop_rate': 0.002259747917572716, 'max_drop': 34, 'skip_drop': 0.054321903614704244, 'num_iterations': 1571}. Best is trial 101 with value: 0.8234617596319724.\u001b[0m\n",
      "\u001b[32m[I 2022-07-01 20:34:38,299]\u001b[0m Trial 104 finished with value: 0.8171362852213916 and parameters: {'boosting_type': 'dart', 'learning_rate': 0.014274140852977077, 'max_bin': 716, 'max_depth': -1, 'num_leaves': 188, 'min_data_in_leaf': 93, 'feature_fraction': 0.8367487153760816, 'lambda_l1': 0.37363917634726174, 'lambda_l2': 8.759027512234383, 'bagging_fraction': 0.7382487190617644, 'bagging_freq': 7, 'drop_rate': 0.0014866303318741417, 'max_drop': 49, 'skip_drop': 0.3223835317470876, 'num_iterations': 1638}. Best is trial 101 with value: 0.8234617596319724.\u001b[0m\n",
      "\u001b[32m[I 2022-07-01 20:34:40,401]\u001b[0m Trial 105 finished with value: 0.8096607245543416 and parameters: {'boosting_type': 'dart', 'learning_rate': 0.008936511541522422, 'max_bin': 640, 'max_depth': 3, 'num_leaves': 169, 'min_data_in_leaf': 100, 'feature_fraction': 0.8018276480129194, 'lambda_l1': 0.253611866232741, 'lambda_l2': 3.876601542666571, 'bagging_fraction': 0.8579043364733433, 'bagging_freq': 8, 'drop_rate': 0.008124836884378707, 'max_drop': 27, 'skip_drop': 0.1883209055863279, 'num_iterations': 1523}. Best is trial 101 with value: 0.8234617596319724.\u001b[0m\n",
      "\u001b[32m[I 2022-07-01 20:34:43,678]\u001b[0m Trial 106 finished with value: 0.8228867165037378 and parameters: {'boosting_type': 'dart', 'learning_rate': 0.009772078505576962, 'max_bin': 622, 'max_depth': -1, 'num_leaves': 165, 'min_data_in_leaf': 95, 'feature_fraction': 0.8086271550668255, 'lambda_l1': 0.42365240635757334, 'lambda_l2': 5.39635926908535, 'bagging_fraction': 0.8151972438086103, 'bagging_freq': 9, 'drop_rate': 0.0010052953272551186, 'max_drop': 36, 'skip_drop': 0.006593539715437214, 'num_iterations': 1351}. Best is trial 101 with value: 0.8234617596319724.\u001b[0m\n",
      "\u001b[32m[I 2022-07-01 20:34:46,270]\u001b[0m Trial 107 finished with value: 0.8217366302472685 and parameters: {'boosting_type': 'dart', 'learning_rate': 0.009991375294210326, 'max_bin': 658, 'max_depth': -1, 'num_leaves': 165, 'min_data_in_leaf': 98, 'feature_fraction': 0.7500388780023864, 'lambda_l1': 0.1897000912414497, 'lambda_l2': 6.3105558685972465, 'bagging_fraction': 0.8175399217678847, 'bagging_freq': 10, 'drop_rate': 0.0014521356154668715, 'max_drop': 42, 'skip_drop': 0.10904581443557038, 'num_iterations': 1333}. Best is trial 101 with value: 0.8234617596319724.\u001b[0m\n",
      "\u001b[32m[I 2022-07-01 20:34:50,053]\u001b[0m Trial 108 finished with value: 0.8228867165037378 and parameters: {'boosting_type': 'dart', 'learning_rate': 0.009789419690372548, 'max_bin': 657, 'max_depth': -1, 'num_leaves': 199, 'min_data_in_leaf': 91, 'feature_fraction': 0.7104229299306138, 'lambda_l1': 0.3228142654543148, 'lambda_l2': 6.203863780465924, 'bagging_fraction': 0.8174581038563303, 'bagging_freq': 10, 'drop_rate': 0.0014611666699307923, 'max_drop': 41, 'skip_drop': 0.1163917859363791, 'num_iterations': 1790}. Best is trial 101 with value: 0.8234617596319724.\u001b[0m\n",
      "\u001b[32m[I 2022-07-01 20:34:54,316]\u001b[0m Trial 109 finished with value: 0.816561242093157 and parameters: {'boosting_type': 'dart', 'learning_rate': 0.023258284741243744, 'max_bin': 650, 'max_depth': -1, 'num_leaves': 207, 'min_data_in_leaf': 87, 'feature_fraction': 0.7344665186446637, 'lambda_l1': 0.1718247865559119, 'lambda_l2': 6.006499330119659, 'bagging_fraction': 0.8125521883134149, 'bagging_freq': 10, 'drop_rate': 0.001433811449940602, 'max_drop': 41, 'skip_drop': 0.10266192774870288, 'num_iterations': 1786}. Best is trial 101 with value: 0.8234617596319724.\u001b[0m\n",
      "\u001b[32m[I 2022-07-01 20:34:56,420]\u001b[0m Trial 110 finished with value: 0.816561242093157 and parameters: {'boosting_type': 'dart', 'learning_rate': 0.006933473872520652, 'max_bin': 666, 'max_depth': -1, 'num_leaves': 196, 'min_data_in_leaf': 91, 'feature_fraction': 0.6829223346798753, 'lambda_l1': 2.9932063420105415, 'lambda_l2': 1.959348921467481, 'bagging_fraction': 0.7471043523292796, 'bagging_freq': 10, 'drop_rate': 0.002062125107907624, 'max_drop': 37, 'skip_drop': 0.06292818710964343, 'num_iterations': 1305}. Best is trial 101 with value: 0.8234617596319724.\u001b[0m\n",
      "\u001b[32m[I 2022-07-01 20:35:00,806]\u001b[0m Trial 111 finished with value: 0.81943645773433 and parameters: {'boosting_type': 'dart', 'learning_rate': 0.010907718174031545, 'max_bin': 597, 'max_depth': -1, 'num_leaves': 181, 'min_data_in_leaf': 97, 'feature_fraction': 0.7492114947675552, 'lambda_l1': 0.23185031059291641, 'lambda_l2': 2.8623812389399803, 'bagging_fraction': 0.8646693322805007, 'bagging_freq': 9, 'drop_rate': 0.0013606883789335218, 'max_drop': 36, 'skip_drop': 0.0011595707617603618, 'num_iterations': 1949}. Best is trial 101 with value: 0.8234617596319724.\u001b[0m\n",
      "\u001b[32m[I 2022-07-01 20:35:04,659]\u001b[0m Trial 112 finished with value: 0.8246118458884416 and parameters: {'boosting_type': 'dart', 'learning_rate': 0.01327606536602627, 'max_bin': 630, 'max_depth': -1, 'num_leaves': 174, 'min_data_in_leaf': 93, 'feature_fraction': 0.697905324226143, 'lambda_l1': 0.33056327009616127, 'lambda_l2': 8.951225682953366, 'bagging_fraction': 0.8178969672666456, 'bagging_freq': 9, 'drop_rate': 0.0018117842695597203, 'max_drop': 42, 'skip_drop': 0.12685105477462957, 'num_iterations': 1885}. Best is trial 112 with value: 0.8246118458884416.\u001b[0m\n",
      "\u001b[32m[I 2022-07-01 20:35:08,206]\u001b[0m Trial 113 finished with value: 0.8234617596319724 and parameters: {'boosting_type': 'dart', 'learning_rate': 0.013133868472856669, 'max_bin': 687, 'max_depth': -1, 'num_leaves': 224, 'min_data_in_leaf': 92, 'feature_fraction': 0.7029061846755073, 'lambda_l1': 0.5816891132134752, 'lambda_l2': 9.624545534314997, 'bagging_fraction': 0.7921128026531853, 'bagging_freq': 10, 'drop_rate': 0.0018250976658983039, 'max_drop': 41, 'skip_drop': 0.1533459810596743, 'num_iterations': 1769}. Best is trial 112 with value: 0.8246118458884416.\u001b[0m\n",
      "\u001b[32m[I 2022-07-01 20:35:11,903]\u001b[0m Trial 114 finished with value: 0.8257619321449109 and parameters: {'boosting_type': 'dart', 'learning_rate': 0.013544198580448797, 'max_bin': 621, 'max_depth': -1, 'num_leaves': 221, 'min_data_in_leaf': 95, 'feature_fraction': 0.6926884558017552, 'lambda_l1': 0.5697649588578647, 'lambda_l2': 9.86285958483178, 'bagging_fraction': 0.8009573816998915, 'bagging_freq': 10, 'drop_rate': 0.0018732307846491998, 'max_drop': 41, 'skip_drop': 0.1313901833253807, 'num_iterations': 1873}. Best is trial 114 with value: 0.8257619321449109.\u001b[0m\n",
      "\u001b[32m[I 2022-07-01 20:35:15,788]\u001b[0m Trial 115 finished with value: 0.8228867165037378 and parameters: {'boosting_type': 'dart', 'learning_rate': 0.020474100477148528, 'max_bin': 622, 'max_depth': -1, 'num_leaves': 240, 'min_data_in_leaf': 94, 'feature_fraction': 0.6875698704539651, 'lambda_l1': 0.6172961053223006, 'lambda_l2': 9.982758958012278, 'bagging_fraction': 0.7905878550899961, 'bagging_freq': 10, 'drop_rate': 0.0019186212463044717, 'max_drop': 40, 'skip_drop': 0.15330527698050764, 'num_iterations': 1898}. Best is trial 114 with value: 0.8257619321449109.\u001b[0m\n",
      "\u001b[32m[I 2022-07-01 20:35:19,789]\u001b[0m Trial 116 finished with value: 0.8246118458884416 and parameters: {'boosting_type': 'dart', 'learning_rate': 0.01587086794625733, 'max_bin': 632, 'max_depth': -1, 'num_leaves': 243, 'min_data_in_leaf': 95, 'feature_fraction': 0.7030082447058276, 'lambda_l1': 0.97272921454542, 'lambda_l2': 3.8205044027347608, 'bagging_fraction': 0.7953287389351695, 'bagging_freq': 10, 'drop_rate': 0.0019531445331946173, 'max_drop': 50, 'skip_drop': 0.15357340940915143, 'num_iterations': 1899}. Best is trial 114 with value: 0.8257619321449109.\u001b[0m\n",
      "\u001b[32m[I 2022-07-01 20:35:23,710]\u001b[0m Trial 117 finished with value: 0.8200115008625647 and parameters: {'boosting_type': 'dart', 'learning_rate': 0.029089372450068846, 'max_bin': 627, 'max_depth': -1, 'num_leaves': 245, 'min_data_in_leaf': 94, 'feature_fraction': 0.7009707179249041, 'lambda_l1': 1.0572754752323694, 'lambda_l2': 9.00501411103968, 'bagging_fraction': 0.7978279937855526, 'bagging_freq': 10, 'drop_rate': 0.001984447174255176, 'max_drop': 40, 'skip_drop': 0.17353922632207927, 'num_iterations': 1893}. Best is trial 114 with value: 0.8257619321449109.\u001b[0m\n",
      "\u001b[32m[I 2022-07-01 20:35:28,189]\u001b[0m Trial 118 finished with value: 0.8108108108108109 and parameters: {'boosting_type': 'dart', 'learning_rate': 0.042675832736083046, 'max_bin': 682, 'max_depth': -1, 'num_leaves': 231, 'min_data_in_leaf': 85, 'feature_fraction': 0.6386744442706512, 'lambda_l1': 0.5760083168649279, 'lambda_l2': 9.884101115065729, 'bagging_fraction': 0.7623533965416428, 'bagging_freq': 10, 'drop_rate': 0.0016266794666964209, 'max_drop': 53, 'skip_drop': 0.14365856989134582, 'num_iterations': 2000}. Best is trial 114 with value: 0.8257619321449109.\u001b[0m\n",
      "\u001b[32m[I 2022-07-01 20:35:32,252]\u001b[0m Trial 119 finished with value: 0.8228867165037378 and parameters: {'boosting_type': 'dart', 'learning_rate': 0.018110963468570856, 'max_bin': 553, 'max_depth': -1, 'num_leaves': 220, 'min_data_in_leaf': 95, 'feature_fraction': 0.6923114707965675, 'lambda_l1': 0.7692801396252769, 'lambda_l2': 4.203098346140594, 'bagging_fraction': 0.842343208609517, 'bagging_freq': 9, 'drop_rate': 0.0026477391427541714, 'max_drop': 49, 'skip_drop': 0.06957234315461312, 'num_iterations': 1804}. Best is trial 114 with value: 0.8257619321449109.\u001b[0m\n",
      "\u001b[32m[I 2022-07-01 20:35:36,293]\u001b[0m Trial 120 finished with value: 0.8154111558366878 and parameters: {'boosting_type': 'dart', 'learning_rate': 0.020775745940418196, 'max_bin': 561, 'max_depth': -1, 'num_leaves': 218, 'min_data_in_leaf': 96, 'feature_fraction': 0.6834113899502139, 'lambda_l1': 0.6409556240904863, 'lambda_l2': 3.582574519085876, 'bagging_fraction': 0.8374129972353891, 'bagging_freq': 9, 'drop_rate': 0.0018503457344469381, 'max_drop': 48, 'skip_drop': 0.057745320085729246, 'num_iterations': 1833}. Best is trial 114 with value: 0.8257619321449109.\u001b[0m\n",
      "\u001b[32m[I 2022-07-01 20:35:40,993]\u001b[0m Trial 121 finished with value: 0.8246118458884416 and parameters: {'boosting_type': 'dart', 'learning_rate': 0.01976846358302098, 'max_bin': 632, 'max_depth': -1, 'num_leaves': 253, 'min_data_in_leaf': 92, 'feature_fraction': 0.7074526049381755, 'lambda_l1': 0.80093393939575, 'lambda_l2': 4.105678732456185, 'bagging_fraction': 0.7989403003158617, 'bagging_freq': 10, 'drop_rate': 0.003472830135807084, 'max_drop': 34, 'skip_drop': 0.14967547276262128, 'num_iterations': 1757}. Best is trial 114 with value: 0.8257619321449109.\u001b[0m\n",
      "\u001b[32m[I 2022-07-01 20:35:44,939]\u001b[0m Trial 122 finished with value: 0.8228867165037378 and parameters: {'boosting_type': 'dart', 'learning_rate': 0.018693275117536528, 'max_bin': 632, 'max_depth': -1, 'num_leaves': 243, 'min_data_in_leaf': 90, 'feature_fraction': 0.7035553116824568, 'lambda_l1': 0.7815149930598284, 'lambda_l2': 4.065824640624356, 'bagging_fraction': 0.7960431923160078, 'bagging_freq': 10, 'drop_rate': 0.0025574075865999395, 'max_drop': 34, 'skip_drop': 0.16107381698089834, 'num_iterations': 1758}. Best is trial 114 with value: 0.8257619321449109.\u001b[0m\n",
      "\u001b[32m[I 2022-07-01 20:35:48,956]\u001b[0m Trial 123 finished with value: 0.8246118458884416 and parameters: {'boosting_type': 'dart', 'learning_rate': 0.018398913426720436, 'max_bin': 633, 'max_depth': -1, 'num_leaves': 255, 'min_data_in_leaf': 90, 'feature_fraction': 0.7039458362024883, 'lambda_l1': 0.8117562047452562, 'lambda_l2': 4.230896144656075, 'bagging_fraction': 0.7954292785183925, 'bagging_freq': 10, 'drop_rate': 0.003372541162818447, 'max_drop': 39, 'skip_drop': 0.15267662402337856, 'num_iterations': 1749}. Best is trial 114 with value: 0.8257619321449109.\u001b[0m\n",
      "\u001b[32m[I 2022-07-01 20:35:52,793]\u001b[0m Trial 124 finished with value: 0.8246118458884416 and parameters: {'boosting_type': 'dart', 'learning_rate': 0.02707155890227313, 'max_bin': 624, 'max_depth': -1, 'num_leaves': 251, 'min_data_in_leaf': 90, 'feature_fraction': 0.7161700785385142, 'lambda_l1': 0.9052475732613389, 'lambda_l2': 9.831338061689255, 'bagging_fraction': 0.7998039009358682, 'bagging_freq': 10, 'drop_rate': 0.0035864192681189454, 'max_drop': 39, 'skip_drop': 0.1487041591380773, 'num_iterations': 1733}. Best is trial 114 with value: 0.8257619321449109.\u001b[0m\n",
      "\u001b[32m[I 2022-07-01 20:35:54,204]\u001b[0m Trial 125 finished with value: 0.8102357676825762 and parameters: {'boosting_type': 'dart', 'learning_rate': 0.01632287038866524, 'max_bin': 497, 'max_depth': 3, 'num_leaves': 233, 'min_data_in_leaf': 99, 'feature_fraction': 0.7264646257983312, 'lambda_l1': 0.8566486675105036, 'lambda_l2': 2.2481000904016675, 'bagging_fraction': 0.7556808512157941, 'bagging_freq': 9, 'drop_rate': 0.0044374016668093435, 'max_drop': 35, 'skip_drop': 0.21311880327621568, 'num_iterations': 1673}. Best is trial 114 with value: 0.8257619321449109.\u001b[0m\n",
      "\u001b[32m[I 2022-07-01 20:35:58,096]\u001b[0m Trial 126 finished with value: 0.8263369752731455 and parameters: {'boosting_type': 'dart', 'learning_rate': 0.0215514387123189, 'max_bin': 606, 'max_depth': -1, 'num_leaves': 254, 'min_data_in_leaf': 83, 'feature_fraction': 0.6867858039259799, 'lambda_l1': 1.2958477064215796, 'lambda_l2': 9.962071585018016, 'bagging_fraction': 0.7794927394735025, 'bagging_freq': 10, 'drop_rate': 0.0035871970989789673, 'max_drop': 40, 'skip_drop': 0.12407511063578705, 'num_iterations': 1824}. Best is trial 126 with value: 0.8263369752731455.\u001b[0m\n",
      "\u001b[32m[I 2022-07-01 20:36:02,214]\u001b[0m Trial 127 finished with value: 0.8159861989649224 and parameters: {'boosting_type': 'dart', 'learning_rate': 0.03990389303334547, 'max_bin': 616, 'max_depth': -1, 'num_leaves': 256, 'min_data_in_leaf': 84, 'feature_fraction': 0.6663780431806775, 'lambda_l1': 1.2865220717299508, 'lambda_l2': 6.390787873689601, 'bagging_fraction': 0.8095003688923664, 'bagging_freq': 10, 'drop_rate': 0.0033507858390207277, 'max_drop': 39, 'skip_drop': 0.12529616278255407, 'num_iterations': 1728}. Best is trial 126 with value: 0.8263369752731455.\u001b[0m\n",
      "\u001b[32m[I 2022-07-01 20:36:03,744]\u001b[0m Trial 128 finished with value: 0.8177113283496262 and parameters: {'boosting_type': 'dart', 'learning_rate': 0.035196437203114266, 'max_bin': 680, 'max_depth': 3, 'num_leaves': 251, 'min_data_in_leaf': 82, 'feature_fraction': 0.7126068417491489, 'lambda_l1': 1.6851020269840902, 'lambda_l2': 9.872547087753004, 'bagging_fraction': 0.7173272747958108, 'bagging_freq': 10, 'drop_rate': 0.00391648974869185, 'max_drop': 42, 'skip_drop': 0.14442830148194566, 'num_iterations': 1864}. Best is trial 126 with value: 0.8263369752731455.\u001b[0m\n",
      "\u001b[32m[I 2022-07-01 20:36:08,120]\u001b[0m Trial 129 finished with value: 0.8177113283496262 and parameters: {'boosting_type': 'dart', 'learning_rate': 0.026985579875430606, 'max_bin': 548, 'max_depth': -1, 'num_leaves': 246, 'min_data_in_leaf': 88, 'feature_fraction': 0.6893592540762753, 'lambda_l1': 1.2284170698230976, 'lambda_l2': 3.676273704737704, 'bagging_fraction': 0.7726764397776268, 'bagging_freq': 10, 'drop_rate': 0.003263112805318281, 'max_drop': 51, 'skip_drop': 0.17044322990886512, 'num_iterations': 1932}. Best is trial 126 with value: 0.8263369752731455.\u001b[0m\n",
      "\u001b[32m[I 2022-07-01 20:36:12,141]\u001b[0m Trial 130 finished with value: 0.8205865439907993 and parameters: {'boosting_type': 'dart', 'learning_rate': 0.019332855274445095, 'max_bin': 637, 'max_depth': -1, 'num_leaves': 223, 'min_data_in_leaf': 90, 'feature_fraction': 0.7009949224444811, 'lambda_l1': 0.7770186451762492, 'lambda_l2': 4.3805385669725085, 'bagging_fraction': 0.7923469035069408, 'bagging_freq': 10, 'drop_rate': 0.002591827922830958, 'max_drop': 63, 'skip_drop': 0.20963568624308732, 'num_iterations': 1784}. Best is trial 126 with value: 0.8263369752731455.\u001b[0m\n",
      "\u001b[32m[I 2022-07-01 20:36:16,154]\u001b[0m Trial 131 finished with value: 0.8159861989649224 and parameters: {'boosting_type': 'dart', 'learning_rate': 0.021458809635293234, 'max_bin': 696, 'max_depth': -1, 'num_leaves': 238, 'min_data_in_leaf': 90, 'feature_fraction': 0.6544785100571291, 'lambda_l1': 1.0036873636471586, 'lambda_l2': 1.4252119008310589, 'bagging_fraction': 0.7893820783527016, 'bagging_freq': 10, 'drop_rate': 0.002236353713589212, 'max_drop': 40, 'skip_drop': 0.1547163374776947, 'num_iterations': 1745}. Best is trial 126 with value: 0.8263369752731455.\u001b[0m\n",
      "\u001b[32m[I 2022-07-01 20:36:20,410]\u001b[0m Trial 132 finished with value: 0.81943645773433 and parameters: {'boosting_type': 'dart', 'learning_rate': 0.027516960384568495, 'max_bin': 570, 'max_depth': -1, 'num_leaves': 243, 'min_data_in_leaf': 86, 'feature_fraction': 0.6891281724074166, 'lambda_l1': 0.7084347128853148, 'lambda_l2': 4.455992513150651, 'bagging_fraction': 0.7790008948955495, 'bagging_freq': 9, 'drop_rate': 0.0031869636979567424, 'max_drop': 45, 'skip_drop': 0.13981299999920205, 'num_iterations': 1837}. Best is trial 126 with value: 0.8263369752731455.\u001b[0m\n",
      "\u001b[32m[I 2022-07-01 20:36:21,489]\u001b[0m Trial 133 finished with value: 0.8136860264519838 and parameters: {'boosting_type': 'dart', 'learning_rate': 0.013410286782254833, 'max_bin': 602, 'max_depth': 3, 'num_leaves': 251, 'min_data_in_leaf': 92, 'feature_fraction': 0.7211537910274141, 'lambda_l1': 0.5679763828402163, 'lambda_l2': 2.7472727533839123, 'bagging_fraction': 0.8187100681229414, 'bagging_freq': 10, 'drop_rate': 0.0013028506200576076, 'max_drop': 33, 'skip_drop': 0.09997640331135657, 'num_iterations': 1630}. Best is trial 126 with value: 0.8263369752731455.\u001b[0m\n",
      "\u001b[32m[I 2022-07-01 20:36:25,465]\u001b[0m Trial 134 finished with value: 0.8154111558366878 and parameters: {'boosting_type': 'dart', 'learning_rate': 0.015481869690620537, 'max_bin': 613, 'max_depth': -1, 'num_leaves': 255, 'min_data_in_leaf': 94, 'feature_fraction': 0.6769419739514067, 'lambda_l1': 0.5338073729835355, 'lambda_l2': 7.151672537636123, 'bagging_fraction': 0.7698692386037838, 'bagging_freq': 10, 'drop_rate': 0.001222607023213195, 'max_drop': 37, 'skip_drop': 0.0312824238609719, 'num_iterations': 1894}. Best is trial 126 with value: 0.8263369752731455.\u001b[0m\n",
      "\u001b[32m[I 2022-07-01 20:36:29,266]\u001b[0m Trial 135 finished with value: 0.8217366302472685 and parameters: {'boosting_type': 'dart', 'learning_rate': 0.018069027984313323, 'max_bin': 635, 'max_depth': -1, 'num_leaves': 239, 'min_data_in_leaf': 97, 'feature_fraction': 0.7366489251481301, 'lambda_l1': 1.4335718857992876, 'lambda_l2': 3.2559663113043804, 'bagging_fraction': 0.8440248113480944, 'bagging_freq': 10, 'drop_rate': 0.0022530685188528426, 'max_drop': 33, 'skip_drop': 0.08292249579245123, 'num_iterations': 1754}. Best is trial 126 with value: 0.8263369752731455.\u001b[0m\n",
      "\u001b[32m[I 2022-07-01 20:36:33,741]\u001b[0m Trial 136 finished with value: 0.8246118458884416 and parameters: {'boosting_type': 'dart', 'learning_rate': 0.025613437207485892, 'max_bin': 590, 'max_depth': -1, 'num_leaves': 215, 'min_data_in_leaf': 89, 'feature_fraction': 0.705993952947584, 'lambda_l1': 0.8656776551832118, 'lambda_l2': 4.899812747601071, 'bagging_fraction': 0.8126952413034602, 'bagging_freq': 9, 'drop_rate': 0.004008179697073477, 'max_drop': 43, 'skip_drop': 0.1280282878624489, 'num_iterations': 1794}. Best is trial 126 with value: 0.8263369752731455.\u001b[0m\n",
      "\u001b[32m[I 2022-07-01 20:36:38,133]\u001b[0m Trial 137 finished with value: 0.8223116733755031 and parameters: {'boosting_type': 'dart', 'learning_rate': 0.03562507877045042, 'max_bin': 581, 'max_depth': -1, 'num_leaves': 231, 'min_data_in_leaf': 93, 'feature_fraction': 0.6742452711966123, 'lambda_l1': 0.9330678244328885, 'lambda_l2': 9.54420028203879, 'bagging_fraction': 0.8028638953343515, 'bagging_freq': 9, 'drop_rate': 0.0041103830847608915, 'max_drop': 38, 'skip_drop': 0.042862952875080684, 'num_iterations': 1898}. Best is trial 126 with value: 0.8263369752731455.\u001b[0m\n",
      "\u001b[32m[I 2022-07-01 20:36:43,136]\u001b[0m Trial 138 finished with value: 0.8056354226566993 and parameters: {'boosting_type': 'dart', 'learning_rate': 0.05231165133803872, 'max_bin': 632, 'max_depth': -1, 'num_leaves': 219, 'min_data_in_leaf': 90, 'feature_fraction': 0.7077315008268489, 'lambda_l1': 1.0971059928862397, 'lambda_l2': 2.07323684815234, 'bagging_fraction': 0.7975781896071951, 'bagging_freq': 10, 'drop_rate': 0.002738016017836813, 'max_drop': 43, 'skip_drop': 0.16670623624890915, 'num_iterations': 1812}. Best is trial 126 with value: 0.8263369752731455.\u001b[0m\n",
      "\u001b[32m[I 2022-07-01 20:36:44,400]\u001b[0m Trial 139 finished with value: 0.8136860264519838 and parameters: {'boosting_type': 'dart', 'learning_rate': 0.023778451899108537, 'max_bin': 515, 'max_depth': 3, 'num_leaves': 215, 'min_data_in_leaf': 86, 'feature_fraction': 0.6511220705165662, 'lambda_l1': 0.6474517978301377, 'lambda_l2': 1.0953900922481368, 'bagging_fraction': 0.8502454017100791, 'bagging_freq': 9, 'drop_rate': 0.0038392162746414067, 'max_drop': 46, 'skip_drop': 0.2489581246068428, 'num_iterations': 1686}. Best is trial 126 with value: 0.8263369752731455.\u001b[0m\n",
      "\u001b[32m[I 2022-07-01 20:36:48,291]\u001b[0m Trial 140 finished with value: 0.8154111558366878 and parameters: {'boosting_type': 'dart', 'learning_rate': 0.018184048877288275, 'max_bin': 552, 'max_depth': -1, 'num_leaves': 224, 'min_data_in_leaf': 89, 'feature_fraction': 0.7005314331873861, 'lambda_l1': 0.8152475784351977, 'lambda_l2': 4.372618061401196, 'bagging_fraction': 0.8286772795602613, 'bagging_freq': 10, 'drop_rate': 0.0017971608261537456, 'max_drop': 40, 'skip_drop': 0.13109550331347847, 'num_iterations': 1796}. Best is trial 126 with value: 0.8263369752731455.\u001b[0m\n",
      "\u001b[32m[I 2022-07-01 20:36:51,853]\u001b[0m Trial 141 finished with value: 0.8154111558366878 and parameters: {'boosting_type': 'dart', 'learning_rate': 0.026063614717632994, 'max_bin': 662, 'max_depth': -1, 'num_leaves': 249, 'min_data_in_leaf': 92, 'feature_fraction': 0.7144450343721969, 'lambda_l1': 1.9618261486093655, 'lambda_l2': 6.630817776557719, 'bagging_fraction': 0.7981409918222113, 'bagging_freq': 10, 'drop_rate': 0.0017773427593100765, 'max_drop': 39, 'skip_drop': 0.1965565287320245, 'num_iterations': 1761}. Best is trial 126 with value: 0.8263369752731455.\u001b[0m\n",
      "\u001b[32m[I 2022-07-01 20:36:55,229]\u001b[0m Trial 142 finished with value: 0.8217366302472685 and parameters: {'boosting_type': 'dart', 'learning_rate': 0.013356430218892303, 'max_bin': 596, 'max_depth': -1, 'num_leaves': 243, 'min_data_in_leaf': 91, 'feature_fraction': 0.7381899942290032, 'lambda_l1': 0.6364221951901671, 'lambda_l2': 9.893440725619554, 'bagging_fraction': 0.7785555296973881, 'bagging_freq': 10, 'drop_rate': 0.002389038317505939, 'max_drop': 32, 'skip_drop': 0.09909425140807801, 'num_iterations': 1708}. Best is trial 126 with value: 0.8263369752731455.\u001b[0m\n",
      "\u001b[32m[I 2022-07-01 20:36:59,799]\u001b[0m Trial 143 finished with value: 0.8217366302472685 and parameters: {'boosting_type': 'dart', 'learning_rate': 0.02160589171115083, 'max_bin': 617, 'max_depth': -1, 'num_leaves': 209, 'min_data_in_leaf': 95, 'feature_fraction': 0.6927380497352051, 'lambda_l1': 0.77767713736022, 'lambda_l2': 4.827104091638925, 'bagging_fraction': 0.8258951746763401, 'bagging_freq': 9, 'drop_rate': 0.0030616261667120717, 'max_drop': 58, 'skip_drop': 0.1604497892370916, 'num_iterations': 1964}. Best is trial 126 with value: 0.8263369752731455.\u001b[0m\n",
      "\u001b[32m[I 2022-07-01 20:37:03,650]\u001b[0m Trial 144 finished with value: 0.8096607245543416 and parameters: {'boosting_type': 'dart', 'learning_rate': 0.017232593742097985, 'max_bin': 585, 'max_depth': -1, 'num_leaves': 200, 'min_data_in_leaf': 88, 'feature_fraction': 0.7001285498472388, 'lambda_l1': 0.45031049292278735, 'lambda_l2': 3.3688733645529663, 'bagging_fraction': 0.7317559752649311, 'bagging_freq': 9, 'drop_rate': 0.001213946203594413, 'max_drop': 35, 'skip_drop': 0.12070468164548516, 'num_iterations': 1858}. Best is trial 126 with value: 0.8263369752731455.\u001b[0m\n",
      "\u001b[32m[I 2022-07-01 20:37:05,366]\u001b[0m Trial 145 finished with value: 0.8079355951696378 and parameters: {'boosting_type': 'dart', 'learning_rate': 0.015176628791902926, 'max_bin': 535, 'max_depth': 3, 'num_leaves': 247, 'min_data_in_leaf': 83, 'feature_fraction': 0.7214938990943194, 'lambda_l1': 1.1570748777659223, 'lambda_l2': 1.824771719627551, 'bagging_fraction': 0.6800241355672052, 'bagging_freq': 9, 'drop_rate': 0.00521056290988235, 'max_drop': 47, 'skip_drop': 0.03692120141566137, 'num_iterations': 1833}. Best is trial 126 with value: 0.8263369752731455.\u001b[0m\n",
      "\u001b[32m[I 2022-07-01 20:37:10,252]\u001b[0m Trial 146 finished with value: 0.8148361127084531 and parameters: {'boosting_type': 'dart', 'learning_rate': 0.013667866110652268, 'max_bin': 706, 'max_depth': -1, 'num_leaves': 237, 'min_data_in_leaf': 96, 'feature_fraction': 0.678969494329385, 'lambda_l1': 0.5142558591358469, 'lambda_l2': 6.384133275655071, 'bagging_fraction': 0.8870964147267327, 'bagging_freq': 8, 'drop_rate': 0.006210301434801551, 'max_drop': 38, 'skip_drop': 0.08082798847093173, 'num_iterations': 1909}. Best is trial 126 with value: 0.8263369752731455.\u001b[0m\n",
      "\u001b[32m[I 2022-07-01 20:37:14,437]\u001b[0m Trial 147 finished with value: 0.8154111558366878 and parameters: {'boosting_type': 'dart', 'learning_rate': 0.029708376554119263, 'max_bin': 613, 'max_depth': -1, 'num_leaves': 228, 'min_data_in_leaf': 94, 'feature_fraction': 0.6923716031205974, 'lambda_l1': 0.9192814538562672, 'lambda_l2': 2.3905089885934108, 'bagging_fraction': 0.7611925497983077, 'bagging_freq': 9, 'drop_rate': 0.003529714389726949, 'max_drop': 43, 'skip_drop': 0.17934227197775085, 'num_iterations': 1821}. Best is trial 126 with value: 0.8263369752731455.\u001b[0m\n",
      "\u001b[32m[I 2022-07-01 20:37:18,421]\u001b[0m Trial 148 finished with value: 0.8159861989649224 and parameters: {'boosting_type': 'dart', 'learning_rate': 0.020852029029572904, 'max_bin': 637, 'max_depth': -1, 'num_leaves': 211, 'min_data_in_leaf': 91, 'feature_fraction': 0.7118639528518325, 'lambda_l1': 1.3740712851594614, 'lambda_l2': 5.0118507909457675, 'bagging_fraction': 0.8103792453810079, 'bagging_freq': 10, 'drop_rate': 0.0016393309415416453, 'max_drop': 41, 'skip_drop': 0.1317312692964822, 'num_iterations': 1866}. Best is trial 126 with value: 0.8263369752731455.\u001b[0m\n",
      "\u001b[32m[I 2022-07-01 20:37:27,668]\u001b[0m Trial 149 finished with value: 0.8096607245543416 and parameters: {'boosting_type': 'dart', 'learning_rate': 0.03227863818406309, 'max_bin': 575, 'max_depth': -1, 'num_leaves': 240, 'min_data_in_leaf': 18, 'feature_fraction': 0.6689436214507978, 'lambda_l1': 0.7123061158878953, 'lambda_l2': 3.091863405575024, 'bagging_fraction': 0.7865170785082297, 'bagging_freq': 10, 'drop_rate': 0.0027018336507717063, 'max_drop': 44, 'skip_drop': 0.096243003883319, 'num_iterations': 1772}. Best is trial 126 with value: 0.8263369752731455.\u001b[0m\n",
      "\u001b[32m[I 2022-07-01 20:37:28,857]\u001b[0m Trial 150 finished with value: 0.8205865439907993 and parameters: {'boosting_type': 'dart', 'learning_rate': 0.024203277625552046, 'max_bin': 735, 'max_depth': 3, 'num_leaves': 256, 'min_data_in_leaf': 79, 'feature_fraction': 0.7305905311207508, 'lambda_l1': 0.5704039578810778, 'lambda_l2': 1.2946293456797986, 'bagging_fraction': 0.8342194477237524, 'bagging_freq': 10, 'drop_rate': 0.0012298279473965479, 'max_drop': 51, 'skip_drop': 0.12393899273467124, 'num_iterations': 1727}. Best is trial 126 with value: 0.8263369752731455.\u001b[0m\n",
      "\u001b[32m[I 2022-07-01 20:37:32,599]\u001b[0m Trial 151 finished with value: 0.81943645773433 and parameters: {'boosting_type': 'dart', 'learning_rate': 0.019060725198134457, 'max_bin': 650, 'max_depth': -1, 'num_leaves': 234, 'min_data_in_leaf': 98, 'feature_fraction': 0.7078842127080113, 'lambda_l1': 0.8760063754931773, 'lambda_l2': 7.133693984529266, 'bagging_fraction': 0.8035873671866863, 'bagging_freq': 10, 'drop_rate': 0.002045268696775348, 'max_drop': 32, 'skip_drop': 0.14703163871923472, 'num_iterations': 1810}. Best is trial 126 with value: 0.8263369752731455.\u001b[0m\n",
      "\u001b[32m[I 2022-07-01 20:37:35,959]\u001b[0m Trial 152 finished with value: 0.8200115008625647 and parameters: {'boosting_type': 'dart', 'learning_rate': 0.012204149947605561, 'max_bin': 671, 'max_depth': -1, 'num_leaves': 252, 'min_data_in_leaf': 89, 'feature_fraction': 0.7171248451395876, 'lambda_l1': 0.3304570616718874, 'lambda_l2': 4.004952431615765, 'bagging_fraction': 0.6333172533584299, 'bagging_freq': 6, 'drop_rate': 0.0029232417807458022, 'max_drop': 27, 'skip_drop': 0.08703816452181655, 'num_iterations': 1702}. Best is trial 126 with value: 0.8263369752731455.\u001b[0m\n",
      "\u001b[32m[I 2022-07-01 20:37:39,897]\u001b[0m Trial 153 finished with value: 0.8228867165037378 and parameters: {'boosting_type': 'dart', 'learning_rate': 0.015610924154351266, 'max_bin': 688, 'max_depth': -1, 'num_leaves': 228, 'min_data_in_leaf': 100, 'feature_fraction': 0.6406291104456445, 'lambda_l1': 0.4524759273825569, 'lambda_l2': 5.998071911468764, 'bagging_fraction': 0.8509990995812451, 'bagging_freq': 9, 'drop_rate': 0.001926281168335052, 'max_drop': 36, 'skip_drop': 0.051219465870382466, 'num_iterations': 1856}. Best is trial 126 with value: 0.8263369752731455.\u001b[0m\n",
      "\u001b[32m[I 2022-07-01 20:37:40,759]\u001b[0m Trial 154 finished with value: 0.8062104657849338 and parameters: {'boosting_type': 'dart', 'learning_rate': 0.0001326831346612909, 'max_bin': 685, 'max_depth': -1, 'num_leaves': 227, 'min_data_in_leaf': 100, 'feature_fraction': 0.6103533614919494, 'lambda_l1': 0.41947703258900537, 'lambda_l2': 5.9416450649467425, 'bagging_fraction': 0.8775342604929396, 'bagging_freq': 8, 'drop_rate': 0.0010208447212675484, 'max_drop': 36, 'skip_drop': 0.026754722726193933, 'num_iterations': 596}. Best is trial 126 with value: 0.8263369752731455.\u001b[0m\n",
      "\u001b[32m[I 2022-07-01 20:37:45,869]\u001b[0m Trial 155 finished with value: 0.8205865439907993 and parameters: {'boosting_type': 'dart', 'learning_rate': 0.01713940392656261, 'max_bin': 603, 'max_depth': -1, 'num_leaves': 246, 'min_data_in_leaf': 95, 'feature_fraction': 0.6927537937136892, 'lambda_l1': 0.7575164155980062, 'lambda_l2': 2.199414223459661, 'bagging_fraction': 0.7839357705754191, 'bagging_freq': 9, 'drop_rate': 0.002555245387989648, 'max_drop': 38, 'skip_drop': 0.19523907603454257, 'num_iterations': 1979}. Best is trial 126 with value: 0.8263369752731455.\u001b[0m\n",
      "\u001b[32m[I 2022-07-01 20:37:49,768]\u001b[0m Trial 156 finished with value: 0.8246118458884416 and parameters: {'boosting_type': 'dart', 'learning_rate': 0.011804245865224829, 'max_bin': 633, 'max_depth': -1, 'num_leaves': 202, 'min_data_in_leaf': 93, 'feature_fraction': 0.7473578390173505, 'lambda_l1': 0.6218738081660774, 'lambda_l2': 9.29487222686135, 'bagging_fraction': 0.8119905691866416, 'bagging_freq': 10, 'drop_rate': 0.0016027499769456159, 'max_drop': 42, 'skip_drop': 0.15336719503719956, 'num_iterations': 1929}. Best is trial 126 with value: 0.8263369752731455.\u001b[0m\n",
      "\u001b[32m[I 2022-07-01 20:37:55,673]\u001b[0m Trial 157 finished with value: 0.8067855089131685 and parameters: {'boosting_type': 'dart', 'learning_rate': 0.011441362381569595, 'max_bin': 656, 'max_depth': -1, 'num_leaves': 202, 'min_data_in_leaf': 92, 'feature_fraction': 0.7453389293151902, 'lambda_l1': 0.3191977413660761, 'lambda_l2': 9.525890301743996, 'bagging_fraction': 0.8209782505180528, 'bagging_freq': 10, 'drop_rate': 0.014974863079714358, 'max_drop': 42, 'skip_drop': 0.1186279219670138, 'num_iterations': 1928}. Best is trial 126 with value: 0.8263369752731455.\u001b[0m\n",
      "\u001b[32m[I 2022-07-01 20:37:57,016]\u001b[0m Trial 158 finished with value: 0.8113858539390454 and parameters: {'boosting_type': 'dart', 'learning_rate': 0.01583412348402408, 'max_bin': 717, 'max_depth': 3, 'num_leaves': 216, 'min_data_in_leaf': 96, 'feature_fraction': 0.6427915524887061, 'lambda_l1': 0.4680866209247048, 'lambda_l2': 5.764016228521389, 'bagging_fraction': 0.8455115179313172, 'bagging_freq': 9, 'drop_rate': 0.001937261544425972, 'max_drop': 46, 'skip_drop': 0.05459620098783028, 'num_iterations': 1850}. Best is trial 126 with value: 0.8263369752731455.\u001b[0m\n",
      "\u001b[32m[I 2022-07-01 20:38:00,909]\u001b[0m Trial 159 finished with value: 0.81943645773433 and parameters: {'boosting_type': 'dart', 'learning_rate': 0.012480752509609675, 'max_bin': 644, 'max_depth': -1, 'num_leaves': 220, 'min_data_in_leaf': 97, 'feature_fraction': 0.7029022846498609, 'lambda_l1': 0.9901598789508286, 'lambda_l2': 1.2777934703860796e-06, 'bagging_fraction': 0.8304314029306034, 'bagging_freq': 9, 'drop_rate': 0.002434547085262009, 'max_drop': 50, 'skip_drop': 0.398368695439775, 'num_iterations': 1743}. Best is trial 126 with value: 0.8263369752731455.\u001b[0m\n",
      "\u001b[32m[I 2022-07-01 20:38:03,726]\u001b[0m Trial 160 finished with value: 0.821161587119034 and parameters: {'boosting_type': 'dart', 'learning_rate': 0.014396799325295473, 'max_bin': 77, 'max_depth': -1, 'num_leaves': 196, 'min_data_in_leaf': 93, 'feature_fraction': 0.7243522090254988, 'lambda_l1': 1.1719116068225197, 'lambda_l2': 0.00012140791894213464, 'bagging_fraction': 0.8066525679193076, 'bagging_freq': 10, 'drop_rate': 0.0014985692750872936, 'max_drop': 31, 'skip_drop': 0.1603700841388537, 'num_iterations': 1652}. Best is trial 126 with value: 0.8263369752731455.\u001b[0m\n",
      "\u001b[32m[I 2022-07-01 20:38:08,150]\u001b[0m Trial 161 finished with value: 0.8177113283496262 and parameters: {'boosting_type': 'dart', 'learning_rate': 0.011069757053940895, 'max_bin': 666, 'max_depth': -1, 'num_leaves': 212, 'min_data_in_leaf': 65, 'feature_fraction': 0.7887832357571377, 'lambda_l1': 0.28045379404944903, 'lambda_l2': 3.1844119996701084, 'bagging_fraction': 0.8192447310895876, 'bagging_freq': 8, 'drop_rate': 0.0015540278711851307, 'max_drop': 41, 'skip_drop': 0.006768529190911407, 'num_iterations': 1613}. Best is trial 126 with value: 0.8263369752731455.\u001b[0m\n",
      "\u001b[32m[I 2022-07-01 20:38:12,729]\u001b[0m Trial 162 finished with value: 0.8171362852213916 and parameters: {'boosting_type': 'dart', 'learning_rate': 0.022792194503449815, 'max_bin': 619, 'max_depth': -1, 'num_leaves': 252, 'min_data_in_leaf': 95, 'feature_fraction': 0.7794590109801464, 'lambda_l1': 0.6351447028090521, 'lambda_l2': 8.861984984964963, 'bagging_fraction': 0.8538382173273195, 'bagging_freq': 10, 'drop_rate': 0.003641725602965911, 'max_drop': 39, 'skip_drop': 0.3178015439723678, 'num_iterations': 1922}. Best is trial 126 with value: 0.8263369752731455.\u001b[0m\n",
      "\u001b[32m[I 2022-07-01 20:38:16,963]\u001b[0m Trial 163 finished with value: 0.8154111558366878 and parameters: {'boosting_type': 'dart', 'learning_rate': 0.02026561966734853, 'max_bin': 627, 'max_depth': -1, 'num_leaves': 240, 'min_data_in_leaf': 90, 'feature_fraction': 0.684782885661716, 'lambda_l1': 0.5216531729908253, 'lambda_l2': 4.541580007577464, 'bagging_fraction': 0.7926140610864941, 'bagging_freq': 10, 'drop_rate': 0.0021758562616945084, 'max_drop': 35, 'skip_drop': 0.14686540203169735, 'num_iterations': 1884}. Best is trial 126 with value: 0.8263369752731455.\u001b[0m\n",
      "\u001b[32m[I 2022-07-01 20:38:20,758]\u001b[0m Trial 164 finished with value: 0.8159861989649224 and parameters: {'boosting_type': 'dart', 'learning_rate': 0.012611287345026423, 'max_bin': 588, 'max_depth': -1, 'num_leaves': 207, 'min_data_in_leaf': 93, 'feature_fraction': 0.7614037981688235, 'lambda_l1': 0.39804994824395706, 'lambda_l2': 3.4451107225723816, 'bagging_fraction': 0.8104345699574007, 'bagging_freq': 10, 'drop_rate': 0.0011191410094506268, 'max_drop': 34, 'skip_drop': 0.4339684298419155, 'num_iterations': 1803}. Best is trial 126 with value: 0.8263369752731455.\u001b[0m\n",
      "\u001b[32m[I 2022-07-01 20:38:25,176]\u001b[0m Trial 165 finished with value: 0.8154111558366878 and parameters: {'boosting_type': 'dart', 'learning_rate': 0.009564395444757965, 'max_bin': 643, 'max_depth': -1, 'num_leaves': 185, 'min_data_in_leaf': 87, 'feature_fraction': 0.850029250380373, 'lambda_l1': 0.3645573223463313, 'lambda_l2': 1.0784022804591001e-08, 'bagging_fraction': 0.7480839467287347, 'bagging_freq': 10, 'drop_rate': 0.0013441427414708827, 'max_drop': 37, 'skip_drop': 0.10592096389544231, 'num_iterations': 1779}. Best is trial 126 with value: 0.8263369752731455.\u001b[0m\n",
      "\u001b[32m[I 2022-07-01 20:38:28,994]\u001b[0m Trial 166 finished with value: 0.8171362852213916 and parameters: {'boosting_type': 'dart', 'learning_rate': 0.02528605529053511, 'max_bin': 569, 'max_depth': -1, 'num_leaves': 222, 'min_data_in_leaf': 98, 'feature_fraction': 0.6608115660077682, 'lambda_l1': 0.5931251879211082, 'lambda_l2': 9.933226943189547, 'bagging_fraction': 0.7785337416477993, 'bagging_freq': 9, 'drop_rate': 0.0016817305690383275, 'max_drop': 43, 'skip_drop': 0.07671715478632617, 'num_iterations': 1958}. Best is trial 126 with value: 0.8263369752731455.\u001b[0m\n",
      "\u001b[32m[I 2022-07-01 20:38:33,059]\u001b[0m Trial 167 finished with value: 0.8234617596319724 and parameters: {'boosting_type': 'dart', 'learning_rate': 0.017748268768970496, 'max_bin': 627, 'max_depth': -1, 'num_leaves': 243, 'min_data_in_leaf': 92, 'feature_fraction': 0.6948889394637587, 'lambda_l1': 0.6774422970132205, 'lambda_l2': 5.505445704513454, 'bagging_fraction': 0.8299306074253096, 'bagging_freq': 10, 'drop_rate': 0.003064516154894847, 'max_drop': 39, 'skip_drop': 0.17387525865289807, 'num_iterations': 1757}. Best is trial 126 with value: 0.8263369752731455.\u001b[0m\n",
      "\u001b[32m[I 2022-07-01 20:38:37,363]\u001b[0m Trial 168 finished with value: 0.821161587119034 and parameters: {'boosting_type': 'dart', 'learning_rate': 0.007474065555007728, 'max_bin': 665, 'max_depth': -1, 'num_leaves': 173, 'min_data_in_leaf': 85, 'feature_fraction': 0.7162690075763221, 'lambda_l1': 0.32030208253277204, 'lambda_l2': 9.888359508933478e-06, 'bagging_fraction': 0.9506779872175504, 'bagging_freq': 10, 'drop_rate': 0.0011268867803668865, 'max_drop': 41, 'skip_drop': 0.21366199307915928, 'num_iterations': 1568}. Best is trial 126 with value: 0.8263369752731455.\u001b[0m\n",
      "\u001b[32m[I 2022-07-01 20:38:39,291]\u001b[0m Trial 169 finished with value: 0.8085106382978723 and parameters: {'boosting_type': 'dart', 'learning_rate': 0.014582988612572808, 'max_bin': 694, 'max_depth': 3, 'num_leaves': 228, 'min_data_in_leaf': 99, 'feature_fraction': 0.6174032205120621, 'lambda_l1': 0.4690792775742931, 'lambda_l2': 5.7421291895114415, 'bagging_fraction': 0.8567897981486318, 'bagging_freq': 9, 'drop_rate': 0.004423654731470635, 'max_drop': 36, 'skip_drop': 0.056033081686378945, 'num_iterations': 1867}. Best is trial 126 with value: 0.8263369752731455.\u001b[0m\n",
      "\u001b[32m[I 2022-07-01 20:38:44,239]\u001b[0m Trial 170 finished with value: 0.8200115008625647 and parameters: {'boosting_type': 'dart', 'learning_rate': 0.01751094674511479, 'max_bin': 606, 'max_depth': -1, 'num_leaves': 235, 'min_data_in_leaf': 88, 'feature_fraction': 0.7422508332531801, 'lambda_l1': 0.8272698120225255, 'lambda_l2': 1.408822040406098, 'bagging_fraction': 0.8386997137849415, 'bagging_freq': 10, 'drop_rate': 0.003026715262368218, 'max_drop': 55, 'skip_drop': 0.1811805265058893, 'num_iterations': 1832}. Best is trial 126 with value: 0.8263369752731455.\u001b[0m\n",
      "\u001b[32m[I 2022-07-01 20:38:48,289]\u001b[0m Trial 171 finished with value: 0.8200115008625647 and parameters: {'boosting_type': 'dart', 'learning_rate': 0.01578565856378999, 'max_bin': 681, 'max_depth': -1, 'num_leaves': 253, 'min_data_in_leaf': 91, 'feature_fraction': 0.7053345200963571, 'lambda_l1': 0.6745602696367092, 'lambda_l2': 6.634049909896414, 'bagging_fraction': 0.8216426465816401, 'bagging_freq': 5, 'drop_rate': 0.0023044909379906016, 'max_drop': 35, 'skip_drop': 0.13200662099036992, 'num_iterations': 1769}. Best is trial 126 with value: 0.8263369752731455.\u001b[0m\n",
      "\u001b[32m[I 2022-07-01 20:38:52,552]\u001b[0m Trial 172 finished with value: 0.8154111558366878 and parameters: {'boosting_type': 'dart', 'learning_rate': 0.01992930912022857, 'max_bin': 628, 'max_depth': -1, 'num_leaves': 244, 'min_data_in_leaf': 100, 'feature_fraction': 0.6960741189909887, 'lambda_l1': 0.6997347658084994, 'lambda_l2': 4.213244384554359, 'bagging_fraction': 0.7973699136023998, 'bagging_freq': 9, 'drop_rate': 0.0019801312117988935, 'max_drop': 39, 'skip_drop': 0.16036308193338264, 'num_iterations': 1883}. Best is trial 126 with value: 0.8263369752731455.\u001b[0m\n",
      "\u001b[32m[I 2022-07-01 20:38:55,992]\u001b[0m Trial 173 finished with value: 0.8205865439907993 and parameters: {'boosting_type': 'dart', 'learning_rate': 0.01336815129129185, 'max_bin': 607, 'max_depth': -1, 'num_leaves': 256, 'min_data_in_leaf': 97, 'feature_fraction': 0.6804530787500787, 'lambda_l1': 0.5610347907622754, 'lambda_l2': 2.239582734606298, 'bagging_fraction': 0.7732308205464826, 'bagging_freq': 10, 'drop_rate': 0.001692427011927496, 'max_drop': 37, 'skip_drop': 0.014702565124322962, 'num_iterations': 1510}. Best is trial 126 with value: 0.8263369752731455.\u001b[0m\n",
      "\u001b[32m[I 2022-07-01 20:39:01,228]\u001b[0m Trial 174 finished with value: 0.824036802760207 and parameters: {'boosting_type': 'dart', 'learning_rate': 0.016218146097514458, 'max_bin': 694, 'max_depth': -1, 'num_leaves': 247, 'min_data_in_leaf': 93, 'feature_fraction': 0.7271409944987896, 'lambda_l1': 0.9455793376741577, 'lambda_l2': 0.9010814635111923, 'bagging_fraction': 0.920819885841948, 'bagging_freq': 10, 'drop_rate': 0.003983889458634641, 'max_drop': 45, 'skip_drop': 0.11120615170625192, 'num_iterations': 1680}. Best is trial 126 with value: 0.8263369752731455.\u001b[0m\n",
      "\u001b[32m[I 2022-07-01 20:39:05,862]\u001b[0m Trial 175 finished with value: 0.81943645773433 and parameters: {'boosting_type': 'dart', 'learning_rate': 0.027730164216303713, 'max_bin': 647, 'max_depth': -1, 'num_leaves': 250, 'min_data_in_leaf': 92, 'feature_fraction': 0.7539308828698508, 'lambda_l1': 0.9598182599380756, 'lambda_l2': 2.613643211151343, 'bagging_fraction': 0.8095961118796655, 'bagging_freq': 10, 'drop_rate': 0.0034430825577365497, 'max_drop': 44, 'skip_drop': 0.11216155933544199, 'num_iterations': 1687}. Best is trial 126 with value: 0.8263369752731455.\u001b[0m\n",
      "\u001b[32m[I 2022-07-01 20:39:10,221]\u001b[0m Trial 176 finished with value: 0.8257619321449109 and parameters: {'boosting_type': 'dart', 'learning_rate': 0.018006579814320526, 'max_bin': 632, 'max_depth': -1, 'num_leaves': 247, 'min_data_in_leaf': 89, 'feature_fraction': 0.7326852812105059, 'lambda_l1': 1.0864313137684456, 'lambda_l2': 1.7159199468405326, 'bagging_fraction': 0.7640949676307698, 'bagging_freq': 10, 'drop_rate': 0.0050177335895656636, 'max_drop': 49, 'skip_drop': 0.17251126968879876, 'num_iterations': 1714}. Best is trial 126 with value: 0.8263369752731455.\u001b[0m\n",
      "\u001b[32m[I 2022-07-01 20:39:14,860]\u001b[0m Trial 177 finished with value: 0.8223116733755031 and parameters: {'boosting_type': 'dart', 'learning_rate': 0.019471660148541788, 'max_bin': 626, 'max_depth': -1, 'num_leaves': 247, 'min_data_in_leaf': 89, 'feature_fraction': 0.7302155856359936, 'lambda_l1': 1.2556019713612177, 'lambda_l2': 0.8748742389031594, 'bagging_fraction': 0.7879516177475586, 'bagging_freq': 10, 'drop_rate': 0.005220204126924929, 'max_drop': 46, 'skip_drop': 0.16843566920178818, 'num_iterations': 1748}. Best is trial 126 with value: 0.8263369752731455.\u001b[0m\n",
      "\u001b[32m[I 2022-07-01 20:39:20,369]\u001b[0m Trial 178 finished with value: 0.8131109833237493 and parameters: {'boosting_type': 'dart', 'learning_rate': 0.01714029639864148, 'max_bin': 665, 'max_depth': -1, 'num_leaves': 240, 'min_data_in_leaf': 39, 'feature_fraction': 0.7194386052654863, 'lambda_l1': 1.458212031147908, 'lambda_l2': 7.185118401495962, 'bagging_fraction': 0.7663804313170667, 'bagging_freq': 10, 'drop_rate': 0.004406611003911173, 'max_drop': 49, 'skip_drop': 0.14109111353357986, 'num_iterations': 1724}. Best is trial 126 with value: 0.8263369752731455.\u001b[0m\n",
      "\u001b[32m[I 2022-07-01 20:39:21,645]\u001b[0m Trial 179 finished with value: 0.8090856814261069 and parameters: {'boosting_type': 'dart', 'learning_rate': 0.011219243808601604, 'max_bin': 593, 'max_depth': 3, 'num_leaves': 251, 'min_data_in_leaf': 93, 'feature_fraction': 0.8123790218767696, 'lambda_l1': 1.079303062008051, 'lambda_l2': 1.5636212078764427, 'bagging_fraction': 0.999236782246991, 'bagging_freq': 8, 'drop_rate': 0.0038359969100194924, 'max_drop': 28, 'skip_drop': 0.23293538164801342, 'num_iterations': 1454}. Best is trial 126 with value: 0.8263369752731455.\u001b[0m\n",
      "\u001b[32m[I 2022-07-01 20:39:25,937]\u001b[0m Trial 180 finished with value: 0.8188614146060954 and parameters: {'boosting_type': 'dart', 'learning_rate': 0.022888152756878923, 'max_bin': 698, 'max_depth': -1, 'num_leaves': 232, 'min_data_in_leaf': 94, 'feature_fraction': 0.733966428571016, 'lambda_l1': 1.0103380523557601, 'lambda_l2': 9.566825377003337, 'bagging_fraction': 0.8323059276368452, 'bagging_freq': 10, 'drop_rate': 0.001799592728795399, 'max_drop': 40, 'skip_drop': 0.1908554396319924, 'num_iterations': 1850}. Best is trial 126 with value: 0.8263369752731455.\u001b[0m\n",
      "\u001b[32m[I 2022-07-01 20:39:30,567]\u001b[0m Trial 181 finished with value: 0.8223116733755031 and parameters: {'boosting_type': 'dart', 'learning_rate': 0.014138669658394826, 'max_bin': 559, 'max_depth': -1, 'num_leaves': 248, 'min_data_in_leaf': 96, 'feature_fraction': 0.6995279107400169, 'lambda_l1': 0.7953050460338881, 'lambda_l2': 3.4935513434516676, 'bagging_fraction': 0.9261428656259023, 'bagging_freq': 10, 'drop_rate': 0.003165334984180072, 'max_drop': 48, 'skip_drop': 0.09419253697737281, 'num_iterations': 1659}. Best is trial 126 with value: 0.8263369752731455.\u001b[0m\n",
      "\u001b[32m[I 2022-07-01 20:39:35,013]\u001b[0m Trial 182 finished with value: 0.81943645773433 and parameters: {'boosting_type': 'dart', 'learning_rate': 0.01807681056493896, 'max_bin': 241, 'max_depth': -1, 'num_leaves': 242, 'min_data_in_leaf': 95, 'feature_fraction': 0.6705240243507912, 'lambda_l1': 0.869419393537757, 'lambda_l2': 4.832630155942914, 'bagging_fraction': 0.8687991768832496, 'bagging_freq': 10, 'drop_rate': 0.002464603993233974, 'max_drop': 43, 'skip_drop': 0.15173619520458814, 'num_iterations': 1706}. Best is trial 126 with value: 0.8263369752731455.\u001b[0m\n",
      "\u001b[32m[I 2022-07-01 20:39:40,962]\u001b[0m Trial 183 finished with value: 0.8246118458884416 and parameters: {'boosting_type': 'dart', 'learning_rate': 0.021611868441897258, 'max_bin': 647, 'max_depth': -1, 'num_leaves': 235, 'min_data_in_leaf': 93, 'feature_fraction': 0.7118462521410988, 'lambda_l1': 0.6333481441553916, 'lambda_l2': 6.510032230311243, 'bagging_fraction': 0.8143929045271499, 'bagging_freq': 10, 'drop_rate': 0.004293389014683729, 'max_drop': 52, 'skip_drop': 0.1292152834581223, 'num_iterations': 1817}. Best is trial 126 with value: 0.8263369752731455.\u001b[0m\n",
      "\u001b[32m[I 2022-07-01 20:39:45,856]\u001b[0m Trial 184 finished with value: 0.8200115008625647 and parameters: {'boosting_type': 'dart', 'learning_rate': 0.02604896897266203, 'max_bin': 632, 'max_depth': -1, 'num_leaves': 243, 'min_data_in_leaf': 87, 'feature_fraction': 0.6867854218116781, 'lambda_l1': 0.7488034741006941, 'lambda_l2': 2.374270225492021, 'bagging_fraction': 0.7487045183544115, 'bagging_freq': 10, 'drop_rate': 0.0041076513508788125, 'max_drop': 53, 'skip_drop': 0.13025229585779713, 'num_iterations': 1814}. Best is trial 126 with value: 0.8263369752731455.\u001b[0m\n",
      "\u001b[32m[I 2022-07-01 20:39:53,390]\u001b[0m Trial 185 finished with value: 0.8159861989649224 and parameters: {'boosting_type': 'dart', 'learning_rate': 0.03877606755559593, 'max_bin': 646, 'max_depth': -1, 'num_leaves': 248, 'min_data_in_leaf': 45, 'feature_fraction': 0.7130944315458342, 'lambda_l1': 0.9535114427850434, 'lambda_l2': 1.6678461261579953, 'bagging_fraction': 0.8024497627686422, 'bagging_freq': 10, 'drop_rate': 0.0057330825615776885, 'max_drop': 44, 'skip_drop': 0.1751617338908762, 'num_iterations': 1772}. Best is trial 126 with value: 0.8263369752731455.\u001b[0m\n",
      "\u001b[32m[I 2022-07-01 20:39:59,517]\u001b[0m Trial 186 finished with value: 0.8188614146060954 and parameters: {'boosting_type': 'dart', 'learning_rate': 0.030629101918449576, 'max_bin': 607, 'max_depth': -1, 'num_leaves': 235, 'min_data_in_leaf': 90, 'feature_fraction': 0.7247430859689622, 'lambda_l1': 0.6064272932904493, 'lambda_l2': 6.262996761012938, 'bagging_fraction': 0.982256026610854, 'bagging_freq': 10, 'drop_rate': 0.00794913798370672, 'max_drop': 39, 'skip_drop': 0.15688473130896508, 'num_iterations': 1747}. Best is trial 126 with value: 0.8263369752731455.\u001b[0m\n",
      "\u001b[32m[I 2022-07-01 20:40:04,846]\u001b[0m Trial 187 finished with value: 0.8223116733755031 and parameters: {'boosting_type': 'dart', 'learning_rate': 0.021747491239219218, 'max_bin': 576, 'max_depth': -1, 'num_leaves': 237, 'min_data_in_leaf': 91, 'feature_fraction': 0.7097623411796249, 'lambda_l1': 0.7082289843400941, 'lambda_l2': 3.5762452102491733, 'bagging_fraction': 0.7895721969447168, 'bagging_freq': 10, 'drop_rate': 0.004721209139898814, 'max_drop': 47, 'skip_drop': 0.11182850623524482, 'num_iterations': 1786}. Best is trial 126 with value: 0.8263369752731455.\u001b[0m\n",
      "\u001b[32m[I 2022-07-01 20:40:10,522]\u001b[0m Trial 188 finished with value: 0.8257619321449109 and parameters: {'boosting_type': 'dart', 'learning_rate': 0.02204741019594432, 'max_bin': 720, 'max_depth': -1, 'num_leaves': 242, 'min_data_in_leaf': 86, 'feature_fraction': 0.706754065744158, 'lambda_l1': 0.8725716577080819, 'lambda_l2': 9.637082856108602, 'bagging_fraction': 0.764809658304586, 'bagging_freq': 2, 'drop_rate': 0.00490257256440449, 'max_drop': 42, 'skip_drop': 0.2028770140416433, 'num_iterations': 1930}. Best is trial 126 with value: 0.8263369752731455.\u001b[0m\n",
      "\u001b[32m[I 2022-07-01 20:40:15,919]\u001b[0m Trial 189 finished with value: 0.8125359401955147 and parameters: {'boosting_type': 'dart', 'learning_rate': 0.023979354944102017, 'max_bin': 740, 'max_depth': -1, 'num_leaves': 223, 'min_data_in_leaf': 85, 'feature_fraction': 0.6967047881273991, 'lambda_l1': 1.2215398110137767, 'lambda_l2': 6.44968969573775e-08, 'bagging_fraction': 0.7620337681406902, 'bagging_freq': 1, 'drop_rate': 0.004941083801364222, 'max_drop': 53, 'skip_drop': 0.6018253486035181, 'num_iterations': 1928}. Best is trial 126 with value: 0.8263369752731455.\u001b[0m\n",
      "\u001b[32m[I 2022-07-01 20:40:20,900]\u001b[0m Trial 190 finished with value: 0.824036802760207 and parameters: {'boosting_type': 'dart', 'learning_rate': 0.02112854373384842, 'max_bin': 709, 'max_depth': -1, 'num_leaves': 231, 'min_data_in_leaf': 93, 'feature_fraction': 0.6896428161400843, 'lambda_l1': 0.8768165056920909, 'lambda_l2': 8.057450206646742, 'bagging_fraction': 0.7341249524465033, 'bagging_freq': 2, 'drop_rate': 0.0036147542886500942, 'max_drop': 45, 'skip_drop': 0.20221125879675278, 'num_iterations': 1898}. Best is trial 126 with value: 0.8263369752731455.\u001b[0m\n",
      "\u001b[32m[I 2022-07-01 20:40:26,430]\u001b[0m Trial 191 finished with value: 0.8228867165037378 and parameters: {'boosting_type': 'dart', 'learning_rate': 0.017323300453826733, 'max_bin': 677, 'max_depth': -1, 'num_leaves': 244, 'min_data_in_leaf': 89, 'feature_fraction': 0.7036002337568892, 'lambda_l1': 0.8225982251382468, 'lambda_l2': 4.30900452150896, 'bagging_fraction': 0.7299439586828241, 'bagging_freq': 2, 'drop_rate': 0.003721930264782571, 'max_drop': 51, 'skip_drop': 0.20176215518191043, 'num_iterations': 1997}. Best is trial 126 with value: 0.8263369752731455.\u001b[0m\n",
      "\u001b[32m[I 2022-07-01 20:40:30,813]\u001b[0m Trial 192 finished with value: 0.8251868890166763 and parameters: {'boosting_type': 'dart', 'learning_rate': 0.022443720388492315, 'max_bin': 705, 'max_depth': -1, 'num_leaves': 236, 'min_data_in_leaf': 92, 'feature_fraction': 0.6768290666558577, 'lambda_l1': 1.1115462961968618, 'lambda_l2': 8.884409819905168, 'bagging_fraction': 0.715447030552336, 'bagging_freq': 2, 'drop_rate': 0.004070350977578587, 'max_drop': 42, 'skip_drop': 0.13708138837251743, 'num_iterations': 1888}. Best is trial 126 with value: 0.8263369752731455.\u001b[0m\n",
      "\u001b[32m[I 2022-07-01 20:40:35,558]\u001b[0m Trial 193 finished with value: 0.8228867165037378 and parameters: {'boosting_type': 'dart', 'learning_rate': 0.02816194191066273, 'max_bin': 691, 'max_depth': -1, 'num_leaves': 233, 'min_data_in_leaf': 92, 'feature_fraction': 0.7176522945724247, 'lambda_l1': 1.7057898516357388, 'lambda_l2': 6.212347755533508, 'bagging_fraction': 0.7124679547615529, 'bagging_freq': 2, 'drop_rate': 0.004103514345839001, 'max_drop': 42, 'skip_drop': 0.13616670243135326, 'num_iterations': 1902}. Best is trial 126 with value: 0.8263369752731455.\u001b[0m\n",
      "\u001b[32m[I 2022-07-01 20:40:39,762]\u001b[0m Trial 194 finished with value: 0.816561242093157 and parameters: {'boosting_type': 'dart', 'learning_rate': 0.033381600186642234, 'max_bin': 719, 'max_depth': -1, 'num_leaves': 230, 'min_data_in_leaf': 87, 'feature_fraction': 0.6774403658681336, 'lambda_l1': 1.1354566434684432, 'lambda_l2': 9.48359197676116, 'bagging_fraction': 0.7204443459611777, 'bagging_freq': 2, 'drop_rate': 0.003421291291976416, 'max_drop': 46, 'skip_drop': 0.18339999761747455, 'num_iterations': 1802}. Best is trial 126 with value: 0.8263369752731455.\u001b[0m\n",
      "\u001b[32m[I 2022-07-01 20:40:45,114]\u001b[0m Trial 195 finished with value: 0.81943645773433 and parameters: {'boosting_type': 'dart', 'learning_rate': 0.021990238019998328, 'max_bin': 708, 'max_depth': -1, 'num_leaves': 224, 'min_data_in_leaf': 93, 'feature_fraction': 0.6888575656424708, 'lambda_l1': 1.3884096938715467, 'lambda_l2': 2.7022637933404443, 'bagging_fraction': 0.7520709249337713, 'bagging_freq': 2, 'drop_rate': 0.0065425524577982985, 'max_drop': 45, 'skip_drop': 0.12487020824258029, 'num_iterations': 1951}. Best is trial 126 with value: 0.8263369752731455.\u001b[0m\n",
      "\u001b[32m[I 2022-07-01 20:40:49,827]\u001b[0m Trial 196 finished with value: 0.8159861989649224 and parameters: {'boosting_type': 'dart', 'learning_rate': 0.020029605585985544, 'max_bin': 732, 'max_depth': -1, 'num_leaves': 256, 'min_data_in_leaf': 82, 'feature_fraction': 0.728746882867143, 'lambda_l1': 0.9239504336586417, 'lambda_l2': 4.87572477070652, 'bagging_fraction': 0.7789005409918521, 'bagging_freq': 4, 'drop_rate': 0.0029457028409730565, 'max_drop': 42, 'skip_drop': 0.16054924410096952, 'num_iterations': 1831}. Best is trial 126 with value: 0.8263369752731455.\u001b[0m\n",
      "\u001b[32m[I 2022-07-01 20:40:54,775]\u001b[0m Trial 197 finished with value: 0.8228867165037378 and parameters: {'boosting_type': 'dart', 'learning_rate': 0.0163545962205683, 'max_bin': 676, 'max_depth': -1, 'num_leaves': 245, 'min_data_in_leaf': 89, 'feature_fraction': 0.7061192282309041, 'lambda_l1': 0.8671023157673554, 'lambda_l2': 4.29360761672616, 'bagging_fraction': 0.7016384171857376, 'bagging_freq': 2, 'drop_rate': 0.0036863163017971296, 'max_drop': 51, 'skip_drop': 0.2056263883359474, 'num_iterations': 1992}. Best is trial 126 with value: 0.8263369752731455.\u001b[0m\n",
      "\u001b[32m[I 2022-07-01 20:40:59,553]\u001b[0m Trial 198 finished with value: 0.8269120184013801 and parameters: {'boosting_type': 'dart', 'learning_rate': 0.024406688926831507, 'max_bin': 657, 'max_depth': -1, 'num_leaves': 237, 'min_data_in_leaf': 91, 'feature_fraction': 0.7414621052268565, 'lambda_l1': 1.0720568126265277, 'lambda_l2': 9.355306160032255, 'bagging_fraction': 0.7684489168425097, 'bagging_freq': 2, 'drop_rate': 0.004448426182983007, 'max_drop': 41, 'skip_drop': 0.225229513678576, 'num_iterations': 1885}. Best is trial 198 with value: 0.8269120184013801.\u001b[0m\n",
      "\u001b[32m[I 2022-07-01 20:41:04,751]\u001b[0m Trial 199 finished with value: 0.824036802760207 and parameters: {'boosting_type': 'dart', 'learning_rate': 0.026155120142733638, 'max_bin': 708, 'max_depth': -1, 'num_leaves': 249, 'min_data_in_leaf': 86, 'feature_fraction': 0.7410208480334585, 'lambda_l1': 1.0567510750859177, 'lambda_l2': 7.179953508281731, 'bagging_fraction': 0.7371888042345217, 'bagging_freq': 3, 'drop_rate': 0.00440185304437979, 'max_drop': 45, 'skip_drop': 0.22258237420599156, 'num_iterations': 1913}. Best is trial 198 with value: 0.8269120184013801.\u001b[0m\n",
      "\u001b[32m[I 2022-07-01 20:41:10,083]\u001b[0m Trial 200 finished with value: 0.8142610695802185 and parameters: {'boosting_type': 'dart', 'learning_rate': 0.04658198760873785, 'max_bin': 703, 'max_depth': -1, 'num_leaves': 236, 'min_data_in_leaf': 86, 'feature_fraction': 0.7436195751357285, 'lambda_l1': 1.0336088876147094, 'lambda_l2': 9.428723122387863, 'bagging_fraction': 0.7645606253054664, 'bagging_freq': 3, 'drop_rate': 0.004354785763819208, 'max_drop': 44, 'skip_drop': 0.2422246490532064, 'num_iterations': 1923}. Best is trial 198 with value: 0.8269120184013801.\u001b[0m\n",
      "\u001b[32m[I 2022-07-01 20:41:15,219]\u001b[0m Trial 201 finished with value: 0.8205865439907993 and parameters: {'boosting_type': 'dart', 'learning_rate': 0.025525542070877313, 'max_bin': 679, 'max_depth': -1, 'num_leaves': 248, 'min_data_in_leaf': 88, 'feature_fraction': 0.7394869549554451, 'lambda_l1': 1.1193134303528989, 'lambda_l2': 9.866877124695009, 'bagging_fraction': 0.7360597846751941, 'bagging_freq': 2, 'drop_rate': 0.004909084812207634, 'max_drop': 48, 'skip_drop': 0.22005458477573903, 'num_iterations': 1958}. Best is trial 198 with value: 0.8269120184013801.\u001b[0m\n",
      "\u001b[32m[I 2022-07-01 20:41:19,889]\u001b[0m Trial 202 finished with value: 0.8251868890166763 and parameters: {'boosting_type': 'dart', 'learning_rate': 0.022993306503371617, 'max_bin': 649, 'max_depth': -1, 'num_leaves': 237, 'min_data_in_leaf': 92, 'feature_fraction': 0.7504913977070181, 'lambda_l1': 1.2545685156125796, 'lambda_l2': 7.332809204733475, 'bagging_fraction': 0.7430553077736687, 'bagging_freq': 1, 'drop_rate': 0.004206516155779916, 'max_drop': 41, 'skip_drop': 0.17678742792506422, 'num_iterations': 1879}. Best is trial 198 with value: 0.8269120184013801.\u001b[0m\n",
      "\u001b[32m[I 2022-07-01 20:41:24,711]\u001b[0m Trial 203 finished with value: 0.8159861989649224 and parameters: {'boosting_type': 'dart', 'learning_rate': 0.02989306137047485, 'max_bin': 650, 'max_depth': -1, 'num_leaves': 237, 'min_data_in_leaf': 91, 'feature_fraction': 0.760885002790749, 'lambda_l1': 1.345170108923525, 'lambda_l2': 6.765232426524107, 'bagging_fraction': 0.7459994525013338, 'bagging_freq': 1, 'drop_rate': 0.003985704876350244, 'max_drop': 41, 'skip_drop': 0.26426875830841845, 'num_iterations': 1879}. Best is trial 198 with value: 0.8269120184013801.\u001b[0m\n",
      "\u001b[32m[I 2022-07-01 20:41:29,683]\u001b[0m Trial 204 finished with value: 0.8246118458884416 and parameters: {'boosting_type': 'dart', 'learning_rate': 0.023598442541034974, 'max_bin': 727, 'max_depth': -1, 'num_leaves': 251, 'min_data_in_leaf': 92, 'feature_fraction': 0.7558313470494163, 'lambda_l1': 1.0520450063810205, 'lambda_l2': 6.605671977317131, 'bagging_fraction': 0.7003986066569972, 'bagging_freq': 1, 'drop_rate': 0.006153945691260633, 'max_drop': 70, 'skip_drop': 0.17231316246700362, 'num_iterations': 1911}. Best is trial 198 with value: 0.8269120184013801.\u001b[0m\n",
      "\u001b[32m[I 2022-07-01 20:41:34,578]\u001b[0m Trial 205 finished with value: 0.8263369752731455 and parameters: {'boosting_type': 'dart', 'learning_rate': 0.023379252660043703, 'max_bin': 706, 'max_depth': -1, 'num_leaves': 251, 'min_data_in_leaf': 84, 'feature_fraction': 0.7482886820149793, 'lambda_l1': 1.5770149716270323, 'lambda_l2': 7.00496669028855, 'bagging_fraction': 0.705965279212604, 'bagging_freq': 1, 'drop_rate': 0.005777786166962637, 'max_drop': 45, 'skip_drop': 0.18656573358683506, 'num_iterations': 1915}. Best is trial 198 with value: 0.8269120184013801.\u001b[0m\n",
      "\u001b[32m[I 2022-07-01 20:41:39,403]\u001b[0m Trial 206 finished with value: 0.8280621046578494 and parameters: {'boosting_type': 'dart', 'learning_rate': 0.024915397069237552, 'max_bin': 738, 'max_depth': -1, 'num_leaves': 251, 'min_data_in_leaf': 84, 'feature_fraction': 0.7568652187158211, 'lambda_l1': 2.1082727111442123, 'lambda_l2': 6.843552415177562, 'bagging_fraction': 0.6806991514254438, 'bagging_freq': 1, 'drop_rate': 0.005987761143949373, 'max_drop': 70, 'skip_drop': 0.19198850083557217, 'num_iterations': 1910}. Best is trial 206 with value: 0.8280621046578494.\u001b[0m\n",
      "\u001b[32m[I 2022-07-01 20:41:45,085]\u001b[0m Trial 207 finished with value: 0.8228867165037378 and parameters: {'boosting_type': 'dart', 'learning_rate': 0.03568082426402965, 'max_bin': 746, 'max_depth': -1, 'num_leaves': 252, 'min_data_in_leaf': 83, 'feature_fraction': 0.7599646308602112, 'lambda_l1': 2.047441265537489, 'lambda_l2': 2.8480936273732813, 'bagging_fraction': 0.6534742338413194, 'bagging_freq': 1, 'drop_rate': 0.006903631357533355, 'max_drop': 78, 'skip_drop': 0.189560935452887, 'num_iterations': 1931}. Best is trial 206 with value: 0.8280621046578494.\u001b[0m\n",
      "\u001b[32m[I 2022-07-01 20:41:50,086]\u001b[0m Trial 208 finished with value: 0.8257619321449109 and parameters: {'boosting_type': 'dart', 'learning_rate': 0.02533004208271371, 'max_bin': 726, 'max_depth': -1, 'num_leaves': 250, 'min_data_in_leaf': 85, 'feature_fraction': 0.7524817732919682, 'lambda_l1': 2.2355422183751967, 'lambda_l2': 6.830307662458087, 'bagging_fraction': 0.6860166397434958, 'bagging_freq': 1, 'drop_rate': 0.00566840505932744, 'max_drop': 67, 'skip_drop': 0.20215363765979266, 'num_iterations': 1900}. Best is trial 206 with value: 0.8280621046578494.\u001b[0m\n",
      "\u001b[32m[I 2022-07-01 20:41:54,979]\u001b[0m Trial 209 finished with value: 0.8131109833237493 and parameters: {'boosting_type': 'dart', 'learning_rate': 0.07612074446599218, 'max_bin': 717, 'max_depth': -1, 'num_leaves': 253, 'min_data_in_leaf': 84, 'feature_fraction': 0.7525463307854894, 'lambda_l1': 2.578609445507778, 'lambda_l2': 5.562489085824884, 'bagging_fraction': 0.6763402911433647, 'bagging_freq': 1, 'drop_rate': 0.005692395036963044, 'max_drop': 71, 'skip_drop': 0.1987493622183916, 'num_iterations': 1880}. Best is trial 206 with value: 0.8280621046578494.\u001b[0m\n",
      "\u001b[32m[I 2022-07-01 20:42:00,380]\u001b[0m Trial 210 finished with value: 0.8228867165037378 and parameters: {'boosting_type': 'dart', 'learning_rate': 0.025772665370732185, 'max_bin': 731, 'max_depth': -1, 'num_leaves': 256, 'min_data_in_leaf': 84, 'feature_fraction': 0.7755565955024903, 'lambda_l1': 2.240141988873295, 'lambda_l2': 6.183293329852328, 'bagging_fraction': 0.6902598307185697, 'bagging_freq': 1, 'drop_rate': 0.007075203582381438, 'max_drop': 71, 'skip_drop': 0.2769674383174257, 'num_iterations': 1906}. Best is trial 206 with value: 0.8280621046578494.\u001b[0m\n",
      "\u001b[32m[I 2022-07-01 20:42:05,817]\u001b[0m Trial 211 finished with value: 0.8263369752731455 and parameters: {'boosting_type': 'dart', 'learning_rate': 0.023113979782907478, 'max_bin': 743, 'max_depth': -1, 'num_leaves': 248, 'min_data_in_leaf': 86, 'feature_fraction': 0.7512112374819832, 'lambda_l1': 1.6188309336387532, 'lambda_l2': 6.945334306134739, 'bagging_fraction': 0.6986104965879362, 'bagging_freq': 1, 'drop_rate': 0.005891463902256233, 'max_drop': 45, 'skip_drop': 0.21832841041030865, 'num_iterations': 1912}. Best is trial 206 with value: 0.8280621046578494.\u001b[0m\n",
      "\u001b[32m[I 2022-07-01 20:42:10,654]\u001b[0m Trial 212 finished with value: 0.821161587119034 and parameters: {'boosting_type': 'dart', 'learning_rate': 0.022656970968145253, 'max_bin': 779, 'max_depth': -1, 'num_leaves': 250, 'min_data_in_leaf': 82, 'feature_fraction': 0.7510199818942204, 'lambda_l1': 3.1740042672905253, 'lambda_l2': 3.222195068039933, 'bagging_fraction': 0.6537030708678137, 'bagging_freq': 1, 'drop_rate': 0.0058495035899899074, 'max_drop': 66, 'skip_drop': 0.17520484217781573, 'num_iterations': 1946}. Best is trial 206 with value: 0.8280621046578494.\u001b[0m\n",
      "\u001b[32m[I 2022-07-01 20:42:16,738]\u001b[0m Trial 213 finished with value: 0.8200115008625647 and parameters: {'boosting_type': 'dart', 'learning_rate': 0.03236237191055386, 'max_bin': 742, 'max_depth': -1, 'num_leaves': 247, 'min_data_in_leaf': 85, 'feature_fraction': 0.7671999064465285, 'lambda_l1': 1.7149597629260964, 'lambda_l2': 6.594438020158342, 'bagging_fraction': 0.707826585601983, 'bagging_freq': 1, 'drop_rate': 0.005171944794680805, 'max_drop': 74, 'skip_drop': 0.2383798880391172, 'num_iterations': 1855}. Best is trial 206 with value: 0.8280621046578494.\u001b[0m\n",
      "\u001b[32m[I 2022-07-01 20:42:23,276]\u001b[0m Trial 214 finished with value: 0.8228867165037378 and parameters: {'boosting_type': 'dart', 'learning_rate': 0.025401232173238336, 'max_bin': 729, 'max_depth': -1, 'num_leaves': 249, 'min_data_in_leaf': 81, 'feature_fraction': 0.7434982649119846, 'lambda_l1': 1.5937155320441159, 'lambda_l2': 4.4026475558561815, 'bagging_fraction': 0.7010054816426351, 'bagging_freq': 1, 'drop_rate': 0.006187247863158984, 'max_drop': 69, 'skip_drop': 0.21446893883366394, 'num_iterations': 1912}. Best is trial 206 with value: 0.8280621046578494.\u001b[0m\n",
      "\u001b[32m[I 2022-07-01 20:42:30,314]\u001b[0m Trial 215 finished with value: 0.8177113283496262 and parameters: {'boosting_type': 'dart', 'learning_rate': 0.020927361958452396, 'max_bin': 762, 'max_depth': -1, 'num_leaves': 244, 'min_data_in_leaf': 88, 'feature_fraction': 0.7564378114572653, 'lambda_l1': 1.4639681433526666, 'lambda_l2': 9.462586763929727, 'bagging_fraction': 0.6879996210424884, 'bagging_freq': 1, 'drop_rate': 0.009850028295063097, 'max_drop': 69, 'skip_drop': 0.1416346584490203, 'num_iterations': 1882}. Best is trial 206 with value: 0.8280621046578494.\u001b[0m\n",
      "\u001b[32m[I 2022-07-01 20:42:35,476]\u001b[0m Trial 216 finished with value: 0.8274870615296147 and parameters: {'boosting_type': 'dart', 'learning_rate': 0.028520784226229383, 'max_bin': 721, 'max_depth': -1, 'num_leaves': 239, 'min_data_in_leaf': 89, 'feature_fraction': 0.726589429501344, 'lambda_l1': 2.20428655519119, 'lambda_l2': 3.4243701401873614, 'bagging_fraction': 0.720745208443364, 'bagging_freq': 1, 'drop_rate': 0.004754217906595476, 'max_drop': 68, 'skip_drop': 0.19042732179018498, 'num_iterations': 1937}. Best is trial 206 with value: 0.8280621046578494.\u001b[0m\n",
      "\u001b[32m[I 2022-07-01 20:42:40,354]\u001b[0m Trial 217 finished with value: 0.8205865439907993 and parameters: {'boosting_type': 'dart', 'learning_rate': 0.031161122362345015, 'max_bin': 751, 'max_depth': -1, 'num_leaves': 241, 'min_data_in_leaf': 87, 'feature_fraction': 0.7319115988157598, 'lambda_l1': 2.287138816363355, 'lambda_l2': 2.669102789206196, 'bagging_fraction': 0.6659517958737379, 'bagging_freq': 1, 'drop_rate': 0.0047764291924021225, 'max_drop': 67, 'skip_drop': 0.18212226612244925, 'num_iterations': 1972}. Best is trial 206 with value: 0.8280621046578494.\u001b[0m\n",
      "\u001b[32m[I 2022-07-01 20:42:48,226]\u001b[0m Trial 218 finished with value: 0.8177113283496262 and parameters: {'boosting_type': 'dart', 'learning_rate': 0.029367097898231026, 'max_bin': 717, 'max_depth': -1, 'num_leaves': 238, 'min_data_in_leaf': 30, 'feature_fraction': 0.7480555802727032, 'lambda_l1': 1.906244394371055, 'lambda_l2': 6.5433553476409525, 'bagging_fraction': 0.7262006652806686, 'bagging_freq': 1, 'drop_rate': 0.007216910504619462, 'max_drop': 65, 'skip_drop': 0.20260398542544536, 'num_iterations': 1947}. Best is trial 206 with value: 0.8280621046578494.\u001b[0m\n",
      "\u001b[32m[I 2022-07-01 20:42:52,826]\u001b[0m Trial 219 finished with value: 0.8217366302472685 and parameters: {'boosting_type': 'dart', 'learning_rate': 0.02403710877395456, 'max_bin': 736, 'max_depth': -1, 'num_leaves': 252, 'min_data_in_leaf': 89, 'feature_fraction': 0.7260360592518051, 'lambda_l1': 3.0676506769603065, 'lambda_l2': 3.806040136010632, 'bagging_fraction': 0.6924661604245634, 'bagging_freq': 1, 'drop_rate': 0.005443058594161186, 'max_drop': 73, 'skip_drop': 0.14434074117485143, 'num_iterations': 1858}. Best is trial 206 with value: 0.8280621046578494.\u001b[0m\n",
      "\u001b[32m[I 2022-07-01 20:42:58,030]\u001b[0m Trial 220 finished with value: 0.8188614146060954 and parameters: {'boosting_type': 'dart', 'learning_rate': 0.022415914114410324, 'max_bin': 782, 'max_depth': -1, 'num_leaves': 240, 'min_data_in_leaf': 53, 'feature_fraction': 0.7589956914725527, 'lambda_l1': 2.6408054652935946, 'lambda_l2': 9.923856850502029, 'bagging_fraction': 0.7121946484706991, 'bagging_freq': 2, 'drop_rate': 0.004781609833069639, 'max_drop': 64, 'skip_drop': 0.1711179099700954, 'num_iterations': 1894}. Best is trial 206 with value: 0.8280621046578494.\u001b[0m\n",
      "\u001b[32m[I 2022-07-01 20:43:02,748]\u001b[0m Trial 221 finished with value: 0.8228867165037378 and parameters: {'boosting_type': 'dart', 'learning_rate': 0.020786664977352504, 'max_bin': 703, 'max_depth': -1, 'num_leaves': 246, 'min_data_in_leaf': 91, 'feature_fraction': 0.7382100986114365, 'lambda_l1': 1.273708816864198, 'lambda_l2': 5.263124512581448, 'bagging_fraction': 0.7230942346026862, 'bagging_freq': 1, 'drop_rate': 0.004343531840417066, 'max_drop': 62, 'skip_drop': 0.15795069271945514, 'num_iterations': 1933}. Best is trial 206 with value: 0.8280621046578494.\u001b[0m\n",
      "\u001b[32m[I 2022-07-01 20:43:07,575]\u001b[0m Trial 222 finished with value: 0.824036802760207 and parameters: {'boosting_type': 'dart', 'learning_rate': 0.025615864994829377, 'max_bin': 718, 'max_depth': -1, 'num_leaves': 252, 'min_data_in_leaf': 86, 'feature_fraction': 0.7744909516160893, 'lambda_l1': 1.59304907140455, 'lambda_l2': 6.894084082195873, 'bagging_fraction': 0.740343854866535, 'bagging_freq': 2, 'drop_rate': 0.005237968572610384, 'max_drop': 43, 'skip_drop': 0.19103686913978263, 'num_iterations': 1904}. Best is trial 206 with value: 0.8280621046578494.\u001b[0m\n",
      "\u001b[32m[I 2022-07-01 20:43:12,665]\u001b[0m Trial 223 finished with value: 0.8246118458884416 and parameters: {'boosting_type': 'dart', 'learning_rate': 0.02973432996088411, 'max_bin': 753, 'max_depth': -1, 'num_leaves': 231, 'min_data_in_leaf': 86, 'feature_fraction': 0.7427969446772853, 'lambda_l1': 1.1648495618486945, 'lambda_l2': 6.832737688375836, 'bagging_fraction': 0.7091453800468694, 'bagging_freq': 2, 'drop_rate': 0.006119829478655782, 'max_drop': 70, 'skip_drop': 0.2256736577361579, 'num_iterations': 1917}. Best is trial 206 with value: 0.8280621046578494.\u001b[0m\n",
      "\u001b[32m[I 2022-07-01 20:43:17,613]\u001b[0m Trial 224 finished with value: 0.824036802760207 and parameters: {'boosting_type': 'dart', 'learning_rate': 0.03637437960189184, 'max_bin': 741, 'max_depth': -1, 'num_leaves': 231, 'min_data_in_leaf': 89, 'feature_fraction': 0.7491149264374961, 'lambda_l1': 2.1307802410663905, 'lambda_l2': 4.515340590623928, 'bagging_fraction': 0.7001156994668628, 'bagging_freq': 2, 'drop_rate': 0.0057962772484261805, 'max_drop': 69, 'skip_drop': 0.2256198089344211, 'num_iterations': 1967}. Best is trial 206 with value: 0.8280621046578494.\u001b[0m\n",
      "\u001b[32m[I 2022-07-01 20:43:22,776]\u001b[0m Trial 225 finished with value: 0.8228867165037378 and parameters: {'boosting_type': 'dart', 'learning_rate': 0.02816686000371372, 'max_bin': 661, 'max_depth': -1, 'num_leaves': 256, 'min_data_in_leaf': 84, 'feature_fraction': 0.7210768242726165, 'lambda_l1': 1.917146053569193, 'lambda_l2': 2.340186493054719, 'bagging_fraction': 0.7091807978979362, 'bagging_freq': 1, 'drop_rate': 0.008393691897717484, 'max_drop': 59, 'skip_drop': 0.12628346933528223, 'num_iterations': 1838}. Best is trial 206 with value: 0.8280621046578494.\u001b[0m\n",
      "\u001b[32m[I 2022-07-01 20:43:27,736]\u001b[0m Trial 226 finished with value: 0.8257619321449109 and parameters: {'boosting_type': 'dart', 'learning_rate': 0.022151411749823043, 'max_bin': 777, 'max_depth': -1, 'num_leaves': 234, 'min_data_in_leaf': 80, 'feature_fraction': 0.7601356313962296, 'lambda_l1': 1.266484204401723, 'lambda_l2': 6.930168834076223, 'bagging_fraction': 0.7197805157855531, 'bagging_freq': 2, 'drop_rate': 0.006531618461056582, 'max_drop': 72, 'skip_drop': 0.21142303557177422, 'num_iterations': 1872}. Best is trial 206 with value: 0.8280621046578494.\u001b[0m\n",
      "\u001b[32m[I 2022-07-01 20:43:32,847]\u001b[0m Trial 227 finished with value: 0.8188614146060954 and parameters: {'boosting_type': 'dart', 'learning_rate': 0.031824986159160976, 'max_bin': 776, 'max_depth': -1, 'num_leaves': 237, 'min_data_in_leaf': 80, 'feature_fraction': 0.7656165310400841, 'lambda_l1': 1.4652334700249383, 'lambda_l2': 9.930033359975786, 'bagging_fraction': 0.6853881214970552, 'bagging_freq': 1, 'drop_rate': 0.007830982179795798, 'max_drop': 72, 'skip_drop': 0.17479242139188134, 'num_iterations': 1873}. Best is trial 206 with value: 0.8280621046578494.\u001b[0m\n",
      "\u001b[32m[I 2022-07-01 20:43:38,275]\u001b[0m Trial 228 finished with value: 0.824036802760207 and parameters: {'boosting_type': 'dart', 'learning_rate': 0.02355658675338595, 'max_bin': 788, 'max_depth': -1, 'num_leaves': 242, 'min_data_in_leaf': 83, 'feature_fraction': 0.7351770203324436, 'lambda_l1': 1.2203321281423931, 'lambda_l2': 3.371076414241832, 'bagging_fraction': 0.7252218208897834, 'bagging_freq': 2, 'drop_rate': 0.0061674014553053415, 'max_drop': 76, 'skip_drop': 0.21751005371386123, 'num_iterations': 1930}. Best is trial 206 with value: 0.8280621046578494.\u001b[0m\n",
      "\u001b[32m[I 2022-07-01 20:43:42,991]\u001b[0m Trial 229 finished with value: 0.824036802760207 and parameters: {'boosting_type': 'dart', 'learning_rate': 0.028464114549458245, 'max_bin': 761, 'max_depth': -1, 'num_leaves': 235, 'min_data_in_leaf': 85, 'feature_fraction': 0.7538436453997583, 'lambda_l1': 1.776935202573552, 'lambda_l2': 5.396391564147585, 'bagging_fraction': 0.6996294520600126, 'bagging_freq': 1, 'drop_rate': 0.006422102560370422, 'max_drop': 70, 'skip_drop': 0.25794067535814486, 'num_iterations': 1836}. Best is trial 206 with value: 0.8280621046578494.\u001b[0m\n",
      "\u001b[32m[I 2022-07-01 20:43:57,580]\u001b[0m Trial 230 finished with value: 0.8113858539390454 and parameters: {'boosting_type': 'dart', 'learning_rate': 0.019951246986957546, 'max_bin': 753, 'max_depth': -1, 'num_leaves': 241, 'min_data_in_leaf': 81, 'feature_fraction': 0.7691698473314809, 'lambda_l1': 1.2162572940760101, 'lambda_l2': 4.390409422927071, 'bagging_fraction': 0.6765005447066121, 'bagging_freq': 1, 'drop_rate': 0.1770095975895756, 'max_drop': 68, 'skip_drop': 0.14858937954642115, 'num_iterations': 1872}. Best is trial 206 with value: 0.8280621046578494.\u001b[0m\n",
      "\u001b[32m[I 2022-07-01 20:44:02,368]\u001b[0m Trial 231 finished with value: 0.8217366302472685 and parameters: {'boosting_type': 'dart', 'learning_rate': 0.021849869277260677, 'max_bin': 730, 'max_depth': -1, 'num_leaves': 234, 'min_data_in_leaf': 87, 'feature_fraction': 0.7459006513981011, 'lambda_l1': 1.0848255690711504, 'lambda_l2': 6.763204328864389, 'bagging_fraction': 0.7202533520926232, 'bagging_freq': 2, 'drop_rate': 0.005400870039177913, 'max_drop': 42, 'skip_drop': 0.19271092685681798, 'num_iterations': 1899}. Best is trial 206 with value: 0.8280621046578494.\u001b[0m\n",
      "\u001b[32m[I 2022-07-01 20:44:07,210]\u001b[0m Trial 232 finished with value: 0.8223116733755031 and parameters: {'boosting_type': 'dart', 'learning_rate': 0.026355703160761353, 'max_bin': 800, 'max_depth': -1, 'num_leaves': 249, 'min_data_in_leaf': 86, 'feature_fraction': 0.7381707191480089, 'lambda_l1': 1.4089637631424299, 'lambda_l2': 6.794465319142459, 'bagging_fraction': 0.7757529040166558, 'bagging_freq': 3, 'drop_rate': 0.0043367606991569635, 'max_drop': 67, 'skip_drop': 0.21672490589840354, 'num_iterations': 1915}. Best is trial 206 with value: 0.8280621046578494.\u001b[0m\n",
      "\u001b[32m[I 2022-07-01 20:44:11,897]\u001b[0m Trial 233 finished with value: 0.8217366302472685 and parameters: {'boosting_type': 'dart', 'learning_rate': 0.023088992108103754, 'max_bin': 640, 'max_depth': -1, 'num_leaves': 230, 'min_data_in_leaf': 90, 'feature_fraction': 0.7143233583217702, 'lambda_l1': 0.9422011625580229, 'lambda_l2': 9.814533398180398, 'bagging_fraction': 0.7590832994706288, 'bagging_freq': 2, 'drop_rate': 0.004951685498911647, 'max_drop': 73, 'skip_drop': 0.16641883301009208, 'num_iterations': 1943}. Best is trial 206 with value: 0.8280621046578494.\u001b[0m\n",
      "\u001b[32m[I 2022-07-01 20:44:17,602]\u001b[0m Trial 234 finished with value: 0.8257619321449109 and parameters: {'boosting_type': 'dart', 'learning_rate': 0.02464643149899815, 'max_bin': 805, 'max_depth': -1, 'num_leaves': 243, 'min_data_in_leaf': 83, 'feature_fraction': 0.7346538625967598, 'lambda_l1': 1.2323234388621849, 'lambda_l2': 3.2893869593686698, 'bagging_fraction': 0.718422629769649, 'bagging_freq': 2, 'drop_rate': 0.006126113168408748, 'max_drop': 75, 'skip_drop': 0.23063166142461883, 'num_iterations': 1975}. Best is trial 206 with value: 0.8280621046578494.\u001b[0m\n",
      "\u001b[32m[I 2022-07-01 20:44:21,798]\u001b[0m Trial 235 finished with value: 0.8217366302472685 and parameters: {'boosting_type': 'dart', 'learning_rate': 0.019027970421131482, 'max_bin': 775, 'max_depth': -1, 'num_leaves': 246, 'min_data_in_leaf': 83, 'feature_fraction': 0.7584628867931718, 'lambda_l1': 1.5433950308431321, 'lambda_l2': 3.388107447285175, 'bagging_fraction': 0.5047568492645604, 'bagging_freq': 1, 'drop_rate': 0.005853751949075786, 'max_drop': 80, 'skip_drop': 0.24209118827457238, 'num_iterations': 1965}. Best is trial 206 with value: 0.8280621046578494.\u001b[0m\n",
      "\u001b[32m[I 2022-07-01 20:44:27,288]\u001b[0m Trial 236 finished with value: 0.8246118458884416 and parameters: {'boosting_type': 'dart', 'learning_rate': 0.029131861586451382, 'max_bin': 803, 'max_depth': -1, 'num_leaves': 240, 'min_data_in_leaf': 88, 'feature_fraction': 0.7314473756614613, 'lambda_l1': 1.2664704135026414, 'lambda_l2': 4.853613166262111, 'bagging_fraction': 0.7118502405956438, 'bagging_freq': 2, 'drop_rate': 0.006396518279678028, 'max_drop': 75, 'skip_drop': 0.22902936315591466, 'num_iterations': 1977}. Best is trial 206 with value: 0.8280621046578494.\u001b[0m\n",
      "\u001b[32m[I 2022-07-01 20:44:33,273]\u001b[0m Trial 237 finished with value: 0.8263369752731455 and parameters: {'boosting_type': 'dart', 'learning_rate': 0.024965671611955564, 'max_bin': 794, 'max_depth': -1, 'num_leaves': 241, 'min_data_in_leaf': 88, 'feature_fraction': 0.728371395173315, 'lambda_l1': 1.3402688173241486, 'lambda_l2': 2.1108636579580473, 'bagging_fraction': 0.7996727025381569, 'bagging_freq': 2, 'drop_rate': 0.006847730649811378, 'max_drop': 77, 'skip_drop': 0.1485819661482441, 'num_iterations': 1986}. Best is trial 206 with value: 0.8280621046578494.\u001b[0m\n",
      "\u001b[32m[I 2022-07-01 20:44:39,226]\u001b[0m Trial 238 finished with value: 0.8205865439907993 and parameters: {'boosting_type': 'dart', 'learning_rate': 0.034729211621301284, 'max_bin': 819, 'max_depth': -1, 'num_leaves': 241, 'min_data_in_leaf': 78, 'feature_fraction': 0.7306082414855093, 'lambda_l1': 1.699442007111698, 'lambda_l2': 1.690712975752864, 'bagging_fraction': 0.6695664636463875, 'bagging_freq': 2, 'drop_rate': 0.00732093191155901, 'max_drop': 78, 'skip_drop': 0.13465835960702216, 'num_iterations': 2000}. Best is trial 206 with value: 0.8280621046578494.\u001b[0m\n",
      "\u001b[32m[I 2022-07-01 20:44:45,661]\u001b[0m Trial 239 finished with value: 0.8217366302472685 and parameters: {'boosting_type': 'dart', 'learning_rate': 0.0298460198567827, 'max_bin': 805, 'max_depth': -1, 'num_leaves': 235, 'min_data_in_leaf': 84, 'feature_fraction': 0.7222137113929088, 'lambda_l1': 1.223051912317953, 'lambda_l2': 2.5226211606477023, 'bagging_fraction': 0.7147251326004943, 'bagging_freq': 2, 'drop_rate': 0.009112467112032435, 'max_drop': 74, 'skip_drop': 0.22952895556171282, 'num_iterations': 1974}. Best is trial 206 with value: 0.8280621046578494.\u001b[0m\n",
      "\u001b[32m[I 2022-07-01 20:44:51,788]\u001b[0m Trial 240 finished with value: 0.8251868890166763 and parameters: {'boosting_type': 'dart', 'learning_rate': 0.02494773560059458, 'max_bin': 834, 'max_depth': -1, 'num_leaves': 252, 'min_data_in_leaf': 89, 'feature_fraction': 0.7307659632825624, 'lambda_l1': 1.3580442909671817, 'lambda_l2': 3.9326998857729354, 'bagging_fraction': 0.8036027440058204, 'bagging_freq': 1, 'drop_rate': 0.006678862357993703, 'max_drop': 75, 'skip_drop': 0.19037865270535453, 'num_iterations': 1970}. Best is trial 206 with value: 0.8280621046578494.\u001b[0m\n",
      "\u001b[32m[I 2022-07-01 20:44:58,780]\u001b[0m Trial 241 finished with value: 0.824036802760207 and parameters: {'boosting_type': 'dart', 'learning_rate': 0.02711087861574526, 'max_bin': 802, 'max_depth': -1, 'num_leaves': 253, 'min_data_in_leaf': 88, 'feature_fraction': 0.745940580240207, 'lambda_l1': 1.3395294755051297, 'lambda_l2': 3.8934892334624203, 'bagging_fraction': 0.7055990472759703, 'bagging_freq': 2, 'drop_rate': 0.006659478615670736, 'max_drop': 78, 'skip_drop': 0.1864851968980308, 'num_iterations': 1960}. Best is trial 206 with value: 0.8280621046578494.\u001b[0m\n",
      "\u001b[32m[I 2022-07-01 20:45:05,561]\u001b[0m Trial 242 finished with value: 0.8234617596319724 and parameters: {'boosting_type': 'dart', 'learning_rate': 0.023790216890432366, 'max_bin': 852, 'max_depth': -1, 'num_leaves': 245, 'min_data_in_leaf': 87, 'feature_fraction': 0.73562992912528, 'lambda_l1': 1.1257901332254598, 'lambda_l2': 1.9877641920167326, 'bagging_fraction': 0.6941762426611464, 'bagging_freq': 1, 'drop_rate': 0.006493846332807278, 'max_drop': 75, 'skip_drop': 0.21498687100798364, 'num_iterations': 1938}. Best is trial 206 with value: 0.8280621046578494.\u001b[0m\n",
      "\u001b[32m[I 2022-07-01 20:45:12,428]\u001b[0m Trial 243 finished with value: 0.8171362852213916 and parameters: {'boosting_type': 'dart', 'learning_rate': 0.043561639981675, 'max_bin': 784, 'max_depth': -1, 'num_leaves': 240, 'min_data_in_leaf': 85, 'feature_fraction': 0.7176444567620708, 'lambda_l1': 1.4115259710365464, 'lambda_l2': 4.90455881617447, 'bagging_fraction': 0.8031708876123567, 'bagging_freq': 2, 'drop_rate': 0.005548334718565423, 'max_drop': 72, 'skip_drop': 0.20359202858530231, 'num_iterations': 1980}. Best is trial 206 with value: 0.8280621046578494.\u001b[0m\n",
      "\u001b[32m[I 2022-07-01 20:45:18,339]\u001b[0m Trial 244 finished with value: 0.821161587119034 and parameters: {'boosting_type': 'dart', 'learning_rate': 0.018928693603589643, 'max_bin': 618, 'max_depth': -1, 'num_leaves': 250, 'min_data_in_leaf': 90, 'feature_fraction': 0.710111749479013, 'lambda_l1': 1.0200652813199222, 'lambda_l2': 3.163943517964685, 'bagging_fraction': 0.8161446723687208, 'bagging_freq': 1, 'drop_rate': 0.004693584006446932, 'max_drop': 40, 'skip_drop': 0.15373963295521717, 'num_iterations': 1874}. Best is trial 206 with value: 0.8280621046578494.\u001b[0m\n",
      "\u001b[32m[I 2022-07-01 20:45:23,835]\u001b[0m Trial 245 finished with value: 0.8102357676825762 and parameters: {'boosting_type': 'dart', 'learning_rate': 0.02820439668945488, 'max_bin': 837, 'max_depth': -1, 'num_leaves': 256, 'min_data_in_leaf': 88, 'feature_fraction': 0.7542386153828922, 'lambda_l1': 1.3012456428810328, 'lambda_l2': 4.606024606361094, 'bagging_fraction': 0.7851285482444514, 'bagging_freq': 2, 'drop_rate': 0.01409035134900215, 'max_drop': 80, 'skip_drop': 0.7654946324986281, 'num_iterations': 1947}. Best is trial 206 with value: 0.8280621046578494.\u001b[0m\n",
      "\u001b[32m[I 2022-07-01 20:45:29,097]\u001b[0m Trial 246 finished with value: 0.8228867165037378 and parameters: {'boosting_type': 'dart', 'learning_rate': 0.023686607058456186, 'max_bin': 804, 'max_depth': -1, 'num_leaves': 227, 'min_data_in_leaf': 86, 'feature_fraction': 0.7388464300444352, 'lambda_l1': 1.590020908238273, 'lambda_l2': 6.312269804088405, 'bagging_fraction': 0.7144952230908176, 'bagging_freq': 3, 'drop_rate': 0.007554856965864999, 'max_drop': 76, 'skip_drop': 0.27558501310850125, 'num_iterations': 1916}. Best is trial 206 with value: 0.8280621046578494.\u001b[0m\n",
      "\u001b[32m[I 2022-07-01 20:45:34,296]\u001b[0m Trial 247 finished with value: 0.8228867165037378 and parameters: {'boosting_type': 'dart', 'learning_rate': 0.02426491342312793, 'max_bin': 862, 'max_depth': -1, 'num_leaves': 245, 'min_data_in_leaf': 90, 'feature_fraction': 0.7803696529687876, 'lambda_l1': 2.141814291208391, 'lambda_l2': 9.94840666487057, 'bagging_fraction': 0.8096288653769269, 'bagging_freq': 6, 'drop_rate': 0.005302057737568965, 'max_drop': 76, 'skip_drop': 0.16899844776539907, 'num_iterations': 1993}. Best is trial 206 with value: 0.8280621046578494.\u001b[0m\n",
      "\u001b[32m[I 2022-07-01 20:45:44,532]\u001b[0m Trial 248 finished with value: 0.8142610695802185 and parameters: {'boosting_type': 'dart', 'learning_rate': 0.03333432280360115, 'max_bin': 812, 'max_depth': -1, 'num_leaves': 238, 'min_data_in_leaf': 89, 'feature_fraction': 0.7222235327078274, 'lambda_l1': 1.8319302962844635, 'lambda_l2': 6.336031918858015, 'bagging_fraction': 0.7927907264218255, 'bagging_freq': 1, 'drop_rate': 0.037783798067437244, 'max_drop': 95, 'skip_drop': 0.1850472820216151, 'num_iterations': 1850}. Best is trial 206 with value: 0.8280621046578494.\u001b[0m\n",
      "\u001b[32m[I 2022-07-01 20:45:49,403]\u001b[0m Trial 249 finished with value: 0.8142610695802185 and parameters: {'boosting_type': 'dart', 'learning_rate': 0.02081210415821396, 'max_bin': 838, 'max_depth': 31, 'num_leaves': 248, 'min_data_in_leaf': 83, 'feature_fraction': 0.7615058273860895, 'lambda_l1': 1.1542941510422542, 'lambda_l2': 6.546201446917609, 'bagging_fraction': 0.766953585228926, 'bagging_freq': 1, 'drop_rate': 0.004712358664072099, 'max_drop': 70, 'skip_drop': 0.37304037510560095, 'num_iterations': 1886}. Best is trial 206 with value: 0.8280621046578494.\u001b[0m\n",
      "\u001b[32m[I 2022-07-01 20:45:54,791]\u001b[0m Trial 250 finished with value: 0.8228867165037378 and parameters: {'boosting_type': 'dart', 'learning_rate': 0.020001620996004776, 'max_bin': 764, 'max_depth': -1, 'num_leaves': 244, 'min_data_in_leaf': 76, 'feature_fraction': 0.7472674415403812, 'lambda_l1': 1.078487515210694, 'lambda_l2': 3.0378930445130865, 'bagging_fraction': 0.7527359627216188, 'bagging_freq': 1, 'drop_rate': 0.006030298686456042, 'max_drop': 71, 'skip_drop': 0.1238155294337317, 'num_iterations': 1919}. Best is trial 206 with value: 0.8280621046578494.\u001b[0m\n",
      "\u001b[32m[I 2022-07-01 20:45:59,071]\u001b[0m Trial 251 finished with value: 0.8205865439907993 and parameters: {'boosting_type': 'dart', 'learning_rate': 0.029872384975054844, 'max_bin': 828, 'max_depth': -1, 'num_leaves': 234, 'min_data_in_leaf': 87, 'feature_fraction': 0.7312423695609988, 'lambda_l1': 2.4002207174708308, 'lambda_l2': 9.848697495928755, 'bagging_fraction': 0.8020264037113053, 'bagging_freq': 2, 'drop_rate': 0.0039350501725036, 'max_drop': 42, 'skip_drop': 0.2489667381781397, 'num_iterations': 1819}. Best is trial 206 with value: 0.8280621046578494.\u001b[0m\n",
      "\u001b[32m[I 2022-07-01 20:46:05,943]\u001b[0m Trial 252 finished with value: 0.8142610695802185 and parameters: {'boosting_type': 'dart', 'learning_rate': 0.018033421260305323, 'max_bin': 609, 'max_depth': -1, 'num_leaves': 253, 'min_data_in_leaf': 92, 'feature_fraction': 0.7095494767420252, 'lambda_l1': 0.9410441352509287, 'lambda_l2': 3.791966596677601, 'bagging_fraction': 0.7778317308602929, 'bagging_freq': 1, 'drop_rate': 0.018525120143536276, 'max_drop': 41, 'skip_drop': 0.13788681703761793, 'num_iterations': 1850}. Best is trial 206 with value: 0.8280621046578494.\u001b[0m\n",
      "\u001b[32m[I 2022-07-01 20:46:11,531]\u001b[0m Trial 253 finished with value: 0.8251868890166763 and parameters: {'boosting_type': 'dart', 'learning_rate': 0.026280000691603234, 'max_bin': 779, 'max_depth': -1, 'num_leaves': 249, 'min_data_in_leaf': 84, 'feature_fraction': 0.7245218553053443, 'lambda_l1': 1.3107196564028154, 'lambda_l2': 1.911952760495253, 'bagging_fraction': 0.7295514607462814, 'bagging_freq': 2, 'drop_rate': 0.006837958365345092, 'max_drop': 74, 'skip_drop': 0.23136782303546008, 'num_iterations': 1970}. Best is trial 206 with value: 0.8280621046578494.\u001b[0m\n",
      "\u001b[32m[I 2022-07-01 20:46:14,098]\u001b[0m Trial 254 finished with value: 0.8090856814261069 and parameters: {'boosting_type': 'dart', 'learning_rate': 0.025907460824538948, 'max_bin': 593, 'max_depth': 3, 'num_leaves': 256, 'min_data_in_leaf': 82, 'feature_fraction': 0.6990707064585767, 'lambda_l1': 1.5061997011443802, 'lambda_l2': 1.8893667001643113, 'bagging_fraction': 0.7968081846978158, 'bagging_freq': 10, 'drop_rate': 0.011512222954558584, 'max_drop': 38, 'skip_drop': 0.15189873305305487, 'num_iterations': 1949}. Best is trial 206 with value: 0.8280621046578494.\u001b[0m\n",
      "\u001b[32m[I 2022-07-01 20:46:19,993]\u001b[0m Trial 255 finished with value: 0.8159861989649224 and parameters: {'boosting_type': 'dart', 'learning_rate': 0.03932071956477535, 'max_bin': 790, 'max_depth': -1, 'num_leaves': 244, 'min_data_in_leaf': 81, 'feature_fraction': 0.7294493349872129, 'lambda_l1': 1.3162679771060701, 'lambda_l2': 2.124114834013654, 'bagging_fraction': 0.7313163562119027, 'bagging_freq': 2, 'drop_rate': 0.006843864318884491, 'max_drop': 76, 'skip_drop': 0.23095449877398033, 'num_iterations': 1975}. Best is trial 206 with value: 0.8280621046578494.\u001b[0m\n",
      "\u001b[32m[I 2022-07-01 20:46:24,893]\u001b[0m Trial 256 finished with value: 0.8263369752731455 and parameters: {'boosting_type': 'dart', 'learning_rate': 0.021905915577836846, 'max_bin': 753, 'max_depth': -1, 'num_leaves': 250, 'min_data_in_leaf': 85, 'feature_fraction': 0.7442616623948952, 'lambda_l1': 1.5667670810328467, 'lambda_l2': 1.0580152461646484, 'bagging_fraction': 0.6877636337851998, 'bagging_freq': 3, 'drop_rate': 0.005892168056939064, 'max_drop': 72, 'skip_drop': 0.20305212642568274, 'num_iterations': 1930}. Best is trial 206 with value: 0.8280621046578494.\u001b[0m\n",
      "\u001b[32m[I 2022-07-01 20:46:30,737]\u001b[0m Trial 257 finished with value: 0.816561242093157 and parameters: {'boosting_type': 'dart', 'learning_rate': 0.030396447969892285, 'max_bin': 768, 'max_depth': -1, 'num_leaves': 250, 'min_data_in_leaf': 84, 'feature_fraction': 0.7380717079795268, 'lambda_l1': 1.5892465613784033, 'lambda_l2': 1.1184217477486715, 'bagging_fraction': 0.683418565254887, 'bagging_freq': 3, 'drop_rate': 0.006656070437777021, 'max_drop': 74, 'skip_drop': 0.20385900109825905, 'num_iterations': 1967}. Best is trial 206 with value: 0.8280621046578494.\u001b[0m\n",
      "\u001b[32m[I 2022-07-01 20:46:36,701]\u001b[0m Trial 258 finished with value: 0.8171362852213916 and parameters: {'boosting_type': 'dart', 'learning_rate': 0.02729589591386383, 'max_bin': 816, 'max_depth': -1, 'num_leaves': 250, 'min_data_in_leaf': 85, 'feature_fraction': 0.7456267295663044, 'lambda_l1': 1.9073817133449515, 'lambda_l2': 1.2977518101309011, 'bagging_fraction': 0.7150319822711664, 'bagging_freq': 2, 'drop_rate': 0.005597486793914854, 'max_drop': 73, 'skip_drop': 0.24138915577467113, 'num_iterations': 1940}. Best is trial 206 with value: 0.8280621046578494.\u001b[0m\n",
      "\u001b[32m[I 2022-07-01 20:46:44,989]\u001b[0m Trial 259 finished with value: 0.8142610695802185 and parameters: {'boosting_type': 'dart', 'learning_rate': 0.021773380412656963, 'max_bin': 758, 'max_depth': -1, 'num_leaves': 247, 'min_data_in_leaf': 33, 'feature_fraction': 0.7185128953149656, 'lambda_l1': 1.421607817728566, 'lambda_l2': 2.1619179027617266, 'bagging_fraction': 0.7424397887174061, 'bagging_freq': 2, 'drop_rate': 0.0034784191635214945, 'max_drop': 72, 'skip_drop': 0.2005549966471172, 'num_iterations': 1812}. Best is trial 206 with value: 0.8280621046578494.\u001b[0m\n",
      "\u001b[32m[I 2022-07-01 20:46:50,281]\u001b[0m Trial 260 finished with value: 0.8056354226566993 and parameters: {'boosting_type': 'dart', 'learning_rate': 0.0004212356550960758, 'max_bin': 793, 'max_depth': -1, 'num_leaves': 239, 'min_data_in_leaf': 80, 'feature_fraction': 0.7276888840413828, 'lambda_l1': 1.2358486889180627, 'lambda_l2': 3.499110632278523, 'bagging_fraction': 0.7274507603853427, 'bagging_freq': 2, 'drop_rate': 0.007352757781017597, 'max_drop': 81, 'skip_drop': 0.22762440301987336, 'num_iterations': 1887}. Best is trial 206 with value: 0.8280621046578494.\u001b[0m\n",
      "\u001b[32m[I 2022-07-01 20:46:56,130]\u001b[0m Trial 261 finished with value: 0.8142610695802185 and parameters: {'boosting_type': 'dart', 'learning_rate': 0.02458601853498763, 'max_bin': 741, 'max_depth': -1, 'num_leaves': 239, 'min_data_in_leaf': 86, 'feature_fraction': 0.7666682259627534, 'lambda_l1': 1.67976978954854, 'lambda_l2': 5.159667154381295, 'bagging_fraction': 0.6958722014469667, 'bagging_freq': 1, 'drop_rate': 0.008439311281616969, 'max_drop': 74, 'skip_drop': 0.5114630042872216, 'num_iterations': 1996}. Best is trial 206 with value: 0.8280621046578494.\u001b[0m\n",
      "\u001b[32m[I 2022-07-01 20:47:02,612]\u001b[0m Trial 262 finished with value: 0.8200115008625647 and parameters: {'boosting_type': 'dart', 'learning_rate': 0.03456544602837963, 'max_bin': 772, 'max_depth': -1, 'num_leaves': 245, 'min_data_in_leaf': 83, 'feature_fraction': 0.7495109168083649, 'lambda_l1': 2.9277932560901943, 'lambda_l2': 0.6355913222235957, 'bagging_fraction': 0.7557877019158465, 'bagging_freq': 3, 'drop_rate': 0.0051864876665500305, 'max_drop': 43, 'skip_drop': 0.1837116765621152, 'num_iterations': 1926}. Best is trial 206 with value: 0.8280621046578494.\u001b[0m\n",
      "\u001b[32m[I 2022-07-01 20:47:04,810]\u001b[0m Trial 263 finished with value: 0.8142610695802185 and parameters: {'boosting_type': 'dart', 'learning_rate': 0.028731833746421128, 'max_bin': 749, 'max_depth': 3, 'num_leaves': 251, 'min_data_in_leaf': 85, 'feature_fraction': 0.7578210839068699, 'lambda_l1': 1.1547655598254847, 'lambda_l2': 2.704399698887565, 'bagging_fraction': 0.7021361309895096, 'bagging_freq': 2, 'drop_rate': 0.006077948359664576, 'max_drop': 68, 'skip_drop': 0.20982647705484542, 'num_iterations': 1908}. Best is trial 206 with value: 0.8280621046578494.\u001b[0m\n",
      "\u001b[32m[I 2022-07-01 20:47:11,292]\u001b[0m Trial 264 finished with value: 0.8205865439907993 and parameters: {'boosting_type': 'dart', 'learning_rate': 0.018391674791642856, 'max_bin': 788, 'max_depth': -1, 'num_leaves': 241, 'min_data_in_leaf': 88, 'feature_fraction': 0.7351438936995017, 'lambda_l1': 1.2926097677257682, 'lambda_l2': 1.6201977402768435, 'bagging_fraction': 0.7714764985824375, 'bagging_freq': 2, 'drop_rate': 0.006630688222716785, 'max_drop': 77, 'skip_drop': 0.26002576016406737, 'num_iterations': 1959}. Best is trial 206 with value: 0.8280621046578494.\u001b[0m\n",
      "\u001b[32m[I 2022-07-01 20:47:15,380]\u001b[0m Trial 265 finished with value: 0.8246118458884416 and parameters: {'boosting_type': 'dart', 'learning_rate': 0.02261894927698745, 'max_bin': 729, 'max_depth': -1, 'num_leaves': 256, 'min_data_in_leaf': 83, 'feature_fraction': 0.7160553500366317, 'lambda_l1': 3.910935789814174, 'lambda_l2': 3.058576509572665, 'bagging_fraction': 0.6639892662263808, 'bagging_freq': 1, 'drop_rate': 0.004454113852627869, 'max_drop': 71, 'skip_drop': 0.17137401646853093, 'num_iterations': 1865}. Best is trial 206 with value: 0.8280621046578494.\u001b[0m\n",
      "\u001b[32m[I 2022-07-01 20:47:19,191]\u001b[0m Trial 266 finished with value: 0.8205865439907993 and parameters: {'boosting_type': 'dart', 'learning_rate': 0.02314588974305232, 'max_bin': 729, 'max_depth': -1, 'num_leaves': 253, 'min_data_in_leaf': 82, 'feature_fraction': 0.7462859359663856, 'lambda_l1': 6.163728520913583, 'lambda_l2': 6.956715115859732, 'bagging_fraction': 0.6459615046172563, 'bagging_freq': 1, 'drop_rate': 0.00458252795726557, 'max_drop': 70, 'skip_drop': 0.17248566370663648, 'num_iterations': 1923}. Best is trial 206 with value: 0.8280621046578494.\u001b[0m\n",
      "\u001b[32m[I 2022-07-01 20:47:23,474]\u001b[0m Trial 267 finished with value: 0.824036802760207 and parameters: {'boosting_type': 'dart', 'learning_rate': 0.016709147143435292, 'max_bin': 670, 'max_depth': -1, 'num_leaves': 248, 'min_data_in_leaf': 86, 'feature_fraction': 0.676562365629002, 'lambda_l1': 1.9771486366292568, 'lambda_l2': 9.912971798214977, 'bagging_fraction': 0.788770822812493, 'bagging_freq': 2, 'drop_rate': 0.0032819543108667587, 'max_drop': 40, 'skip_drop': 0.1973785107844768, 'num_iterations': 1892}. Best is trial 206 with value: 0.8280621046578494.\u001b[0m\n",
      "\u001b[32m[I 2022-07-01 20:47:27,929]\u001b[0m Trial 268 finished with value: 0.8234617596319724 and parameters: {'boosting_type': 'dart', 'learning_rate': 0.019468862498527775, 'max_bin': 746, 'max_depth': -1, 'num_leaves': 244, 'min_data_in_leaf': 89, 'feature_fraction': 0.6992467362086269, 'lambda_l1': 1.02574638512003, 'lambda_l2': 4.440255210838174, 'bagging_fraction': 0.6811751955259678, 'bagging_freq': 4, 'drop_rate': 0.0038133831788272074, 'max_drop': 39, 'skip_drop': 0.09943332269270645, 'num_iterations': 1872}. Best is trial 206 with value: 0.8280621046578494.\u001b[0m\n",
      "\u001b[32m[I 2022-07-01 20:47:33,965]\u001b[0m Trial 269 finished with value: 0.821161587119034 and parameters: {'boosting_type': 'dart', 'learning_rate': 0.023266594704781547, 'max_bin': 824, 'max_depth': -1, 'num_leaves': 252, 'min_data_in_leaf': 80, 'feature_fraction': 0.7551935647545189, 'lambda_l1': 1.441883224922645, 'lambda_l2': 1.036148710720858, 'bagging_fraction': 0.6635240398991801, 'bagging_freq': 1, 'drop_rate': 0.005127747552975013, 'max_drop': 75, 'skip_drop': 0.18692791987771, 'num_iterations': 1960}. Best is trial 206 with value: 0.8280621046578494.\u001b[0m\n",
      "\u001b[32m[I 2022-07-01 20:47:38,000]\u001b[0m Trial 270 finished with value: 0.824036802760207 and parameters: {'boosting_type': 'dart', 'learning_rate': 0.021121000269943076, 'max_bin': 398, 'max_depth': -1, 'num_leaves': 254, 'min_data_in_leaf': 82, 'feature_fraction': 0.7653449257111331, 'lambda_l1': 3.7698863961159548, 'lambda_l2': 2.4898965167237854, 'bagging_fraction': 0.6681047320379342, 'bagging_freq': 1, 'drop_rate': 0.004004659438955689, 'max_drop': 72, 'skip_drop': 0.1654272552437079, 'num_iterations': 1836}. Best is trial 206 with value: 0.8280621046578494.\u001b[0m\n",
      "\u001b[32m[I 2022-07-01 20:47:42,835]\u001b[0m Trial 271 finished with value: 0.821161587119034 and parameters: {'boosting_type': 'dart', 'learning_rate': 0.02166593993907979, 'max_bin': 722, 'max_depth': -1, 'num_leaves': 235, 'min_data_in_leaf': 84, 'feature_fraction': 0.7220521228471888, 'lambda_l1': 1.7376513443111579, 'lambda_l2': 3.010446535845345, 'bagging_fraction': 0.4618958338969944, 'bagging_freq': 1, 'drop_rate': 0.005756303166552453, 'max_drop': 68, 'skip_drop': 0.210062090697916, 'num_iterations': 1867}. Best is trial 206 with value: 0.8280621046578494.\u001b[0m\n",
      "\u001b[32m[I 2022-07-01 20:47:48,200]\u001b[0m Trial 272 finished with value: 0.821161587119034 and parameters: {'boosting_type': 'dart', 'learning_rate': 0.02540645431279645, 'max_bin': 693, 'max_depth': -1, 'num_leaves': 215, 'min_data_in_leaf': 94, 'feature_fraction': 0.7388927660502376, 'lambda_l1': 2.1971446001401054, 'lambda_l2': 6.756062930390308, 'bagging_fraction': 0.8187819525782972, 'bagging_freq': 1, 'drop_rate': 0.004892504237070288, 'max_drop': 56, 'skip_drop': 0.11742077878294174, 'num_iterations': 1901}. Best is trial 206 with value: 0.8280621046578494.\u001b[0m\n",
      "\u001b[32m[I 2022-07-01 20:47:53,405]\u001b[0m Trial 273 finished with value: 0.8154111558366878 and parameters: {'boosting_type': 'dart', 'learning_rate': 0.015692313700546204, 'max_bin': 646, 'max_depth': -1, 'num_leaves': 248, 'min_data_in_leaf': 92, 'feature_fraction': 0.7133842424265109, 'lambda_l1': 0.8094218173826757, 'lambda_l2': 4.925454706573299, 'bagging_fraction': 0.7843523251471107, 'bagging_freq': 5, 'drop_rate': 0.005416182219008861, 'max_drop': 53, 'skip_drop': 0.14368987794759944, 'num_iterations': 1933}. Best is trial 206 with value: 0.8280621046578494.\u001b[0m\n",
      "\u001b[32m[I 2022-07-01 20:47:55,526]\u001b[0m Trial 274 finished with value: 0.8159861989649224 and parameters: {'boosting_type': 'dart', 'learning_rate': 0.032273004478421165, 'max_bin': 780, 'max_depth': 3, 'num_leaves': 237, 'min_data_in_leaf': 87, 'feature_fraction': 0.7316295432779125, 'lambda_l1': 1.2470025896828296, 'lambda_l2': 6.523684408979301, 'bagging_fraction': 0.7424974298759993, 'bagging_freq': 2, 'drop_rate': 0.006279156152017585, 'max_drop': 49, 'skip_drop': 0.24721460056219052, 'num_iterations': 1991}. Best is trial 206 with value: 0.8280621046578494.\u001b[0m\n",
      "\u001b[32m[I 2022-07-01 20:48:01,253]\u001b[0m Trial 275 finished with value: 0.8280621046578494 and parameters: {'boosting_type': 'dart', 'learning_rate': 0.027247736661697174, 'max_bin': 751, 'max_depth': -1, 'num_leaves': 250, 'min_data_in_leaf': 88, 'feature_fraction': 0.7742764537194982, 'lambda_l1': 1.0830179054225024, 'lambda_l2': 4.542916771701628, 'bagging_fraction': 0.7100060753331552, 'bagging_freq': 2, 'drop_rate': 0.006878107258910014, 'max_drop': 73, 'skip_drop': 0.22796642350135557, 'num_iterations': 1968}. Best is trial 206 with value: 0.8280621046578494.\u001b[0m\n",
      "\u001b[32m[I 2022-07-01 20:48:06,960]\u001b[0m Trial 276 finished with value: 0.8217366302472685 and parameters: {'boosting_type': 'dart', 'learning_rate': 0.02602605061169935, 'max_bin': 758, 'max_depth': -1, 'num_leaves': 244, 'min_data_in_leaf': 86, 'feature_fraction': 0.7848128018060232, 'lambda_l1': 1.0782099740868576, 'lambda_l2': 1.7347215031673233, 'bagging_fraction': 0.7210243740462636, 'bagging_freq': 2, 'drop_rate': 0.0069167763010770525, 'max_drop': 73, 'skip_drop': 0.22033218602180143, 'num_iterations': 1902}. Best is trial 206 with value: 0.8280621046578494.\u001b[0m\n",
      "\u001b[32m[I 2022-07-01 20:48:12,132]\u001b[0m Trial 277 finished with value: 0.8200115008625647 and parameters: {'boosting_type': 'dart', 'learning_rate': 0.025930191069712564, 'max_bin': 710, 'max_depth': -1, 'num_leaves': 249, 'min_data_in_leaf': 91, 'feature_fraction': 0.7714729821440013, 'lambda_l1': 1.5806002873740195, 'lambda_l2': 9.991277069888874, 'bagging_fraction': 0.6918574041745875, 'bagging_freq': 1, 'drop_rate': 0.008543808930225499, 'max_drop': 44, 'skip_drop': 0.15904352017469348, 'num_iterations': 1943}. Best is trial 206 with value: 0.8280621046578494.\u001b[0m\n",
      "\u001b[32m[I 2022-07-01 20:48:16,287]\u001b[0m Trial 278 finished with value: 0.8257619321449109 and parameters: {'boosting_type': 'dart', 'learning_rate': 0.018362536583352435, 'max_bin': 614, 'max_depth': -1, 'num_leaves': 247, 'min_data_in_leaf': 90, 'feature_fraction': 0.6818944908188208, 'lambda_l1': 0.8834104094177019, 'lambda_l2': 3.7563353084367503, 'bagging_fraction': 0.7668733226517394, 'bagging_freq': 10, 'drop_rate': 0.00360750358741066, 'max_drop': 41, 'skip_drop': 0.1843911923527909, 'num_iterations': 1721}. Best is trial 206 with value: 0.8280621046578494.\u001b[0m\n",
      "\u001b[32m[I 2022-07-01 20:48:23,297]\u001b[0m Trial 279 finished with value: 0.8154111558366878 and parameters: {'boosting_type': 'dart', 'learning_rate': 0.0391820526465267, 'max_bin': 806, 'max_depth': -1, 'num_leaves': 242, 'min_data_in_leaf': 88, 'feature_fraction': 0.7555185275232791, 'lambda_l1': 1.3726292014090358, 'lambda_l2': 5.02852734819626, 'bagging_fraction': 0.7334521596227448, 'bagging_freq': 2, 'drop_rate': 0.007470188559000602, 'max_drop': 41, 'skip_drop': 0.3074474348474636, 'num_iterations': 1973}. Best is trial 206 with value: 0.8280621046578494.\u001b[0m\n",
      "\u001b[32m[I 2022-07-01 20:48:30,119]\u001b[0m Trial 280 finished with value: 0.824036802760207 and parameters: {'boosting_type': 'dart', 'learning_rate': 0.01898404976626199, 'max_bin': 771, 'max_depth': -1, 'num_leaves': 228, 'min_data_in_leaf': 84, 'feature_fraction': 0.6636538394486877, 'lambda_l1': 0.9180718491932314, 'lambda_l2': 3.529477627050711, 'bagging_fraction': 0.757184263840652, 'bagging_freq': 7, 'drop_rate': 0.005567860210840453, 'max_drop': 47, 'skip_drop': 0.1927553788645829, 'num_iterations': 1944}. Best is trial 206 with value: 0.8280621046578494.\u001b[0m\n",
      "\u001b[32m[I 2022-07-01 20:48:35,688]\u001b[0m Trial 281 finished with value: 0.824036802760207 and parameters: {'boosting_type': 'dart', 'learning_rate': 0.021586560504640955, 'max_bin': 730, 'max_depth': -1, 'num_leaves': 255, 'min_data_in_leaf': 79, 'feature_fraction': 0.6841860565430317, 'lambda_l1': 3.589725678551768, 'lambda_l2': 1.8344452891213514, 'bagging_fraction': 0.6439311254664888, 'bagging_freq': 1, 'drop_rate': 0.004152263487884503, 'max_drop': 38, 'skip_drop': 0.1785879159860419, 'num_iterations': 1853}. Best is trial 206 with value: 0.8280621046578494.\u001b[0m\n",
      "\u001b[32m[I 2022-07-01 20:48:42,891]\u001b[0m Trial 282 finished with value: 0.8159861989649224 and parameters: {'boosting_type': 'dart', 'learning_rate': 0.016327715661471877, 'max_bin': 845, 'max_depth': -1, 'num_leaves': 247, 'min_data_in_leaf': 90, 'feature_fraction': 0.6714081065407388, 'lambda_l1': 2.590918685733081, 'lambda_l2': 3.919473678675696, 'bagging_fraction': 0.7675686588635416, 'bagging_freq': 2, 'drop_rate': 0.006706723221733773, 'max_drop': 75, 'skip_drop': 0.23301501101937794, 'num_iterations': 1978}. Best is trial 206 with value: 0.8280621046578494.\u001b[0m\n",
      "\u001b[32m[I 2022-07-01 20:48:48,817]\u001b[0m Trial 283 finished with value: 0.8142610695802185 and parameters: {'boosting_type': 'dart', 'learning_rate': 0.032381087198796905, 'max_bin': 747, 'max_depth': -1, 'num_leaves': 251, 'min_data_in_leaf': 86, 'feature_fraction': 0.7876768155678536, 'lambda_l1': 1.0157374220110014, 'lambda_l2': 1.2375681100759726, 'bagging_fraction': 0.773371470658108, 'bagging_freq': 3, 'drop_rate': 0.0033711236286522854, 'max_drop': 40, 'skip_drop': 0.20211739754585772, 'num_iterations': 1694}. Best is trial 206 with value: 0.8280621046578494.\u001b[0m\n",
      "\u001b[32m[I 2022-07-01 20:48:54,081]\u001b[0m Trial 284 finished with value: 0.8251868890166763 and parameters: {'boosting_type': 'dart', 'learning_rate': 0.019498095048610223, 'max_bin': 700, 'max_depth': -1, 'num_leaves': 254, 'min_data_in_leaf': 83, 'feature_fraction': 0.7201065189293532, 'lambda_l1': 0.9292030270538376, 'lambda_l2': 3.709076961903979e-05, 'bagging_fraction': 0.677251525510269, 'bagging_freq': 10, 'drop_rate': 0.004540021127579738, 'max_drop': 71, 'skip_drop': 0.18571153333014795, 'num_iterations': 1728}. Best is trial 206 with value: 0.8280621046578494.\u001b[0m\n",
      "\u001b[32m[I 2022-07-01 20:48:59,852]\u001b[0m Trial 285 finished with value: 0.824036802760207 and parameters: {'boosting_type': 'dart', 'learning_rate': 0.022924876645073707, 'max_bin': 697, 'max_depth': -1, 'num_leaves': 234, 'min_data_in_leaf': 82, 'feature_fraction': 0.7224926698107029, 'lambda_l1': 4.1756190524911965, 'lambda_l2': 4.6202571776915734e-05, 'bagging_fraction': 0.6895305567140176, 'bagging_freq': 2, 'drop_rate': 0.004473072404780862, 'max_drop': 71, 'skip_drop': 0.21441967450895677, 'num_iterations': 1877}. Best is trial 206 with value: 0.8280621046578494.\u001b[0m\n",
      "\u001b[32m[I 2022-07-01 20:49:06,998]\u001b[0m Trial 286 finished with value: 0.8131109833237493 and parameters: {'boosting_type': 'dart', 'learning_rate': 0.01733145883864756, 'max_bin': 679, 'max_depth': -1, 'num_leaves': 40, 'min_data_in_leaf': 84, 'feature_fraction': 0.7440222332237436, 'lambda_l1': 1.1612780426605307, 'lambda_l2': 3.131601890621937e-05, 'bagging_fraction': 0.706005354265506, 'bagging_freq': 2, 'drop_rate': 0.001570198421215618, 'max_drop': 66, 'skip_drop': 0.1989758372293253, 'num_iterations': 1940}. Best is trial 206 with value: 0.8280621046578494.\u001b[0m\n",
      "\u001b[32m[I 2022-07-01 20:49:14,819]\u001b[0m Trial 287 finished with value: 0.8182863714778609 and parameters: {'boosting_type': 'dart', 'learning_rate': 0.027979675683686544, 'max_bin': 882, 'max_depth': -1, 'num_leaves': 227, 'min_data_in_leaf': 88, 'feature_fraction': 0.7361132686143996, 'lambda_l1': 1.5299260764251443, 'lambda_l2': 1.702341559472735e-06, 'bagging_fraction': 0.6766717416907204, 'bagging_freq': 2, 'drop_rate': 0.004832752325221595, 'max_drop': 73, 'skip_drop': 0.22133077925029326, 'num_iterations': 1728}. Best is trial 206 with value: 0.8280621046578494.\u001b[0m\n",
      "\u001b[32m[I 2022-07-01 20:49:18,733]\u001b[0m Trial 288 finished with value: 0.81196089706728 and parameters: {'boosting_type': 'dart', 'learning_rate': 0.028116021837661306, 'max_bin': 796, 'max_depth': 3, 'num_leaves': 240, 'min_data_in_leaf': 89, 'feature_fraction': 0.7258328999771757, 'lambda_l1': 1.7395476351202679, 'lambda_l2': 3.82670281581665e-06, 'bagging_fraction': 0.7194255273964103, 'bagging_freq': 10, 'drop_rate': 0.009371514320136116, 'max_drop': 77, 'skip_drop': 0.18749245146738644, 'num_iterations': 2000}. Best is trial 206 with value: 0.8280621046578494.\u001b[0m\n",
      "\u001b[32m[I 2022-07-01 20:49:26,948]\u001b[0m Trial 289 finished with value: 0.8228867165037378 and parameters: {'boosting_type': 'dart', 'learning_rate': 0.014899808306887745, 'max_bin': 767, 'max_depth': -1, 'num_leaves': 245, 'min_data_in_leaf': 85, 'feature_fraction': 0.7733227603882539, 'lambda_l1': 1.1347140907221753, 'lambda_l2': 8.220020876750223e-06, 'bagging_fraction': 0.736604831084929, 'bagging_freq': 2, 'drop_rate': 0.005865113070012198, 'max_drop': 43, 'skip_drop': 0.21243704045385398, 'num_iterations': 1922}. Best is trial 206 with value: 0.8280621046578494.\u001b[0m\n",
      "\u001b[32m[I 2022-07-01 20:49:33,838]\u001b[0m Trial 290 finished with value: 0.8223116733755031 and parameters: {'boosting_type': 'dart', 'learning_rate': 0.019178833786460164, 'max_bin': 713, 'max_depth': -1, 'num_leaves': 255, 'min_data_in_leaf': 78, 'feature_fraction': 0.7643455334656057, 'lambda_l1': 1.3943408069094665, 'lambda_l2': 2.5674464650403905, 'bagging_fraction': 0.6743905109197298, 'bagging_freq': 1, 'drop_rate': 0.004993380435562246, 'max_drop': 61, 'skip_drop': 0.17293077708356042, 'num_iterations': 1886}. Best is trial 206 with value: 0.8280621046578494.\u001b[0m\n",
      "\u001b[32m[I 2022-07-01 20:49:41,171]\u001b[0m Trial 291 finished with value: 0.8205865439907993 and parameters: {'boosting_type': 'dart', 'learning_rate': 0.0201255559159417, 'max_bin': 671, 'max_depth': -1, 'num_leaves': 248, 'min_data_in_leaf': 68, 'feature_fraction': 0.7491316998570603, 'lambda_l1': 0.8498059126857889, 'lambda_l2': 9.927665347465611, 'bagging_fraction': 0.7511398883098805, 'bagging_freq': 10, 'drop_rate': 0.003656954812274339, 'max_drop': 42, 'skip_drop': 0.15324663877612058, 'num_iterations': 1817}. Best is trial 206 with value: 0.8280621046578494.\u001b[0m\n",
      "\u001b[32m[I 2022-07-01 20:49:47,635]\u001b[0m Trial 292 finished with value: 0.821161587119034 and parameters: {'boosting_type': 'dart', 'learning_rate': 0.03595493757137015, 'max_bin': 743, 'max_depth': -1, 'num_leaves': 256, 'min_data_in_leaf': 81, 'feature_fraction': 0.7428692674853723, 'lambda_l1': 1.906607460308589, 'lambda_l2': 6.856838957765531, 'bagging_fraction': 0.658069265288914, 'bagging_freq': 1, 'drop_rate': 0.004424899373814334, 'max_drop': 71, 'skip_drop': 0.18863762847304416, 'num_iterations': 1923}. Best is trial 206 with value: 0.8280621046578494.\u001b[0m\n",
      "\u001b[32m[I 2022-07-01 20:49:57,873]\u001b[0m Trial 293 finished with value: 0.8090856814261069 and parameters: {'boosting_type': 'dart', 'learning_rate': 0.01726418650581985, 'max_bin': 648, 'max_depth': -1, 'num_leaves': 242, 'min_data_in_leaf': 91, 'feature_fraction': 0.7082639903354506, 'lambda_l1': 7.865379338613715, 'lambda_l2': 0.7682561621251597, 'bagging_fraction': 0.7657845197641764, 'bagging_freq': 10, 'drop_rate': 0.0749403253520955, 'max_drop': 45, 'skip_drop': 0.1600993715327386, 'num_iterations': 1958}. Best is trial 206 with value: 0.8280621046578494.\u001b[0m\n",
      "\u001b[32m[I 2022-07-01 20:50:02,421]\u001b[0m Trial 294 finished with value: 0.8188614146060954 and parameters: {'boosting_type': 'dart', 'learning_rate': 0.025742523190351224, 'max_bin': 153, 'max_depth': -1, 'num_leaves': 64, 'min_data_in_leaf': 83, 'feature_fraction': 0.7270870557078414, 'lambda_l1': 1.3114567205275063, 'lambda_l2': 2.5850210694739286, 'bagging_fraction': 0.6831095462835547, 'bagging_freq': 1, 'drop_rate': 0.004383942768375584, 'max_drop': 79, 'skip_drop': 0.23364964674222144, 'num_iterations': 1852}. Best is trial 206 with value: 0.8280621046578494.\u001b[0m\n",
      "\u001b[32m[I 2022-07-01 20:50:10,702]\u001b[0m Trial 295 finished with value: 0.8200115008625647 and parameters: {'boosting_type': 'dart', 'learning_rate': 0.03112802654552513, 'max_bin': 818, 'max_depth': -1, 'num_leaves': 239, 'min_data_in_leaf': 87, 'feature_fraction': 0.7419677373853993, 'lambda_l1': 1.2544528892245688, 'lambda_l2': 0.00041510230079230386, 'bagging_fraction': 0.7068462221434025, 'bagging_freq': 2, 'drop_rate': 0.0076629159086467795, 'max_drop': 75, 'skip_drop': 0.24019187295624608, 'num_iterations': 1969}. Best is trial 206 with value: 0.8280621046578494.\u001b[0m\n",
      "\u001b[32m[I 2022-07-01 20:50:17,571]\u001b[0m Trial 296 finished with value: 0.8159861989649224 and parameters: {'boosting_type': 'dart', 'learning_rate': 0.046690127928122556, 'max_bin': 761, 'max_depth': -1, 'num_leaves': 249, 'min_data_in_leaf': 87, 'feature_fraction': 0.7346944553500961, 'lambda_l1': 1.0334202212619135, 'lambda_l2': 4.6182891772746855, 'bagging_fraction': 0.6191922068214204, 'bagging_freq': 2, 'drop_rate': 0.006320668170729505, 'max_drop': 74, 'skip_drop': 0.2741155318405092, 'num_iterations': 1977}. Best is trial 206 with value: 0.8280621046578494.\u001b[0m\n",
      "\u001b[32m[I 2022-07-01 20:50:25,166]\u001b[0m Trial 297 finished with value: 0.8171362852213916 and parameters: {'boosting_type': 'dart', 'learning_rate': 0.029660141632738495, 'max_bin': 725, 'max_depth': -1, 'num_leaves': 231, 'min_data_in_leaf': 84, 'feature_fraction': 0.7300634820651725, 'lambda_l1': 1.596360548775976, 'lambda_l2': 1.6593491330705163, 'bagging_fraction': 0.7271951342809836, 'bagging_freq': 2, 'drop_rate': 0.005392034709993726, 'max_drop': 69, 'skip_drop': 0.2593144296942766, 'num_iterations': 1996}. Best is trial 206 with value: 0.8280621046578494.\u001b[0m\n",
      "\u001b[32m[I 2022-07-01 20:50:31,996]\u001b[0m Trial 298 finished with value: 0.824036802760207 and parameters: {'boosting_type': 'dart', 'learning_rate': 0.024546134305705496, 'max_bin': 744, 'max_depth': -1, 'num_leaves': 245, 'min_data_in_leaf': 86, 'feature_fraction': 0.7796231735025035, 'lambda_l1': 1.1072688593537654, 'lambda_l2': 6.537247404023725e-05, 'bagging_fraction': 0.7011856369129913, 'bagging_freq': 1, 'drop_rate': 0.005869043288809093, 'max_drop': 70, 'skip_drop': 0.2051751592507981, 'num_iterations': 1913}. Best is trial 206 with value: 0.8280621046578494.\u001b[0m\n",
      "\u001b[32m[I 2022-07-01 20:50:34,794]\u001b[0m Trial 299 finished with value: 0.8096607245543416 and parameters: {'boosting_type': 'dart', 'learning_rate': 0.014621797266376881, 'max_bin': 698, 'max_depth': 3, 'num_leaves': 242, 'min_data_in_leaf': 81, 'feature_fraction': 0.6920871516873022, 'lambda_l1': 0.9456612572230451, 'lambda_l2': 3.392048381429295, 'bagging_fraction': 0.7482677882981997, 'bagging_freq': 3, 'drop_rate': 0.007264882540430972, 'max_drop': 47, 'skip_drop': 0.18901657625955834, 'num_iterations': 1902}. Best is trial 206 with value: 0.8280621046578494.\u001b[0m\n",
      "\u001b[32m[I 2022-07-01 20:50:45,628]\u001b[0m Trial 300 finished with value: 0.8154111558366878 and parameters: {'boosting_type': 'dart', 'learning_rate': 0.022876358978384123, 'max_bin': 717, 'max_depth': -1, 'num_leaves': 233, 'min_data_in_leaf': 12, 'feature_fraction': 0.7576781227049215, 'lambda_l1': 2.3201569939149147, 'lambda_l2': 5.6074667568505046, 'bagging_fraction': 0.6981598678931334, 'bagging_freq': 1, 'drop_rate': 0.005083991330803148, 'max_drop': 68, 'skip_drop': 0.21915534012739463, 'num_iterations': 1795}. Best is trial 206 with value: 0.8280621046578494.\u001b[0m\n",
      "\u001b[32m[I 2022-07-01 20:50:51,547]\u001b[0m Trial 301 finished with value: 0.8234617596319724 and parameters: {'boosting_type': 'dart', 'learning_rate': 0.020049853920850094, 'max_bin': 693, 'max_depth': -1, 'num_leaves': 256, 'min_data_in_leaf': 83, 'feature_fraction': 0.7172275854547633, 'lambda_l1': 1.462824425301012, 'lambda_l2': 3.1666089567521776e-07, 'bagging_fraction': 0.6680686717069024, 'bagging_freq': 10, 'drop_rate': 0.0047569484776154615, 'max_drop': 50, 'skip_drop': 0.1693314484535908, 'num_iterations': 1864}. Best is trial 206 with value: 0.8280621046578494.\u001b[0m\n",
      "\u001b[32m[I 2022-07-01 20:50:57,697]\u001b[0m Trial 302 finished with value: 0.8274870615296147 and parameters: {'boosting_type': 'dart', 'learning_rate': 0.023867264526179252, 'max_bin': 712, 'max_depth': -1, 'num_leaves': 250, 'min_data_in_leaf': 90, 'feature_fraction': 0.7639826381791076, 'lambda_l1': 2.0068896920295614, 'lambda_l2': 9.955134847320359e-05, 'bagging_fraction': 0.7199960404670567, 'bagging_freq': 1, 'drop_rate': 0.00423418172582325, 'max_drop': 44, 'skip_drop': 0.11143553155803354, 'num_iterations': 1943}. Best is trial 206 with value: 0.8280621046578494.\u001b[0m\n",
      "\u001b[32m[I 2022-07-01 20:51:03,832]\u001b[0m Trial 303 finished with value: 0.8228867165037378 and parameters: {'boosting_type': 'dart', 'learning_rate': 0.02187890804503959, 'max_bin': 784, 'max_depth': -1, 'num_leaves': 238, 'min_data_in_leaf': 89, 'feature_fraction': 0.7741652205413943, 'lambda_l1': 2.05656502151801, 'lambda_l2': 1.621124417327871e-05, 'bagging_fraction': 0.717202216291873, 'bagging_freq': 4, 'drop_rate': 0.003952698942589448, 'max_drop': 77, 'skip_drop': 0.09480657240678553, 'num_iterations': 1951}. Best is trial 206 with value: 0.8280621046578494.\u001b[0m\n",
      "\u001b[32m[I 2022-07-01 20:51:11,606]\u001b[0m Trial 304 finished with value: 0.8159861989649224 and parameters: {'boosting_type': 'dart', 'learning_rate': 0.032092362277736916, 'max_bin': 760, 'max_depth': -1, 'num_leaves': 237, 'min_data_in_leaf': 85, 'feature_fraction': 0.7529176563064885, 'lambda_l1': 1.716928798128705, 'lambda_l2': 0.0008688806070321861, 'bagging_fraction': 0.7146043039657655, 'bagging_freq': 2, 'drop_rate': 0.006349926470005509, 'max_drop': 73, 'skip_drop': 0.23667403304046422, 'num_iterations': 1999}. Best is trial 206 with value: 0.8280621046578494.\u001b[0m\n",
      "\u001b[32m[I 2022-07-01 20:51:17,485]\u001b[0m Trial 305 finished with value: 0.8223116733755031 and parameters: {'boosting_type': 'dart', 'learning_rate': 0.026174274459329846, 'max_bin': 823, 'max_depth': -1, 'num_leaves': 246, 'min_data_in_leaf': 88, 'feature_fraction': 0.7978858533767016, 'lambda_l1': 2.0941164111930686, 'lambda_l2': 9.965713584994455e-05, 'bagging_fraction': 0.5428210908380184, 'bagging_freq': 1, 'drop_rate': 0.005558100123909183, 'max_drop': 83, 'skip_drop': 0.10879778917334451, 'num_iterations': 1947}. Best is trial 206 with value: 0.8280621046578494.\u001b[0m\n",
      "\u001b[32m[I 2022-07-01 20:51:24,575]\u001b[0m Trial 306 finished with value: 0.8223116733755031 and parameters: {'boosting_type': 'dart', 'learning_rate': 0.03804545604431761, 'max_bin': 736, 'max_depth': -1, 'num_leaves': 241, 'min_data_in_leaf': 87, 'feature_fraction': 0.7659404822583672, 'lambda_l1': 2.5683304965889873, 'lambda_l2': 0.00014348662129067138, 'bagging_fraction': 0.7326213835208103, 'bagging_freq': 2, 'drop_rate': 0.006831626937596505, 'max_drop': 72, 'skip_drop': 0.22375001040599082, 'num_iterations': 1955}. Best is trial 206 with value: 0.8280621046578494.\u001b[0m\n",
      "\u001b[32m[I 2022-07-01 20:51:29,788]\u001b[0m Trial 307 finished with value: 0.8217366302472685 and parameters: {'boosting_type': 'dart', 'learning_rate': 0.018356449532953196, 'max_bin': 661, 'max_depth': -1, 'num_leaves': 250, 'min_data_in_leaf': 90, 'feature_fraction': 0.6819613556995086, 'lambda_l1': 0.9606594280071628, 'lambda_l2': 2.131554459512049, 'bagging_fraction': 0.7831083718167412, 'bagging_freq': 10, 'drop_rate': 0.003670142248445696, 'max_drop': 38, 'skip_drop': 0.13920018114306726, 'num_iterations': 1716}. Best is trial 206 with value: 0.8280621046578494.\u001b[0m\n",
      "\u001b[32m[I 2022-07-01 20:51:37,031]\u001b[0m Trial 308 finished with value: 0.8142610695802185 and parameters: {'boosting_type': 'dart', 'learning_rate': 0.028464090521908673, 'max_bin': 793, 'max_depth': -1, 'num_leaves': 252, 'min_data_in_leaf': 85, 'feature_fraction': 0.7418827694993512, 'lambda_l1': 1.2412682218139062, 'lambda_l2': 7.683222809610789e-05, 'bagging_fraction': 0.7076915759017377, 'bagging_freq': 2, 'drop_rate': 0.007769768978242284, 'max_drop': 75, 'skip_drop': 0.44740282436898504, 'num_iterations': 1931}. Best is trial 206 with value: 0.8280621046578494.\u001b[0m\n",
      "\u001b[32m[I 2022-07-01 20:51:42,566]\u001b[0m Trial 309 finished with value: 0.8257619321449109 and parameters: {'boosting_type': 'dart', 'learning_rate': 0.026025895937443314, 'max_bin': 712, 'max_depth': -1, 'num_leaves': 247, 'min_data_in_leaf': 89, 'feature_fraction': 0.7264022823604644, 'lambda_l1': 1.9178086470798812, 'lambda_l2': 5.023859715205777, 'bagging_fraction': 0.690122200137327, 'bagging_freq': 1, 'drop_rate': 0.004069128947674142, 'max_drop': 43, 'skip_drop': 0.19712083365576857, 'num_iterations': 1967}. Best is trial 206 with value: 0.8280621046578494.\u001b[0m\n",
      "\u001b[32m[I 2022-07-01 20:51:48,724]\u001b[0m Trial 310 finished with value: 0.8073605520414031 and parameters: {'boosting_type': 'dart', 'learning_rate': 0.0009472208174911512, 'max_bin': 709, 'max_depth': -1, 'num_leaves': 248, 'min_data_in_leaf': 92, 'feature_fraction': 0.7584173348948953, 'lambda_l1': 0.03695049780240798, 'lambda_l2': 5.375913607539439e-05, 'bagging_fraction': 0.6842566228398713, 'bagging_freq': 1, 'drop_rate': 0.00435189692438317, 'max_drop': 44, 'skip_drop': 0.18120684490568867, 'num_iterations': 1900}. Best is trial 206 with value: 0.8280621046578494.\u001b[0m\n",
      "\u001b[32m[I 2022-07-01 20:51:50,666]\u001b[0m Trial 311 finished with value: 0.8136860264519838 and parameters: {'boosting_type': 'dart', 'learning_rate': 0.024258329523285434, 'max_bin': 306, 'max_depth': 3, 'num_leaves': 245, 'min_data_in_leaf': 89, 'feature_fraction': 0.7024203398584385, 'lambda_l1': 0.017036716769130454, 'lambda_l2': 0.00016818085473131102, 'bagging_fraction': 0.6943679175133545, 'bagging_freq': 1, 'drop_rate': 0.0039601466408459955, 'max_drop': 44, 'skip_drop': 0.20150289221287848, 'num_iterations': 1892}. Best is trial 206 with value: 0.8280621046578494.\u001b[0m\n",
      "\u001b[32m[I 2022-07-01 20:51:58,363]\u001b[0m Trial 312 finished with value: 0.8217366302472685 and parameters: {'boosting_type': 'dart', 'learning_rate': 0.020640527441947006, 'max_bin': 713, 'max_depth': 27, 'num_leaves': 32, 'min_data_in_leaf': 81, 'feature_fraction': 0.7525215083889077, 'lambda_l1': 2.3948587727611463, 'lambda_l2': 2.9464422327110644, 'bagging_fraction': 0.7451295583524128, 'bagging_freq': 1, 'drop_rate': 0.011160741898041672, 'max_drop': 41, 'skip_drop': 0.18746099261619714, 'num_iterations': 1934}. Best is trial 206 with value: 0.8280621046578494.\u001b[0m\n",
      "\u001b[32m[I 2022-07-01 20:52:06,594]\u001b[0m Trial 313 finished with value: 0.8148361127084531 and parameters: {'boosting_type': 'dart', 'learning_rate': 0.032691697708692596, 'max_bin': 771, 'max_depth': -1, 'num_leaves': 241, 'min_data_in_leaf': 58, 'feature_fraction': 0.7325988639021751, 'lambda_l1': 2.0284311082817315, 'lambda_l2': 2.638651819812712e-05, 'bagging_fraction': 0.7234597399233975, 'bagging_freq': 2, 'drop_rate': 0.005789682700256826, 'max_drop': 89, 'skip_drop': 0.25200139438890334, 'num_iterations': 1984}. Best is trial 206 with value: 0.8280621046578494.\u001b[0m\n",
      "\u001b[32m[I 2022-07-01 20:52:11,911]\u001b[0m Trial 314 finished with value: 0.8205865439907993 and parameters: {'boosting_type': 'dart', 'learning_rate': 0.025958519610038543, 'max_bin': 685, 'max_depth': -1, 'num_leaves': 250, 'min_data_in_leaf': 90, 'feature_fraction': 0.7191018889701156, 'lambda_l1': 1.8413540375401427, 'lambda_l2': 6.643131107391519, 'bagging_fraction': 0.689506960391003, 'bagging_freq': 1, 'drop_rate': 0.004145246256047072, 'max_drop': 46, 'skip_drop': 0.2957056148475218, 'num_iterations': 1961}. Best is trial 206 with value: 0.8280621046578494.\u001b[0m\n",
      "\u001b[32m[I 2022-07-01 20:52:17,064]\u001b[0m Trial 315 finished with value: 0.8096607245543416 and parameters: {'boosting_type': 'dart', 'learning_rate': 0.02328607183927972, 'max_bin': 728, 'max_depth': -1, 'num_leaves': 252, 'min_data_in_leaf': 91, 'feature_fraction': 0.7656647001578768, 'lambda_l1': 1.546789097988079, 'lambda_l2': 1.3063324789483011e-05, 'bagging_fraction': 0.758788951746512, 'bagging_freq': 1, 'drop_rate': 0.003016236574426885, 'max_drop': 64, 'skip_drop': 0.6865257275508241, 'num_iterations': 1922}. Best is trial 206 with value: 0.8280621046578494.\u001b[0m\n",
      "\u001b[32m[I 2022-07-01 20:52:23,156]\u001b[0m Trial 316 finished with value: 0.8246118458884416 and parameters: {'boosting_type': 'dart', 'learning_rate': 0.022288251536660808, 'max_bin': 746, 'max_depth': -1, 'num_leaves': 234, 'min_data_in_leaf': 74, 'feature_fraction': 0.7443550532522817, 'lambda_l1': 1.4637568312941351, 'lambda_l2': 6.148823229046853, 'bagging_fraction': 0.7367001547709215, 'bagging_freq': 1, 'drop_rate': 0.005055691262705864, 'max_drop': 66, 'skip_drop': 0.2127680270783242, 'num_iterations': 1845}. Best is trial 206 with value: 0.8280621046578494.\u001b[0m\n",
      "\u001b[32m[I 2022-07-01 20:52:31,052]\u001b[0m Trial 317 finished with value: 0.81196089706728 and parameters: {'boosting_type': 'dart', 'learning_rate': 0.02505339399808262, 'max_bin': 699, 'max_depth': -1, 'num_leaves': 248, 'min_data_in_leaf': 49, 'feature_fraction': 0.7605508444695854, 'lambda_l1': 1.870852148308165, 'lambda_l2': 3.0724214860509666e-05, 'bagging_fraction': 0.6979441725358125, 'bagging_freq': 1, 'drop_rate': 0.004822666536996234, 'max_drop': 43, 'skip_drop': 0.17526182470511442, 'num_iterations': 1882}. Best is trial 206 with value: 0.8280621046578494.\u001b[0m\n",
      "\u001b[32m[I 2022-07-01 20:52:37,335]\u001b[0m Trial 318 finished with value: 0.8217366302472685 and parameters: {'boosting_type': 'dart', 'learning_rate': 0.028004155100587912, 'max_bin': 745, 'max_depth': -1, 'num_leaves': 232, 'min_data_in_leaf': 80, 'feature_fraction': 0.7445012238832271, 'lambda_l1': 1.612234339774123, 'lambda_l2': 5.0725912194563225, 'bagging_fraction': 0.7378838773137809, 'bagging_freq': 1, 'drop_rate': 0.005096296121230563, 'max_drop': 67, 'skip_drop': 0.2094319629671578, 'num_iterations': 1914}. Best is trial 206 with value: 0.8280621046578494.\u001b[0m\n",
      "\u001b[32m[I 2022-07-01 20:52:44,364]\u001b[0m Trial 319 finished with value: 0.81943645773433 and parameters: {'boosting_type': 'dart', 'learning_rate': 0.01830121402222037, 'max_bin': 720, 'max_depth': -1, 'num_leaves': 243, 'min_data_in_leaf': 86, 'feature_fraction': 0.7811547808712732, 'lambda_l1': 2.91439947516217, 'lambda_l2': 3.8112420975920496, 'bagging_fraction': 0.7117616293567316, 'bagging_freq': 3, 'drop_rate': 0.008508696096441868, 'max_drop': 41, 'skip_drop': 0.19680224433572757, 'num_iterations': 1943}. Best is trial 206 with value: 0.8280621046578494.\u001b[0m\n",
      "\u001b[32m[I 2022-07-01 20:52:50,206]\u001b[0m Trial 320 finished with value: 0.8280621046578494 and parameters: {'boosting_type': 'dart', 'learning_rate': 0.021876959085037735, 'max_bin': 721, 'max_depth': -1, 'num_leaves': 253, 'min_data_in_leaf': 83, 'feature_fraction': 0.7733393781851235, 'lambda_l1': 2.2906996405622344, 'lambda_l2': 1.1832535331924008, 'bagging_fraction': 0.6759552862012024, 'bagging_freq': 1, 'drop_rate': 0.005386691015953938, 'max_drop': 72, 'skip_drop': 0.1748410612993968, 'num_iterations': 1869}. Best is trial 206 with value: 0.8280621046578494.\u001b[0m\n",
      "\u001b[32m[I 2022-07-01 20:52:54,858]\u001b[0m Trial 321 finished with value: 0.8269120184013801 and parameters: {'boosting_type': 'dart', 'learning_rate': 0.020725353883949048, 'max_bin': 678, 'max_depth': -1, 'num_leaves': 246, 'min_data_in_leaf': 78, 'feature_fraction': 0.7936343916289685, 'lambda_l1': 2.3151409744927953, 'lambda_l2': 0.47268174692486353, 'bagging_fraction': 0.6877892150630786, 'bagging_freq': 1, 'drop_rate': 0.004576308618715714, 'max_drop': 46, 'skip_drop': 0.13193192414048285, 'num_iterations': 1620}. Best is trial 206 with value: 0.8280621046578494.\u001b[0m\n",
      "\u001b[32m[I 2022-07-01 20:53:01,724]\u001b[0m Trial 322 finished with value: 0.8217366302472685 and parameters: {'boosting_type': 'dart', 'learning_rate': 0.020671949507915267, 'max_bin': 686, 'max_depth': -1, 'num_leaves': 246, 'min_data_in_leaf': 80, 'feature_fraction': 0.7832880583355846, 'lambda_l1': 2.3439726173893733, 'lambda_l2': 1.3687354345067302, 'bagging_fraction': 0.6794752049435034, 'bagging_freq': 1, 'drop_rate': 0.005445045024892732, 'max_drop': 46, 'skip_drop': 0.1911234544960827, 'num_iterations': 1876}. Best is trial 206 with value: 0.8280621046578494.\u001b[0m\n",
      "\u001b[32m[I 2022-07-01 20:53:06,946]\u001b[0m Trial 323 finished with value: 0.81196089706728 and parameters: {'boosting_type': 'dart', 'learning_rate': 0.06377443377414711, 'max_bin': 701, 'max_depth': -1, 'num_leaves': 251, 'min_data_in_leaf': 77, 'feature_fraction': 0.7912673278409775, 'lambda_l1': 2.65038296397778, 'lambda_l2': 0.6020599595309574, 'bagging_fraction': 0.6792282273943456, 'bagging_freq': 1, 'drop_rate': 0.004716132902020901, 'max_drop': 45, 'skip_drop': 0.35667209725385884, 'num_iterations': 1643}. Best is trial 206 with value: 0.8280621046578494.\u001b[0m\n",
      "\u001b[32m[I 2022-07-01 20:53:13,775]\u001b[0m Trial 324 finished with value: 0.8205865439907993 and parameters: {'boosting_type': 'dart', 'learning_rate': 0.020229407578873083, 'max_bin': 677, 'max_depth': -1, 'num_leaves': 252, 'min_data_in_leaf': 79, 'feature_fraction': 0.7962640334204963, 'lambda_l1': 2.158060096368882, 'lambda_l2': 0.9612688302541984, 'bagging_fraction': 0.6910182735092765, 'bagging_freq': 1, 'drop_rate': 0.005443480978353914, 'max_drop': 72, 'skip_drop': 0.1665459305813641, 'num_iterations': 1959}. Best is trial 206 with value: 0.8280621046578494.\u001b[0m\n",
      "\u001b[32m[I 2022-07-01 20:53:20,263]\u001b[0m Trial 325 finished with value: 0.8269120184013801 and parameters: {'boosting_type': 'dart', 'learning_rate': 0.02409033877250763, 'max_bin': 703, 'max_depth': -1, 'num_leaves': 256, 'min_data_in_leaf': 82, 'feature_fraction': 0.7717220473431701, 'lambda_l1': 2.7757652471150513, 'lambda_l2': 0.4643839875407637, 'bagging_fraction': 0.672662824565974, 'bagging_freq': 1, 'drop_rate': 0.004461369204556112, 'max_drop': 43, 'skip_drop': 0.11445965681216813, 'num_iterations': 2000}. Best is trial 206 with value: 0.8280621046578494.\u001b[0m\n",
      "\u001b[32m[I 2022-07-01 20:53:23,021]\u001b[0m Trial 326 finished with value: 0.8016101207590569 and parameters: {'boosting_type': 'dart', 'learning_rate': 0.00028942185503072574, 'max_bin': 725, 'max_depth': 3, 'num_leaves': 256, 'min_data_in_leaf': 83, 'feature_fraction': 0.7755959819379651, 'lambda_l1': 3.1766869385708687, 'lambda_l2': 0.5436806059849286, 'bagging_fraction': 0.6699379288671684, 'bagging_freq': 6, 'drop_rate': 0.004553329675681561, 'max_drop': 48, 'skip_drop': 0.10956827490732567, 'num_iterations': 1989}. Best is trial 206 with value: 0.8280621046578494.\u001b[0m\n",
      "\u001b[32m[I 2022-07-01 20:53:30,061]\u001b[0m Trial 327 finished with value: 0.8251868890166763 and parameters: {'boosting_type': 'dart', 'learning_rate': 0.025111867729857757, 'max_bin': 704, 'max_depth': 23, 'num_leaves': 256, 'min_data_in_leaf': 76, 'feature_fraction': 0.7783196902451539, 'lambda_l1': 2.2839054708439126, 'lambda_l2': 0.5815968811535067, 'bagging_fraction': 0.6523924318383814, 'bagging_freq': 1, 'drop_rate': 0.006305184152937951, 'max_drop': 43, 'skip_drop': 0.11960572161909841, 'num_iterations': 1971}. Best is trial 206 with value: 0.8280621046578494.\u001b[0m\n",
      "\u001b[32m[I 2022-07-01 20:53:35,659]\u001b[0m Trial 328 finished with value: 0.8217366302472685 and parameters: {'boosting_type': 'dart', 'learning_rate': 0.023917226301277114, 'max_bin': 710, 'max_depth': 19, 'num_leaves': 247, 'min_data_in_leaf': 72, 'feature_fraction': 0.7874329696752911, 'lambda_l1': 2.53310966345045, 'lambda_l2': 0.4296178105334562, 'bagging_fraction': 0.6381981755335749, 'bagging_freq': 1, 'drop_rate': 0.006081309495057113, 'max_drop': 44, 'skip_drop': 0.09282411667225657, 'num_iterations': 1942}. Best is trial 206 with value: 0.8280621046578494.\u001b[0m\n",
      "\u001b[32m[I 2022-07-01 20:53:41,005]\u001b[0m Trial 329 finished with value: 0.8223116733755031 and parameters: {'boosting_type': 'dart', 'learning_rate': 0.01818187372898098, 'max_bin': 673, 'max_depth': -1, 'num_leaves': 245, 'min_data_in_leaf': 82, 'feature_fraction': 0.7706489273703547, 'lambda_l1': 2.8423766778453823, 'lambda_l2': 1.6970479447694418, 'bagging_fraction': 0.672850848061019, 'bagging_freq': 1, 'drop_rate': 0.00454733622349203, 'max_drop': 41, 'skip_drop': 0.14028363069518487, 'num_iterations': 1999}. Best is trial 206 with value: 0.8280621046578494.\u001b[0m\n",
      "\u001b[32m[I 2022-07-01 20:53:47,883]\u001b[0m Trial 330 finished with value: 0.8188614146060954 and parameters: {'boosting_type': 'dart', 'learning_rate': 0.020840704746798583, 'max_bin': 733, 'max_depth': -1, 'num_leaves': 252, 'min_data_in_leaf': 83, 'feature_fraction': 0.5585542331688947, 'lambda_l1': 2.1019182948294155, 'lambda_l2': 1.0267757766440224, 'bagging_fraction': 0.6567035664963795, 'bagging_freq': 1, 'drop_rate': 0.0069172696882599, 'max_drop': 73, 'skip_drop': 0.07836723702671979, 'num_iterations': 1999}. Best is trial 206 with value: 0.8280621046578494.\u001b[0m\n",
      "\u001b[32m[I 2022-07-01 20:53:54,636]\u001b[0m Trial 331 finished with value: 0.8205865439907993 and parameters: {'boosting_type': 'dart', 'learning_rate': 0.027658643133753626, 'max_bin': 685, 'max_depth': -1, 'num_leaves': 250, 'min_data_in_leaf': 78, 'feature_fraction': 0.771157028107821, 'lambda_l1': 1.7629808200090422, 'lambda_l2': 0.9034651090652518, 'bagging_fraction': 0.6899938593233762, 'bagging_freq': 4, 'drop_rate': 0.005401678614690696, 'max_drop': 46, 'skip_drop': 0.13169664789614, 'num_iterations': 1959}. Best is trial 206 with value: 0.8280621046578494.\u001b[0m\n",
      "\u001b[32m[I 2022-07-01 20:53:59,630]\u001b[0m Trial 332 finished with value: 0.824036802760207 and parameters: {'boosting_type': 'dart', 'learning_rate': 0.026332308799906747, 'max_bin': 705, 'max_depth': 23, 'num_leaves': 256, 'min_data_in_leaf': 78, 'feature_fraction': 0.8050889756622721, 'lambda_l1': 2.3486795624402883, 'lambda_l2': 0.0002071819934189223, 'bagging_fraction': 0.645036699218768, 'bagging_freq': 1, 'drop_rate': 0.006074137525873968, 'max_drop': 43, 'skip_drop': 0.109232547169648, 'num_iterations': 1620}. Best is trial 206 with value: 0.8280621046578494.\u001b[0m\n",
      "\u001b[32m[I 2022-07-01 20:54:05,646]\u001b[0m Trial 333 finished with value: 0.8205865439907993 and parameters: {'boosting_type': 'dart', 'learning_rate': 0.03330139006220641, 'max_bin': 718, 'max_depth': -1, 'num_leaves': 243, 'min_data_in_leaf': 77, 'feature_fraction': 0.7894566868033805, 'lambda_l1': 2.7654253383468705, 'lambda_l2': 0.5941626276500233, 'bagging_fraction': 0.7211030787409659, 'bagging_freq': 1, 'drop_rate': 0.0040469540832166855, 'max_drop': 40, 'skip_drop': 0.11585459712314278, 'num_iterations': 1911}. Best is trial 206 with value: 0.8280621046578494.\u001b[0m\n",
      "\u001b[32m[I 2022-07-01 20:54:10,303]\u001b[0m Trial 334 finished with value: 0.81943645773433 and parameters: {'boosting_type': 'dart', 'learning_rate': 0.017368533821151902, 'max_bin': 693, 'max_depth': 27, 'num_leaves': 256, 'min_data_in_leaf': 75, 'feature_fraction': 0.7711417102078183, 'lambda_l1': 3.2313465279314806, 'lambda_l2': 8.798283223974884e-05, 'bagging_fraction': 0.6323865917945702, 'bagging_freq': 1, 'drop_rate': 0.003774931057368734, 'max_drop': 42, 'skip_drop': 0.12594531192960723, 'num_iterations': 1828}. Best is trial 206 with value: 0.8280621046578494.\u001b[0m\n",
      "\u001b[32m[I 2022-07-01 20:54:17,557]\u001b[0m Trial 335 finished with value: 0.8246118458884416 and parameters: {'boosting_type': 'dart', 'learning_rate': 0.030185981765060477, 'max_bin': 754, 'max_depth': 23, 'num_leaves': 248, 'min_data_in_leaf': 80, 'feature_fraction': 0.7801516135549919, 'lambda_l1': 2.254159520627689, 'lambda_l2': 0.6939214627578649, 'bagging_fraction': 0.7023474510741072, 'bagging_freq': 1, 'drop_rate': 0.007301482995303263, 'max_drop': 45, 'skip_drop': 0.12393992948056176, 'num_iterations': 1962}. Best is trial 206 with value: 0.8280621046578494.\u001b[0m\n",
      "\u001b[32m[I 2022-07-01 20:54:23,338]\u001b[0m Trial 336 finished with value: 0.824036802760207 and parameters: {'boosting_type': 'dart', 'learning_rate': 0.022081854453176574, 'max_bin': 678, 'max_depth': -1, 'num_leaves': 241, 'min_data_in_leaf': 85, 'feature_fraction': 0.5119817292387148, 'lambda_l1': 1.798662741965221, 'lambda_l2': 1.461069921207543, 'bagging_fraction': 0.6820915204231689, 'bagging_freq': 1, 'drop_rate': 0.004997711082767038, 'max_drop': 42, 'skip_drop': 0.15928075186769272, 'num_iterations': 1863}. Best is trial 206 with value: 0.8280621046578494.\u001b[0m\n",
      "\u001b[32m[I 2022-07-01 20:54:28,821]\u001b[0m Trial 337 finished with value: 0.8280621046578494 and parameters: {'boosting_type': 'dart', 'learning_rate': 0.019874460288500415, 'max_bin': 698, 'max_depth': -1, 'num_leaves': 256, 'min_data_in_leaf': 82, 'feature_fraction': 0.7650959311836247, 'lambda_l1': 2.5772486894427944, 'lambda_l2': 0.3769887003291912, 'bagging_fraction': 0.6520917228226983, 'bagging_freq': 1, 'drop_rate': 0.004215215634232667, 'max_drop': 44, 'skip_drop': 0.1445629270687376, 'num_iterations': 1896}. Best is trial 206 with value: 0.8280621046578494.\u001b[0m\n",
      "\u001b[32m[I 2022-07-01 20:54:34,704]\u001b[0m Trial 338 finished with value: 0.8182863714778609 and parameters: {'boosting_type': 'dart', 'learning_rate': 0.01630255618203711, 'max_bin': 697, 'max_depth': -1, 'num_leaves': 253, 'min_data_in_leaf': 81, 'feature_fraction': 0.7929851160752959, 'lambda_l1': 2.3071774429069576, 'lambda_l2': 0.20763131165458096, 'bagging_fraction': 0.6514563379923738, 'bagging_freq': 1, 'drop_rate': 0.005830164620986454, 'max_drop': 47, 'skip_drop': 0.1487053995186056, 'num_iterations': 1935}. Best is trial 206 with value: 0.8280621046578494.\u001b[0m\n",
      "\u001b[32m[I 2022-07-01 20:54:39,570]\u001b[0m Trial 339 finished with value: 0.81943645773433 and parameters: {'boosting_type': 'dart', 'learning_rate': 0.023541110807292605, 'max_bin': 664, 'max_depth': 31, 'num_leaves': 256, 'min_data_in_leaf': 79, 'feature_fraction': 0.7625419878207114, 'lambda_l1': 4.979127758756664, 'lambda_l2': 0.35311560293183997, 'bagging_fraction': 0.6115660854019845, 'bagging_freq': 1, 'drop_rate': 0.005249325293040544, 'max_drop': 44, 'skip_drop': 0.09469916731897823, 'num_iterations': 1912}. Best is trial 206 with value: 0.8280621046578494.\u001b[0m\n",
      "\u001b[32m[I 2022-07-01 20:54:45,420]\u001b[0m Trial 340 finished with value: 0.8251868890166763 and parameters: {'boosting_type': 'dart', 'learning_rate': 0.026211785035560854, 'max_bin': 719, 'max_depth': -1, 'num_leaves': 247, 'min_data_in_leaf': 76, 'feature_fraction': 0.7987974519129016, 'lambda_l1': 2.837175648833838, 'lambda_l2': 0.525516512429921, 'bagging_fraction': 0.661614398891846, 'bagging_freq': 1, 'drop_rate': 0.0040695114272530294, 'max_drop': 44, 'skip_drop': 0.13050483419553144, 'num_iterations': 1967}. Best is trial 206 with value: 0.8280621046578494.\u001b[0m\n",
      "\u001b[32m[I 2022-07-01 20:54:49,461]\u001b[0m Trial 341 finished with value: 0.8269120184013801 and parameters: {'boosting_type': 'dart', 'learning_rate': 0.01924166955717037, 'max_bin': 768, 'max_depth': -1, 'num_leaves': 252, 'min_data_in_leaf': 84, 'feature_fraction': 0.757305089034891, 'lambda_l1': 3.2655272558639923, 'lambda_l2': 0.0014298356928142443, 'bagging_fraction': 0.6713747817269415, 'bagging_freq': 1, 'drop_rate': 0.004730050388001975, 'max_drop': 74, 'skip_drop': 0.20780208314834717, 'num_iterations': 1558}. Best is trial 206 with value: 0.8280621046578494.\u001b[0m\n",
      "\u001b[32m[I 2022-07-01 20:54:53,705]\u001b[0m Trial 342 finished with value: 0.8269120184013801 and parameters: {'boosting_type': 'dart', 'learning_rate': 0.019037393333058702, 'max_bin': 739, 'max_depth': -1, 'num_leaves': 251, 'min_data_in_leaf': 84, 'feature_fraction': 0.7637368614688242, 'lambda_l1': 3.29375797506317, 'lambda_l2': 0.0025719425126139906, 'bagging_fraction': 0.664218118304111, 'bagging_freq': 1, 'drop_rate': 0.003389356065644904, 'max_drop': 70, 'skip_drop': 0.17695801214906895, 'num_iterations': 1672}. Best is trial 206 with value: 0.8280621046578494.\u001b[0m\n",
      "\u001b[32m[I 2022-07-01 20:54:57,547]\u001b[0m Trial 343 finished with value: 0.8257619321449109 and parameters: {'boosting_type': 'dart', 'learning_rate': 0.016148265555163847, 'max_bin': 745, 'max_depth': -1, 'num_leaves': 245, 'min_data_in_leaf': 82, 'feature_fraction': 0.7620666475696406, 'lambda_l1': 3.2686427982344175, 'lambda_l2': 0.0003010483800787148, 'bagging_fraction': 0.6626449559059238, 'bagging_freq': 1, 'drop_rate': 0.003344259014165772, 'max_drop': 69, 'skip_drop': 0.20343897483446882, 'num_iterations': 1556}. Best is trial 206 with value: 0.8280621046578494.\u001b[0m\n",
      "\u001b[32m[I 2022-07-01 20:55:01,364]\u001b[0m Trial 344 finished with value: 0.824036802760207 and parameters: {'boosting_type': 'dart', 'learning_rate': 0.014803881046088785, 'max_bin': 741, 'max_depth': -1, 'num_leaves': 247, 'min_data_in_leaf': 81, 'feature_fraction': 0.7624984802557293, 'lambda_l1': 3.5360692499883757, 'lambda_l2': 0.0011102224312104854, 'bagging_fraction': 0.6693851745784413, 'bagging_freq': 1, 'drop_rate': 0.003261594518102733, 'max_drop': 68, 'skip_drop': 0.2080275061178307, 'num_iterations': 1595}. Best is trial 206 with value: 0.8280621046578494.\u001b[0m\n",
      "\u001b[32m[I 2022-07-01 20:55:05,252]\u001b[0m Trial 345 finished with value: 0.824036802760207 and parameters: {'boosting_type': 'dart', 'learning_rate': 0.01582173319735561, 'max_bin': 768, 'max_depth': -1, 'num_leaves': 244, 'min_data_in_leaf': 82, 'feature_fraction': 0.7693710807523553, 'lambda_l1': 3.4044240409523003, 'lambda_l2': 0.0006324668977572428, 'bagging_fraction': 0.6596935711061402, 'bagging_freq': 5, 'drop_rate': 0.0034528059727266924, 'max_drop': 69, 'skip_drop': 0.19602856598978927, 'num_iterations': 1572}. Best is trial 206 with value: 0.8280621046578494.\u001b[0m\n",
      "\u001b[32m[I 2022-07-01 20:55:07,000]\u001b[0m Trial 346 finished with value: 0.8113858539390454 and parameters: {'boosting_type': 'dart', 'learning_rate': 0.018018877425346785, 'max_bin': 737, 'max_depth': 3, 'num_leaves': 251, 'min_data_in_leaf': 84, 'feature_fraction': 0.7605406708323111, 'lambda_l1': 3.398599870826108, 'lambda_l2': 0.0016850649225129924, 'bagging_fraction': 0.6242614593585162, 'bagging_freq': 1, 'drop_rate': 0.0033088972094419563, 'max_drop': 69, 'skip_drop': 0.21993401872337637, 'num_iterations': 1589}. Best is trial 206 with value: 0.8280621046578494.\u001b[0m\n",
      "\u001b[32m[I 2022-07-01 20:55:10,604]\u001b[0m Trial 347 finished with value: 0.8274870615296147 and parameters: {'boosting_type': 'dart', 'learning_rate': 0.01898087185650993, 'max_bin': 755, 'max_depth': -1, 'num_leaves': 250, 'min_data_in_leaf': 82, 'feature_fraction': 0.7786927846909635, 'lambda_l1': 4.921037735877276, 'lambda_l2': 0.2846877147023775, 'bagging_fraction': 0.6636870448670279, 'bagging_freq': 1, 'drop_rate': 0.002856489598532498, 'max_drop': 70, 'skip_drop': 0.17631615116037813, 'num_iterations': 1657}. Best is trial 206 with value: 0.8280621046578494.\u001b[0m\n",
      "\u001b[32m[I 2022-07-01 20:55:14,178]\u001b[0m Trial 348 finished with value: 0.8228867165037378 and parameters: {'boosting_type': 'dart', 'learning_rate': 0.019137995982138944, 'max_bin': 767, 'max_depth': -1, 'num_leaves': 250, 'min_data_in_leaf': 84, 'feature_fraction': 0.7791158139652389, 'lambda_l1': 6.615460022194001, 'lambda_l2': 0.0039935174863381705, 'bagging_fraction': 0.6763980851047227, 'bagging_freq': 1, 'drop_rate': 0.0037541731144281696, 'max_drop': 71, 'skip_drop': 0.16556760063493203, 'num_iterations': 1658}. Best is trial 206 with value: 0.8280621046578494.\u001b[0m\n",
      "\u001b[32m[I 2022-07-01 20:55:18,154]\u001b[0m Trial 349 finished with value: 0.8274870615296147 and parameters: {'boosting_type': 'dart', 'learning_rate': 0.013773025442030986, 'max_bin': 749, 'max_depth': -1, 'num_leaves': 244, 'min_data_in_leaf': 82, 'feature_fraction': 0.7727592937849105, 'lambda_l1': 3.025455069435143, 'lambda_l2': 0.00023466368555455242, 'bagging_fraction': 0.6586821223212032, 'bagging_freq': 1, 'drop_rate': 0.0028255819453251846, 'max_drop': 67, 'skip_drop': 0.17372428418801733, 'num_iterations': 1616}. Best is trial 206 with value: 0.8280621046578494.\u001b[0m\n",
      "\u001b[32m[I 2022-07-01 20:55:21,928]\u001b[0m Trial 350 finished with value: 0.8246118458884416 and parameters: {'boosting_type': 'dart', 'learning_rate': 0.017489979671135983, 'max_bin': 752, 'max_depth': -1, 'num_leaves': 246, 'min_data_in_leaf': 80, 'feature_fraction': 0.7761245280086275, 'lambda_l1': 4.257387770584463, 'lambda_l2': 0.00030790393373247084, 'bagging_fraction': 0.6411960540864413, 'bagging_freq': 1, 'drop_rate': 0.0030414654305897285, 'max_drop': 65, 'skip_drop': 0.1793097874373074, 'num_iterations': 1621}. Best is trial 206 with value: 0.8280621046578494.\u001b[0m\n",
      "\u001b[32m[I 2022-07-01 20:55:25,872]\u001b[0m Trial 351 finished with value: 0.8251868890166763 and parameters: {'boosting_type': 'dart', 'learning_rate': 0.0160501305529839, 'max_bin': 738, 'max_depth': -1, 'num_leaves': 251, 'min_data_in_leaf': 82, 'feature_fraction': 0.7849612350943679, 'lambda_l1': 3.7431107568093576, 'lambda_l2': 0.00037208510151122117, 'bagging_fraction': 0.6526079186577028, 'bagging_freq': 1, 'drop_rate': 0.0027562530906786965, 'max_drop': 67, 'skip_drop': 0.20162698155364048, 'num_iterations': 1656}. Best is trial 206 with value: 0.8280621046578494.\u001b[0m\n",
      "\u001b[32m[I 2022-07-01 20:55:29,414]\u001b[0m Trial 352 finished with value: 0.8223116733755031 and parameters: {'boosting_type': 'dart', 'learning_rate': 0.014325493701404375, 'max_bin': 732, 'max_depth': -1, 'num_leaves': 243, 'min_data_in_leaf': 82, 'feature_fraction': 0.7715050808498672, 'lambda_l1': 4.7374688250913515, 'lambda_l2': 0.00015974368359626304, 'bagging_fraction': 0.6638367759996776, 'bagging_freq': 1, 'drop_rate': 0.002812497918618685, 'max_drop': 63, 'skip_drop': 0.15822156432916154, 'num_iterations': 1565}. Best is trial 206 with value: 0.8280621046578494.\u001b[0m\n",
      "\u001b[32m[I 2022-07-01 20:55:33,875]\u001b[0m Trial 353 finished with value: 0.8257619321449109 and parameters: {'boosting_type': 'dart', 'learning_rate': 0.02147590843221044, 'max_bin': 763, 'max_depth': -1, 'num_leaves': 252, 'min_data_in_leaf': 85, 'feature_fraction': 0.7534780363463275, 'lambda_l1': 2.8393447867709605, 'lambda_l2': 0.00021814388806344146, 'bagging_fraction': 0.684756623519878, 'bagging_freq': 1, 'drop_rate': 0.003496839115308352, 'max_drop': 72, 'skip_drop': 0.17577790031840093, 'num_iterations': 1666}. Best is trial 206 with value: 0.8280621046578494.\u001b[0m\n",
      "\u001b[32m[I 2022-07-01 20:55:35,373]\u001b[0m Trial 354 finished with value: 0.8113858539390454 and parameters: {'boosting_type': 'dart', 'learning_rate': 0.018689724024326317, 'max_bin': 728, 'max_depth': 3, 'num_leaves': 247, 'min_data_in_leaf': 84, 'feature_fraction': 0.7857684208465064, 'lambda_l1': 5.122370120756746, 'lambda_l2': 0.0004656056901946597, 'bagging_fraction': 0.6613328127554623, 'bagging_freq': 1, 'drop_rate': 0.002506236386470937, 'max_drop': 66, 'skip_drop': 0.19111041322004674, 'num_iterations': 1547}. Best is trial 206 with value: 0.8280621046578494.\u001b[0m\n",
      "\u001b[32m[I 2022-07-01 20:55:39,259]\u001b[0m Trial 355 finished with value: 0.824036802760207 and parameters: {'boosting_type': 'dart', 'learning_rate': 0.01299106716181556, 'max_bin': 777, 'max_depth': -1, 'num_leaves': 87, 'min_data_in_leaf': 81, 'feature_fraction': 0.7656275282641323, 'lambda_l1': 3.2407322510130148, 'lambda_l2': 0.0002492046117771424, 'bagging_fraction': 0.6650421142356532, 'bagging_freq': 1, 'drop_rate': 0.002913467847577818, 'max_drop': 71, 'skip_drop': 0.15113414584701185, 'num_iterations': 1615}. Best is trial 206 with value: 0.8280621046578494.\u001b[0m\n",
      "\u001b[32m[I 2022-07-01 20:55:43,987]\u001b[0m Trial 356 finished with value: 0.8257619321449109 and parameters: {'boosting_type': 'dart', 'learning_rate': 0.020391532997436866, 'max_bin': 757, 'max_depth': -1, 'num_leaves': 256, 'min_data_in_leaf': 86, 'feature_fraction': 0.7536524487461724, 'lambda_l1': 2.652755946067026, 'lambda_l2': 0.24002063956656255, 'bagging_fraction': 0.691123414991951, 'bagging_freq': 1, 'drop_rate': 0.004245700215018538, 'max_drop': 47, 'skip_drop': 0.1813916009765111, 'num_iterations': 1695}. Best is trial 206 with value: 0.8280621046578494.\u001b[0m\n",
      "\u001b[32m[I 2022-07-01 20:55:48,841]\u001b[0m Trial 357 finished with value: 0.8257619321449109 and parameters: {'boosting_type': 'dart', 'learning_rate': 0.02045762394508023, 'max_bin': 784, 'max_depth': -1, 'num_leaves': 256, 'min_data_in_leaf': 79, 'feature_fraction': 0.774928692366198, 'lambda_l1': 2.6946045622077714, 'lambda_l2': 0.22486703355433757, 'bagging_fraction': 0.6913383225422435, 'bagging_freq': 1, 'drop_rate': 0.004233940889701185, 'max_drop': 48, 'skip_drop': 0.16568316524694016, 'num_iterations': 1685}. Best is trial 206 with value: 0.8280621046578494.\u001b[0m\n",
      "\u001b[32m[I 2022-07-01 20:55:52,593]\u001b[0m Trial 358 finished with value: 0.8223116733755031 and parameters: {'boosting_type': 'dart', 'learning_rate': 0.013470979930125936, 'max_bin': 752, 'max_depth': -1, 'num_leaves': 256, 'min_data_in_leaf': 79, 'feature_fraction': 0.7937718549433025, 'lambda_l1': 2.8751886291782496, 'lambda_l2': 0.13713626889519892, 'bagging_fraction': 0.6722850279084721, 'bagging_freq': 1, 'drop_rate': 0.0032412019238393357, 'max_drop': 49, 'skip_drop': 0.1473120402688467, 'num_iterations': 1516}. Best is trial 206 with value: 0.8280621046578494.\u001b[0m\n",
      "\u001b[32m[I 2022-07-01 20:55:56,281]\u001b[0m Trial 359 finished with value: 0.8228867165037378 and parameters: {'boosting_type': 'dart', 'learning_rate': 0.015739569815023866, 'max_bin': 760, 'max_depth': -1, 'num_leaves': 251, 'min_data_in_leaf': 84, 'feature_fraction': 0.7546408681019251, 'lambda_l1': 4.064829542176834, 'lambda_l2': 0.0002686612343807885, 'bagging_fraction': 0.6323837800068585, 'bagging_freq': 1, 'drop_rate': 0.002725633394416636, 'max_drop': 67, 'skip_drop': 0.17311354862655107, 'num_iterations': 1657}. Best is trial 206 with value: 0.8280621046578494.\u001b[0m\n",
      "\u001b[32m[I 2022-07-01 20:56:00,641]\u001b[0m Trial 360 finished with value: 0.8269120184013801 and parameters: {'boosting_type': 'dart', 'learning_rate': 0.019742502732672692, 'max_bin': 748, 'max_depth': -1, 'num_leaves': 252, 'min_data_in_leaf': 85, 'feature_fraction': 0.7758649942580403, 'lambda_l1': 2.94481933337604, 'lambda_l2': 0.0029205433754163007, 'bagging_fraction': 0.6826110626664934, 'bagging_freq': 1, 'drop_rate': 0.0036306388453427843, 'max_drop': 68, 'skip_drop': 0.16523270647239033, 'num_iterations': 1681}. Best is trial 206 with value: 0.8280621046578494.\u001b[0m\n",
      "\u001b[32m[I 2022-07-01 20:56:04,666]\u001b[0m Trial 361 finished with value: 0.8200115008625647 and parameters: {'boosting_type': 'dart', 'learning_rate': 0.021129316864695057, 'max_bin': 768, 'max_depth': -1, 'num_leaves': 252, 'min_data_in_leaf': 86, 'feature_fraction': 0.7810478033998021, 'lambda_l1': 2.914453767529725, 'lambda_l2': 0.002854739716112622, 'bagging_fraction': 0.6829147785700479, 'bagging_freq': 1, 'drop_rate': 0.0036861495664817063, 'max_drop': 70, 'skip_drop': 0.5706096623087534, 'num_iterations': 1619}. Best is trial 206 with value: 0.8280621046578494.\u001b[0m\n",
      "\u001b[32m[I 2022-07-01 20:56:09,339]\u001b[0m Trial 362 finished with value: 0.828637147786084 and parameters: {'boosting_type': 'dart', 'learning_rate': 0.022962889467981827, 'max_bin': 722, 'max_depth': -1, 'num_leaves': 239, 'min_data_in_leaf': 83, 'feature_fraction': 0.7668498673631298, 'lambda_l1': 2.451686108573376, 'lambda_l2': 0.28939668547255104, 'bagging_fraction': 0.6732931553684648, 'bagging_freq': 1, 'drop_rate': 0.004823229858926694, 'max_drop': 65, 'skip_drop': 0.21891187690660008, 'num_iterations': 1667}. Best is trial 362 with value: 0.828637147786084.\u001b[0m\n",
      "\u001b[32m[I 2022-07-01 20:56:13,638]\u001b[0m Trial 363 finished with value: 0.8205865439907993 and parameters: {'boosting_type': 'dart', 'learning_rate': 0.01911900446689569, 'max_bin': 801, 'max_depth': -1, 'num_leaves': 256, 'min_data_in_leaf': 82, 'feature_fraction': 0.8076439278925428, 'lambda_l1': 3.6451656798543044, 'lambda_l2': 0.0017488403635413296, 'bagging_fraction': 0.6444004905269975, 'bagging_freq': 1, 'drop_rate': 0.0038514818523710985, 'max_drop': 65, 'skip_drop': 0.1373977420724111, 'num_iterations': 1689}. Best is trial 362 with value: 0.828637147786084.\u001b[0m\n",
      "\u001b[32m[I 2022-07-01 20:56:15,444]\u001b[0m Trial 364 finished with value: 0.8125359401955147 and parameters: {'boosting_type': 'dart', 'learning_rate': 0.019997901473460356, 'max_bin': 794, 'max_depth': 3, 'num_leaves': 253, 'min_data_in_leaf': 83, 'feature_fraction': 0.7713892642382809, 'lambda_l1': 2.6284579704166773, 'lambda_l2': 0.21537173963637712, 'bagging_fraction': 0.6933322372857703, 'bagging_freq': 1, 'drop_rate': 0.004187632711016685, 'max_drop': 47, 'skip_drop': 0.16120670876371618, 'num_iterations': 1639}. Best is trial 362 with value: 0.828637147786084.\u001b[0m\n",
      "\u001b[32m[I 2022-07-01 20:56:20,245]\u001b[0m Trial 365 finished with value: 0.8188614146060954 and parameters: {'boosting_type': 'dart', 'learning_rate': 0.037198797944243994, 'max_bin': 714, 'max_depth': -1, 'num_leaves': 240, 'min_data_in_leaf': 87, 'feature_fraction': 0.7899722561450239, 'lambda_l1': 2.3814367015974156, 'lambda_l2': 0.006773626096444609, 'bagging_fraction': 0.6742286096400093, 'bagging_freq': 1, 'drop_rate': 0.0049815317263876896, 'max_drop': 64, 'skip_drop': 0.1492851495412531, 'num_iterations': 1638}. Best is trial 362 with value: 0.828637147786084.\u001b[0m\n",
      "\u001b[32m[I 2022-07-01 20:56:24,890]\u001b[0m Trial 366 finished with value: 0.8223116733755031 and parameters: {'boosting_type': 'dart', 'learning_rate': 0.024548320417164638, 'max_bin': 732, 'max_depth': -1, 'num_leaves': 237, 'min_data_in_leaf': 81, 'feature_fraction': 0.7669384131585201, 'lambda_l1': 1.980437449642899, 'lambda_l2': 0.08588449393883031, 'bagging_fraction': 0.6524955135543049, 'bagging_freq': 1, 'drop_rate': 0.004818718173794817, 'max_drop': 69, 'skip_drop': 0.23780513947754733, 'num_iterations': 1605}. Best is trial 362 with value: 0.828637147786084.\u001b[0m\n",
      "\u001b[32m[I 2022-07-01 20:56:29,354]\u001b[0m Trial 367 finished with value: 0.8159861989649224 and parameters: {'boosting_type': 'dart', 'learning_rate': 0.03003367455252674, 'max_bin': 712, 'max_depth': -1, 'num_leaves': 250, 'min_data_in_leaf': 85, 'feature_fraction': 0.779668592382017, 'lambda_l1': 2.4570214774484014, 'lambda_l2': 0.36025780223771353, 'bagging_fraction': 0.6764667984232412, 'bagging_freq': 1, 'drop_rate': 0.003615593509898052, 'max_drop': 68, 'skip_drop': 0.21653494762564413, 'num_iterations': 1667}. Best is trial 362 with value: 0.828637147786084.\u001b[0m\n",
      "\u001b[32m[I 2022-07-01 20:56:33,193]\u001b[0m Trial 368 finished with value: 0.8263369752731455 and parameters: {'boosting_type': 'dart', 'learning_rate': 0.014380377308299884, 'max_bin': 743, 'max_depth': -1, 'num_leaves': 243, 'min_data_in_leaf': 87, 'feature_fraction': 0.764635626237138, 'lambda_l1': 3.260259251041481, 'lambda_l2': 0.0005704297083409999, 'bagging_fraction': 0.6618746570596515, 'bagging_freq': 1, 'drop_rate': 0.003114501522074259, 'max_drop': 68, 'skip_drop': 0.1797336026666655, 'num_iterations': 1552}. Best is trial 362 with value: 0.828637147786084.\u001b[0m\n",
      "\u001b[32m[I 2022-07-01 20:56:36,455]\u001b[0m Trial 369 finished with value: 0.824036802760207 and parameters: {'boosting_type': 'dart', 'learning_rate': 0.01402765707805694, 'max_bin': 744, 'max_depth': -1, 'num_leaves': 49, 'min_data_in_leaf': 83, 'feature_fraction': 0.7983246355324204, 'lambda_l1': 5.5621133408525685, 'lambda_l2': 0.0008477004323385285, 'bagging_fraction': 0.6527495365198923, 'bagging_freq': 1, 'drop_rate': 0.0021301124825913505, 'max_drop': 70, 'skip_drop': 0.1371478056790261, 'num_iterations': 1632}. Best is trial 362 with value: 0.828637147786084.\u001b[0m\n",
      "\u001b[32m[I 2022-07-01 20:56:40,118]\u001b[0m Trial 370 finished with value: 0.824036802760207 and parameters: {'boosting_type': 'dart', 'learning_rate': 0.015855598088652105, 'max_bin': 744, 'max_depth': -1, 'num_leaves': 248, 'min_data_in_leaf': 79, 'feature_fraction': 0.7724802399911264, 'lambda_l1': 3.202648154674604, 'lambda_l2': 0.0005131190597521239, 'bagging_fraction': 0.6612280614348817, 'bagging_freq': 1, 'drop_rate': 0.0030887078966592863, 'max_drop': 67, 'skip_drop': 0.2014875668089523, 'num_iterations': 1485}. Best is trial 362 with value: 0.828637147786084.\u001b[0m\n",
      "\u001b[32m[I 2022-07-01 20:56:43,511]\u001b[0m Trial 371 finished with value: 0.8228867165037378 and parameters: {'boosting_type': 'dart', 'learning_rate': 0.01689945444121876, 'max_bin': 776, 'max_depth': -1, 'num_leaves': 243, 'min_data_in_leaf': 81, 'feature_fraction': 0.7618688877455209, 'lambda_l1': 4.2934099443304765, 'lambda_l2': 0.0036392102101915607, 'bagging_fraction': 0.6345501951692363, 'bagging_freq': 1, 'drop_rate': 0.002642800836949909, 'max_drop': 69, 'skip_drop': 0.1797979308457866, 'num_iterations': 1541}. Best is trial 362 with value: 0.828637147786084.\u001b[0m\n",
      "\u001b[32m[I 2022-07-01 20:56:46,945]\u001b[0m Trial 372 finished with value: 0.8223116733755031 and parameters: {'boosting_type': 'dart', 'learning_rate': 0.01253381683396222, 'max_bin': 739, 'max_depth': -1, 'num_leaves': 246, 'min_data_in_leaf': 87, 'feature_fraction': 0.6516037356467379, 'lambda_l1': 3.322586270251141, 'lambda_l2': 0.0014030310119011232, 'bagging_fraction': 0.657685978859066, 'bagging_freq': 1, 'drop_rate': 0.0031735655758069704, 'max_drop': 65, 'skip_drop': 0.15760586816968286, 'num_iterations': 1586}. Best is trial 362 with value: 0.828637147786084.\u001b[0m\n",
      "\u001b[32m[I 2022-07-01 20:56:50,884]\u001b[0m Trial 373 finished with value: 0.8067855089131685 and parameters: {'boosting_type': 'dart', 'learning_rate': 0.0016365922509507095, 'max_bin': 1010, 'max_depth': -1, 'num_leaves': 240, 'min_data_in_leaf': 84, 'feature_fraction': 0.7826033124189326, 'lambda_l1': 2.03336597719985, 'lambda_l2': 0.010275871641495737, 'bagging_fraction': 0.6755927895778341, 'bagging_freq': 1, 'drop_rate': 0.0035389192617675887, 'max_drop': 77, 'skip_drop': 0.11754799475209496, 'num_iterations': 1652}. Best is trial 362 with value: 0.828637147786084.\u001b[0m\n",
      "\u001b[32m[I 2022-07-01 20:56:54,598]\u001b[0m Trial 374 finished with value: 0.824036802760207 and parameters: {'boosting_type': 'dart', 'learning_rate': 0.023419603459018296, 'max_bin': 785, 'max_depth': -1, 'num_leaves': 238, 'min_data_in_leaf': 83, 'feature_fraction': 0.7664788100754412, 'lambda_l1': 3.8275804041416723, 'lambda_l2': 0.37947618938779637, 'bagging_fraction': 0.7042138783664186, 'bagging_freq': 1, 'drop_rate': 0.0024358207939992153, 'max_drop': 73, 'skip_drop': 0.2272236028184167, 'num_iterations': 1525}. Best is trial 362 with value: 0.828637147786084.\u001b[0m\n",
      "\u001b[32m[I 2022-07-01 20:56:58,696]\u001b[0m Trial 375 finished with value: 0.8223116733755031 and parameters: {'boosting_type': 'dart', 'learning_rate': 0.021497603625384908, 'max_bin': 755, 'max_depth': -1, 'num_leaves': 252, 'min_data_in_leaf': 85, 'feature_fraction': 0.754100003103662, 'lambda_l1': 2.7571478388292543, 'lambda_l2': 0.0001610017845117582, 'bagging_fraction': 0.6803044990907005, 'bagging_freq': 1, 'drop_rate': 0.00290385315014668, 'max_drop': 71, 'skip_drop': 0.17132713612741948, 'num_iterations': 1605}. Best is trial 362 with value: 0.828637147786084.\u001b[0m\n",
      "\u001b[32m[I 2022-07-01 20:57:03,352]\u001b[0m Trial 376 finished with value: 0.8257619321449109 and parameters: {'boosting_type': 'dart', 'learning_rate': 0.01910149275517684, 'max_bin': 759, 'max_depth': -1, 'num_leaves': 256, 'min_data_in_leaf': 86, 'feature_fraction': 0.7543566820356605, 'lambda_l1': 3.0300670082623786, 'lambda_l2': 0.31652366598931453, 'bagging_fraction': 0.6922910777578019, 'bagging_freq': 1, 'drop_rate': 0.004420624689560271, 'max_drop': 73, 'skip_drop': 0.18227033328663297, 'num_iterations': 1703}. Best is trial 362 with value: 0.828637147786084.\u001b[0m\n",
      "\u001b[32m[I 2022-07-01 20:57:08,262]\u001b[0m Trial 377 finished with value: 0.8223116733755031 and parameters: {'boosting_type': 'dart', 'learning_rate': 0.029557420327468806, 'max_bin': 715, 'max_depth': -1, 'num_leaves': 248, 'min_data_in_leaf': 88, 'feature_fraction': 0.7746950310127784, 'lambda_l1': 2.205763207949432, 'lambda_l2': 0.00284108662366674, 'bagging_fraction': 0.6840342056659262, 'bagging_freq': 1, 'drop_rate': 0.00476418611874156, 'max_drop': 67, 'skip_drop': 0.19582932536346354, 'num_iterations': 1682}. Best is trial 362 with value: 0.828637147786084.\u001b[0m\n",
      "\u001b[32m[I 2022-07-01 20:57:10,004]\u001b[0m Trial 378 finished with value: 0.8217366302472685 and parameters: {'boosting_type': 'dart', 'learning_rate': 0.033564316263727204, 'max_bin': 461, 'max_depth': 3, 'num_leaves': 243, 'min_data_in_leaf': 80, 'feature_fraction': 0.7628573467562887, 'lambda_l1': 2.0475915477762214, 'lambda_l2': 0.0016982486475622402, 'bagging_fraction': 0.7018417073047628, 'bagging_freq': 1, 'drop_rate': 0.0055319637304442415, 'max_drop': 69, 'skip_drop': 0.21381113032320107, 'num_iterations': 1585}. Best is trial 362 with value: 0.828637147786084.\u001b[0m\n",
      "\u001b[32m[I 2022-07-01 20:57:14,629]\u001b[0m Trial 379 finished with value: 0.8274870615296147 and parameters: {'boosting_type': 'dart', 'learning_rate': 0.02144191227448238, 'max_bin': 726, 'max_depth': -1, 'num_leaves': 252, 'min_data_in_leaf': 86, 'feature_fraction': 0.7509743778958472, 'lambda_l1': 2.5973558110106407, 'lambda_l2': 0.0008511303341449161, 'bagging_fraction': 0.6700792200486397, 'bagging_freq': 1, 'drop_rate': 0.0038610833327747903, 'max_drop': 61, 'skip_drop': 0.17645149652785944, 'num_iterations': 1657}. Best is trial 362 with value: 0.828637147786084.\u001b[0m\n",
      "\u001b[32m[I 2022-07-01 20:57:18,963]\u001b[0m Trial 380 finished with value: 0.8234617596319724 and parameters: {'boosting_type': 'dart', 'learning_rate': 0.01771179242405506, 'max_bin': 686, 'max_depth': -1, 'num_leaves': 252, 'min_data_in_leaf': 87, 'feature_fraction': 0.7825096831385372, 'lambda_l1': 2.5866866871452285, 'lambda_l2': 0.0005993636119635366, 'bagging_fraction': 0.6733749030529155, 'bagging_freq': 1, 'drop_rate': 0.0038476927193540305, 'max_drop': 57, 'skip_drop': 0.16554506362641186, 'num_iterations': 1687}. Best is trial 362 with value: 0.828637147786084.\u001b[0m\n",
      "\u001b[32m[I 2022-07-01 20:57:23,104]\u001b[0m Trial 381 finished with value: 0.8223116733755031 and parameters: {'boosting_type': 'dart', 'learning_rate': 0.014982278426138196, 'max_bin': 692, 'max_depth': -1, 'num_leaves': 244, 'min_data_in_leaf': 87, 'feature_fraction': 0.796311443281271, 'lambda_l1': 3.0619757624243436, 'lambda_l2': 0.00246829342226877, 'bagging_fraction': 0.6450306405753224, 'bagging_freq': 1, 'drop_rate': 0.0048030873489958974, 'max_drop': 61, 'skip_drop': 0.14161757413088844, 'num_iterations': 1653}. Best is trial 362 with value: 0.828637147786084.\u001b[0m\n",
      "\u001b[32m[I 2022-07-01 20:57:29,344]\u001b[0m Trial 382 finished with value: 0.8062104657849338 and parameters: {'boosting_type': 'dart', 'learning_rate': 0.022075625542557365, 'max_bin': 737, 'max_depth': -1, 'num_leaves': 250, 'min_data_in_leaf': 85, 'feature_fraction': 0.7614864877249673, 'lambda_l1': 3.5739977719581892, 'lambda_l2': 0.000938492136270707, 'bagging_fraction': 0.4210618360181999, 'bagging_freq': 1, 'drop_rate': 0.02307941902246626, 'max_drop': 58, 'skip_drop': 0.16248535697238387, 'num_iterations': 1616}. Best is trial 362 with value: 0.828637147786084.\u001b[0m\n",
      "\u001b[32m[I 2022-07-01 20:57:33,810]\u001b[0m Trial 383 finished with value: 0.824036802760207 and parameters: {'boosting_type': 'dart', 'learning_rate': 0.019153057726797446, 'max_bin': 722, 'max_depth': -1, 'num_leaves': 256, 'min_data_in_leaf': 85, 'feature_fraction': 0.8200018414584695, 'lambda_l1': 2.4975100800044254, 'lambda_l2': 0.2479671790898108, 'bagging_fraction': 0.6650389485211804, 'bagging_freq': 1, 'drop_rate': 0.0030447836623411413, 'max_drop': 65, 'skip_drop': 0.18211622399820487, 'num_iterations': 1698}. Best is trial 362 with value: 0.828637147786084.\u001b[0m\n",
      "\u001b[32m[I 2022-07-01 20:57:38,578]\u001b[0m Trial 384 finished with value: 0.8234617596319724 and parameters: {'boosting_type': 'dart', 'learning_rate': 0.027682091090024504, 'max_bin': 722, 'max_depth': -1, 'num_leaves': 247, 'min_data_in_leaf': 83, 'feature_fraction': 0.7486456786181916, 'lambda_l1': 1.9371406083306781, 'lambda_l2': 0.0013034200509824867, 'bagging_fraction': 0.6683695991186624, 'bagging_freq': 1, 'drop_rate': 0.004326513808797396, 'max_drop': 61, 'skip_drop': 0.10928337974565065, 'num_iterations': 1597}. Best is trial 362 with value: 0.828637147786084.\u001b[0m\n",
      "\u001b[32m[I 2022-07-01 20:57:43,084]\u001b[0m Trial 385 finished with value: 0.8263369752731455 and parameters: {'boosting_type': 'dart', 'learning_rate': 0.01784907325512953, 'max_bin': 760, 'max_depth': -1, 'num_leaves': 252, 'min_data_in_leaf': 87, 'feature_fraction': 0.7522146072196052, 'lambda_l1': 3.1263298350464934, 'lambda_l2': 0.12166348097758015, 'bagging_fraction': 0.6504928989653966, 'bagging_freq': 1, 'drop_rate': 0.0044073539997698105, 'max_drop': 63, 'skip_drop': 0.25522539507930325, 'num_iterations': 1718}. Best is trial 362 with value: 0.828637147786084.\u001b[0m\n",
      "\u001b[32m[I 2022-07-01 20:57:51,997]\u001b[0m Trial 386 finished with value: 0.8154111558366878 and parameters: {'boosting_type': 'dart', 'learning_rate': 0.022841505032570375, 'max_bin': 727, 'max_depth': -1, 'num_leaves': 250, 'min_data_in_leaf': 24, 'feature_fraction': 0.7740482961054391, 'lambda_l1': 4.417747321262058, 'lambda_l2': 0.13759784297759717, 'bagging_fraction': 0.623229569446054, 'bagging_freq': 1, 'drop_rate': 0.017393579823668043, 'max_drop': 63, 'skip_drop': 0.2510973161609635, 'num_iterations': 1640}. Best is trial 362 with value: 0.828637147786084.\u001b[0m\n",
      "\u001b[32m[I 2022-07-01 20:57:55,758]\u001b[0m Trial 387 finished with value: 0.8246118458884416 and parameters: {'boosting_type': 'dart', 'learning_rate': 0.024309482203607697, 'max_bin': 753, 'max_depth': -1, 'num_leaves': 251, 'min_data_in_leaf': 83, 'feature_fraction': 0.7492979508093767, 'lambda_l1': 3.0180164442244353, 'lambda_l2': 0.0008344995191757067, 'bagging_fraction': 0.6565272175773704, 'bagging_freq': 1, 'drop_rate': 0.005331003542325205, 'max_drop': 62, 'skip_drop': 0.25140597277526666, 'num_iterations': 1428}. Best is trial 362 with value: 0.828637147786084.\u001b[0m\n",
      "\u001b[32m[I 2022-07-01 20:57:59,814]\u001b[0m Trial 388 finished with value: 0.8234617596319724 and parameters: {'boosting_type': 'dart', 'learning_rate': 0.017234851393117794, 'max_bin': 763, 'max_depth': -1, 'num_leaves': 256, 'min_data_in_leaf': 86, 'feature_fraction': 0.7662851704836893, 'lambda_l1': 3.5424555589441966, 'lambda_l2': 0.4428968903363562, 'bagging_fraction': 0.6425898092135885, 'bagging_freq': 1, 'drop_rate': 0.00456257861434679, 'max_drop': 60, 'skip_drop': 0.23551077083872962, 'num_iterations': 1669}. Best is trial 362 with value: 0.828637147786084.\u001b[0m\n",
      "\u001b[32m[I 2022-07-01 20:58:03,573]\u001b[0m Trial 389 finished with value: 0.8257619321449109 and parameters: {'boosting_type': 'dart', 'learning_rate': 0.016556392267046326, 'max_bin': 780, 'max_depth': -1, 'num_leaves': 244, 'min_data_in_leaf': 81, 'feature_fraction': 0.7608622144584671, 'lambda_l1': 3.221083151857964, 'lambda_l2': 0.000708428762932406, 'bagging_fraction': 0.6488745650380655, 'bagging_freq': 1, 'drop_rate': 0.0032611313087708613, 'max_drop': 63, 'skip_drop': 0.22142792960429994, 'num_iterations': 1551}. Best is trial 362 with value: 0.828637147786084.\u001b[0m\n",
      "\u001b[32m[I 2022-07-01 20:58:05,399]\u001b[0m Trial 390 finished with value: 0.816561242093157 and parameters: {'boosting_type': 'dart', 'learning_rate': 0.09505331352501832, 'max_bin': 784, 'max_depth': 3, 'num_leaves': 256, 'min_data_in_leaf': 61, 'feature_fraction': 0.7889909586800528, 'lambda_l1': 2.6252175386769974, 'lambda_l2': 0.12811501502274159, 'bagging_fraction': 0.6669365145480955, 'bagging_freq': 1, 'drop_rate': 0.004177250712055338, 'max_drop': 100, 'skip_drop': 0.14406194065260397, 'num_iterations': 1665}. Best is trial 362 with value: 0.828637147786084.\u001b[0m\n",
      "\u001b[32m[I 2022-07-01 20:58:09,562]\u001b[0m Trial 391 finished with value: 0.81943645773433 and parameters: {'boosting_type': 'dart', 'learning_rate': 0.020863695184324293, 'max_bin': 764, 'max_depth': -1, 'num_leaves': 252, 'min_data_in_leaf': 84, 'feature_fraction': 0.7532397601033207, 'lambda_l1': 2.8485438001597645, 'lambda_l2': 0.00558621157480189, 'bagging_fraction': 0.6844002321905754, 'bagging_freq': 1, 'drop_rate': 0.0035406434062692943, 'max_drop': 64, 'skip_drop': 0.3398716122855028, 'num_iterations': 1644}. Best is trial 362 with value: 0.828637147786084.\u001b[0m\n",
      "\u001b[32m[I 2022-07-01 20:58:13,064]\u001b[0m Trial 392 finished with value: 0.8257619321449109 and parameters: {'boosting_type': 'dart', 'learning_rate': 0.015032024326900479, 'max_bin': 740, 'max_depth': -1, 'num_leaves': 241, 'min_data_in_leaf': 87, 'feature_fraction': 0.7697632253761819, 'lambda_l1': 3.9049750774864145, 'lambda_l2': 0.0003092388583906583, 'bagging_fraction': 0.6597316105193995, 'bagging_freq': 1, 'drop_rate': 0.002909004071629478, 'max_drop': 22, 'skip_drop': 0.20836310188872448, 'num_iterations': 1541}. Best is trial 362 with value: 0.828637147786084.\u001b[0m\n",
      "\u001b[32m[I 2022-07-01 20:58:16,946]\u001b[0m Trial 393 finished with value: 0.8223116733755031 and parameters: {'boosting_type': 'dart', 'learning_rate': 0.016780692882544992, 'max_bin': 741, 'max_depth': -1, 'num_leaves': 245, 'min_data_in_leaf': 82, 'feature_fraction': 0.7843818302713431, 'lambda_l1': 3.2688922297107705, 'lambda_l2': 0.0006187833980635099, 'bagging_fraction': 0.6531146868794124, 'bagging_freq': 1, 'drop_rate': 0.0033146444986908706, 'max_drop': 66, 'skip_drop': 0.06761553838575105, 'num_iterations': 1575}. Best is trial 362 with value: 0.828637147786084.\u001b[0m\n",
      "\u001b[32m[I 2022-07-01 20:58:20,364]\u001b[0m Trial 394 finished with value: 0.821161587119034 and parameters: {'boosting_type': 'dart', 'learning_rate': 0.014994969859505321, 'max_bin': 744, 'max_depth': -1, 'num_leaves': 252, 'min_data_in_leaf': 77, 'feature_fraction': 0.6004705904271688, 'lambda_l1': 4.089663290928676, 'lambda_l2': 0.17637533775766934, 'bagging_fraction': 0.6308144948990311, 'bagging_freq': 1, 'drop_rate': 0.002459861030290114, 'max_drop': 59, 'skip_drop': 0.16070709086702878, 'num_iterations': 1613}. Best is trial 362 with value: 0.828637147786084.\u001b[0m\n",
      "\u001b[32m[I 2022-07-01 20:58:29,468]\u001b[0m Trial 395 finished with value: 0.8159861989649224 and parameters: {'boosting_type': 'dart', 'learning_rate': 0.018650745410625853, 'max_bin': 710, 'max_depth': -1, 'num_leaves': 245, 'min_data_in_leaf': 82, 'feature_fraction': 0.7625671145018839, 'lambda_l1': 2.4308233805892265, 'lambda_l2': 0.6709937379657799, 'bagging_fraction': 0.666058178572337, 'bagging_freq': 1, 'drop_rate': 0.030847147232977958, 'max_drop': 68, 'skip_drop': 0.23129005340698872, 'num_iterations': 1564}. Best is trial 362 with value: 0.828637147786084.\u001b[0m\n",
      "\u001b[32m[I 2022-07-01 20:58:33,976]\u001b[0m Trial 396 finished with value: 0.8251868890166763 and parameters: {'boosting_type': 'dart', 'learning_rate': 0.021398696243505738, 'max_bin': 771, 'max_depth': -1, 'num_leaves': 252, 'min_data_in_leaf': 84, 'feature_fraction': 0.7540801180506757, 'lambda_l1': 2.8766184395092758, 'lambda_l2': 0.0022944614510713264, 'bagging_fraction': 0.6837411789463194, 'bagging_freq': 1, 'drop_rate': 0.0037069958005392124, 'max_drop': 71, 'skip_drop': 0.17611996959625736, 'num_iterations': 1671}. Best is trial 362 with value: 0.828637147786084.\u001b[0m\n",
      "\u001b[32m[I 2022-07-01 20:58:37,248]\u001b[0m Trial 397 finished with value: 0.8148361127084531 and parameters: {'boosting_type': 'dart', 'learning_rate': 0.011553070872256418, 'max_bin': 698, 'max_depth': -1, 'num_leaves': 247, 'min_data_in_leaf': 88, 'feature_fraction': 0.7769315971792191, 'lambda_l1': 3.6462427962290094, 'lambda_l2': 0.45773555723108644, 'bagging_fraction': 0.6413355478007288, 'bagging_freq': 1, 'drop_rate': 0.003961630575403598, 'max_drop': 68, 'skip_drop': 0.08566713079303136, 'num_iterations': 1499}. Best is trial 362 with value: 0.828637147786084.\u001b[0m\n",
      "\u001b[32m[I 2022-07-01 20:58:41,978]\u001b[0m Trial 398 finished with value: 0.824036802760207 and parameters: {'boosting_type': 'dart', 'learning_rate': 0.018623028262094322, 'max_bin': 669, 'max_depth': -1, 'num_leaves': 239, 'min_data_in_leaf': 88, 'feature_fraction': 0.7406021205408196, 'lambda_l1': 2.354611196418996, 'lambda_l2': 0.9080046768988044, 'bagging_fraction': 0.6993674741133238, 'bagging_freq': 1, 'drop_rate': 0.004941247124794179, 'max_drop': 62, 'skip_drop': 0.26890424273126506, 'num_iterations': 1721}. Best is trial 362 with value: 0.828637147786084.\u001b[0m\n",
      "\u001b[32m[I 2022-07-01 20:58:45,682]\u001b[0m Trial 399 finished with value: 0.8073605520414031 and parameters: {'boosting_type': 'dart', 'learning_rate': 0.001277547983615568, 'max_bin': 704, 'max_depth': -1, 'num_leaves': 248, 'min_data_in_leaf': 88, 'feature_fraction': 0.745242836938442, 'lambda_l1': 1.9894451148573462, 'lambda_l2': 0.31133745817115166, 'bagging_fraction': 0.6719560208369619, 'bagging_freq': 1, 'drop_rate': 0.003948433869878309, 'max_drop': 65, 'skip_drop': 0.12733530339382532, 'num_iterations': 1629}. Best is trial 362 with value: 0.828637147786084.\u001b[0m\n",
      "\u001b[32m[I 2022-07-01 20:58:50,865]\u001b[0m Trial 400 finished with value: 0.8223116733755031 and parameters: {'boosting_type': 'dart', 'learning_rate': 0.024070528672770087, 'max_bin': 800, 'max_depth': -1, 'num_leaves': 256, 'min_data_in_leaf': 78, 'feature_fraction': 0.77326351130947, 'lambda_l1': 2.6102625994975908, 'lambda_l2': 0.1704268265483531, 'bagging_fraction': 0.6953581036468338, 'bagging_freq': 7, 'drop_rate': 0.004478899918866973, 'max_drop': 74, 'skip_drop': 0.15448041257826708, 'num_iterations': 1692}. Best is trial 362 with value: 0.828637147786084.\u001b[0m\n",
      "\u001b[32m[I 2022-07-01 20:58:54,322]\u001b[0m Trial 401 finished with value: 0.8159861989649224 and parameters: {'boosting_type': 'dart', 'learning_rate': 0.0136416439325245, 'max_bin': 728, 'max_depth': -1, 'num_leaves': 243, 'min_data_in_leaf': 81, 'feature_fraction': 0.764210147793349, 'lambda_l1': 6.841630855011723, 'lambda_l2': 0.00047226260953271996, 'bagging_fraction': 0.6500547537689794, 'bagging_freq': 1, 'drop_rate': 0.003248760579569582, 'max_drop': 64, 'skip_drop': 0.19038160401242066, 'num_iterations': 1736}. Best is trial 362 with value: 0.828637147786084.\u001b[0m\n",
      "\u001b[32m[I 2022-07-01 20:58:56,106]\u001b[0m Trial 402 finished with value: 0.8136860264519838 and parameters: {'boosting_type': 'dart', 'learning_rate': 0.021411251464758273, 'max_bin': 767, 'max_depth': 3, 'num_leaves': 251, 'min_data_in_leaf': 85, 'feature_fraction': 0.7545845752356273, 'lambda_l1': 2.75142476980111, 'lambda_l2': 0.00015657944567668504, 'bagging_fraction': 0.6801062558686314, 'bagging_freq': 1, 'drop_rate': 0.003505973877066482, 'max_drop': 72, 'skip_drop': 0.17703711273211425, 'num_iterations': 1657}. Best is trial 362 with value: 0.828637147786084.\u001b[0m\n",
      "\u001b[32m[I 2022-07-01 20:58:59,648]\u001b[0m Trial 403 finished with value: 0.8136860264519838 and parameters: {'boosting_type': 'dart', 'learning_rate': 0.01249309918048992, 'max_bin': 680, 'max_depth': -1, 'num_leaves': 248, 'min_data_in_leaf': 87, 'feature_fraction': 0.7899983168863361, 'lambda_l1': 5.407887479471501, 'lambda_l2': 0.0011236966084601225, 'bagging_fraction': 0.6691566240820402, 'bagging_freq': 7, 'drop_rate': 0.003792464844709701, 'max_drop': 40, 'skip_drop': 0.1066811728121077, 'num_iterations': 1703}. Best is trial 362 with value: 0.828637147786084.\u001b[0m\n",
      "\u001b[32m[I 2022-07-01 20:59:04,842]\u001b[0m Trial 404 finished with value: 0.8246118458884416 and parameters: {'boosting_type': 'dart', 'learning_rate': 0.01893136416835228, 'max_bin': 752, 'max_depth': -1, 'num_leaves': 256, 'min_data_in_leaf': 80, 'feature_fraction': 0.800753467627892, 'lambda_l1': 2.3126546934301846, 'lambda_l2': 0.3098065184300693, 'bagging_fraction': 0.6913216279742499, 'bagging_freq': 1, 'drop_rate': 0.004197311218855822, 'max_drop': 45, 'skip_drop': 0.15993021075119623, 'num_iterations': 1722}. Best is trial 362 with value: 0.828637147786084.\u001b[0m\n",
      "\u001b[32m[I 2022-07-01 20:59:09,452]\u001b[0m Trial 405 finished with value: 0.8188614146060954 and parameters: {'boosting_type': 'dart', 'learning_rate': 0.027283088664411138, 'max_bin': 714, 'max_depth': -1, 'num_leaves': 248, 'min_data_in_leaf': 89, 'feature_fraction': 0.7804714911493555, 'lambda_l1': 1.9583958073569234, 'lambda_l2': 0.014979123710350515, 'bagging_fraction': 0.6019696682157963, 'bagging_freq': 1, 'drop_rate': 0.0038435621799850473, 'max_drop': 67, 'skip_drop': 0.1977872062521217, 'num_iterations': 1749}. Best is trial 362 with value: 0.828637147786084.\u001b[0m\n",
      "\u001b[32m[I 2022-07-01 20:59:14,092]\u001b[0m Trial 406 finished with value: 0.8125359401955147 and parameters: {'boosting_type': 'goss', 'learning_rate': 0.020189324469437074, 'max_bin': 765, 'max_depth': -1, 'num_leaves': 252, 'min_data_in_leaf': 85, 'feature_fraction': 0.7503985908924864, 'lambda_l1': 2.943628139327175, 'lambda_l2': 0.00010804702565432458, 'top_rate': 0.4892174222707315, 'other_rate': 0.46412243137987746, 'num_iterations': 1690}. Best is trial 362 with value: 0.828637147786084.\u001b[0m\n",
      "\u001b[32m[I 2022-07-01 20:59:15,342]\u001b[0m Trial 407 finished with value: 0.8234617596319724 and parameters: {'boosting_type': 'dart', 'learning_rate': 0.01757667566726434, 'max_bin': 729, 'max_depth': -1, 'num_leaves': 240, 'min_data_in_leaf': 82, 'feature_fraction': 0.7681613582153444, 'lambda_l1': 3.305821642421395, 'lambda_l2': 0.040026278353743436, 'bagging_fraction': 0.6365100653698365, 'bagging_freq': 1, 'drop_rate': 0.002993560785785537, 'max_drop': 63, 'skip_drop': 0.18929523364139927, 'num_iterations': 551}. Best is trial 362 with value: 0.828637147786084.\u001b[0m\n",
      "\u001b[32m[I 2022-07-01 20:59:18,222]\u001b[0m Trial 408 finished with value: 0.8102357676825762 and parameters: {'boosting_type': 'dart', 'learning_rate': 0.0027057477234814194, 'max_bin': 727, 'max_depth': -1, 'num_leaves': 252, 'min_data_in_leaf': 86, 'feature_fraction': 0.7520934423743499, 'lambda_l1': 8.852107177724015, 'lambda_l2': 0.09099644504136369, 'bagging_fraction': 0.7032765644216005, 'bagging_freq': 1, 'drop_rate': 0.004582469515129698, 'max_drop': 66, 'skip_drop': 0.20815999487588335, 'num_iterations': 1638}. Best is trial 362 with value: 0.828637147786084.\u001b[0m\n",
      "\u001b[32m[I 2022-07-01 20:59:22,360]\u001b[0m Trial 409 finished with value: 0.8142610695802185 and parameters: {'boosting_type': 'dart', 'learning_rate': 0.02771358034147685, 'max_bin': 696, 'max_depth': -1, 'num_leaves': 247, 'min_data_in_leaf': 89, 'feature_fraction': 0.7404212126717097, 'lambda_l1': 1.7707422094118306, 'lambda_l2': 0.7358374147781412, 'bagging_fraction': 0.6724401694005568, 'bagging_freq': 3, 'drop_rate': 0.002639697264471643, 'max_drop': 70, 'skip_drop': 0.18700845218981163, 'num_iterations': 1615}. Best is trial 362 with value: 0.828637147786084.\u001b[0m\n",
      "\u001b[32m[I 2022-07-01 20:59:26,073]\u001b[0m Trial 410 finished with value: 0.824036802760207 and parameters: {'boosting_type': 'dart', 'learning_rate': 0.016547023386325337, 'max_bin': 744, 'max_depth': -1, 'num_leaves': 243, 'min_data_in_leaf': 84, 'feature_fraction': 0.7651122129175676, 'lambda_l1': 4.493654010923002, 'lambda_l2': 0.0002644175056869718, 'bagging_fraction': 0.6556171281516506, 'bagging_freq': 1, 'drop_rate': 0.0034627338919049214, 'max_drop': 70, 'skip_drop': 0.21217179707540224, 'num_iterations': 1595}. Best is trial 362 with value: 0.828637147786084.\u001b[0m\n",
      "\u001b[32m[I 2022-07-01 20:59:33,904]\u001b[0m Trial 411 finished with value: 0.8200115008625647 and parameters: {'boosting_type': 'dart', 'learning_rate': 0.023685791555912203, 'max_bin': 803, 'max_depth': -1, 'num_leaves': 237, 'min_data_in_leaf': 79, 'feature_fraction': 0.7772902470710298, 'lambda_l1': 2.1830285564951963, 'lambda_l2': 0.0014749716820159796, 'bagging_fraction': 0.7183878851460249, 'bagging_freq': 2, 'drop_rate': 0.005953000374581452, 'max_drop': 76, 'skip_drop': 0.2447189244168081, 'num_iterations': 1923}. Best is trial 362 with value: 0.828637147786084.\u001b[0m\n",
      "\u001b[32m[I 2022-07-01 20:59:37,618]\u001b[0m Trial 412 finished with value: 0.8177113283496262 and parameters: {'boosting_type': 'dart', 'learning_rate': 0.03163358939184628, 'max_bin': 713, 'max_depth': -1, 'num_leaves': 246, 'min_data_in_leaf': 83, 'feature_fraction': 0.759871598731811, 'lambda_l1': 3.273624014956773, 'lambda_l2': 0.0011695706644452536, 'bagging_fraction': 0.6622257379994213, 'bagging_freq': 1, 'drop_rate': 0.002781817696441969, 'max_drop': 69, 'skip_drop': 0.20370622931852533, 'num_iterations': 1542}. Best is trial 362 with value: 0.828637147786084.\u001b[0m\n",
      "\u001b[32m[I 2022-07-01 20:59:42,215]\u001b[0m Trial 413 finished with value: 0.81943645773433 and parameters: {'boosting_type': 'dart', 'learning_rate': 0.014283918213379872, 'max_bin': 760, 'max_depth': -1, 'num_leaves': 252, 'min_data_in_leaf': 85, 'feature_fraction': 0.8096110351489086, 'lambda_l1': 2.515638907411588, 'lambda_l2': 0.0003947022855697222, 'bagging_fraction': 0.6837401302019958, 'bagging_freq': 1, 'drop_rate': 0.005362240439844892, 'max_drop': 72, 'skip_drop': 0.1387689213761979, 'num_iterations': 1661}. Best is trial 362 with value: 0.828637147786084.\u001b[0m\n",
      "\u001b[32m[I 2022-07-01 20:59:45,648]\u001b[0m Trial 414 finished with value: 0.8073605520414031 and parameters: {'boosting_type': 'dart', 'learning_rate': 0.000763837999042373, 'max_bin': 728, 'max_depth': -1, 'num_leaves': 238, 'min_data_in_leaf': 84, 'feature_fraction': 0.7587776965338544, 'lambda_l1': 2.243458158331102, 'lambda_l2': 0.5922471597605833, 'bagging_fraction': 0.7065432129084384, 'bagging_freq': 1, 'drop_rate': 0.005481609998088487, 'max_drop': 65, 'skip_drop': 0.7987358739614615, 'num_iterations': 1830}. Best is trial 362 with value: 0.828637147786084.\u001b[0m\n",
      "\u001b[32m[I 2022-07-01 20:59:47,831]\u001b[0m Trial 415 finished with value: 0.816561242093157 and parameters: {'boosting_type': 'dart', 'learning_rate': 0.04454668261533266, 'max_bin': 706, 'max_depth': 3, 'num_leaves': 249, 'min_data_in_leaf': 87, 'feature_fraction': 0.7488842664342342, 'lambda_l1': 1.7101035821267665, 'lambda_l2': 0.43131751831097803, 'bagging_fraction': 0.687325279487534, 'bagging_freq': 1, 'drop_rate': 0.005032074396835375, 'max_drop': 67, 'skip_drop': 0.19895273757650878, 'num_iterations': 1900}. Best is trial 362 with value: 0.828637147786084.\u001b[0m\n",
      "\u001b[32m[I 2022-07-01 20:59:51,371]\u001b[0m Trial 416 finished with value: 0.8280621046578494 and parameters: {'boosting_type': 'dart', 'learning_rate': 0.015894925788423903, 'max_bin': 750, 'max_depth': -1, 'num_leaves': 244, 'min_data_in_leaf': 82, 'feature_fraction': 0.7701663976773423, 'lambda_l1': 3.3553675799183575, 'lambda_l2': 0.0009308418270725511, 'bagging_fraction': 0.6441101458178473, 'bagging_freq': 1, 'drop_rate': 0.0032257017043849714, 'max_drop': 62, 'skip_drop': 0.2220112442570048, 'num_iterations': 1523}. Best is trial 362 with value: 0.828637147786084.\u001b[0m\n",
      "\u001b[32m[I 2022-07-01 20:59:54,872]\u001b[0m Trial 417 finished with value: 0.824036802760207 and parameters: {'boosting_type': 'dart', 'learning_rate': 0.01890569030075402, 'max_bin': 690, 'max_depth': -1, 'num_leaves': 242, 'min_data_in_leaf': 86, 'feature_fraction': 0.789216199452262, 'lambda_l1': 4.769368256081587, 'lambda_l2': 0.002202914305218821, 'bagging_fraction': 0.612932246476491, 'bagging_freq': 1, 'drop_rate': 0.004568333728196317, 'max_drop': 46, 'skip_drop': 0.17511278078443296, 'num_iterations': 1567}. Best is trial 362 with value: 0.828637147786084.\u001b[0m\n",
      "\u001b[32m[I 2022-07-01 20:59:56,672]\u001b[0m Trial 418 finished with value: 0.8182863714778609 and parameters: {'boosting_type': 'dart', 'learning_rate': 0.012810456975965931, 'max_bin': 742, 'max_depth': -1, 'num_leaves': 240, 'min_data_in_leaf': 83, 'feature_fraction': 0.7805389345235021, 'lambda_l1': 3.8072189415444613, 'lambda_l2': 0.0009014042907131584, 'bagging_fraction': 0.644362649516664, 'bagging_freq': 4, 'drop_rate': 0.002086089075169946, 'max_drop': 61, 'skip_drop': 0.12386650737319084, 'num_iterations': 661}. Best is trial 362 with value: 0.828637147786084.\u001b[0m\n",
      "\u001b[32m[I 2022-07-01 20:59:59,468]\u001b[0m Trial 419 finished with value: 0.7998849913743531 and parameters: {'boosting_type': 'dart', 'learning_rate': 0.00011361997967086769, 'max_bin': 751, 'max_depth': -1, 'num_leaves': 241, 'min_data_in_leaf': 87, 'feature_fraction': 0.7716215817954161, 'lambda_l1': 4.49759635516765, 'lambda_l2': 0.0005347738006673454, 'bagging_fraction': 0.6324064875206662, 'bagging_freq': 1, 'drop_rate': 0.0029027150150724495, 'max_drop': 59, 'skip_drop': 0.22033857408257623, 'num_iterations': 1542}. Best is trial 362 with value: 0.828637147786084.\u001b[0m\n",
      "\u001b[32m[I 2022-07-01 21:00:15,288]\u001b[0m Trial 420 finished with value: 0.8131109833237493 and parameters: {'boosting_type': 'dart', 'learning_rate': 0.02413020269063421, 'max_bin': 799, 'max_depth': -1, 'num_leaves': 244, 'min_data_in_leaf': 81, 'feature_fraction': 0.7407453808996728, 'lambda_l1': 3.0590703207822534, 'lambda_l2': 1.0168690315596378, 'bagging_fraction': 0.6522555835176614, 'bagging_freq': 3, 'drop_rate': 0.11941302610474015, 'max_drop': 75, 'skip_drop': 0.2613760493214244, 'num_iterations': 1486}. Best is trial 362 with value: 0.828637147786084.\u001b[0m\n",
      "\u001b[32m[I 2022-07-01 21:00:19,293]\u001b[0m Trial 421 finished with value: 0.8177113283496262 and parameters: {'boosting_type': 'dart', 'learning_rate': 0.020606130338417985, 'max_bin': 776, 'max_depth': -1, 'num_leaves': 253, 'min_data_in_leaf': 86, 'feature_fraction': 0.7723471590781515, 'lambda_l1': 2.7664331650611125, 'lambda_l2': 0.064684193121214, 'bagging_fraction': 0.6732949754620724, 'bagging_freq': 1, 'drop_rate': 0.004071027255703814, 'max_drop': 60, 'skip_drop': 0.4096148836588205, 'num_iterations': 1585}. Best is trial 362 with value: 0.828637147786084.\u001b[0m\n",
      "\u001b[32m[I 2022-07-01 21:00:24,142]\u001b[0m Trial 422 finished with value: 0.821161587119034 and parameters: {'boosting_type': 'dart', 'learning_rate': 0.021041662172169785, 'max_bin': 783, 'max_depth': -1, 'num_leaves': 253, 'min_data_in_leaf': 79, 'feature_fraction': 0.7903757336239653, 'lambda_l1': 2.5445016859358445, 'lambda_l2': 0.1718641029882676, 'bagging_fraction': 0.6958421815900793, 'bagging_freq': 1, 'drop_rate': 0.004319016086091092, 'max_drop': 62, 'skip_drop': 0.14988336996795662, 'num_iterations': 1675}. Best is trial 362 with value: 0.828637147786084.\u001b[0m\n",
      "\u001b[32m[I 2022-07-01 21:00:28,070]\u001b[0m Trial 423 finished with value: 0.8205865439907993 and parameters: {'boosting_type': 'dart', 'learning_rate': 0.015852376560242114, 'max_bin': 685, 'max_depth': -1, 'num_leaves': 248, 'min_data_in_leaf': 90, 'feature_fraction': 0.7667660916240653, 'lambda_l1': 3.5479048350449975, 'lambda_l2': 0.004263656717608693, 'bagging_fraction': 0.624694040537593, 'bagging_freq': 6, 'drop_rate': 0.005050846323288676, 'max_drop': 64, 'skip_drop': 0.16634453016174136, 'num_iterations': 1629}. Best is trial 362 with value: 0.828637147786084.\u001b[0m\n",
      "\u001b[32m[I 2022-07-01 21:00:31,745]\u001b[0m Trial 424 finished with value: 0.8263369752731455 and parameters: {'boosting_type': 'dart', 'learning_rate': 0.016010312439068978, 'max_bin': 745, 'max_depth': -1, 'num_leaves': 247, 'min_data_in_leaf': 82, 'feature_fraction': 0.7594245157149047, 'lambda_l1': 3.179003971097638, 'lambda_l2': 0.0003039651558353762, 'bagging_fraction': 0.6587560206514174, 'bagging_freq': 1, 'drop_rate': 0.0030926526996149844, 'max_drop': 68, 'skip_drop': 0.2229635593789869, 'num_iterations': 1509}. Best is trial 362 with value: 0.828637147786084.\u001b[0m\n",
      "\u001b[32m[I 2022-07-01 21:00:33,040]\u001b[0m Trial 425 finished with value: 0.8108108108108109 and parameters: {'boosting_type': 'goss', 'learning_rate': 0.014812504519218709, 'max_bin': 734, 'max_depth': 3, 'num_leaves': 247, 'min_data_in_leaf': 82, 'feature_fraction': 0.7805986091433319, 'lambda_l1': 3.7680188790428826, 'lambda_l2': 0.0010656962853712486, 'top_rate': 0.07506568057148202, 'other_rate': 0.38757272670337417, 'num_iterations': 1527}. Best is trial 362 with value: 0.828637147786084.\u001b[0m\n",
      "\u001b[32m[I 2022-07-01 21:00:36,510]\u001b[0m Trial 426 finished with value: 0.8257619321449109 and parameters: {'boosting_type': 'dart', 'learning_rate': 0.016888423708857105, 'max_bin': 719, 'max_depth': -1, 'num_leaves': 250, 'min_data_in_leaf': 84, 'feature_fraction': 0.8015540544977495, 'lambda_l1': 3.0692299085219865, 'lambda_l2': 0.0006230411125632456, 'bagging_fraction': 0.6446680024638933, 'bagging_freq': 1, 'drop_rate': 0.003067486331129085, 'max_drop': 66, 'skip_drop': 0.24322717128917004, 'num_iterations': 1483}. Best is trial 362 with value: 0.828637147786084.\u001b[0m\n",
      "\u001b[32m[I 2022-07-01 21:00:40,564]\u001b[0m Trial 427 finished with value: 0.8182863714778609 and parameters: {'boosting_type': 'dart', 'learning_rate': 0.028640452258386823, 'max_bin': 753, 'max_depth': -1, 'num_leaves': 237, 'min_data_in_leaf': 81, 'feature_fraction': 0.7573177547673264, 'lambda_l1': 2.146871356371092, 'lambda_l2': 0.0017417748970701692, 'bagging_fraction': 0.6581673535653916, 'bagging_freq': 1, 'drop_rate': 0.0032416234723292143, 'max_drop': 69, 'skip_drop': 0.22604868424225397, 'num_iterations': 1520}. Best is trial 362 with value: 0.828637147786084.\u001b[0m\n",
      "\u001b[32m[I 2022-07-01 21:00:44,261]\u001b[0m Trial 428 finished with value: 0.8217366302472685 and parameters: {'boosting_type': 'dart', 'learning_rate': 0.035655231109893916, 'max_bin': 737, 'max_depth': -1, 'num_leaves': 256, 'min_data_in_leaf': 83, 'feature_fraction': 0.7704652636607275, 'lambda_l1': 2.4561554501714538, 'lambda_l2': 0.0003300633579200814, 'bagging_fraction': 0.6651486551243488, 'bagging_freq': 1, 'drop_rate': 0.0024709926127205913, 'max_drop': 68, 'skip_drop': 0.22163441567682282, 'num_iterations': 1502}. Best is trial 362 with value: 0.828637147786084.\u001b[0m\n",
      "\u001b[32m[I 2022-07-01 21:00:47,596]\u001b[0m Trial 429 finished with value: 0.8246118458884416 and parameters: {'boosting_type': 'dart', 'learning_rate': 0.018406206092407916, 'max_bin': 755, 'max_depth': -1, 'num_leaves': 244, 'min_data_in_leaf': 80, 'feature_fraction': 0.7471321563792004, 'lambda_l1': 4.072285615033375, 'lambda_l2': 0.00047649700132689784, 'bagging_fraction': 0.6367403769790799, 'bagging_freq': 1, 'drop_rate': 0.0036071151982523418, 'max_drop': 66, 'skip_drop': 0.27619072799729383, 'num_iterations': 1466}. Best is trial 362 with value: 0.828637147786084.\u001b[0m\n",
      "\u001b[32m[I 2022-07-01 21:00:51,533]\u001b[0m Trial 430 finished with value: 0.821161587119034 and parameters: {'boosting_type': 'dart', 'learning_rate': 0.023269838731390425, 'max_bin': 718, 'max_depth': -1, 'num_leaves': 250, 'min_data_in_leaf': 85, 'feature_fraction': 0.7619735468364613, 'lambda_l1': 3.056162438913457, 'lambda_l2': 0.00011272934247911214, 'bagging_fraction': 0.6766677561345866, 'bagging_freq': 1, 'drop_rate': 0.0026854743002654767, 'max_drop': 62, 'skip_drop': 0.22162990002485322, 'num_iterations': 1592}. Best is trial 362 with value: 0.828637147786084.\u001b[0m\n",
      "\u001b[32m[I 2022-07-01 21:00:55,161]\u001b[0m Trial 431 finished with value: 0.8246118458884416 and parameters: {'boosting_type': 'dart', 'learning_rate': 0.013857214340723905, 'max_bin': 701, 'max_depth': -1, 'num_leaves': 252, 'min_data_in_leaf': 82, 'feature_fraction': 0.7840703288660348, 'lambda_l1': 3.5921577283528165, 'lambda_l2': 0.0007301561438291124, 'bagging_fraction': 0.6572335980683767, 'bagging_freq': 1, 'drop_rate': 0.003295630952600696, 'max_drop': 70, 'skip_drop': 0.24324437816302785, 'num_iterations': 1576}. Best is trial 362 with value: 0.828637147786084.\u001b[0m\n",
      "\u001b[32m[I 2022-07-01 21:00:58,028]\u001b[0m Trial 432 finished with value: 0.821161587119034 and parameters: {'boosting_type': 'dart', 'learning_rate': 0.019890883359699987, 'max_bin': 767, 'max_depth': -1, 'num_leaves': 245, 'min_data_in_leaf': 84, 'feature_fraction': 0.7741060702009747, 'lambda_l1': 5.886838667973159, 'lambda_l2': 0.2856286543843729, 'bagging_fraction': 0.6458407621763335, 'bagging_freq': 1, 'drop_rate': 0.0029621125325246496, 'max_drop': 68, 'skip_drop': 0.13709265465896164, 'num_iterations': 1392}. Best is trial 362 with value: 0.828637147786084.\u001b[0m\n",
      "\u001b[32m[I 2022-07-01 21:01:01,805]\u001b[0m Trial 433 finished with value: 0.821161587119034 and parameters: {'boosting_type': 'dart', 'learning_rate': 0.016298558759965057, 'max_bin': 734, 'max_depth': -1, 'num_leaves': 97, 'min_data_in_leaf': 86, 'feature_fraction': 0.6288161633433886, 'lambda_l1': 2.707367158273131, 'lambda_l2': 0.0023207873520839635, 'bagging_fraction': 0.6722787494792244, 'bagging_freq': 1, 'drop_rate': 0.003707040549460211, 'max_drop': 64, 'skip_drop': 0.10059534537473099, 'num_iterations': 1602}. Best is trial 362 with value: 0.828637147786084.\u001b[0m\n",
      "\u001b[32m[I 2022-07-01 21:01:05,744]\u001b[0m Trial 434 finished with value: 0.8257619321449109 and parameters: {'boosting_type': 'dart', 'learning_rate': 0.025843203513472076, 'max_bin': 750, 'max_depth': -1, 'num_leaves': 249, 'min_data_in_leaf': 82, 'feature_fraction': 0.7575589318310295, 'lambda_l1': 2.1768483328361508, 'lambda_l2': 0.4837710898811261, 'bagging_fraction': 0.6619431331901477, 'bagging_freq': 1, 'drop_rate': 0.004022105901929596, 'max_drop': 71, 'skip_drop': 0.18612828313493698, 'num_iterations': 1435}. Best is trial 362 with value: 0.828637147786084.\u001b[0m\n",
      "\u001b[32m[I 2022-07-01 21:01:07,109]\u001b[0m Trial 435 finished with value: 0.8079355951696378 and parameters: {'boosting_type': 'dart', 'learning_rate': 0.0005600140593134261, 'max_bin': 779, 'max_depth': -1, 'num_leaves': 256, 'min_data_in_leaf': 77, 'feature_fraction': 0.7924708429987507, 'lambda_l1': 3.3703711828123, 'lambda_l2': 0.7428684326333943, 'bagging_fraction': 0.6790212907247277, 'bagging_freq': 1, 'drop_rate': 0.0022367935634279574, 'max_drop': 78, 'skip_drop': 0.2107773440277543, 'num_iterations': 730}. Best is trial 362 with value: 0.828637147786084.\u001b[0m\n",
      "\u001b[32m[I 2022-07-01 21:01:20,533]\u001b[0m Trial 436 finished with value: 0.8090856814261069 and parameters: {'boosting_type': 'dart', 'learning_rate': 0.023283720289412238, 'max_bin': 724, 'max_depth': -1, 'num_leaves': 235, 'min_data_in_leaf': 67, 'feature_fraction': 0.7488155514718972, 'lambda_l1': 1.818374586822558, 'lambda_l2': 0.00023008234042754178, 'bagging_fraction': 0.6461593708739221, 'bagging_freq': 1, 'drop_rate': 0.04304927798081964, 'max_drop': 73, 'skip_drop': 0.14872400543899966, 'num_iterations': 1634}. Best is trial 362 with value: 0.828637147786084.\u001b[0m\n",
      "\u001b[32m[I 2022-07-01 21:01:24,285]\u001b[0m Trial 437 finished with value: 0.8246118458884416 and parameters: {'boosting_type': 'dart', 'learning_rate': 0.011638109575005896, 'max_bin': 706, 'max_depth': -1, 'num_leaves': 242, 'min_data_in_leaf': 88, 'feature_fraction': 0.768792862766326, 'lambda_l1': 2.5742110842104005, 'lambda_l2': 0.001500862672997337, 'bagging_fraction': 0.6671397902816523, 'bagging_freq': 1, 'drop_rate': 0.004485691888857751, 'max_drop': 82, 'skip_drop': 0.28735813761645096, 'num_iterations': 1558}. Best is trial 362 with value: 0.828637147786084.\u001b[0m\n",
      "\u001b[32m[I 2022-07-01 21:01:27,624]\u001b[0m Trial 438 finished with value: 0.8177113283496262 and parameters: {'boosting_type': 'dart', 'learning_rate': 0.029774664535268662, 'max_bin': 748, 'max_depth': -1, 'num_leaves': 248, 'min_data_in_leaf': 84, 'feature_fraction': 0.7407278796047024, 'lambda_l1': 2.978252010845848, 'lambda_l2': 0.0007570721025490526, 'bagging_fraction': 0.629269390122861, 'bagging_freq': 1, 'drop_rate': 0.0026727163373499365, 'max_drop': 67, 'skip_drop': 0.23130818144274615, 'num_iterations': 1509}. Best is trial 362 with value: 0.828637147786084.\u001b[0m\n",
      "\u001b[32m[I 2022-07-01 21:01:35,058]\u001b[0m Trial 439 finished with value: 0.8125359401955147 and parameters: {'boosting_type': 'dart', 'learning_rate': 0.02068003516920202, 'max_bin': 677, 'max_depth': -1, 'num_leaves': 251, 'min_data_in_leaf': 27, 'feature_fraction': 0.7766041573654084, 'lambda_l1': 2.333409959672934, 'lambda_l2': 0.36616297863570224, 'bagging_fraction': 0.7075165189148388, 'bagging_freq': 1, 'drop_rate': 0.003336472151194884, 'max_drop': 70, 'skip_drop': 0.1957828658299845, 'num_iterations': 1605}. Best is trial 362 with value: 0.828637147786084.\u001b[0m\n",
      "\u001b[32m[I 2022-07-01 21:01:41,402]\u001b[0m Trial 440 finished with value: 0.8223116733755031 and parameters: {'boosting_type': 'dart', 'learning_rate': 0.017686732704376942, 'max_bin': 769, 'max_depth': -1, 'num_leaves': 239, 'min_data_in_leaf': 81, 'feature_fraction': 0.7602798805459472, 'lambda_l1': 1.6205381815357764, 'lambda_l2': 0.00043405991345817394, 'bagging_fraction': 0.6860277168527221, 'bagging_freq': 1, 'drop_rate': 0.004840830359042986, 'max_drop': 66, 'skip_drop': 0.17021463662509534, 'num_iterations': 1935}. Best is trial 362 with value: 0.828637147786084.\u001b[0m\n",
      "\u001b[32m[I 2022-07-01 21:01:46,417]\u001b[0m Trial 441 finished with value: 0.81943645773433 and parameters: {'boosting_type': 'dart', 'learning_rate': 0.02219655603025007, 'max_bin': 728, 'max_depth': -1, 'num_leaves': 244, 'min_data_in_leaf': 85, 'feature_fraction': 0.7671639911555838, 'lambda_l1': 4.127419971474799, 'lambda_l2': 1.2359079925517389, 'bagging_fraction': 0.6546752740627123, 'bagging_freq': 1, 'drop_rate': 0.005660448580233659, 'max_drop': 68, 'skip_drop': 0.11906396906528709, 'num_iterations': 1851}. Best is trial 362 with value: 0.828637147786084.\u001b[0m\n",
      "\u001b[32m[I 2022-07-01 21:01:52,146]\u001b[0m Trial 442 finished with value: 0.816561242093157 and parameters: {'boosting_type': 'dart', 'learning_rate': 0.026675525137201582, 'max_bin': 698, 'max_depth': -1, 'num_leaves': 256, 'min_data_in_leaf': 64, 'feature_fraction': 0.7471154717479258, 'lambda_l1': 2.048828706117235, 'lambda_l2': 0.8857589138717272, 'bagging_fraction': 0.6764107155078402, 'bagging_freq': 1, 'drop_rate': 0.0036858374866408647, 'max_drop': 72, 'skip_drop': 0.21134688491639964, 'num_iterations': 1784}. Best is trial 362 with value: 0.828637147786084.\u001b[0m\n",
      "\u001b[32m[I 2022-07-01 21:01:54,511]\u001b[0m Trial 443 finished with value: 0.8085106382978723 and parameters: {'boosting_type': 'dart', 'learning_rate': 0.014753347292976393, 'max_bin': 785, 'max_depth': 3, 'num_leaves': 252, 'min_data_in_leaf': 44, 'feature_fraction': 0.7807649057274467, 'lambda_l1': 2.853066754788251, 'lambda_l2': 0.006665943500344007, 'bagging_fraction': 0.6985514840506423, 'bagging_freq': 1, 'drop_rate': 0.004216570607891556, 'max_drop': 63, 'skip_drop': 0.0850277305675459, 'num_iterations': 1892}. Best is trial 362 with value: 0.828637147786084.\u001b[0m\n",
      "\u001b[32m[I 2022-07-01 21:01:58,696]\u001b[0m Trial 444 finished with value: 0.8263369752731455 and parameters: {'boosting_type': 'dart', 'learning_rate': 0.018478799682358594, 'max_bin': 718, 'max_depth': -1, 'num_leaves': 247, 'min_data_in_leaf': 79, 'feature_fraction': 0.759046770422946, 'lambda_l1': 3.2085606890936935, 'lambda_l2': 2.8394864820987693e-08, 'bagging_fraction': 0.6641313714702568, 'bagging_freq': 1, 'drop_rate': 0.0031680773264731, 'max_drop': 60, 'skip_drop': 0.24665074144747032, 'num_iterations': 1636}. Best is trial 362 with value: 0.828637147786084.\u001b[0m\n",
      "\u001b[32m[I 2022-07-01 21:02:02,959]\u001b[0m Trial 445 finished with value: 0.8177113283496262 and parameters: {'boosting_type': 'dart', 'learning_rate': 0.022598522456883104, 'max_bin': 712, 'max_depth': -1, 'num_leaves': 240, 'min_data_in_leaf': 78, 'feature_fraction': 0.7950649887056217, 'lambda_l1': 2.4317868529594446, 'lambda_l2': 0.00339783805770978, 'bagging_fraction': 0.6678672625403326, 'bagging_freq': 1, 'drop_rate': 0.0030330928792684803, 'max_drop': 74, 'skip_drop': 0.19243216193286392, 'num_iterations': 1586}. Best is trial 362 with value: 0.828637147786084.\u001b[0m\n",
      "\u001b[32m[I 2022-07-01 21:02:06,804]\u001b[0m Trial 446 finished with value: 0.8257619321449109 and parameters: {'boosting_type': 'dart', 'learning_rate': 0.0169196495050899, 'max_bin': 740, 'max_depth': -1, 'num_leaves': 245, 'min_data_in_leaf': 72, 'feature_fraction': 0.756188026531749, 'lambda_l1': 3.4117291262887646, 'lambda_l2': 0.45999463489194203, 'bagging_fraction': 0.6537572556058214, 'bagging_freq': 1, 'drop_rate': 0.0022970918602915873, 'max_drop': 60, 'skip_drop': 0.25699053738960254, 'num_iterations': 1619}. Best is trial 362 with value: 0.828637147786084.\u001b[0m\n",
      "\u001b[32m[I 2022-07-01 21:02:10,019]\u001b[0m Trial 447 finished with value: 0.8205865439907993 and parameters: {'boosting_type': 'goss', 'learning_rate': 0.01380411639521227, 'max_bin': 766, 'max_depth': -1, 'num_leaves': 236, 'min_data_in_leaf': 79, 'feature_fraction': 0.7686653036451275, 'lambda_l1': 5.030733971361635, 'lambda_l2': 0.0013142699003584753, 'top_rate': 0.12893428208500113, 'other_rate': 0.43269703939211623, 'num_iterations': 1646}. Best is trial 362 with value: 0.828637147786084.\u001b[0m\n",
      "\u001b[32m[I 2022-07-01 21:02:13,924]\u001b[0m Trial 448 finished with value: 0.8246118458884416 and parameters: {'boosting_type': 'dart', 'learning_rate': 0.019445282532951278, 'max_bin': 694, 'max_depth': -1, 'num_leaves': 248, 'min_data_in_leaf': 80, 'feature_fraction': 0.7800013532541493, 'lambda_l1': 3.8706638329593033, 'lambda_l2': 8.488119237102527e-08, 'bagging_fraction': 0.6371027309880521, 'bagging_freq': 1, 'drop_rate': 0.0032076378971766326, 'max_drop': 59, 'skip_drop': 0.24974094173720854, 'num_iterations': 1664}. Best is trial 362 with value: 0.828637147786084.\u001b[0m\n",
      "\u001b[32m[I 2022-07-01 21:02:16,941]\u001b[0m Trial 449 finished with value: 0.8269120184013801 and parameters: {'boosting_type': 'dart', 'learning_rate': 0.01597484082393128, 'max_bin': 726, 'max_depth': -1, 'num_leaves': 232, 'min_data_in_leaf': 88, 'feature_fraction': 0.7398275260784013, 'lambda_l1': 3.172202720098747, 'lambda_l2': 6.450909345597459e-06, 'bagging_fraction': 0.6814550820309937, 'bagging_freq': 1, 'drop_rate': 0.002755963959011597, 'max_drop': 58, 'skip_drop': 0.2371594930235153, 'num_iterations': 1244}. Best is trial 362 with value: 0.828637147786084.\u001b[0m\n",
      "\u001b[32m[I 2022-07-01 21:02:19,951]\u001b[0m Trial 450 finished with value: 0.8217366302472685 and parameters: {'boosting_type': 'dart', 'learning_rate': 0.01180354640472233, 'max_bin': 752, 'max_depth': -1, 'num_leaves': 232, 'min_data_in_leaf': 76, 'feature_fraction': 0.7350950121304711, 'lambda_l1': 3.38483228420185, 'lambda_l2': 3.8083625321539924e-07, 'bagging_fraction': 0.660832564684359, 'bagging_freq': 1, 'drop_rate': 0.002604832117374984, 'max_drop': 56, 'skip_drop': 0.25424870605007577, 'num_iterations': 1276}. Best is trial 362 with value: 0.828637147786084.\u001b[0m\n",
      "\u001b[32m[I 2022-07-01 21:02:22,767]\u001b[0m Trial 451 finished with value: 0.821161587119034 and parameters: {'boosting_type': 'dart', 'learning_rate': 0.015248819756349914, 'max_bin': 673, 'max_depth': -1, 'num_leaves': 252, 'min_data_in_leaf': 78, 'feature_fraction': 0.7600873256688067, 'lambda_l1': 3.105616651942333, 'lambda_l2': 0.0009858002354810008, 'bagging_fraction': 0.6162914175446603, 'bagging_freq': 1, 'drop_rate': 0.002723511597244054, 'max_drop': 59, 'skip_drop': 0.2979651430777319, 'num_iterations': 1243}. Best is trial 362 with value: 0.828637147786084.\u001b[0m\n",
      "\u001b[32m[I 2022-07-01 21:02:24,040]\u001b[0m Trial 452 finished with value: 0.8079355951696378 and parameters: {'boosting_type': 'dart', 'learning_rate': 0.013071017972278356, 'max_bin': 729, 'max_depth': 3, 'num_leaves': 230, 'min_data_in_leaf': 88, 'feature_fraction': 0.7890507864630858, 'lambda_l1': 2.73053571106093, 'lambda_l2': 0.0004062718746504435, 'bagging_fraction': 0.677033521480116, 'bagging_freq': 5, 'drop_rate': 0.0035217984633972525, 'max_drop': 45, 'skip_drop': 0.23266558439275575, 'num_iterations': 1216}. Best is trial 362 with value: 0.828637147786084.\u001b[0m\n",
      "\u001b[32m[I 2022-07-01 21:02:27,182]\u001b[0m Trial 453 finished with value: 0.8246118458884416 and parameters: {'boosting_type': 'dart', 'learning_rate': 0.016637757650760296, 'max_bin': 712, 'max_depth': -1, 'num_leaves': 245, 'min_data_in_leaf': 74, 'feature_fraction': 0.7432485680745095, 'lambda_l1': 4.289067982898031, 'lambda_l2': 5.197364958133569e-06, 'bagging_fraction': 0.6907130240662812, 'bagging_freq': 1, 'drop_rate': 0.0028804878959941722, 'max_drop': 70, 'skip_drop': 0.23035426189942473, 'num_iterations': 1238}. Best is trial 362 with value: 0.828637147786084.\u001b[0m\n",
      "\u001b[32m[I 2022-07-01 21:02:31,887]\u001b[0m Trial 454 finished with value: 0.8142610695802185 and parameters: {'boosting_type': 'dart', 'learning_rate': 0.01942942951348829, 'max_bin': 685, 'max_depth': -1, 'num_leaves': 233, 'min_data_in_leaf': 36, 'feature_fraction': 0.7724109579493244, 'lambda_l1': 2.5596634637547537, 'lambda_l2': 7.822925449329212e-07, 'bagging_fraction': 0.682822850943554, 'bagging_freq': 3, 'drop_rate': 0.002402796069016899, 'max_drop': 80, 'skip_drop': 0.15585430565128308, 'num_iterations': 1285}. Best is trial 362 with value: 0.828637147786084.\u001b[0m\n",
      "\u001b[32m[I 2022-07-01 21:02:35,076]\u001b[0m Trial 455 finished with value: 0.8257619321449109 and parameters: {'boosting_type': 'dart', 'learning_rate': 0.01865970108551058, 'max_bin': 663, 'max_depth': -1, 'num_leaves': 256, 'min_data_in_leaf': 80, 'feature_fraction': 0.7523845717539804, 'lambda_l1': 2.146488647812364, 'lambda_l2': 2.5047553460944423e-07, 'bagging_fraction': 0.7081307601714801, 'bagging_freq': 1, 'drop_rate': 0.004691046459283934, 'max_drop': 60, 'skip_drop': 0.24171307180622192, 'num_iterations': 1167}. Best is trial 362 with value: 0.828637147786084.\u001b[0m\n",
      "\u001b[32m[I 2022-07-01 21:02:38,429]\u001b[0m Trial 456 finished with value: 0.8217366302472685 and parameters: {'boosting_type': 'dart', 'learning_rate': 0.03258351571743929, 'max_bin': 728, 'max_depth': -1, 'num_leaves': 238, 'min_data_in_leaf': 82, 'feature_fraction': 0.8141344069364791, 'lambda_l1': 3.6622226646597746, 'lambda_l2': 1.2805042991127542e-06, 'bagging_fraction': 0.6675699919258183, 'bagging_freq': 2, 'drop_rate': 0.0031017841248947606, 'max_drop': 55, 'skip_drop': 0.12987637900656296, 'num_iterations': 1323}. Best is trial 362 with value: 0.828637147786084.\u001b[0m\n",
      "\u001b[32m[I 2022-07-01 21:02:45,003]\u001b[0m Trial 457 finished with value: 0.8274870615296147 and parameters: {'boosting_type': 'dart', 'learning_rate': 0.02577852180342331, 'max_bin': 708, 'max_depth': -1, 'num_leaves': 241, 'min_data_in_leaf': 90, 'feature_fraction': 0.7399805211754406, 'lambda_l1': 1.7624187670911964, 'lambda_l2': 2.3488589554596831e-07, 'bagging_fraction': 0.6973844045729215, 'bagging_freq': 2, 'drop_rate': 0.006128680607490389, 'max_drop': 38, 'skip_drop': 0.17584618719357845, 'num_iterations': 1929}. Best is trial 362 with value: 0.828637147786084.\u001b[0m\n",
      "\u001b[32m[I 2022-07-01 21:02:51,466]\u001b[0m Trial 458 finished with value: 0.81943645773433 and parameters: {'boosting_type': 'dart', 'learning_rate': 0.027670416697332476, 'max_bin': 695, 'max_depth': -1, 'num_leaves': 241, 'min_data_in_leaf': 90, 'feature_fraction': 0.7403314231129234, 'lambda_l1': 1.8163522879800933, 'lambda_l2': 1.8331005314290105e-08, 'bagging_fraction': 0.6977517447305737, 'bagging_freq': 2, 'drop_rate': 0.0058812831895747614, 'max_drop': 57, 'skip_drop': 0.17039995678104214, 'num_iterations': 1915}. Best is trial 362 with value: 0.828637147786084.\u001b[0m\n",
      "\u001b[32m[I 2022-07-01 21:02:56,008]\u001b[0m Trial 459 finished with value: 0.8136860264519838 and parameters: {'boosting_type': 'dart', 'learning_rate': 0.0001741885030706714, 'max_bin': 722, 'max_depth': -1, 'num_leaves': 237, 'min_data_in_leaf': 20, 'feature_fraction': 0.7402073559753, 'lambda_l1': 2.8795227272435127, 'lambda_l2': 2.6569432912714704e-08, 'bagging_fraction': 0.6853747967096699, 'bagging_freq': 2, 'drop_rate': 0.006661277420551137, 'max_drop': 37, 'skip_drop': 0.20997219580179585, 'num_iterations': 1258}. Best is trial 362 with value: 0.828637147786084.\u001b[0m\n",
      "\u001b[32m[I 2022-07-01 21:03:02,611]\u001b[0m Trial 460 finished with value: 0.8142610695802185 and parameters: {'boosting_type': 'dart', 'learning_rate': 0.03760472743705394, 'max_bin': 350, 'max_depth': -1, 'num_leaves': 226, 'min_data_in_leaf': 42, 'feature_fraction': 0.8022531262149745, 'lambda_l1': 1.8600846063037224, 'lambda_l2': 2.4472327956995502e-06, 'bagging_fraction': 0.6885674744839609, 'bagging_freq': 2, 'drop_rate': 0.007504073685355253, 'max_drop': 35, 'skip_drop': 0.14369769450963027, 'num_iterations': 1532}. Best is trial 362 with value: 0.828637147786084.\u001b[0m\n",
      "\u001b[32m[I 2022-07-01 21:03:08,617]\u001b[0m Trial 461 finished with value: 0.8200115008625647 and parameters: {'boosting_type': 'dart', 'learning_rate': 0.03064440814316773, 'max_bin': 664, 'max_depth': -1, 'num_leaves': 233, 'min_data_in_leaf': 90, 'feature_fraction': 0.7671482339770646, 'lambda_l1': 2.0871881400468317, 'lambda_l2': 3.3747762753753303e-06, 'bagging_fraction': 0.7107255845080486, 'bagging_freq': 2, 'drop_rate': 0.003852862827266811, 'max_drop': 36, 'skip_drop': 0.17915710687131153, 'num_iterations': 1945}. Best is trial 362 with value: 0.828637147786084.\u001b[0m\n",
      "\u001b[32m[I 2022-07-01 21:03:12,459]\u001b[0m Trial 462 finished with value: 0.8257619321449109 and parameters: {'boosting_type': 'dart', 'learning_rate': 0.014616865016300811, 'max_bin': 753, 'max_depth': -1, 'num_leaves': 240, 'min_data_in_leaf': 88, 'feature_fraction': 0.7316858127214705, 'lambda_l1': 3.2730593907722456, 'lambda_l2': 1.435915391229256e-08, 'bagging_fraction': 0.6460817664646988, 'bagging_freq': 2, 'drop_rate': 0.002840134532567452, 'max_drop': 62, 'skip_drop': 0.27891268567352273, 'num_iterations': 1628}. Best is trial 362 with value: 0.828637147786084.\u001b[0m\n",
      "\u001b[32m[I 2022-07-01 21:03:16,854]\u001b[0m Trial 463 finished with value: 0.8085106382978723 and parameters: {'boosting_type': 'goss', 'learning_rate': 0.026068122527848916, 'max_bin': 779, 'max_depth': -1, 'num_leaves': 76, 'min_data_in_leaf': 91, 'feature_fraction': 0.7474427416726784, 'lambda_l1': 2.4167558383140264, 'lambda_l2': 6.196741393610152e-07, 'top_rate': 0.4573901835313734, 'other_rate': 0.42287841569822926, 'num_iterations': 1711}. Best is trial 362 with value: 0.828637147786084.\u001b[0m\n",
      "\u001b[32m[I 2022-07-01 21:03:21,883]\u001b[0m Trial 464 finished with value: 0.821161587119034 and parameters: {'boosting_type': 'dart', 'learning_rate': 0.02419762132982901, 'max_bin': 704, 'max_depth': -1, 'num_leaves': 249, 'min_data_in_leaf': 89, 'feature_fraction': 0.7526844711828817, 'lambda_l1': 1.6744182193673098, 'lambda_l2': 0.004629300642154927, 'bagging_fraction': 0.7031044757039888, 'bagging_freq': 1, 'drop_rate': 0.0052243910966613535, 'max_drop': 86, 'skip_drop': 0.25844947357326276, 'num_iterations': 1656}. Best is trial 362 with value: 0.828637147786084.\u001b[0m\n",
      "\u001b[32m[I 2022-07-01 21:03:26,336]\u001b[0m Trial 465 finished with value: 0.8090856814261069 and parameters: {'boosting_type': 'dart', 'learning_rate': 0.05511845670620476, 'max_bin': 709, 'max_depth': -1, 'num_leaves': 243, 'min_data_in_leaf': 86, 'feature_fraction': 0.7471453495687213, 'lambda_l1': 2.321451087762601, 'lambda_l2': 8.546270329237966e-08, 'bagging_fraction': 0.6758281677165648, 'bagging_freq': 1, 'drop_rate': 0.005171744936134418, 'max_drop': 62, 'skip_drop': 0.47886224711133585, 'num_iterations': 1690}. Best is trial 362 with value: 0.828637147786084.\u001b[0m\n",
      "\u001b[32m[I 2022-07-01 21:03:29,921]\u001b[0m Trial 466 finished with value: 0.8217366302472685 and parameters: {'boosting_type': 'dart', 'learning_rate': 0.010629393723841607, 'max_bin': 693, 'max_depth': -1, 'num_leaves': 252, 'min_data_in_leaf': 84, 'feature_fraction': 0.7827940380900632, 'lambda_l1': 2.7081294719903246, 'lambda_l2': 3.8006093998967645e-08, 'bagging_fraction': 0.5396762881633905, 'bagging_freq': 1, 'drop_rate': 0.004136958011798364, 'max_drop': 39, 'skip_drop': 0.26759978081459784, 'num_iterations': 1613}. Best is trial 362 with value: 0.828637147786084.\u001b[0m\n",
      "\u001b[32m[I 2022-07-01 21:03:32,216]\u001b[0m Trial 467 finished with value: 0.8079355951696378 and parameters: {'boosting_type': 'dart', 'learning_rate': 0.021876563377715475, 'max_bin': 742, 'max_depth': 3, 'num_leaves': 236, 'min_data_in_leaf': 88, 'feature_fraction': 0.7352203294475441, 'lambda_l1': 7.523541703208519, 'lambda_l2': 1.963743023027526e-05, 'bagging_fraction': 0.6564066995664747, 'bagging_freq': 2, 'drop_rate': 0.0045682387261771614, 'max_drop': 65, 'skip_drop': 0.18894947167388657, 'num_iterations': 1975}. Best is trial 362 with value: 0.828637147786084.\u001b[0m\n",
      "\u001b[32m[I 2022-07-01 21:03:40,014]\u001b[0m Trial 468 finished with value: 0.821161587119034 and parameters: {'boosting_type': 'dart', 'learning_rate': 0.033185365698791, 'max_bin': 762, 'max_depth': -1, 'num_leaves': 242, 'min_data_in_leaf': 87, 'feature_fraction': 0.7755228660578543, 'lambda_l1': 1.8695516604966151, 'lambda_l2': 0.23411554635657744, 'bagging_fraction': 0.6953657378639967, 'bagging_freq': 2, 'drop_rate': 0.008386793805096404, 'max_drop': 26, 'skip_drop': 0.15967595134860824, 'num_iterations': 2000}. Best is trial 362 with value: 0.828637147786084.\u001b[0m\n",
      "\u001b[32m[I 2022-07-01 21:03:43,395]\u001b[0m Trial 469 finished with value: 0.8234617596319724 and parameters: {'boosting_type': 'dart', 'learning_rate': 0.016641664315746804, 'max_bin': 732, 'max_depth': -1, 'num_leaves': 230, 'min_data_in_leaf': 90, 'feature_fraction': 0.7600462429060452, 'lambda_l1': 4.687857054321006, 'lambda_l2': 0.026999795764799515, 'bagging_fraction': 0.664006008827893, 'bagging_freq': 1, 'drop_rate': 0.003327246183829833, 'max_drop': 61, 'skip_drop': 0.24100709331450448, 'num_iterations': 1555}. Best is trial 362 with value: 0.828637147786084.\u001b[0m\n",
      "\u001b[32m[I 2022-07-01 21:03:49,747]\u001b[0m Trial 470 finished with value: 0.8246118458884416 and parameters: {'boosting_type': 'dart', 'learning_rate': 0.026703804551217982, 'max_bin': 816, 'max_depth': -1, 'num_leaves': 244, 'min_data_in_leaf': 87, 'feature_fraction': 0.7862212338296631, 'lambda_l1': 2.102941354830481, 'lambda_l2': 0.12063868339832406, 'bagging_fraction': 0.6796723009287093, 'bagging_freq': 3, 'drop_rate': 0.005724357667080149, 'max_drop': 74, 'skip_drop': 0.1012154865273403, 'num_iterations': 1934}. Best is trial 362 with value: 0.828637147786084.\u001b[0m\n",
      "\u001b[32m[I 2022-07-01 21:03:55,955]\u001b[0m Trial 471 finished with value: 0.8177113283496262 and parameters: {'boosting_type': 'dart', 'learning_rate': 0.01987372479447906, 'max_bin': 720, 'max_depth': -1, 'num_leaves': 248, 'min_data_in_leaf': 83, 'feature_fraction': 0.7533906905972552, 'lambda_l1': 0.06650185440200378, 'lambda_l2': 1.1008421014076857e-08, 'bagging_fraction': 0.7129221395514499, 'bagging_freq': 1, 'drop_rate': 0.005152736387046445, 'max_drop': 64, 'skip_drop': 0.2145307171292777, 'num_iterations': 1684}. Best is trial 362 with value: 0.828637147786084.\u001b[0m\n",
      "\u001b[32m[I 2022-07-01 21:04:00,416]\u001b[0m Trial 472 finished with value: 0.824036802760207 and parameters: {'boosting_type': 'dart', 'learning_rate': 0.01526958167567895, 'max_bin': 688, 'max_depth': -1, 'num_leaves': 253, 'min_data_in_leaf': 80, 'feature_fraction': 0.7643435086413639, 'lambda_l1': 3.0514599873509054, 'lambda_l2': 1.7072200562656227e-07, 'bagging_fraction': 0.6361238211531051, 'bagging_freq': 1, 'drop_rate': 0.0036316268347724398, 'max_drop': 38, 'skip_drop': 0.17664296182987943, 'num_iterations': 1761}. Best is trial 362 with value: 0.828637147786084.\u001b[0m\n",
      "\u001b[32m[I 2022-07-01 21:04:04,831]\u001b[0m Trial 473 finished with value: 0.8217366302472685 and parameters: {'boosting_type': 'dart', 'learning_rate': 0.02163489654742069, 'max_bin': 711, 'max_depth': -1, 'num_leaves': 247, 'min_data_in_leaf': 85, 'feature_fraction': 0.7420876675272378, 'lambda_l1': 3.907180302261426, 'lambda_l2': 7.999727745818324e-06, 'bagging_fraction': 0.6939406981722395, 'bagging_freq': 1, 'drop_rate': 0.005977815422634697, 'max_drop': 63, 'skip_drop': 0.19391338600061123, 'num_iterations': 1648}. Best is trial 362 with value: 0.828637147786084.\u001b[0m\n",
      "\u001b[32m[I 2022-07-01 21:04:10,900]\u001b[0m Trial 474 finished with value: 0.81943645773433 and parameters: {'boosting_type': 'dart', 'learning_rate': 0.018309838675303673, 'max_bin': 769, 'max_depth': -1, 'num_leaves': 237, 'min_data_in_leaf': 91, 'feature_fraction': 0.7340243966231068, 'lambda_l1': 2.534845880536756, 'lambda_l2': 6.395690155439515e-07, 'bagging_fraction': 0.6724488740746088, 'bagging_freq': 1, 'drop_rate': 0.006427670288802345, 'max_drop': 72, 'skip_drop': 0.2014012972068948, 'num_iterations': 1955}. Best is trial 362 with value: 0.828637147786084.\u001b[0m\n",
      "\u001b[32m[I 2022-07-01 21:04:16,927]\u001b[0m Trial 475 finished with value: 0.81943645773433 and parameters: {'boosting_type': 'dart', 'learning_rate': 0.022676137812138702, 'max_bin': 674, 'max_depth': -1, 'num_leaves': 256, 'min_data_in_leaf': 85, 'feature_fraction': 0.7715842369438691, 'lambda_l1': 1.6376759727734218, 'lambda_l2': 0.0027732458831387715, 'bagging_fraction': 0.7276799052278868, 'bagging_freq': 4, 'drop_rate': 0.004527740934125866, 'max_drop': 42, 'skip_drop': 0.17882139824289925, 'num_iterations': 1872}. Best is trial 362 with value: 0.828637147786084.\u001b[0m\n",
      "\u001b[32m[I 2022-07-01 21:04:21,406]\u001b[0m Trial 476 finished with value: 0.8205865439907993 and parameters: {'boosting_type': 'dart', 'learning_rate': 0.01337672751847711, 'max_bin': 489, 'max_depth': -1, 'num_leaves': 252, 'min_data_in_leaf': 83, 'feature_fraction': 0.7648854587993933, 'lambda_l1': 2.757471134034196, 'lambda_l2': 0.001824925561754726, 'bagging_fraction': 0.658814629026782, 'bagging_freq': 1, 'drop_rate': 0.003936287688211502, 'max_drop': 44, 'skip_drop': 0.21669045321629216, 'num_iterations': 1844}. Best is trial 362 with value: 0.828637147786084.\u001b[0m\n",
      "\u001b[32m[I 2022-07-01 21:04:25,542]\u001b[0m Trial 477 finished with value: 0.824036802760207 and parameters: {'boosting_type': 'dart', 'learning_rate': 0.018637134438558453, 'max_bin': 733, 'max_depth': -1, 'num_leaves': 248, 'min_data_in_leaf': 86, 'feature_fraction': 0.7927188241231673, 'lambda_l1': 3.5261557804732497, 'lambda_l2': 0.2584448143502229, 'bagging_fraction': 0.6718494341036404, 'bagging_freq': 8, 'drop_rate': 0.0033993211085881587, 'max_drop': 39, 'skip_drop': 0.2398269489552848, 'num_iterations': 1678}. Best is trial 362 with value: 0.828637147786084.\u001b[0m\n",
      "\u001b[32m[I 2022-07-01 21:04:31,443]\u001b[0m Trial 478 finished with value: 0.8217366302472685 and parameters: {'boosting_type': 'dart', 'learning_rate': 0.02832794981605781, 'max_bin': 787, 'max_depth': -1, 'num_leaves': 241, 'min_data_in_leaf': 88, 'feature_fraction': 0.7780711744631741, 'lambda_l1': 2.1511960474610885, 'lambda_l2': 0.7973477699221881, 'bagging_fraction': 0.688298443090243, 'bagging_freq': 2, 'drop_rate': 0.004284015799887728, 'max_drop': 76, 'skip_drop': 0.15105032514874617, 'num_iterations': 1906}. Best is trial 362 with value: 0.828637147786084.\u001b[0m\n",
      "\u001b[32m[I 2022-07-01 21:04:41,895]\u001b[0m Trial 479 finished with value: 0.821161587119034 and parameters: {'boosting_type': 'dart', 'learning_rate': 0.01635753281104202, 'max_bin': 747, 'max_depth': -1, 'num_leaves': 256, 'min_data_in_leaf': 82, 'feature_fraction': 0.758899941592268, 'lambda_l1': 2.936258053508664, 'lambda_l2': 0.0008658880029219395, 'bagging_fraction': 0.6441555416016602, 'bagging_freq': 1, 'drop_rate': 0.1939957434877871, 'max_drop': 68, 'skip_drop': 0.6496088993895521, 'num_iterations': 1586}. Best is trial 362 with value: 0.828637147786084.\u001b[0m\n",
      "\u001b[32m[I 2022-07-01 21:04:46,387]\u001b[0m Trial 480 finished with value: 0.8073605520414031 and parameters: {'boosting_type': 'dart', 'learning_rate': 0.04169922345306308, 'max_bin': 685, 'max_depth': 3, 'num_leaves': 251, 'min_data_in_leaf': 83, 'feature_fraction': 0.7393443140600972, 'lambda_l1': 1.518414474518249, 'lambda_l2': 1.086260340472894, 'bagging_fraction': 0.6836813056875962, 'bagging_freq': 2, 'drop_rate': 0.0685295540043669, 'max_drop': 37, 'skip_drop': 0.1336407515506376, 'num_iterations': 1193}. Best is trial 362 with value: 0.828637147786084.\u001b[0m\n",
      "\u001b[32m[I 2022-07-01 21:04:53,027]\u001b[0m Trial 481 finished with value: 0.8269120184013801 and parameters: {'boosting_type': 'dart', 'learning_rate': 0.025682042063695898, 'max_bin': 754, 'max_depth': -1, 'num_leaves': 242, 'min_data_in_leaf': 89, 'feature_fraction': 0.7273417558585323, 'lambda_l1': 1.9038338895149773, 'lambda_l2': 0.5278460070767821, 'bagging_fraction': 0.7095107656001818, 'bagging_freq': 1, 'drop_rate': 0.006582654187256966, 'max_drop': 70, 'skip_drop': 0.16675892597828956, 'num_iterations': 1923}. Best is trial 362 with value: 0.828637147786084.\u001b[0m\n",
      "\u001b[32m[I 2022-07-01 21:04:56,450]\u001b[0m Trial 482 finished with value: 0.8090856814261069 and parameters: {'boosting_type': 'goss', 'learning_rate': 0.03168804624614581, 'max_bin': 723, 'max_depth': -1, 'num_leaves': 233, 'min_data_in_leaf': 78, 'feature_fraction': 0.7248393351480411, 'lambda_l1': 2.2986691195252216, 'lambda_l2': 0.6269020859349073, 'top_rate': 0.415989618182304, 'other_rate': 0.3760843736512629, 'num_iterations': 1300}. Best is trial 362 with value: 0.828637147786084.\u001b[0m\n",
      "\u001b[32m[I 2022-07-01 21:05:02,316]\u001b[0m Trial 483 finished with value: 0.8223116733755031 and parameters: {'boosting_type': 'dart', 'learning_rate': 0.02728823295668505, 'max_bin': 760, 'max_depth': -1, 'num_leaves': 246, 'min_data_in_leaf': 91, 'feature_fraction': 0.77376430952685, 'lambda_l1': 1.880865216721948, 'lambda_l2': 0.4938006029054718, 'bagging_fraction': 0.7041697711186129, 'bagging_freq': 1, 'drop_rate': 0.004836872962584764, 'max_drop': 70, 'skip_drop': 0.1628441901227049, 'num_iterations': 1881}. Best is trial 362 with value: 0.828637147786084.\u001b[0m\n",
      "\u001b[32m[I 2022-07-01 21:05:07,940]\u001b[0m Trial 484 finished with value: 0.8263369752731455 and parameters: {'boosting_type': 'dart', 'learning_rate': 0.024201046326472096, 'max_bin': 187, 'max_depth': -1, 'num_leaves': 242, 'min_data_in_leaf': 89, 'feature_fraction': 0.8012550393056433, 'lambda_l1': 2.0294342836551573, 'lambda_l2': 0.3434213848743711, 'bagging_fraction': 0.7185586361037829, 'bagging_freq': 1, 'drop_rate': 0.005407779415300106, 'max_drop': 43, 'skip_drop': 0.17199809238659036, 'num_iterations': 1899}. Best is trial 362 with value: 0.828637147786084.\u001b[0m\n",
      "\u001b[32m[I 2022-07-01 21:05:14,719]\u001b[0m Trial 485 finished with value: 0.824036802760207 and parameters: {'boosting_type': 'dart', 'learning_rate': 0.03463548205095166, 'max_bin': 793, 'max_depth': -1, 'num_leaves': 237, 'min_data_in_leaf': 91, 'feature_fraction': 0.727400344043234, 'lambda_l1': 2.423499493019677, 'lambda_l2': 0.5646195312890034, 'bagging_fraction': 0.6974992057478271, 'bagging_freq': 1, 'drop_rate': 0.006956498386420672, 'max_drop': 72, 'skip_drop': 0.14840947059442577, 'num_iterations': 1945}. Best is trial 362 with value: 0.828637147786084.\u001b[0m\n",
      "\u001b[32m[I 2022-07-01 21:05:20,406]\u001b[0m Trial 486 finished with value: 0.81943645773433 and parameters: {'boosting_type': 'dart', 'learning_rate': 0.02660028495675184, 'max_bin': 520, 'max_depth': -1, 'num_leaves': 239, 'min_data_in_leaf': 89, 'feature_fraction': 0.7867751684532313, 'lambda_l1': 1.6783522783555826, 'lambda_l2': 1.2479852753110401e-05, 'bagging_fraction': 0.45694600659270507, 'bagging_freq': 1, 'drop_rate': 0.007923043478393389, 'max_drop': 48, 'skip_drop': 0.1182008858743607, 'num_iterations': 1915}. Best is trial 362 with value: 0.828637147786084.\u001b[0m\n",
      "\u001b[32m[I 2022-07-01 21:05:26,816]\u001b[0m Trial 487 finished with value: 0.8269120184013801 and parameters: {'boosting_type': 'dart', 'learning_rate': 0.021381770295913392, 'max_bin': 747, 'max_depth': -1, 'num_leaves': 244, 'min_data_in_leaf': 87, 'feature_fraction': 0.7465118338718557, 'lambda_l1': 1.9633420534511679, 'lambda_l2': 0.18102571408163656, 'bagging_fraction': 0.7309871969388891, 'bagging_freq': 1, 'drop_rate': 0.005624361289722416, 'max_drop': 71, 'skip_drop': 0.19907949994837698, 'num_iterations': 1930}. Best is trial 362 with value: 0.828637147786084.\u001b[0m\n",
      "\u001b[32m[I 2022-07-01 21:05:33,351]\u001b[0m Trial 488 finished with value: 0.8251868890166763 and parameters: {'boosting_type': 'dart', 'learning_rate': 0.023176748917944533, 'max_bin': 713, 'max_depth': -1, 'num_leaves': 245, 'min_data_in_leaf': 85, 'feature_fraction': 0.7434676252211965, 'lambda_l1': 1.9252144878859276, 'lambda_l2': 0.3457640002274051, 'bagging_fraction': 0.7217516797640096, 'bagging_freq': 1, 'drop_rate': 0.006440670980348966, 'max_drop': 71, 'skip_drop': 0.19382471450802952, 'num_iterations': 1910}. Best is trial 362 with value: 0.828637147786084.\u001b[0m\n",
      "\u001b[32m[I 2022-07-01 21:05:38,807]\u001b[0m Trial 489 finished with value: 0.828637147786084 and parameters: {'boosting_type': 'dart', 'learning_rate': 0.020635066310358684, 'max_bin': 742, 'max_depth': -1, 'num_leaves': 235, 'min_data_in_leaf': 92, 'feature_fraction': 0.7562052290315132, 'lambda_l1': 2.4642934031158483, 'lambda_l2': 3.585321842579257e-08, 'bagging_fraction': 0.7134807220217073, 'bagging_freq': 1, 'drop_rate': 0.005882456548821844, 'max_drop': 70, 'skip_drop': 0.20254652957645838, 'num_iterations': 1948}. Best is trial 362 with value: 0.828637147786084.\u001b[0m\n",
      "\u001b[32m[I 2022-07-01 21:05:42,142]\u001b[0m Trial 490 finished with value: 0.8113858539390454 and parameters: {'boosting_type': 'dart', 'learning_rate': 0.02929126278037624, 'max_bin': 778, 'max_depth': 3, 'num_leaves': 228, 'min_data_in_leaf': 94, 'feature_fraction': 0.7314120369455989, 'lambda_l1': 2.1136981331211238, 'lambda_l2': 2.6484254462632104e-07, 'bagging_fraction': 0.7328955060712422, 'bagging_freq': 2, 'drop_rate': 0.009158977154924553, 'max_drop': 73, 'skip_drop': 0.1346459880272407, 'num_iterations': 1974}. Best is trial 362 with value: 0.828637147786084.\u001b[0m\n",
      "\u001b[32m[I 2022-07-01 21:05:47,700]\u001b[0m Trial 491 finished with value: 0.8205865439907993 and parameters: {'boosting_type': 'dart', 'learning_rate': 0.020159080951422905, 'max_bin': 724, 'max_depth': -1, 'num_leaves': 233, 'min_data_in_leaf': 94, 'feature_fraction': 0.7665591482978167, 'lambda_l1': 2.5216166330254515, 'lambda_l2': 2.9270883955366463e-08, 'bagging_fraction': 0.7489270095778459, 'bagging_freq': 1, 'drop_rate': 0.002508369620577971, 'max_drop': 69, 'skip_drop': 0.16562731626377758, 'num_iterations': 1947}. Best is trial 362 with value: 0.828637147786084.\u001b[0m\n",
      "\u001b[32m[I 2022-07-01 21:05:53,917]\u001b[0m Trial 492 finished with value: 0.8263369752731455 and parameters: {'boosting_type': 'dart', 'learning_rate': 0.02054837701849805, 'max_bin': 752, 'max_depth': -1, 'num_leaves': 235, 'min_data_in_leaf': 91, 'feature_fraction': 0.7507422842645052, 'lambda_l1': 2.3202627353877388, 'lambda_l2': 1.2609551929136e-07, 'bagging_fraction': 0.7258069715681413, 'bagging_freq': 1, 'drop_rate': 0.005204461420563624, 'max_drop': 71, 'skip_drop': 0.2228788727479394, 'num_iterations': 1934}. Best is trial 362 with value: 0.828637147786084.\u001b[0m\n",
      "\u001b[32m[I 2022-07-01 21:06:00,871]\u001b[0m Trial 493 finished with value: 0.8234617596319724 and parameters: {'boosting_type': 'dart', 'learning_rate': 0.024670827458307322, 'max_bin': 738, 'max_depth': -1, 'num_leaves': 229, 'min_data_in_leaf': 93, 'feature_fraction': 0.734652051444261, 'lambda_l1': 1.9541510480691076, 'lambda_l2': 1.1015738258031251, 'bagging_fraction': 0.7209323949019248, 'bagging_freq': 2, 'drop_rate': 0.007220863845713036, 'max_drop': 72, 'skip_drop': 0.20749330945554365, 'num_iterations': 1990}. Best is trial 362 with value: 0.828637147786084.\u001b[0m\n",
      "\u001b[32m[I 2022-07-01 21:06:06,891]\u001b[0m Trial 494 finished with value: 0.8280621046578494 and parameters: {'boosting_type': 'dart', 'learning_rate': 0.0217666737522613, 'max_bin': 737, 'max_depth': -1, 'num_leaves': 234, 'min_data_in_leaf': 92, 'feature_fraction': 0.7470043514601984, 'lambda_l1': 2.2150262847110107, 'lambda_l2': 4.518792678527809e-08, 'bagging_fraction': 0.7307430303960126, 'bagging_freq': 1, 'drop_rate': 0.005960671363638153, 'max_drop': 71, 'skip_drop': 0.200250403379513, 'num_iterations': 1942}. Best is trial 362 with value: 0.828637147786084.\u001b[0m\n",
      "\u001b[32m[I 2022-07-01 21:06:12,698]\u001b[0m Trial 495 finished with value: 0.8269120184013801 and parameters: {'boosting_type': 'dart', 'learning_rate': 0.023229526563204837, 'max_bin': 712, 'max_depth': -1, 'num_leaves': 223, 'min_data_in_leaf': 93, 'feature_fraction': 0.751871621387128, 'lambda_l1': 2.3059403262943734, 'lambda_l2': 2.5668024131914628e-08, 'bagging_fraction': 0.7382248931919858, 'bagging_freq': 1, 'drop_rate': 0.006080340130952006, 'max_drop': 70, 'skip_drop': 0.2005028239804783, 'num_iterations': 1949}. Best is trial 362 with value: 0.828637147786084.\u001b[0m\n",
      "\u001b[32m[I 2022-07-01 21:06:19,388]\u001b[0m Trial 496 finished with value: 0.8246118458884416 and parameters: {'boosting_type': 'dart', 'learning_rate': 0.031407362298845935, 'max_bin': 706, 'max_depth': -1, 'num_leaves': 224, 'min_data_in_leaf': 93, 'feature_fraction': 0.7752940767892643, 'lambda_l1': 2.626874779876339, 'lambda_l2': 3.94829492991054e-08, 'bagging_fraction': 0.7308653139945525, 'bagging_freq': 1, 'drop_rate': 0.006196211896162896, 'max_drop': 69, 'skip_drop': 0.18446020971568658, 'num_iterations': 1955}. Best is trial 362 with value: 0.828637147786084.\u001b[0m\n",
      "\u001b[32m[I 2022-07-01 21:06:25,272]\u001b[0m Trial 497 finished with value: 0.824036802760207 and parameters: {'boosting_type': 'dart', 'learning_rate': 0.024655520967773865, 'max_bin': 706, 'max_depth': -1, 'num_leaves': 230, 'min_data_in_leaf': 93, 'feature_fraction': 0.7457272383439464, 'lambda_l1': 2.2279390277494295, 'lambda_l2': 4.331294136590553e-08, 'bagging_fraction': 0.7148229530405308, 'bagging_freq': 1, 'drop_rate': 0.0059287023057183015, 'max_drop': 70, 'skip_drop': 0.19363783993155614, 'num_iterations': 1932}. Best is trial 362 with value: 0.828637147786084.\u001b[0m\n",
      "\u001b[32m[I 2022-07-01 21:06:32,014]\u001b[0m Trial 498 finished with value: 0.8223116733755031 and parameters: {'boosting_type': 'dart', 'learning_rate': 0.037774678702560925, 'max_bin': 735, 'max_depth': -1, 'num_leaves': 226, 'min_data_in_leaf': 92, 'feature_fraction': 0.724413219945388, 'lambda_l1': 2.2764721402490644, 'lambda_l2': 4.822337248026866e-08, 'bagging_fraction': 0.7418492894293918, 'bagging_freq': 1, 'drop_rate': 0.00705039665305957, 'max_drop': 74, 'skip_drop': 0.1624376816030234, 'num_iterations': 1998}. Best is trial 362 with value: 0.828637147786084.\u001b[0m\n",
      "\u001b[32m[I 2022-07-01 21:06:38,519]\u001b[0m Trial 499 finished with value: 0.8263369752731455 and parameters: {'boosting_type': 'dart', 'learning_rate': 0.022120875650518422, 'max_bin': 731, 'max_depth': -1, 'num_leaves': 232, 'min_data_in_leaf': 94, 'feature_fraction': 0.7508850505226891, 'lambda_l1': 1.9827834952616445, 'lambda_l2': 1.4919096760810188e-08, 'bagging_fraction': 0.7339665472589966, 'bagging_freq': 1, 'drop_rate': 0.006311901481384078, 'max_drop': 70, 'skip_drop': 0.2048528006416532, 'num_iterations': 1953}. Best is trial 362 with value: 0.828637147786084.\u001b[0m\n"
     ]
    },
    {
     "name": "stdout",
     "output_type": "stream",
     "text": [
      "Number of finished trials: 500\n",
      "Best trial:\n",
      "  Value: 0.828637147786084\n",
      "  Params: \n",
      "    boosting_type: dart\n",
      "    learning_rate: 0.022962889467981827\n",
      "    max_bin: 722\n",
      "    max_depth: -1\n",
      "    num_leaves: 239\n",
      "    min_data_in_leaf: 83\n",
      "    feature_fraction: 0.7668498673631298\n",
      "    lambda_l1: 2.451686108573376\n",
      "    lambda_l2: 0.28939668547255104\n",
      "    bagging_fraction: 0.6732931553684648\n",
      "    bagging_freq: 1\n",
      "    drop_rate: 0.004823229858926694\n",
      "    max_drop: 65\n",
      "    skip_drop: 0.21891187690660008\n",
      "    num_iterations: 1667\n"
     ]
    }
   ],
   "source": [
    "study = optuna.create_study(direction=\"maximize\")\n",
    "study.optimize(objective, n_trials=500)\n",
    "\n",
    "print(\"Number of finished trials: {}\".format(len(study.trials)))\n",
    "\n",
    "print(\"Best trial:\")\n",
    "trial = study.best_trial\n",
    "\n",
    "print(\"  Value: {}\".format(trial.value))\n",
    "\n",
    "print(\"  Params: \")\n",
    "for key, value in trial.params.items():\n",
    "    print(\"    {}: {}\".format(key, value))"
   ]
  },
  {
   "cell_type": "code",
   "execution_count": 71,
   "metadata": {},
   "outputs": [
    {
     "name": "stdout",
     "output_type": "stream",
     "text": [
      "[LightGBM] [Warning] feature_fraction is set=0.7668498673631298, colsample_bytree=1.0 will be ignored. Current value: feature_fraction=0.7668498673631298\n",
      "[LightGBM] [Warning] min_data_in_leaf is set=83, min_child_samples=20 will be ignored. Current value: min_data_in_leaf=83\n"
     ]
    },
    {
     "name": "stderr",
     "output_type": "stream",
     "text": [
      "C:\\Users\\Maxime\\AppData\\Local\\Packages\\PythonSoftwareFoundation.Python.3.9_qbz5n2kfra8p0\\LocalCache\\local-packages\\Python39\\site-packages\\lightgbm\\engine.py:177: UserWarning: Found `num_iterations` in params. Will use it instead of argument\n",
      "  _log_warning(f\"Found `{alias}` in params. Will use it instead of argument\")\n"
     ]
    },
    {
     "name": "stdout",
     "output_type": "stream",
     "text": [
      "[LightGBM] [Warning] lambda_l1 is set=2.451686108573376, reg_alpha=0.0 will be ignored. Current value: lambda_l1=2.451686108573376\n",
      "[LightGBM] [Warning] bagging_fraction is set=0.6732931553684648, subsample=1.0 will be ignored. Current value: bagging_fraction=0.6732931553684648\n",
      "[LightGBM] [Warning] lambda_l2 is set=0.28939668547255104, reg_lambda=0.0 will be ignored. Current value: lambda_l2=0.28939668547255104\n",
      "[LightGBM] [Warning] bagging_freq is set=1, subsample_freq=0 will be ignored. Current value: bagging_freq=1\n"
     ]
    },
    {
     "data": {
      "text/html": [
       "<style>#sk-container-id-3 {color: black;background-color: white;}#sk-container-id-3 pre{padding: 0;}#sk-container-id-3 div.sk-toggleable {background-color: white;}#sk-container-id-3 label.sk-toggleable__label {cursor: pointer;display: block;width: 100%;margin-bottom: 0;padding: 0.3em;box-sizing: border-box;text-align: center;}#sk-container-id-3 label.sk-toggleable__label-arrow:before {content: \"▸\";float: left;margin-right: 0.25em;color: #696969;}#sk-container-id-3 label.sk-toggleable__label-arrow:hover:before {color: black;}#sk-container-id-3 div.sk-estimator:hover label.sk-toggleable__label-arrow:before {color: black;}#sk-container-id-3 div.sk-toggleable__content {max-height: 0;max-width: 0;overflow: hidden;text-align: left;background-color: #f0f8ff;}#sk-container-id-3 div.sk-toggleable__content pre {margin: 0.2em;color: black;border-radius: 0.25em;background-color: #f0f8ff;}#sk-container-id-3 input.sk-toggleable__control:checked~div.sk-toggleable__content {max-height: 200px;max-width: 100%;overflow: auto;}#sk-container-id-3 input.sk-toggleable__control:checked~label.sk-toggleable__label-arrow:before {content: \"▾\";}#sk-container-id-3 div.sk-estimator input.sk-toggleable__control:checked~label.sk-toggleable__label {background-color: #d4ebff;}#sk-container-id-3 div.sk-label input.sk-toggleable__control:checked~label.sk-toggleable__label {background-color: #d4ebff;}#sk-container-id-3 input.sk-hidden--visually {border: 0;clip: rect(1px 1px 1px 1px);clip: rect(1px, 1px, 1px, 1px);height: 1px;margin: -1px;overflow: hidden;padding: 0;position: absolute;width: 1px;}#sk-container-id-3 div.sk-estimator {font-family: monospace;background-color: #f0f8ff;border: 1px dotted black;border-radius: 0.25em;box-sizing: border-box;margin-bottom: 0.5em;}#sk-container-id-3 div.sk-estimator:hover {background-color: #d4ebff;}#sk-container-id-3 div.sk-parallel-item::after {content: \"\";width: 100%;border-bottom: 1px solid gray;flex-grow: 1;}#sk-container-id-3 div.sk-label:hover label.sk-toggleable__label {background-color: #d4ebff;}#sk-container-id-3 div.sk-serial::before {content: \"\";position: absolute;border-left: 1px solid gray;box-sizing: border-box;top: 0;bottom: 0;left: 50%;z-index: 0;}#sk-container-id-3 div.sk-serial {display: flex;flex-direction: column;align-items: center;background-color: white;padding-right: 0.2em;padding-left: 0.2em;position: relative;}#sk-container-id-3 div.sk-item {position: relative;z-index: 1;}#sk-container-id-3 div.sk-parallel {display: flex;align-items: stretch;justify-content: center;background-color: white;position: relative;}#sk-container-id-3 div.sk-item::before, #sk-container-id-3 div.sk-parallel-item::before {content: \"\";position: absolute;border-left: 1px solid gray;box-sizing: border-box;top: 0;bottom: 0;left: 50%;z-index: -1;}#sk-container-id-3 div.sk-parallel-item {display: flex;flex-direction: column;z-index: 1;position: relative;background-color: white;}#sk-container-id-3 div.sk-parallel-item:first-child::after {align-self: flex-end;width: 50%;}#sk-container-id-3 div.sk-parallel-item:last-child::after {align-self: flex-start;width: 50%;}#sk-container-id-3 div.sk-parallel-item:only-child::after {width: 0;}#sk-container-id-3 div.sk-dashed-wrapped {border: 1px dashed gray;margin: 0 0.4em 0.5em 0.4em;box-sizing: border-box;padding-bottom: 0.4em;background-color: white;}#sk-container-id-3 div.sk-label label {font-family: monospace;font-weight: bold;display: inline-block;line-height: 1.2em;}#sk-container-id-3 div.sk-label-container {text-align: center;}#sk-container-id-3 div.sk-container {/* jupyter's `normalize.less` sets `[hidden] { display: none; }` but bootstrap.min.css set `[hidden] { display: none !important; }` so we also need the `!important` here to be able to override the default hidden behavior on the sphinx rendered scikit-learn.org. See: https://github.com/scikit-learn/scikit-learn/issues/21755 */display: inline-block !important;position: relative;}#sk-container-id-3 div.sk-text-repr-fallback {display: none;}</style><div id=\"sk-container-id-3\" class=\"sk-top-container\"><div class=\"sk-text-repr-fallback\"><pre>LGBMClassifier(bagging_fraction=0.6732931553684648, bagging_freq=1,\n",
       "               boosting_type=&#x27;dart&#x27;, drop_rate=0.004823229858926694,\n",
       "               feature_fraction=0.7668498673631298, lambda_l1=2.451686108573376,\n",
       "               lambda_l2=0.28939668547255104,\n",
       "               learning_rate=0.022962889467981827, max_bin=722, max_drop=65,\n",
       "               min_data_in_leaf=83, num_iterations=1667, num_leaves=239,\n",
       "               skip_drop=0.21891187690660008)</pre><b>In a Jupyter environment, please rerun this cell to show the HTML representation or trust the notebook. <br />On GitHub, the HTML representation is unable to render, please try loading this page with nbviewer.org.</b></div><div class=\"sk-container\" hidden><div class=\"sk-item\"><div class=\"sk-estimator sk-toggleable\"><input class=\"sk-toggleable__control sk-hidden--visually\" id=\"sk-estimator-id-3\" type=\"checkbox\" checked><label for=\"sk-estimator-id-3\" class=\"sk-toggleable__label sk-toggleable__label-arrow\">LGBMClassifier</label><div class=\"sk-toggleable__content\"><pre>LGBMClassifier(bagging_fraction=0.6732931553684648, bagging_freq=1,\n",
       "               boosting_type=&#x27;dart&#x27;, drop_rate=0.004823229858926694,\n",
       "               feature_fraction=0.7668498673631298, lambda_l1=2.451686108573376,\n",
       "               lambda_l2=0.28939668547255104,\n",
       "               learning_rate=0.022962889467981827, max_bin=722, max_drop=65,\n",
       "               min_data_in_leaf=83, num_iterations=1667, num_leaves=239,\n",
       "               skip_drop=0.21891187690660008)</pre></div></div></div></div></div>"
      ],
      "text/plain": [
       "LGBMClassifier(bagging_fraction=0.6732931553684648, bagging_freq=1,\n",
       "               boosting_type='dart', drop_rate=0.004823229858926694,\n",
       "               feature_fraction=0.7668498673631298, lambda_l1=2.451686108573376,\n",
       "               lambda_l2=0.28939668547255104,\n",
       "               learning_rate=0.022962889467981827, max_bin=722, max_drop=65,\n",
       "               min_data_in_leaf=83, num_iterations=1667, num_leaves=239,\n",
       "               skip_drop=0.21891187690660008)"
      ]
     },
     "execution_count": 71,
     "metadata": {},
     "output_type": "execute_result"
    }
   ],
   "source": [
    "model_best_lgb = lgb.LGBMClassifier(**trial.params)\n",
    "model_best_lgb.fit(pd.concat([X_train_impute, X_valid_impute]), pd.concat([y_train, y_valid]))\n"
   ]
  },
  {
   "cell_type": "code",
   "execution_count": 72,
   "metadata": {},
   "outputs": [],
   "source": [
    "# Write predictions on the test set to a new dataframe with PassengerId and the result of the model\n",
    "test_pred = pd.DataFrame(passenger_id, columns=[\"PassengerId\"])\n",
    "test_pred[\"Transported\"] = model_best_lgb.predict(X_test_impute)\n",
    "test_pred.to_csv(\"test_pred_lgb_optuna_500_new.csv\", index=False)\n"
   ]
  },
  {
   "cell_type": "markdown",
   "metadata": {},
   "source": [
    "## Catboost"
   ]
  },
  {
   "cell_type": "code",
   "execution_count": 33,
   "metadata": {},
   "outputs": [],
   "source": [
    "%load_ext tensorboard\n"
   ]
  },
  {
   "cell_type": "code",
   "execution_count": 25,
   "metadata": {},
   "outputs": [
    {
     "ename": "NameError",
     "evalue": "name 'X_train_ohe_impute' is not defined",
     "output_type": "error",
     "traceback": [
      "\u001b[1;31m---------------------------------------------------------------------------\u001b[0m",
      "\u001b[1;31mNameError\u001b[0m                                 Traceback (most recent call last)",
      "\u001b[1;32me:\\Train\\Fun\\ML\\kaggle_spaceship_titanic\\notebook.ipynb Cell 31'\u001b[0m in \u001b[0;36m<cell line: 1>\u001b[1;34m()\u001b[0m\n\u001b[1;32m----> <a href='vscode-notebook-cell:/e%3A/Train/Fun/ML/kaggle_spaceship_titanic/notebook.ipynb#ch0000030?line=0'>1</a>\u001b[0m train_dataset_cat_ohe \u001b[39m=\u001b[39m Pool(X_train_ohe_impute, label\u001b[39m=\u001b[39my_train)\n\u001b[0;32m      <a href='vscode-notebook-cell:/e%3A/Train/Fun/ML/kaggle_spaceship_titanic/notebook.ipynb#ch0000030?line=1'>2</a>\u001b[0m valid_dataset_cat_ohe \u001b[39m=\u001b[39m Pool(X_valid_ohe_impute, label\u001b[39m=\u001b[39my_valid)\n\u001b[0;32m      <a href='vscode-notebook-cell:/e%3A/Train/Fun/ML/kaggle_spaceship_titanic/notebook.ipynb#ch0000030?line=2'>3</a>\u001b[0m test_dataset_cat_ohe \u001b[39m=\u001b[39m Pool(X_test_ohe_impute)\n",
      "\u001b[1;31mNameError\u001b[0m: name 'X_train_ohe_impute' is not defined"
     ]
    }
   ],
   "source": [
    "train_dataset_cat_ohe = Pool(X_train_ohe_impute, label=y_train)\n",
    "valid_dataset_cat_ohe = Pool(X_valid_ohe_impute, label=y_valid)\n",
    "test_dataset_cat_ohe = Pool(X_test_ohe_impute)\n",
    "\n",
    "model_catboost = CatBoostClassifier(\n",
    "    iterations=1000,\n",
    "    loss_function=\"Logloss\",\n",
    "    learning_rate=0.05,\n",
    "    depth=8,\n",
    "    eval_metric=\"F1\",\n",
    "    use_best_model=True,\n",
    ")\n",
    "\n",
    "model_catboost.fit(\n",
    "    train_dataset_cat_ohe,\n",
    "    eval_set=valid_dataset_cat_ohe,\n",
    "    use_best_model=True,\n",
    "    verbose=False,\n",
    "    plot=True,\n",
    "    early_stopping_rounds=50,\n",
    ")\n"
   ]
  },
  {
   "cell_type": "code",
   "execution_count": 33,
   "metadata": {},
   "outputs": [],
   "source": [
    "# Write predictions on the test set to a new dataframe with PassengerId and the result of the model\n",
    "test_pred = pd.DataFrame(passenger_id, columns=[\"PassengerId\"])\n",
    "test_pred[\"Transported\"] = model_catboost.predict(test_dataset_cat_ohe)\n",
    "test_pred.to_csv(\"test_pred.csv\", index=False)"
   ]
  },
  {
   "cell_type": "markdown",
   "metadata": {},
   "source": [
    "### Catboost with no OH encoding"
   ]
  },
  {
   "cell_type": "code",
   "execution_count": 26,
   "metadata": {},
   "outputs": [],
   "source": [
    "# get categorical features\n",
    "cat_features_indexes = lambda df: df.select_dtypes(include=[\"object\", \"category\"]).columns.tolist()\n",
    "cat_features_indexes(test)\n",
    "\n",
    "train_dataset_cat = Pool(\n",
    "    X_train_impute, label=y_train, cat_features=cat_features_indexes(X_train)\n",
    ")\n",
    "valid_dataset_cat = Pool(\n",
    "    X_valid_impute, label=y_valid, cat_features=cat_features_indexes(X_valid)\n",
    ")\n",
    "test_dataset_cat = Pool(X_test_impute, cat_features=cat_features_indexes(test))\n",
    "\n",
    "full_train_dataset_cat = Pool(\n",
    "    pd.concat([X_train_impute, X_valid_impute]),\n",
    "    label=pd.concat([y_train, y_valid]),\n",
    "    cat_features=cat_features_indexes(pd.concat([X_train_impute, X_valid_impute])),\n",
    ")"
   ]
  },
  {
   "cell_type": "code",
   "execution_count": 27,
   "metadata": {},
   "outputs": [
    {
     "data": {
      "text/plain": [
       "<catboost.core.CatBoostClassifier at 0x251e9ada760>"
      ]
     },
     "execution_count": 27,
     "metadata": {},
     "output_type": "execute_result"
    }
   ],
   "source": [
    "model_catboost = CatBoostClassifier(\n",
    "    iterations=600,\n",
    "    custom_loss=[\"AUC\", \"F1\"],\n",
    "    depth=10,\n",
    "    eval_metric=\"Accuracy\",\n",
    "    use_best_model=True,\n",
    ")\n",
    "\n",
    "# Train on training dataset\n",
    "model_catboost.fit(\n",
    "    train_dataset_cat,\n",
    "    eval_set=valid_dataset_cat,\n",
    "    use_best_model=True,\n",
    "    verbose=0,\n",
    "    early_stopping_rounds=100,\n",
    ")\n"
   ]
  },
  {
   "cell_type": "code",
   "execution_count": 28,
   "metadata": {},
   "outputs": [
    {
     "data": {
      "image/png": "[encoded data removed]",
      "text/plain": [
       "<Figure size 1152x576 with 1 Axes>"
      ]
     },
     "metadata": {
      "needs_background": "light"
     },
     "output_type": "display_data"
    },
    {
     "data": {
      "text/plain": [
       "(array([0.        , 0.        , 0.        , ..., 0.99771429, 0.99885714,\n",
       "        1.        ]),\n",
       " array([0.        , 0.00115741, 0.00231481, ..., 1.        , 1.        ,\n",
       "        1.        ]),\n",
       " array([1.        , 0.99787584, 0.99776713, ..., 0.00954812, 0.00910588,\n",
       "        0.        ]))"
      ]
     },
     "execution_count": 28,
     "metadata": {},
     "output_type": "execute_result"
    }
   ],
   "source": [
    "utils.get_roc_curve(model_catboost, valid_dataset_cat, plot=True)"
   ]
  },
  {
   "cell_type": "code",
   "execution_count": 29,
   "metadata": {},
   "outputs": [
    {
     "data": {
      "image/png": "[encoded data removed]",
      "text/plain": [
       "<Figure size 1152x576 with 1 Axes>"
      ]
     },
     "metadata": {
      "needs_background": "light"
     },
     "output_type": "display_data"
    },
    {
     "data": {
      "text/plain": [
       "(array([1.        , 0.99787584, 0.99776713, ..., 0.00954812, 0.00910588,\n",
       "        0.        ]),\n",
       " array([0.        , 0.        , 0.        , ..., 0.99771429, 0.99885714,\n",
       "        1.        ]))"
      ]
     },
     "execution_count": 29,
     "metadata": {},
     "output_type": "execute_result"
    }
   ],
   "source": [
    "utils.get_fpr_curve(model_catboost, valid_dataset_cat, plot=True)"
   ]
  },
  {
   "cell_type": "code",
   "execution_count": 30,
   "metadata": {},
   "outputs": [
    {
     "data": {
      "text/plain": [
       "0.8979252645502646"
      ]
     },
     "execution_count": 30,
     "metadata": {},
     "output_type": "execute_result"
    }
   ],
   "source": [
    "roc_auc_score(y_valid, model_catboost.predict_proba(X_valid_impute)[:, 1])"
   ]
  },
  {
   "cell_type": "code",
   "execution_count": 31,
   "metadata": {},
   "outputs": [
    {
     "data": {
      "text/plain": [
       "0.81943645773433"
      ]
     },
     "execution_count": 31,
     "metadata": {},
     "output_type": "execute_result"
    }
   ],
   "source": [
    "accuracy_score(y_valid, model_catboost.predict(X_valid_impute) == 'True')"
   ]
  },
  {
   "cell_type": "code",
   "execution_count": 33,
   "metadata": {},
   "outputs": [
    {
     "data": {
      "text/plain": [
       "<catboost.core.CatBoostClassifier at 0x251e9adad00>"
      ]
     },
     "execution_count": 33,
     "metadata": {},
     "output_type": "execute_result"
    }
   ],
   "source": [
    "# train on full dataset\n",
    "model_catboost_full = CatBoostClassifier(iterations=600, depth=10)\n",
    "\n",
    "# Train on training dataset\n",
    "model_catboost_full.fit(\n",
    "    full_train_dataset_cat,\n",
    "    verbose=0,\n",
    ")"
   ]
  },
  {
   "cell_type": "code",
   "execution_count": 34,
   "metadata": {},
   "outputs": [],
   "source": [
    "# Write predictions on the test set to a new dataframe with PassengerId and the result of the model\n",
    "test_pred = pd.DataFrame(passenger_id, columns=[\"PassengerId\"])\n",
    "test_pred[\"Transported\"] = model_catboost_full.predict(X_test_impute)\n",
    "test_pred.to_csv(\"test_pred_catboost_bis.csv\", index=False)"
   ]
  },
  {
   "cell_type": "markdown",
   "metadata": {},
   "source": [
    "### Parameter Tuning"
   ]
  },
  {
   "cell_type": "code",
   "execution_count": 26,
   "metadata": {},
   "outputs": [],
   "source": [
    "def objective_cat(trial):\n",
    "    param = {\n",
    "        \"loss_function\": \"Logloss\",\n",
    "        \"eval_metric\": \"Accuracy\",\n",
    "        \"iterations\": trial.suggest_int(\"iterations\", 500, 2000),\n",
    "        \"l2_leaf_reg\": trial.suggest_float(\"l2_leaf_reg\", 1e-2, 10.0, log=True),\n",
    "        \"bootstrap_type\": trial.suggest_categorical(\n",
    "            \"bootstrap_type\", [\"Bayesian\", \"Bernoulli\", \"MVS\"]\n",
    "        ),\n",
    "        \"depth\": trial.suggest_int(\"depth\", 6, 16),\n",
    "        \"grow_policy\": trial.suggest_categorical(\n",
    "            \"grow_policy\", [\"SymmetricTree\", \"Depthwise\", \"Lossguide\"]\n",
    "        ),\n",
    "        \"one_hot_max_size\": 5,\n",
    "        # \"rsm\": trial.suggest_float(\"rsm\", 0.2, 1),\n",
    "        \"leaf_estimation_method\": trial.suggest_categorical(\n",
    "            \"leaf_estimation_method\", [\"Newton\", \"Gradient\"]\n",
    "        ),\n",
    "        \"leaf_estimation_iterations\": trial.suggest_int(\n",
    "            \"leaf_estimation_iterations\", 1, 10\n",
    "        ),\n",
    "        # \"model_shrink_mode\": trial.suggest_categorical(\n",
    "        #     \"model_shrink_mode\", [\"Constant\", \"Decreasing\"]\n",
    "        # ),\n",
    "        # \"model_shrink_rate\": trial.suggest_float(\"model_shrink_rate\", 0.01, 0.5),\n",
    "    }\n",
    "\n",
    "    if param[\"grow_policy\"] == \"Depthwise\":\n",
    "        param[\"score_function\"] = trial.suggest_categorical(\n",
    "            \"score_function\", [\"Cosine\", \"L2\"]\n",
    "        )\n",
    "        param[\"min_child_samples\"] = trial.suggest_int(\"min_child_samples\", 10, 100)\n",
    "        param[\"boosting_type\"] = \"Plain\"\n",
    "    elif param[\"grow_policy\"] == \"Lossguide\":\n",
    "        param[\"max_leaves\"] = trial.suggest_int(\"max_leaves\", 16, 64)\n",
    "        param[\"score_function\"] = \"L2\"\n",
    "        param[\"min_child_samples\"] = trial.suggest_int(\"min_child_samples\", 10, 100)\n",
    "        param[\"boosting_type\"] = \"Plain\"\n",
    "    elif param[\"grow_policy\"] == \"SymmetricTree\":\n",
    "        param[\"boosting_type\"] = trial.suggest_categorical(\n",
    "            \"boosting_type\", [\"Plain\", \"Ordered\"]\n",
    "        )\n",
    "        if param[\"boosting_type\"] == \"Plain\":\n",
    "            param[\"score_function\"] = trial.suggest_categorical(\n",
    "                \"score_function\", [\"Cosine\", \"L2\"]\n",
    "            )\n",
    "        else:\n",
    "            param[\"score_function\"] = \"Cosine\"\n",
    "\n",
    "\n",
    "    if param[\"bootstrap_type\"] == \"Bayesian\":\n",
    "        param[\"bagging_temperature\"] = trial.suggest_float(\"bagging_temperature\", 0, 10)\n",
    "    elif param[\"bootstrap_type\"] in (\"Bernoulli\", \"MVS\"):\n",
    "        param[\"subsample\"] = trial.suggest_float(\"subsample\", 0.5, 1)\n",
    "\n",
    "    print(param)\n",
    "\n",
    "    gbm = CatBoostClassifier(**param, task_type=\"GPU\")\n",
    "\n",
    "    gbm.fit(\n",
    "        train_dataset_cat,\n",
    "        eval_set=valid_dataset_cat,\n",
    "        verbose=0,\n",
    "        early_stopping_rounds=100,\n",
    "    )\n",
    "\n",
    "    preds = gbm.predict(valid_dataset_cat) == \"True\"\n",
    "    accuracy = accuracy_score(y_valid, preds)\n",
    "    return accuracy\n"
   ]
  },
  {
   "cell_type": "code",
   "execution_count": 27,
   "metadata": {},
   "outputs": [
    {
     "name": "stderr",
     "output_type": "stream",
     "text": [
      "\u001b[32m[I 2022-07-01 17:45:36,767]\u001b[0m A new study created in memory with name: no-name-b9dc23c3-06ad-435b-bbfd-6c8ed91a22b1\u001b[0m\n"
     ]
    },
    {
     "name": "stdout",
     "output_type": "stream",
     "text": [
      "{'loss_function': 'Logloss', 'eval_metric': 'Accuracy', 'iterations': 1669, 'l2_leaf_reg': 0.011013486162292294, 'bootstrap_type': 'MVS', 'depth': 9, 'grow_policy': 'Depthwise', 'one_hot_max_size': 5, 'leaf_estimation_method': 'Newton', 'leaf_estimation_iterations': 8, 'score_function': 'L2', 'min_child_samples': 12, 'boosting_type': 'Plain', 'subsample': 0.7266905868879647}\n"
     ]
    },
    {
     "ename": "",
     "evalue": "",
     "output_type": "error",
     "traceback": [
      "\u001b[1;31mCanceled future for execute_request message before replies were done"
     ]
    },
    {
     "ename": "",
     "evalue": "",
     "output_type": "error",
     "traceback": [
      "\u001b[1;31mThe Kernel crashed while executing code in the the current cell or a previous cell. Please review the code in the cell(s) to identify a possible cause of the failure. Click <a href='https://aka.ms/vscodeJupyterKernelCrash'>here</a> for more info. View Jupyter <a href='command:jupyter.viewOutput'>log</a> for further details."
     ]
    }
   ],
   "source": [
    "study_cat = optuna.create_study(direction=\"maximize\")\n",
    "study_cat.optimize(objective_cat, n_trials=8)\n",
    "\n",
    "print(\"Number of finished trials: {}\".format(len(study_cat.trials)))\n",
    "\n",
    "print(\"Best trial:\")\n",
    "trial = study_cat.best_trial\n",
    "\n",
    "print(\"  Value: {}\".format(trial.value))\n",
    "\n",
    "print(\"  Params: \")\n",
    "for key, value in trial.params.items():\n",
    "    print(\"    {}: {}\".format(key, value))"
   ]
  },
  {
   "cell_type": "code",
   "execution_count": 30,
   "metadata": {},
   "outputs": [
    {
     "data": {
      "text/plain": [
       "<catboost.core.CatBoostClassifier at 0x1a8ed9a8700>"
      ]
     },
     "execution_count": 30,
     "metadata": {},
     "output_type": "execute_result"
    }
   ],
   "source": [
    "best_model_catboost = CatBoostClassifier(\n",
    "    **trial.params,\n",
    ")\n",
    "\n",
    "# train on full dataset\n",
    "best_model_catboost.fit(\n",
    "    full_train_dataset_cat,\n",
    "    verbose=False,\n",
    ")"
   ]
  },
  {
   "cell_type": "code",
   "execution_count": 31,
   "metadata": {},
   "outputs": [],
   "source": [
    "# Write predictions on the test set to a new dataframe with PassengerId and the result of the model\n",
    "test_pred = pd.DataFrame(passenger_id, columns=[\"PassengerId\"])\n",
    "test_pred[\"Transported\"] = best_model_catboost.predict(test_dataset_cat)\n",
    "test_pred.to_csv(\"test_pred_catboost_optuna_8iter.csv\", index=False)"
   ]
  }
 ],
 "metadata": {
  "kernelspec": {
   "display_name": "Python 3.9.13 64-bit",
   "language": "python",
   "name": "python3"
  },
  "language_info": {
   "codemirror_mode": {
    "name": "ipython",
    "version": 3
   },
   "file_extension": ".py",
   "mimetype": "text/x-python",
   "name": "python",
   "nbconvert_exporter": "python",
   "pygments_lexer": "ipython3",
   "version": "3.9.13"
  },
  "toc-autonumbering": true,
  "toc-showmarkdowntxt": false,
  "vscode": {
   "interpreter": {
    "hash": "881a7b0e151b1dca018ff4e77f864a622e8e8771af17851c480a5b6837349c54"
   }
  }
 },
 "nbformat": 4,
 "nbformat_minor": 4
}
