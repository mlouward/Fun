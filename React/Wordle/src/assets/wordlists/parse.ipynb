{
 "cells": [
  {
   "cell_type": "code",
   "execution_count": 40,
   "metadata": {},
   "outputs": [],
   "source": [
    "import pandas as pd\n",
    "\n",
    "df = pd.read_csv(\"./Lexique-query-2022-01-05 19-50-58.csv\", sep=\";\" , encoding=\"utf-8\")"
   ]
  },
  {
   "cell_type": "code",
   "execution_count": 41,
   "metadata": {},
   "outputs": [],
   "source": [
    "df = df.sort_values(by=['freqfilms2'], ascending=False)"
   ]
  },
  {
   "cell_type": "code",
   "execution_count": 44,
   "metadata": {},
   "outputs": [
    {
     "data": {
      "text/plain": [
       "Word             object\n",
       "phon             object\n",
       "lemme            object\n",
       "cgram            object\n",
       "freqlemfilms2    object\n",
       "freqfilms2       object\n",
       "islem             int64\n",
       "nblettres         int64\n",
       "puorth            int64\n",
       "puphon            int64\n",
       "nbsyll            int64\n",
       "cgramortho       object\n",
       "dtype: object"
      ]
     },
     "execution_count": 44,
     "metadata": {},
     "output_type": "execute_result"
    }
   ],
   "source": [
    "df.dtypes"
   ]
  },
  {
   "cell_type": "code",
   "execution_count": 43,
   "metadata": {},
   "outputs": [],
   "source": [
    "df.Word = df.Word.astype(str)"
   ]
  },
  {
   "cell_type": "code",
   "execution_count": 45,
   "metadata": {},
   "outputs": [],
   "source": [
    "import unidecode\n",
    "\n",
    "for length in [5, 6, 7, 8]:\n",
    "    words = df[df['nblettres'] == length].Word\n",
    "    words = list(map(unidecode.unidecode, words.unique()))\n",
    "    with open(f\"words{length}_fr.txt\", \"w\") as f:\n",
    "        for word in words:\n",
    "            f.write(word + \"\\n\")"
   ]
  }
 ],
 "metadata": {
  "interpreter": {
   "hash": "8277bb27403f8d3b313b3f1a2ec227a89aac8ca04475b010d8c02f22a0518686"
  },
  "kernelspec": {
   "display_name": "Python 3.9.9 64-bit (windows store)",
   "language": "python",
   "name": "python3"
  },
  "language_info": {
   "codemirror_mode": {
    "name": "ipython",
    "version": 3
   },
   "file_extension": ".py",
   "mimetype": "text/x-python",
   "name": "python",
   "nbconvert_exporter": "python",
   "pygments_lexer": "ipython3",
   "version": "3.9.9"
  },
  "orig_nbformat": 4
 },
 "nbformat": 4,
 "nbformat_minor": 2
}
